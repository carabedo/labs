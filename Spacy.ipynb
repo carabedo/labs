{
 "cells": [
  {
   "cell_type": "code",
   "execution_count": 1,
   "metadata": {},
   "outputs": [],
   "source": [
    "import spacy"
   ]
  },
  {
   "cell_type": "code",
   "execution_count": 4,
   "metadata": {},
   "outputs": [
    {
     "name": "stdout",
     "output_type": "stream",
     "text": [
      "\n",
      "\u001b[93m    Compatibility error\u001b[0m\n",
      "    No compatible model found for 'es_core_news_lg' (spaCy v2.0.12).\n",
      "\n"
     ]
    }
   ],
   "source": [
    "#!python -m spacy download es_core_news_md"
   ]
  },
  {
   "cell_type": "code",
   "execution_count": 7,
   "metadata": {},
   "outputs": [],
   "source": [
    "sp = spacy.load('es_core_news_md')"
   ]
  },
  {
   "cell_type": "code",
   "execution_count": 72,
   "metadata": {},
   "outputs": [],
   "source": [
    "coment='Argenzuela le empieza a quedar grande, a los muchachos ya ni las cámaras los asusta. Hasta que la justicia no sea justa y con toda la fuerza de la ley, estos muchachos van a seguir haciendo lo que quieren.'"
   ]
  },
  {
   "cell_type": "code",
   "execution_count": 73,
   "metadata": {},
   "outputs": [],
   "source": [
    "doc=sp(coment)"
   ]
  },
  {
   "cell_type": "code",
   "execution_count": 74,
   "metadata": {},
   "outputs": [
    {
     "name": "stdout",
     "output_type": "stream",
     "text": [
      "Argenzuela\n",
      "le\n",
      "empieza\n",
      "a\n",
      "quedar\n",
      "grande\n",
      ",\n",
      "a\n",
      "los\n",
      "muchachos\n",
      "ya\n",
      "ni\n",
      "las\n",
      "cámaras\n",
      "los\n",
      "asusta\n",
      ".\n",
      "Hasta\n",
      "que\n",
      "la\n",
      "justicia\n",
      "no\n",
      "sea\n",
      "justa\n",
      "y\n",
      "con\n",
      "toda\n",
      "la\n",
      "fuerza\n",
      "de\n",
      "la\n",
      "ley\n",
      ",\n",
      "estos\n",
      "muchachos\n",
      "van\n",
      "a\n",
      "seguir\n",
      "haciendo\n",
      "lo\n",
      "que\n",
      "quieren\n",
      ".\n"
     ]
    }
   ],
   "source": [
    "for x in doc: print(x)"
   ]
  },
  {
   "cell_type": "code",
   "execution_count": 75,
   "metadata": {},
   "outputs": [
    {
     "name": "stdout",
     "output_type": "stream",
     "text": [
      "Argenzuela\n",
      "le\n",
      "empezar\n",
      "a\n",
      "quedar\n",
      "grande\n",
      ",\n",
      "a\n",
      "lo\n",
      "muchacho\n",
      "ya\n",
      "ni\n",
      "los\n",
      "cámara\n",
      "lo\n",
      "asustar\n",
      ".\n",
      "Hasta\n",
      "que\n",
      "lo\n",
      "justicia\n",
      "no\n",
      "ser\n",
      "justo\n",
      "y\n",
      "con\n",
      "todo\n",
      "lo\n",
      "forzar\n",
      "de\n",
      "lo\n",
      "ley\n",
      ",\n",
      "este\n",
      "muchacho\n",
      "ir\n",
      "a\n",
      "seguir\n",
      "hacer\n",
      "el\n",
      "que\n",
      "querer\n",
      ".\n"
     ]
    }
   ],
   "source": [
    "lemi=list()\n",
    "for x in doc:\n",
    "    print(x.lemma_)"
   ]
  },
  {
   "cell_type": "markdown",
   "metadata": {},
   "source": [
    "https://universaldependencies.org/docs/u/pos/"
   ]
  },
  {
   "cell_type": "markdown",
   "metadata": {},
   "source": [
    "* Text: The original word text.\n",
    "* Lemma: The base form of the word.\n",
    "* POS: The simple UPOS part-of-speech tag.\n",
    "* Tag: The detailed part-of-speech tag.\n",
    "* Dep: Syntactic dependency, i.e. the relation between tokens.\n",
    "* Shape: The word shape – capitalization, punctuation, digits.\n",
    "* is alpha: Is the token an alpha character?\n",
    "* is stop: Is the token part of a stop list, i.e. the most common words of the language?"
   ]
  },
  {
   "cell_type": "code",
   "execution_count": 81,
   "metadata": {},
   "outputs": [
    {
     "name": "stdout",
     "output_type": "stream",
     "text": [
      "le\n",
      "los\n",
      "ya\n",
      "ni\n",
      "las\n",
      "los\n",
      "Hasta\n",
      "que\n",
      "la\n",
      "no\n",
      "sea\n",
      "con\n",
      "toda\n",
      "la\n",
      "de\n",
      "la\n",
      "estos\n",
      "van\n",
      "haciendo\n",
      "lo\n",
      "que\n"
     ]
    }
   ],
   "source": [
    "# Stopwords\n",
    "\n",
    "for x in doc:\n",
    "    if x.is_stop:\n",
    "        print(x)"
   ]
  },
  {
   "cell_type": "code",
   "execution_count": 76,
   "metadata": {},
   "outputs": [
    {
     "data": {
      "text/plain": [
       "[quedar, asusta, haciendo, quieren]"
      ]
     },
     "execution_count": 76,
     "metadata": {},
     "output_type": "execute_result"
    }
   ],
   "source": [
    "[token for token in sp(coment) if token.pos_ == \"VERB\"]"
   ]
  },
  {
   "cell_type": "code",
   "execution_count": 77,
   "metadata": {},
   "outputs": [
    {
     "data": {
      "text/plain": [
       "['quedar', 'asustar', 'hacer', 'querer']"
      ]
     },
     "execution_count": 77,
     "metadata": {},
     "output_type": "execute_result"
    }
   ],
   "source": [
    "[token.lemma_ for token in sp(coment) if token.pos_ == \"VERB\"]"
   ]
  },
  {
   "cell_type": "code",
   "execution_count": 78,
   "metadata": {},
   "outputs": [
    {
     "name": "stdout",
     "output_type": "stream",
     "text": [
      "Argenzuela PROPN   nsubj   nominal subject\n",
      "le         PRON    obj     object\n",
      "empieza    AUX     aux     auxiliary\n",
      "a          ADP     mark    marker\n",
      "quedar     VERB    ROOT    None\n",
      "grande     ADJ     obj     object\n",
      ",          PUNCT   punct   punctuation\n",
      "a          ADP     case    None\n",
      "los        DET     det     determiner\n",
      "muchachos  NOUN    obl     oblique nominal\n",
      "ya         ADV     advmod  adverbial modifier\n",
      "ni         CONJ    fixed   None\n",
      "las        DET     det     determiner\n",
      "cámaras    NOUN    nsubj   nominal subject\n",
      "los        PRON    obj     object\n",
      "asusta     VERB    conj    conjunct\n",
      ".          PUNCT   punct   punctuation\n",
      "Hasta      ADP     mark    marker\n",
      "que        SCONJ   mark    marker\n",
      "la         DET     det     determiner\n",
      "justicia   NOUN    nsubj   nominal subject\n",
      "no         ADV     advmod  adverbial modifier\n",
      "sea        AUX     cop     copula\n",
      "justa      ADJ     advcl   adverbial clause modifier\n",
      "y          CONJ    cc      coordinating conjunction\n",
      "con        ADP     case    None\n",
      "toda       DET     det     determiner\n",
      "la         DET     det     determiner\n",
      "fuerza     NOUN    conj    conjunct\n",
      "de         ADP     case    None\n",
      "la         DET     det     determiner\n",
      "ley        NOUN    nmod    modifier of nominal\n",
      ",          PUNCT   punct   punctuation\n",
      "estos      DET     det     determiner\n",
      "muchachos  NOUN    nsubj   nominal subject\n",
      "van        AUX     aux     auxiliary\n",
      "a          ADP     mark    marker\n",
      "seguir     AUX     aux     auxiliary\n",
      "haciendo   VERB    ROOT    None\n",
      "lo         DET     det     determiner\n",
      "que        PRON    obj     object\n",
      "quieren    VERB    ccomp   clausal complement\n",
      ".          PUNCT   punct   punctuation\n"
     ]
    }
   ],
   "source": [
    "for token in doc:\n",
    "    print(f'{token.text:{10}} {token.pos_:{7}} {token.dep_:{7}} {spacy.explain(token.dep_)}')"
   ]
  },
  {
   "cell_type": "code",
   "execution_count": 86,
   "metadata": {},
   "outputs": [
    {
     "ename": "AttributeError",
     "evalue": "attribute 'pos_' of 'spacy.tokens.token.Token' objects is not writable",
     "output_type": "error",
     "traceback": [
      "\u001b[1;31m---------------------------------------------------------------------------\u001b[0m",
      "\u001b[1;31mAttributeError\u001b[0m                            Traceback (most recent call last)",
      "\u001b[1;32m<ipython-input-86-2a5c28423034>\u001b[0m in \u001b[0;36m<module>\u001b[1;34m\u001b[0m\n\u001b[1;32m----> 1\u001b[1;33m \u001b[0mdoc\u001b[0m\u001b[1;33m[\u001b[0m\u001b[1;33m-\u001b[0m\u001b[1;36m2\u001b[0m\u001b[1;33m]\u001b[0m\u001b[1;33m.\u001b[0m\u001b[0mpos_\u001b[0m\u001b[1;33m=\u001b[0m\u001b[1;34m'DET'\u001b[0m\u001b[1;33m\u001b[0m\u001b[1;33m\u001b[0m\u001b[0m\n\u001b[0m",
      "\u001b[1;31mAttributeError\u001b[0m: attribute 'pos_' of 'spacy.tokens.token.Token' objects is not writable"
     ]
    }
   ],
   "source": []
  },
  {
   "cell_type": "code",
   "execution_count": 79,
   "metadata": {},
   "outputs": [
    {
     "data": {
      "text/plain": [
       "[,, ., ,, .]"
      ]
     },
     "execution_count": 79,
     "metadata": {},
     "output_type": "execute_result"
    }
   ],
   "source": [
    "[token for token in sp(coment) if token.pos_ == \"PUNCT\"]"
   ]
  },
  {
   "cell_type": "code",
   "execution_count": 19,
   "metadata": {},
   "outputs": [],
   "source": [
    "nota='Sin cifras oficiales Elecciones en Bolivia: Carlos Mesa reconoció su derrota ante Luis Arce y habló de una “amplia ventaja”“Es un resultado que aceptamos y que consideramos que no va a modificarse cuando se conozca el resultado oficial”, dijo el candidato de Comunidad Ciudadana.'"
   ]
  },
  {
   "cell_type": "code",
   "execution_count": 20,
   "metadata": {},
   "outputs": [
    {
     "data": {
      "text/html": [
       "<div class=\"entities\" style=\"line-height: 2.5\">Sin cifras oficiales \n",
       "<mark class=\"entity\" style=\"background: #ddd; padding: 0.45em 0.6em; margin: 0 0.25em; line-height: 1; border-radius: 0.35em; box-decoration-break: clone; -webkit-box-decoration-break: clone\">\n",
       "    Elecciones en Bolivia\n",
       "    <span style=\"font-size: 0.8em; font-weight: bold; line-height: 1; border-radius: 0.35em; text-transform: uppercase; vertical-align: middle; margin-left: 0.5rem\">MISC</span>\n",
       "</mark>\n",
       ": \n",
       "<mark class=\"entity\" style=\"background: #ddd; padding: 0.45em 0.6em; margin: 0 0.25em; line-height: 1; border-radius: 0.35em; box-decoration-break: clone; -webkit-box-decoration-break: clone\">\n",
       "    Carlos Mesa\n",
       "    <span style=\"font-size: 0.8em; font-weight: bold; line-height: 1; border-radius: 0.35em; text-transform: uppercase; vertical-align: middle; margin-left: 0.5rem\">PER</span>\n",
       "</mark>\n",
       " reconoció su derrota ante \n",
       "<mark class=\"entity\" style=\"background: #ddd; padding: 0.45em 0.6em; margin: 0 0.25em; line-height: 1; border-radius: 0.35em; box-decoration-break: clone; -webkit-box-decoration-break: clone\">\n",
       "    Luis Arce\n",
       "    <span style=\"font-size: 0.8em; font-weight: bold; line-height: 1; border-radius: 0.35em; text-transform: uppercase; vertical-align: middle; margin-left: 0.5rem\">PER</span>\n",
       "</mark>\n",
       " y habló de una \n",
       "<mark class=\"entity\" style=\"background: #ddd; padding: 0.45em 0.6em; margin: 0 0.25em; line-height: 1; border-radius: 0.35em; box-decoration-break: clone; -webkit-box-decoration-break: clone\">\n",
       "    “\n",
       "    <span style=\"font-size: 0.8em; font-weight: bold; line-height: 1; border-radius: 0.35em; text-transform: uppercase; vertical-align: middle; margin-left: 0.5rem\">PER</span>\n",
       "</mark>\n",
       "amplia ventaja”“Es un resultado que aceptamos y que consideramos que no va a modificarse cuando se conozca el resultado oficial”, dijo el candidato de \n",
       "<mark class=\"entity\" style=\"background: #7aecec; padding: 0.45em 0.6em; margin: 0 0.25em; line-height: 1; border-radius: 0.35em; box-decoration-break: clone; -webkit-box-decoration-break: clone\">\n",
       "    Comunidad Ciudadana\n",
       "    <span style=\"font-size: 0.8em; font-weight: bold; line-height: 1; border-radius: 0.35em; text-transform: uppercase; vertical-align: middle; margin-left: 0.5rem\">ORG</span>\n",
       "</mark>\n",
       ".</div>"
      ],
      "text/plain": [
       "<IPython.core.display.HTML object>"
      ]
     },
     "metadata": {},
     "output_type": "display_data"
    }
   ],
   "source": [
    "from spacy import displacy\n",
    "doc=sp(nota)\n",
    "# In[2]:\n",
    "displacy.render(doc, style=\"ent\",jupyter=True)"
   ]
  },
  {
   "cell_type": "code",
   "execution_count": 21,
   "metadata": {},
   "outputs": [],
   "source": [
    "cm='Otro infame aprovechador de la miseria gestada por él mismo. Se dice socialista, debería vivir un tiempo no más en Cuba, en Nicaragua, en China, por ejemplo. Pero como un ciudadano común, no como un prófugo VIP. Verá lo que es socialismo, comunismo, etc. Toda América, riquísima en agricultura, minería y tantas otras cosas que ningún gobierno quiere explotarlas. Es mas fácil permitir que ocupen tierras y darles planes para tenerlo sometidos.'"
   ]
  },
  {
   "cell_type": "code",
   "execution_count": 22,
   "metadata": {},
   "outputs": [],
   "source": [
    "doc=sp(cm)"
   ]
  },
  {
   "cell_type": "code",
   "execution_count": 23,
   "metadata": {},
   "outputs": [
    {
     "data": {
      "text/html": [
       "<div class=\"entities\" style=\"line-height: 2.5\">Otro infame aprovechador de la miseria gestada por él mismo. Se dice socialista, debería vivir un tiempo no más en \n",
       "<mark class=\"entity\" style=\"background: #ff9561; padding: 0.45em 0.6em; margin: 0 0.25em; line-height: 1; border-radius: 0.35em; box-decoration-break: clone; -webkit-box-decoration-break: clone\">\n",
       "    Cuba\n",
       "    <span style=\"font-size: 0.8em; font-weight: bold; line-height: 1; border-radius: 0.35em; text-transform: uppercase; vertical-align: middle; margin-left: 0.5rem\">LOC</span>\n",
       "</mark>\n",
       ", en \n",
       "<mark class=\"entity\" style=\"background: #ff9561; padding: 0.45em 0.6em; margin: 0 0.25em; line-height: 1; border-radius: 0.35em; box-decoration-break: clone; -webkit-box-decoration-break: clone\">\n",
       "    Nicaragua\n",
       "    <span style=\"font-size: 0.8em; font-weight: bold; line-height: 1; border-radius: 0.35em; text-transform: uppercase; vertical-align: middle; margin-left: 0.5rem\">LOC</span>\n",
       "</mark>\n",
       ", en \n",
       "<mark class=\"entity\" style=\"background: #ff9561; padding: 0.45em 0.6em; margin: 0 0.25em; line-height: 1; border-radius: 0.35em; box-decoration-break: clone; -webkit-box-decoration-break: clone\">\n",
       "    China\n",
       "    <span style=\"font-size: 0.8em; font-weight: bold; line-height: 1; border-radius: 0.35em; text-transform: uppercase; vertical-align: middle; margin-left: 0.5rem\">LOC</span>\n",
       "</mark>\n",
       ", por ejemplo. Pero como un ciudadano común, no como un prófugo VIP. Verá lo que es socialismo, comunismo, etc. \n",
       "<mark class=\"entity\" style=\"background: #ff9561; padding: 0.45em 0.6em; margin: 0 0.25em; line-height: 1; border-radius: 0.35em; box-decoration-break: clone; -webkit-box-decoration-break: clone\">\n",
       "    Toda América\n",
       "    <span style=\"font-size: 0.8em; font-weight: bold; line-height: 1; border-radius: 0.35em; text-transform: uppercase; vertical-align: middle; margin-left: 0.5rem\">LOC</span>\n",
       "</mark>\n",
       ", riquísima en agricultura, minería y tantas otras cosas que ningún gobierno quiere explotarlas. Es mas fácil permitir que ocupen tierras y darles planes para tenerlo sometidos.</div>"
      ],
      "text/plain": [
       "<IPython.core.display.HTML object>"
      ]
     },
     "metadata": {},
     "output_type": "display_data"
    }
   ],
   "source": [
    "displacy.render(doc, style=\"ent\",jupyter=True)"
   ]
  },
  {
   "cell_type": "code",
   "execution_count": 24,
   "metadata": {},
   "outputs": [
    {
     "data": {
      "text/plain": [
       "[infame,\n",
       " gestada,\n",
       " mismo,\n",
       " socialista,\n",
       " común,\n",
       " riquísima,\n",
       " fácil,\n",
       " darles,\n",
       " sometidos]"
      ]
     },
     "execution_count": 24,
     "metadata": {},
     "output_type": "execute_result"
    }
   ],
   "source": [
    "[token for token in doc if token.pos_ == \"ADJ\"]"
   ]
  },
  {
   "cell_type": "code",
   "execution_count": 32,
   "metadata": {},
   "outputs": [],
   "source": [
    "url1='https://www.clarin.com/mundo/elecciones-bolivia-carlos-mesa-reconocio-derrota-luis-arce-hablo-amplia-ventaja-_0_y2ogl-WnE.html'    \n",
    "url2='https://www.pagina12.com.ar/300200-elecciones-bolivia-2020-carlos-mesa-reconocio-la-derrota'"
   ]
  },
  {
   "cell_type": "code",
   "execution_count": 33,
   "metadata": {},
   "outputs": [],
   "source": [
    "import nscrap as n"
   ]
  },
  {
   "cell_type": "code",
   "execution_count": 35,
   "metadata": {},
   "outputs": [],
   "source": [
    "nota1=n.clarin(url1)\n",
    "nota2=n.p12(url2)"
   ]
  },
  {
   "cell_type": "code",
   "execution_count": 36,
   "metadata": {},
   "outputs": [],
   "source": [
    "nota1.get()"
   ]
  },
  {
   "cell_type": "code",
   "execution_count": 37,
   "metadata": {},
   "outputs": [],
   "source": [
    "nota2.get()"
   ]
  },
  {
   "cell_type": "code",
   "execution_count": 38,
   "metadata": {},
   "outputs": [],
   "source": [
    "doc1=sp(nota1.com)\n",
    "doc2=sp(nota2.com)\n"
   ]
  },
  {
   "cell_type": "code",
   "execution_count": 82,
   "metadata": {},
   "outputs": [
    {
     "data": {
      "text/plain": [
       "'Todo un logro de Añez y los suyos. Habían sido lógicos los reclamos populares a Evo y la movilización contra su fraude, pero se pusieron a liderarla los peorcitos (\"Payasito\" Camacho, la rosca y el empresariado más revanchista, los ganaderos mafiosos de Santa Cruz, etc.). Si el supuesto golpe había sido en gran parte una coreografía dada por la vergonzosa huida (o \"táctica\") de Evo, estos cosos luego le dieron todo el contenido de dictadura, se pusieron a reprimir cuando no les daba el cuero para hacerlo y después aguantársela, y encima gobernaron para el tujes... ¿Para qué se ponen la derecha y la centroderecha a querer convocar reclamos populares, si después no tardan ni cinco meses en defraudar al pueblo y se quedan sin su apoyo? Pueblo ignorante que se reproduce SALUDO AL ENORME Y DEMOCRÁTICO PUEBLO BOLIVIANO. AL QUE PRONTO SE UNIRÁN\\xa0 LOS CHILENOSY LOS ECUATORIANOS.\\xa0 Y SI TRUMP PIERDE LAS ELECCIONES, BOLSONARO SE QUEDARÁ SIN SU PRINCIPAL APOYO.\\xa0 ¡A RECONSTRUIR LA PATRIA GRANDE LATINOAMERICANA!'"
      ]
     },
     "execution_count": 82,
     "metadata": {},
     "output_type": "execute_result"
    }
   ],
   "source": [
    "nota1.com"
   ]
  },
  {
   "cell_type": "code",
   "execution_count": 39,
   "metadata": {},
   "outputs": [
    {
     "data": {
      "text/plain": [
       "[lógicos,\n",
       " populares,\n",
       " revanchista,\n",
       " mafiosos,\n",
       " supuesto,\n",
       " gran,\n",
       " dada,\n",
       " vergonzosa,\n",
       " táctica,\n",
       " cosos,\n",
       " aguantársela,\n",
       " populares,\n",
       " ignorante]"
      ]
     },
     "execution_count": 39,
     "metadata": {},
     "output_type": "execute_result"
    }
   ],
   "source": [
    "[token for token in doc1 if token.pos_ == \"ADJ\"]"
   ]
  },
  {
   "cell_type": "code",
   "execution_count": 40,
   "metadata": {},
   "outputs": [
    {
     "data": {
      "text/plain": [
       "[Palabras,\n",
       " principal,\n",
       " nuevo,\n",
       " primera,\n",
       " oficiales,\n",
       " avanzados,\n",
       " enorme,\n",
       " solo,\n",
       " favorables,\n",
       " próximas,\n",
       " parlamentaria,\n",
       " necesarias,\n",
       " eternos,\n",
       " bolivianos,\n",
       " rápido,\n",
       " electorales,\n",
       " apabullantes,\n",
       " gran,\n",
       " boliviano,\n",
       " ultimo,\n",
       " Grande]"
      ]
     },
     "execution_count": 40,
     "metadata": {},
     "output_type": "execute_result"
    }
   ],
   "source": [
    "[token for token in doc2 if token.pos_ == \"ADJ\"]"
   ]
  },
  {
   "cell_type": "markdown",
   "metadata": {},
   "source": [
    "# Sentiment analysis usando un lexicon en castellano\n",
    "\n",
    "https://bibliotecadigital.exactas.uba.ar/download/technicalreport/technicalreport_n00001.pdf"
   ]
  },
  {
   "cell_type": "code",
   "execution_count": 41,
   "metadata": {
    "id": "_YzEMbhNfJWb"
   },
   "outputs": [],
   "source": [
    "import pandas as pd"
   ]
  },
  {
   "cell_type": "code",
   "execution_count": 42,
   "metadata": {
    "id": "wnkn3mr_fJWf"
   },
   "outputs": [],
   "source": [
    "dal = pd.read_csv(\"spanish_dal.csv\",sep=\";\",header=None)\n",
    "dal.columns = [\"lemma\",\"agradable_mean\",\"activo_mean\",\"imaginable_mean\",\"agradable_sd\",\"activo_sd\",\"imaginable_sd\"]"
   ]
  },
  {
   "cell_type": "code",
   "execution_count": 43,
   "metadata": {},
   "outputs": [
    {
     "data": {
      "text/html": [
       "<div>\n",
       "<style scoped>\n",
       "    .dataframe tbody tr th:only-of-type {\n",
       "        vertical-align: middle;\n",
       "    }\n",
       "\n",
       "    .dataframe tbody tr th {\n",
       "        vertical-align: top;\n",
       "    }\n",
       "\n",
       "    .dataframe thead th {\n",
       "        text-align: right;\n",
       "    }\n",
       "</style>\n",
       "<table border=\"1\" class=\"dataframe\">\n",
       "  <thead>\n",
       "    <tr style=\"text-align: right;\">\n",
       "      <th></th>\n",
       "      <th>lemma</th>\n",
       "      <th>agradable_mean</th>\n",
       "      <th>activo_mean</th>\n",
       "      <th>imaginable_mean</th>\n",
       "      <th>agradable_sd</th>\n",
       "      <th>activo_sd</th>\n",
       "      <th>imaginable_sd</th>\n",
       "    </tr>\n",
       "  </thead>\n",
       "  <tbody>\n",
       "    <tr>\n",
       "      <th>0</th>\n",
       "      <td>población_N</td>\n",
       "      <td>1.8</td>\n",
       "      <td>2.0</td>\n",
       "      <td>2.6</td>\n",
       "      <td>0.4472</td>\n",
       "      <td>0.7071</td>\n",
       "      <td>0.5477</td>\n",
       "    </tr>\n",
       "    <tr>\n",
       "      <th>1</th>\n",
       "      <td>obra_N</td>\n",
       "      <td>2.2</td>\n",
       "      <td>2.4</td>\n",
       "      <td>2.4</td>\n",
       "      <td>0.4472</td>\n",
       "      <td>0.5477</td>\n",
       "      <td>0.8944</td>\n",
       "    </tr>\n",
       "    <tr>\n",
       "      <th>2</th>\n",
       "      <td>dormir_V</td>\n",
       "      <td>3.0</td>\n",
       "      <td>1.4</td>\n",
       "      <td>3.0</td>\n",
       "      <td>0.0000</td>\n",
       "      <td>0.8944</td>\n",
       "      <td>0.0000</td>\n",
       "    </tr>\n",
       "    <tr>\n",
       "      <th>3</th>\n",
       "      <td>dar_V</td>\n",
       "      <td>2.8</td>\n",
       "      <td>3.0</td>\n",
       "      <td>3.0</td>\n",
       "      <td>0.4472</td>\n",
       "      <td>0.0000</td>\n",
       "      <td>0.0000</td>\n",
       "    </tr>\n",
       "    <tr>\n",
       "      <th>4</th>\n",
       "      <td>realizar_V</td>\n",
       "      <td>2.6</td>\n",
       "      <td>3.0</td>\n",
       "      <td>2.8</td>\n",
       "      <td>0.5477</td>\n",
       "      <td>0.0000</td>\n",
       "      <td>0.4472</td>\n",
       "    </tr>\n",
       "    <tr>\n",
       "      <th>...</th>\n",
       "      <td>...</td>\n",
       "      <td>...</td>\n",
       "      <td>...</td>\n",
       "      <td>...</td>\n",
       "      <td>...</td>\n",
       "      <td>...</td>\n",
       "      <td>...</td>\n",
       "    </tr>\n",
       "    <tr>\n",
       "      <th>2875</th>\n",
       "      <td>sien_N</td>\n",
       "      <td>2.0</td>\n",
       "      <td>2.2</td>\n",
       "      <td>3.0</td>\n",
       "      <td>0.0000</td>\n",
       "      <td>0.4472</td>\n",
       "      <td>0.0000</td>\n",
       "    </tr>\n",
       "    <tr>\n",
       "      <th>2876</th>\n",
       "      <td>contento_A</td>\n",
       "      <td>3.0</td>\n",
       "      <td>2.4</td>\n",
       "      <td>3.0</td>\n",
       "      <td>0.0000</td>\n",
       "      <td>0.8944</td>\n",
       "      <td>0.0000</td>\n",
       "    </tr>\n",
       "    <tr>\n",
       "      <th>2877</th>\n",
       "      <td>administrativo_N</td>\n",
       "      <td>1.8</td>\n",
       "      <td>2.4</td>\n",
       "      <td>2.2</td>\n",
       "      <td>0.4472</td>\n",
       "      <td>0.8944</td>\n",
       "      <td>0.8367</td>\n",
       "    </tr>\n",
       "    <tr>\n",
       "      <th>2878</th>\n",
       "      <td>taxi_N</td>\n",
       "      <td>2.0</td>\n",
       "      <td>2.8</td>\n",
       "      <td>3.0</td>\n",
       "      <td>0.0000</td>\n",
       "      <td>0.4472</td>\n",
       "      <td>0.0000</td>\n",
       "    </tr>\n",
       "    <tr>\n",
       "      <th>2879</th>\n",
       "      <td>petición_N</td>\n",
       "      <td>2.0</td>\n",
       "      <td>2.8</td>\n",
       "      <td>2.0</td>\n",
       "      <td>0.0000</td>\n",
       "      <td>0.4472</td>\n",
       "      <td>1.0000</td>\n",
       "    </tr>\n",
       "  </tbody>\n",
       "</table>\n",
       "<p>2880 rows × 7 columns</p>\n",
       "</div>"
      ],
      "text/plain": [
       "                 lemma  agradable_mean  activo_mean  imaginable_mean  \\\n",
       "0          población_N             1.8          2.0              2.6   \n",
       "1               obra_N             2.2          2.4              2.4   \n",
       "2             dormir_V             3.0          1.4              3.0   \n",
       "3                dar_V             2.8          3.0              3.0   \n",
       "4           realizar_V             2.6          3.0              2.8   \n",
       "...                ...             ...          ...              ...   \n",
       "2875            sien_N             2.0          2.2              3.0   \n",
       "2876        contento_A             3.0          2.4              3.0   \n",
       "2877  administrativo_N             1.8          2.4              2.2   \n",
       "2878            taxi_N             2.0          2.8              3.0   \n",
       "2879        petición_N             2.0          2.8              2.0   \n",
       "\n",
       "      agradable_sd  activo_sd  imaginable_sd  \n",
       "0           0.4472     0.7071         0.5477  \n",
       "1           0.4472     0.5477         0.8944  \n",
       "2           0.0000     0.8944         0.0000  \n",
       "3           0.4472     0.0000         0.0000  \n",
       "4           0.5477     0.0000         0.4472  \n",
       "...            ...        ...            ...  \n",
       "2875        0.0000     0.4472         0.0000  \n",
       "2876        0.0000     0.8944         0.0000  \n",
       "2877        0.4472     0.8944         0.8367  \n",
       "2878        0.0000     0.4472         0.0000  \n",
       "2879        0.0000     0.4472         1.0000  \n",
       "\n",
       "[2880 rows x 7 columns]"
      ]
     },
     "execution_count": 43,
     "metadata": {},
     "output_type": "execute_result"
    }
   ],
   "source": [
    "dal"
   ]
  },
  {
   "cell_type": "markdown",
   "metadata": {
    "id": "lz1SE49JfJWl"
   },
   "source": [
    "Cada palabra fue scoreada por una muestra de 662 personas segun 3 criterios:  \n",
    "  \n",
    "* ¿Qué tan agradable es la palabra? (Agradable, ni agradable ni desagradable, desagradable)\n",
    "* ¿Que tan activa es la palabra? (Activa, ni activa ni pasiva, pasiva)\n",
    "* ¿Qué tan fácil de imaginar es la palabra? (Fácil, ni fácil ni difícil, difícil)\n",
    "  \n",
    "Para cada palabra se calculó el promedio y desvío de los puntajes que se le dieron"
   ]
  },
  {
   "cell_type": "code",
   "execution_count": 44,
   "metadata": {
    "id": "7S86rGkQfJWq"
   },
   "outputs": [],
   "source": [
    "## pero ahora, si no es ni adjetivo, ni sustantivo, ni verbo la eliminamos. Si no, la lemmatizamos\n",
    "def preprocesar_texto(texto,sp,retener= [\"NOUN\",\"ADJ\",\"VERB\"]):\n",
    "    ans = []\n",
    "    for token in sp(texto):\n",
    "        if token.pos_ in retener:\n",
    "            ans.append(token.lemma_ + \"_\" + token.pos_[0])\n",
    "    return ans"
   ]
  },
  {
   "cell_type": "code",
   "execution_count": 58,
   "metadata": {
    "id": "BfwnTcXffJWt",
    "outputId": "167efe25-0ce0-4df7-aa73-666f728b8d93"
   },
   "outputs": [
    {
     "data": {
      "text/plain": [
       "['perro_N', 'triste_A', 'feo_A', 'insatisfecho_A']"
      ]
     },
     "execution_count": 58,
     "metadata": {},
     "output_type": "execute_result"
    }
   ],
   "source": [
    "preprocesar_texto('el perro triste y feo esta insatisfecho',sp)"
   ]
  },
  {
   "cell_type": "markdown",
   "metadata": {
    "id": "b1nYCWCvfJWx"
   },
   "source": [
    "En el trabajo muestran un algoritmo básico para hacer scores para un texto:\n",
    "```\n",
    "score ← 0  \n",
    "count ← 0  \n",
    "for each word w in T (counting repetitions):  \n",
    "    if w is included in Lex:  \n",
    "         score ← score + Lexd(w)  \n",
    "         count ← count + 1  \n",
    "    return score/count  \n",
    "```"
   ]
  },
  {
   "cell_type": "code",
   "execution_count": 59,
   "metadata": {
    "id": "zYs3-7PZfJWx"
   },
   "outputs": [],
   "source": [
    "## escribimos una función para calcular el score\n",
    "def calcular_score(texto,sp,dal):\n",
    "    texto_preprocesado = preprocesar_texto(texto,sp)\n",
    "    score_agradable = 0\n",
    "    count = 0\n",
    "    for w in texto_preprocesado:\n",
    "        if w in dal.lemma.values:\n",
    "            score_agradable += dal.loc[dal.lemma==w,\"agradable_mean\"].values[0]\n",
    "            count += 1 \n",
    "    if count > 0:\n",
    "        return score_agradable/count\n",
    "    else:\n",
    "        return None"
   ]
  },
  {
   "cell_type": "code",
   "execution_count": 60,
   "metadata": {},
   "outputs": [
    {
     "data": {
      "text/plain": [
       "1.4666666666666668"
      ]
     },
     "execution_count": 60,
     "metadata": {},
     "output_type": "execute_result"
    }
   ],
   "source": [
    "calcular_score('el perro triste y feo esta insatisfecho',sp,dal)"
   ]
  },
  {
   "cell_type": "code",
   "execution_count": 61,
   "metadata": {},
   "outputs": [
    {
     "data": {
      "text/plain": [
       "2.6"
      ]
     },
     "execution_count": 61,
     "metadata": {},
     "output_type": "execute_result"
    }
   ],
   "source": [
    "calcular_score('el perro feliz y lindo esta contento',sp,dal)"
   ]
  },
  {
   "cell_type": "code",
   "execution_count": 64,
   "metadata": {
    "id": "DCj3DkyhfJW0",
    "outputId": "b828e9af-2f6a-4830-db2f-186bb21bab7f"
   },
   "outputs": [
    {
     "data": {
      "text/plain": [
       "2.1288866666666664"
      ]
     },
     "execution_count": 64,
     "metadata": {},
     "output_type": "execute_result"
    }
   ],
   "source": [
    "## veamos como funciona\n",
    "calcular_score(nota1.com,sp,dal)"
   ]
  },
  {
   "cell_type": "code",
   "execution_count": 65,
   "metadata": {
    "id": "197Fk5XxfJW2",
    "outputId": "5fb46c00-bcb4-487c-bd62-74070954ad6a"
   },
   "outputs": [
    {
     "data": {
      "text/plain": [
       "2.202083928571429"
      ]
     },
     "execution_count": 65,
     "metadata": {},
     "output_type": "execute_result"
    }
   ],
   "source": [
    "calcular_score(nota2.com,sp,dal)"
   ]
  }
 ],
 "metadata": {
  "kernelspec": {
   "display_name": "Python 3",
   "language": "python",
   "name": "python3"
  },
  "language_info": {
   "codemirror_mode": {
    "name": "ipython",
    "version": 3
   },
   "file_extension": ".py",
   "mimetype": "text/x-python",
   "name": "python",
   "nbconvert_exporter": "python",
   "pygments_lexer": "ipython3",
   "version": "3.7.4"
  }
 },
 "nbformat": 4,
 "nbformat_minor": 4
}
