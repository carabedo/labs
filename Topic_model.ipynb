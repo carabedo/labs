{
 "cells": [
  {
   "cell_type": "markdown",
   "metadata": {},
   "source": [
    "# Topic Modelling\n",
    "\n",
    "\n",
    "![](https://cdn.analyticsvidhya.com/wp-content/uploads/2018/09/Screenshot_2.png)\n",
    "\n",
    "* LSA\n",
    "* LDA"
   ]
  },
  {
   "cell_type": "markdown",
   "metadata": {},
   "source": [
    "## LSA\n",
    "### Singular Value Decomposition\n",
    "\n",
    "En PCA, vimos cómo descomponer una matriz en autovectores y autovalores. La descomposición de valores singulares (SVD) proporciona otra forma de factorizar una matriz, entre vectores singulares y valores singulares. La SVD nos permite descubrir algo del mismo tipo de información que revela la descomposición propia; sin embargo, la SVD es de aplicación más general. Toda matriz real tiene una descomposición de valor singular, pero no ocurre lo mismo con la descomposición de valores propios.\n",
    "\n",
    "\n",
    "\n",
    "$A = USV^T $\n",
    "\n",
    "Suponga que A es una matriz m × n. Entonces U se define como una matriz m × m, D como una matriz m × n y V como una matriz n × n.\n",
    "\n",
    "Cada una de estas matrices se define para tener una estructura especial. Las matrices U y V se definen ambas como matrices ortogonales. La matriz D se define como una matriz diagonal. Tenga en cuenta que D no es necesariamente cuadrado. Los elementos a lo largo de la diagonal de D se conocen como los valores singulares de la matriz A. Las columnas de U se conocen como los vectores singulares de la izquierda. Las columnas de V se conocen como vectores singulares a la derecha. De hecho, podemos interpretar la descomposición del valor singular de A en términos de la descomposición propia de funciones de A. Los vectores singulares a la izquierda de A son los vectores propios de AA. Los vectores del derecho singular de A son los autovectores de AtA. Los valores singulares distintos de cero de A son las raíces cuadradas de los valores propios de AtA. Lo mismo es cierto para AAt\n",
    "\n",
    "**Quizás la característica más útil de la SVD es que podemos usarla para generalizar parcialmente la inversión matricial a matrices no cuadradas, como veremos en la siguiente sección.**\n",
    "\n",
    "\n",
    "\n",
    "![](https://i.imgur.com/QbXrItL.jpg)\n"
   ]
  },
  {
   "cell_type": "markdown",
   "metadata": {},
   "source": [
    "\n",
    "https://en.wikipedia.org/wiki/Singular_value_decomposition\n",
    "\n"
   ]
  },
  {
   "cell_type": "code",
   "execution_count": 3,
   "metadata": {},
   "outputs": [],
   "source": [
    "import numpy as np\n",
    "import matplotlib.pyplot as plt\n",
    "import matplotlib.patches as mpatches"
   ]
  },
  {
   "cell_type": "markdown",
   "metadata": {},
   "source": [
    "## Toy dataset"
   ]
  },
  {
   "cell_type": "code",
   "execution_count": 4,
   "metadata": {},
   "outputs": [],
   "source": [
    "t1 = \"el potro y el angel llegaron al cine por casualidad\" # En minúsculas, sin tildes, etc.\n",
    "t2 = \"el angel, el tanque del cine nacional, un paso más cerca del oscar\"\n",
    "t3 = \"final del mes del cine nacional: 'el angel', la unica cinta 'millonaria'\"\n",
    "t4 = \"juan martin del potro volvió a tandil: se dio el ultimo baño de masas con los suyos.\"\n",
    "t5 = \"juan martin del potro fue recibido por una multitud en tandil.\""
   ]
  },
  {
   "cell_type": "code",
   "execution_count": 5,
   "metadata": {},
   "outputs": [],
   "source": [
    "textos = [t1, t2, t3, t4, t5]\n",
    "terminos = [\"juan martin\", \"potro\", \"tandil\", \"multitud\",\n",
    "            \"masas\", \"suyos\", \"angel\", \"el angel\", \"cine\", \"oscar\"] # ¿Cómo eligirían estos terminos?"
   ]
  },
  {
   "cell_type": "code",
   "execution_count": 6,
   "metadata": {},
   "outputs": [
    {
     "name": "stdout",
     "output_type": "stream",
     "text": [
      "10\n",
      "5\n"
     ]
    }
   ],
   "source": [
    "print(len(terminos))\n",
    "print(len(textos))"
   ]
  },
  {
   "cell_type": "code",
   "execution_count": 8,
   "metadata": {},
   "outputs": [
    {
     "name": "stdout",
     "output_type": "stream",
     "text": [
      "[[0. 1. 0. 0. 0. 0. 1. 1. 1. 0.]\n",
      " [0. 0. 0. 0. 0. 0. 1. 1. 1. 1.]\n",
      " [0. 0. 0. 0. 0. 0. 1. 1. 1. 0.]\n",
      " [1. 1. 1. 0. 1. 1. 0. 0. 0. 0.]\n",
      " [1. 1. 1. 1. 0. 0. 0. 0. 0. 0.]]\n"
     ]
    }
   ],
   "source": [
    "A = np.zeros([len(textos),len(terminos)])\n",
    "# Llenamos la matriz A, nuestra Bag of Words\n",
    "for i in range(len(textos)):\n",
    "    for j in range(len(terminos)):\n",
    "        if terminos[j] in textos[i]:\n",
    "            A[i, j] = 1\n",
    "print(A)"
   ]
  },
  {
   "cell_type": "code",
   "execution_count": 9,
   "metadata": {},
   "outputs": [
    {
     "data": {
      "text/plain": [
       "(5, 10)"
      ]
     },
     "execution_count": 9,
     "metadata": {},
     "output_type": "execute_result"
    }
   ],
   "source": [
    "A.shape"
   ]
  },
  {
   "cell_type": "code",
   "execution_count": 10,
   "metadata": {},
   "outputs": [],
   "source": [
    "# Hacemos SVD\n",
    "U, s, V = np.linalg.svd(A)\n",
    "S = np.diag(s)\n",
    "U = np.matrix(U)"
   ]
  },
  {
   "cell_type": "code",
   "execution_count": 29,
   "metadata": {},
   "outputs": [
    {
     "data": {
      "text/plain": [
       "(5, 5)"
      ]
     },
     "execution_count": 29,
     "metadata": {},
     "output_type": "execute_result"
    }
   ],
   "source": [
    "# Matriz docs a tópicos\n",
    "\n",
    "U.shape"
   ]
  },
  {
   "cell_type": "code",
   "execution_count": 30,
   "metadata": {},
   "outputs": [
    {
     "data": {
      "text/plain": [
       "array([3.16179328, 2.72462342, 1.2124133 , 0.92251276, 0.50844337])"
      ]
     },
     "execution_count": 30,
     "metadata": {},
     "output_type": "execute_result"
    }
   ],
   "source": [
    "# Array de valores singulares\n",
    "\n",
    "s"
   ]
  },
  {
   "cell_type": "code",
   "execution_count": 11,
   "metadata": {},
   "outputs": [
    {
     "data": {
      "text/plain": [
       "(10, 10)"
      ]
     },
     "execution_count": 11,
     "metadata": {},
     "output_type": "execute_result"
    }
   ],
   "source": [
    "# Matriz de palabras a tópicos\n",
    "\n",
    "V.shape"
   ]
  },
  {
   "cell_type": "code",
   "execution_count": 12,
   "metadata": {},
   "outputs": [
    {
     "data": {
      "text/plain": [
       "(5, 5)"
      ]
     },
     "execution_count": 12,
     "metadata": {},
     "output_type": "execute_result"
    }
   ],
   "source": [
    "S.shape"
   ]
  },
  {
   "cell_type": "code",
   "execution_count": 14,
   "metadata": {},
   "outputs": [
    {
     "data": {
      "text/plain": [
       "(2, 5)"
      ]
     },
     "execution_count": 14,
     "metadata": {},
     "output_type": "execute_result"
    }
   ],
   "source": [
    "# Reducimos la dimensión\n",
    "dim = 2\n",
    "S[0:dim,].shape"
   ]
  },
  {
   "cell_type": "code",
   "execution_count": 15,
   "metadata": {},
   "outputs": [],
   "source": [
    "P = U * np.transpose(S[:dim,])"
   ]
  },
  {
   "cell_type": "code",
   "execution_count": 16,
   "metadata": {},
   "outputs": [
    {
     "data": {
      "text/plain": [
       "matrix([[-1.88010955,  0.21077586],\n",
       "        [-1.71073085,  0.76396588],\n",
       "        [-1.53960535,  0.66105507],\n",
       "        [-0.80678116, -1.92669917],\n",
       "        [-0.71710829, -1.62675719]])"
      ]
     },
     "execution_count": 16,
     "metadata": {},
     "output_type": "execute_result"
    }
   ],
   "source": [
    "P"
   ]
  },
  {
   "cell_type": "code",
   "execution_count": 17,
   "metadata": {},
   "outputs": [
    {
     "data": {
      "image/png": "[encoded data removed]",
      "text/plain": [
       "<Figure size 432x288 with 1 Axes>"
      ]
     },
     "metadata": {
      "needs_background": "light"
     },
     "output_type": "display_data"
    }
   ],
   "source": [
    "# Gráfico\n",
    "color = ['m', 'g', 'r', 'c', 'b']\n",
    "plt.figure()\n",
    "patches = []\n",
    "\n",
    "for i, texto in enumerate(textos):\n",
    "    plt.plot(P[i, 0], P[i, 1], color[i] + \"o\")\n",
    "    patches.append(mpatches.Patch(color = color[i], label = 't' + str(i + 1)))\n",
    "\n",
    "plt.legend(handles=patches)\n",
    "plt.xlabel('Dimensión 1')\n",
    "plt.ylabel('Dimensión 2')\n",
    "plt.axis([-4, 4, -4, 4])\n",
    "plt.show()"
   ]
  },
  {
   "cell_type": "code",
   "execution_count": 18,
   "metadata": {},
   "outputs": [
    {
     "data": {
      "image/png": "[encoded data removed]",
      "text/plain": [
       "<Figure size 432x288 with 1 Axes>"
      ]
     },
     "metadata": {
      "needs_background": "light"
     },
     "output_type": "display_data"
    }
   ],
   "source": [
    "# Gráfico + clustering a mano\n",
    "\n",
    "color = ['b' if p[0, 0] >-1 else 'r' for p in P] \n",
    "plt.figure()\n",
    "\n",
    "patches = []\n",
    "\n",
    "for i, texto in enumerate(textos):\n",
    "    plt.plot(P[i, 0], P[i, 1], color[i] + \"o\")\n",
    "    patches.append(mpatches.Patch(color = color[i], label='t' + str(i + 1)))\n",
    "\n",
    "plt.legend(handles=patches)\n",
    "plt.xlabel('Dimensión 1')\n",
    "plt.ylabel('Dimensión 2')\n",
    "plt.axis([-4, 4, -4, 4])\n",
    "plt.show()"
   ]
  },
  {
   "cell_type": "markdown",
   "metadata": {},
   "source": [
    "## 20newsgroups"
   ]
  },
  {
   "cell_type": "code",
   "execution_count": 53,
   "metadata": {},
   "outputs": [],
   "source": [
    "# Importamos librerías\n",
    "from sklearn.datasets import fetch_20newsgroups\n",
    "from sklearn.feature_extraction.text import TfidfVectorizer\n",
    "from sklearn.decomposition import TruncatedSVD\n",
    "from sklearn.preprocessing import Normalizer\n",
    "from sklearn.pipeline import make_pipeline"
   ]
  },
  {
   "cell_type": "code",
   "execution_count": 54,
   "metadata": {},
   "outputs": [
    {
     "name": "stdout",
     "output_type": "stream",
     "text": [
      "Cargando categorías:\n",
      "['talk.religion.misc', 'comp.graphics', 'sci.space']\n",
      "2588 documentos\n",
      "3 categorías\n",
      "\n"
     ]
    }
   ],
   "source": [
    "# Cargamos las categorías\n",
    "categories = ['talk.religion.misc',\n",
    "              'comp.graphics',\n",
    "              'sci.space']\n",
    "\n",
    "print(\"Cargando categorías:\")\n",
    "print(categories)\n",
    "\n",
    "dataset = fetch_20newsgroups(subset='all', categories=categories,\n",
    "                             shuffle=True, random_state=42)\n",
    "\n",
    "print(\"%d documentos\" % len(dataset.data))\n",
    "print(\"%d categorías\" % len(dataset.target_names))\n",
    "print()\n",
    "\n",
    "labels = dataset.target\n",
    "true_k = np.unique(labels).shape[0] # Cantidad de labels que tenemos"
   ]
  },
  {
   "cell_type": "code",
   "execution_count": 55,
   "metadata": {},
   "outputs": [
    {
     "name": "stdout",
     "output_type": "stream",
     "text": [
      "n_samples: 2588, n_features: 10000\n"
     ]
    }
   ],
   "source": [
    "# Vectorizamos el texto con TfidfVectorizer\n",
    "vectorizer = TfidfVectorizer(max_df=0.5, max_features=10000,\n",
    "                             min_df=2, stop_words='english',\n",
    "                             use_idf=True)\n",
    "\n",
    "X = vectorizer.fit_transform(dataset.data)\n",
    "\n",
    "print(\"n_samples: %d, n_features: %d\" % X.shape)"
   ]
  },
  {
   "cell_type": "code",
   "execution_count": 56,
   "metadata": {},
   "outputs": [],
   "source": [
    "# Armamos el pipeline porque el TruncatedSVD no devuelve los datos normalizados\n",
    "# (va a ser importante normalizar para la etapa posterior)\n",
    "svd = TruncatedSVD(100,random_state = 1) \n",
    "normalizer = Normalizer(copy=False)\n",
    "lsa = make_pipeline(svd, normalizer)\n",
    "X = lsa.fit_transform(X)"
   ]
  },
  {
   "cell_type": "code",
   "execution_count": 57,
   "metadata": {},
   "outputs": [
    {
     "data": {
      "text/plain": [
       "(2588, 100)"
      ]
     },
     "execution_count": 57,
     "metadata": {},
     "output_type": "execute_result"
    }
   ],
   "source": [
    "X.shape"
   ]
  },
  {
   "cell_type": "code",
   "execution_count": 62,
   "metadata": {},
   "outputs": [
    {
     "data": {
      "image/png": "[encoded data removed]",
      "text/plain": [
       "<Figure size 432x288 with 1 Axes>"
      ]
     },
     "metadata": {
      "needs_background": "light"
     },
     "output_type": "display_data"
    }
   ],
   "source": [
    "# Visualizamos la reducción de dimensiones\n",
    "plt.figure()\n",
    "plt.scatter(X[:, 0], X[:, 1], c=labels)\n",
    "plt.xlabel('Dimensión 1')\n",
    "plt.ylabel('Dimensión 2')\n",
    "plt.axis([0, 0.75, -0.6, 0.8])\n",
    "plt.show()"
   ]
  },
  {
   "cell_type": "code",
   "execution_count": 63,
   "metadata": {},
   "outputs": [
    {
     "data": {
      "text/plain": [
       "KMeans(algorithm='auto', copy_x=True, init='k-means++', max_iter=100,\n",
       "       n_clusters=3, n_init=10, n_jobs=None, precompute_distances='auto',\n",
       "       random_state=1, tol=0.0001, verbose=0)"
      ]
     },
     "execution_count": 63,
     "metadata": {},
     "output_type": "execute_result"
    }
   ],
   "source": [
    "# Clusterizamos con KMeans\n",
    "from sklearn.cluster import KMeans\n",
    "km = KMeans(n_clusters=true_k, max_iter=100, n_init=10, random_state = 1)\n",
    "km.fit(X)"
   ]
  },
  {
   "cell_type": "code",
   "execution_count": 64,
   "metadata": {},
   "outputs": [
    {
     "name": "stdout",
     "output_type": "stream",
     "text": [
      "Ranking de términos por tópico:\n",
      "Tópico  0: space nasa access henry com digex pat gov toronto shuttle\n",
      "Tópico  1: god com jesus christian people sandvik don bible article koresh\n",
      "Tópico  2: graphics university thanks image com files help computer 3d posting\n"
     ]
    }
   ],
   "source": [
    "# Los centroides están mapeados en el espacio de dimensiones reducidas\n",
    "# Hacemos la transformación inversa para ver el peso de los features originales (10000 dim)\n",
    "original_space_centroids = svd.inverse_transform(km.cluster_centers_)\n",
    "\n",
    "# La función argsort nos da los índices ordenados\n",
    "order_centroids = original_space_centroids.argsort()[:, ::-1]\n",
    "\n",
    "# Imprimimos los términos más \"pesados\" (frecuentes) para cada categoría\n",
    "# Con los índices ordenados, llamamos a la descripción de las palabras que construyó el Vectorizer()\n",
    "terms = vectorizer.get_feature_names()\n",
    "\n",
    "print(\"Ranking de términos por tópico:\")\n",
    "\n",
    "for i in range(true_k):\n",
    "    print(\"Tópico  %d:\" % i, end='')\n",
    "    for ind in order_centroids[i, :10]:\n",
    "        print(' %s' % terms[ind], end='')\n",
    "    print()\n",
    "\n",
    "# Nos quedamos con los 10 índices ordenados más importantes en cada tópico\n",
    "# Los tópicos parecen tener sentido: Tópico 0(religion), Tópico 1(gráficos) y Tópico 2(espacio)"
   ]
  },
  {
   "cell_type": "code",
   "execution_count": 66,
   "metadata": {},
   "outputs": [
    {
     "data": {
      "text/plain": [
       "['talk.religion.misc', 'comp.graphics', 'sci.space']"
      ]
     },
     "execution_count": 66,
     "metadata": {},
     "output_type": "execute_result"
    }
   ],
   "source": [
    "['talk.religion.misc', 'comp.graphics', 'sci.space']"
   ]
  },
  {
   "cell_type": "markdown",
   "metadata": {},
   "source": [
    "# LDA\n",
    "\n",
    "https://medium.com/@arik.pamnani/topic-models-latent-dirichlet-allocation-ca32c4505975\n",
    "\n",
    "![](https://miro.medium.com/max/637/1*taTOiaCpd_CzGugx_PticQ.png)"
   ]
  },
  {
   "cell_type": "code",
   "execution_count": 67,
   "metadata": {
    "colab": {},
    "colab_type": "code",
    "id": "HbPB9LMFSBrh"
   },
   "outputs": [],
   "source": [
    "# Importamos las librerías necesarias\n",
    "import pandas as pd\n",
    "import numpy as np\n",
    "import string\n",
    "\n",
    "import unicodedata"
   ]
  },
  {
   "cell_type": "code",
   "execution_count": 89,
   "metadata": {
    "colab": {},
    "colab_type": "code",
    "id": "HbPB9LMFSBrh"
   },
   "outputs": [],
   "source": [
    "import nltk\n",
    "\n",
    "from nltk.corpus import stopwords\n",
    "stop = stopwords.words('spanish')\n",
    "exclude = string.punctuation"
   ]
  },
  {
   "cell_type": "code",
   "execution_count": 69,
   "metadata": {
    "colab": {},
    "colab_type": "code",
    "id": "HbPB9LMFSBrh"
   },
   "outputs": [],
   "source": [
    "from sklearn.feature_extraction.text import CountVectorizer, TfidfVectorizer\n",
    "\n",
    "# Para visualizar\n",
    "import pyLDAvis\n",
    "import pyLDAvis.gensim\n",
    "import matplotlib.pyplot as plt\n",
    "\n",
    "import warnings\n",
    "warnings.filterwarnings(\"ignore\")"
   ]
  },
  {
   "cell_type": "code",
   "execution_count": 70,
   "metadata": {
    "colab": {},
    "colab_type": "code",
    "id": "ubXnu5OySBrm"
   },
   "outputs": [
    {
     "data": {
      "text/html": [
       "<div>\n",
       "<style scoped>\n",
       "    .dataframe tbody tr th:only-of-type {\n",
       "        vertical-align: middle;\n",
       "    }\n",
       "\n",
       "    .dataframe tbody tr th {\n",
       "        vertical-align: top;\n",
       "    }\n",
       "\n",
       "    .dataframe thead th {\n",
       "        text-align: right;\n",
       "    }\n",
       "</style>\n",
       "<table border=\"1\" class=\"dataframe\">\n",
       "  <thead>\n",
       "    <tr style=\"text-align: right;\">\n",
       "      <th></th>\n",
       "      <th>Unnamed: 0</th>\n",
       "      <th>cuerpo</th>\n",
       "      <th>fecha_hora</th>\n",
       "      <th>imagen</th>\n",
       "      <th>resumen</th>\n",
       "      <th>suplemento</th>\n",
       "      <th>titulo</th>\n",
       "      <th>url</th>\n",
       "    </tr>\n",
       "  </thead>\n",
       "  <tbody>\n",
       "    <tr>\n",
       "      <th>0</th>\n",
       "      <td>0</td>\n",
       "      <td>Cines\\nANNABELLE 2 2D\\nCon Alicia Vela Bailey ...</td>\n",
       "      <td>09 de octubre de 2017</td>\n",
       "      <td>https://images.pagina12.com.ar/styles/width960...</td>\n",
       "      <td>NaN</td>\n",
       "      <td>NaN</td>\n",
       "      <td>Cartelera</td>\n",
       "      <td>https://www.pagina12.com.ar/67696-cartelera</td>\n",
       "    </tr>\n",
       "    <tr>\n",
       "      <th>1</th>\n",
       "      <td>1</td>\n",
       "      <td>Los comicios para elegir gobernador en Corrien...</td>\n",
       "      <td>08 de octubre de 2017</td>\n",
       "      <td>https://images.pagina12.com.ar/styles/focal_16...</td>\n",
       "      <td>Pasadas las 21 comenzaron a cargarse los prime...</td>\n",
       "      <td>El país</td>\n",
       "      <td>Ventaja para Cambiemos en un lento escrutinio</td>\n",
       "      <td>https://www.pagina12.com.ar/67853-ventaja-para...</td>\n",
       "    </tr>\n",
       "    <tr>\n",
       "      <th>2</th>\n",
       "      <td>2</td>\n",
       "      <td>Cientos de miles de personas llenaron este dom...</td>\n",
       "      <td>08 de octubre de 2017</td>\n",
       "      <td>https://images.pagina12.com.ar/styles/focal_16...</td>\n",
       "      <td>El escritor peruano Mario Varga Llosa, ícono d...</td>\n",
       "      <td>El mundo</td>\n",
       "      <td>Con Vargas Llosa a la cabeza</td>\n",
       "      <td>https://www.pagina12.com.ar/67876-con-vargas-l...</td>\n",
       "    </tr>\n",
       "    <tr>\n",
       "      <th>3</th>\n",
       "      <td>3</td>\n",
       "      <td>Entre las 15 y las 22 en el Konex (Sarmiento 3...</td>\n",
       "      <td>08 de octubre de 2017</td>\n",
       "      <td>https://images.pagina12.com.ar/styles/focal_16...</td>\n",
       "      <td>Los familiares de las víctimas de la tragedia ...</td>\n",
       "      <td>Sociedad</td>\n",
       "      <td>Por los chicos del Ecos</td>\n",
       "      <td>https://www.pagina12.com.ar/67872-por-los-chic...</td>\n",
       "    </tr>\n",
       "    <tr>\n",
       "      <th>4</th>\n",
       "      <td>4</td>\n",
       "      <td>La primera vez que escuché hablar sobre el Che...</td>\n",
       "      <td>08 de octubre de 2017</td>\n",
       "      <td>https://images.pagina12.com.ar/styles/focal_16...</td>\n",
       "      <td>NaN</td>\n",
       "      <td>NaN</td>\n",
       "      <td>Ese nombre</td>\n",
       "      <td>https://www.pagina12.com.ar/67873-ese-nombre</td>\n",
       "    </tr>\n",
       "  </tbody>\n",
       "</table>\n",
       "</div>"
      ],
      "text/plain": [
       "   Unnamed: 0                                             cuerpo  \\\n",
       "0           0  Cines\\nANNABELLE 2 2D\\nCon Alicia Vela Bailey ...   \n",
       "1           1  Los comicios para elegir gobernador en Corrien...   \n",
       "2           2  Cientos de miles de personas llenaron este dom...   \n",
       "3           3  Entre las 15 y las 22 en el Konex (Sarmiento 3...   \n",
       "4           4  La primera vez que escuché hablar sobre el Che...   \n",
       "\n",
       "              fecha_hora                                             imagen  \\\n",
       "0  09 de octubre de 2017  https://images.pagina12.com.ar/styles/width960...   \n",
       "1  08 de octubre de 2017  https://images.pagina12.com.ar/styles/focal_16...   \n",
       "2  08 de octubre de 2017  https://images.pagina12.com.ar/styles/focal_16...   \n",
       "3  08 de octubre de 2017  https://images.pagina12.com.ar/styles/focal_16...   \n",
       "4  08 de octubre de 2017  https://images.pagina12.com.ar/styles/focal_16...   \n",
       "\n",
       "                                             resumen suplemento  \\\n",
       "0                                                NaN        NaN   \n",
       "1  Pasadas las 21 comenzaron a cargarse los prime...    El país   \n",
       "2  El escritor peruano Mario Varga Llosa, ícono d...   El mundo   \n",
       "3  Los familiares de las víctimas de la tragedia ...   Sociedad   \n",
       "4                                                NaN        NaN   \n",
       "\n",
       "                                          titulo  \\\n",
       "0                                      Cartelera   \n",
       "1  Ventaja para Cambiemos en un lento escrutinio   \n",
       "2                   Con Vargas Llosa a la cabeza   \n",
       "3                        Por los chicos del Ecos   \n",
       "4                                     Ese nombre   \n",
       "\n",
       "                                                 url  \n",
       "0        https://www.pagina12.com.ar/67696-cartelera  \n",
       "1  https://www.pagina12.com.ar/67853-ventaja-para...  \n",
       "2  https://www.pagina12.com.ar/67876-con-vargas-l...  \n",
       "3  https://www.pagina12.com.ar/67872-por-los-chic...  \n",
       "4       https://www.pagina12.com.ar/67873-ese-nombre  "
      ]
     },
     "execution_count": 70,
     "metadata": {},
     "output_type": "execute_result"
    }
   ],
   "source": [
    "p12 = pd.read_csv('pagina12.csv', encoding='utf-8')\n",
    "p12.head()"
   ]
  },
  {
   "cell_type": "code",
   "execution_count": 71,
   "metadata": {
    "colab": {},
    "colab_type": "code",
    "id": "TdEEuOlySBrv"
   },
   "outputs": [
    {
     "data": {
      "text/plain": [
       "221"
      ]
     },
     "execution_count": 71,
     "metadata": {},
     "output_type": "execute_result"
    }
   ],
   "source": [
    "len(p12)"
   ]
  },
  {
   "cell_type": "code",
   "execution_count": 72,
   "metadata": {
    "colab": {},
    "colab_type": "code",
    "id": "xJZ-mz_oSBr2"
   },
   "outputs": [
    {
     "data": {
      "text/plain": [
       "array([nan, 'El país', 'El mundo', 'Sociedad', 'Deportes', 'Contratapa',\n",
       "       'Economía', 'Cultura', 'Universidad', 'Plástica'], dtype=object)"
      ]
     },
     "execution_count": 72,
     "metadata": {},
     "output_type": "execute_result"
    }
   ],
   "source": [
    "p12['suplemento'].unique()"
   ]
  },
  {
   "cell_type": "code",
   "execution_count": 73,
   "metadata": {
    "colab": {},
    "colab_type": "code",
    "id": "ZwLh7swRf3UB"
   },
   "outputs": [
    {
     "data": {
      "text/html": [
       "<div>\n",
       "<style scoped>\n",
       "    .dataframe tbody tr th:only-of-type {\n",
       "        vertical-align: middle;\n",
       "    }\n",
       "\n",
       "    .dataframe tbody tr th {\n",
       "        vertical-align: top;\n",
       "    }\n",
       "\n",
       "    .dataframe thead th {\n",
       "        text-align: right;\n",
       "    }\n",
       "</style>\n",
       "<table border=\"1\" class=\"dataframe\">\n",
       "  <thead>\n",
       "    <tr style=\"text-align: right;\">\n",
       "      <th></th>\n",
       "      <th>titulo</th>\n",
       "      <th>cuerpo</th>\n",
       "      <th>noticia</th>\n",
       "    </tr>\n",
       "  </thead>\n",
       "  <tbody>\n",
       "    <tr>\n",
       "      <th>1</th>\n",
       "      <td>Ventaja para Cambiemos en un lento escrutinio</td>\n",
       "      <td>Los comicios para elegir gobernador en Corrien...</td>\n",
       "      <td>ventaja para cambiemos en un lento escrutinio ...</td>\n",
       "    </tr>\n",
       "    <tr>\n",
       "      <th>5</th>\n",
       "      <td>“Están a un pasito de volver a hablar de campa...</td>\n",
       "      <td>En un nuevo acto de campaña, esta vez en Malv...</td>\n",
       "      <td>“están a un pasito de volver a hablar de camp...</td>\n",
       "    </tr>\n",
       "    <tr>\n",
       "      <th>6</th>\n",
       "      <td>\"Síganlo buscando\"</td>\n",
       "      <td>“Síganlo buscando” fue la cínica respuesta de ...</td>\n",
       "      <td>\"síganlo buscando\" “síganlo buscando” fue la...</td>\n",
       "    </tr>\n",
       "    <tr>\n",
       "      <th>7</th>\n",
       "      <td>\"Buen día drogadictos\"</td>\n",
       "      <td>Esta mañana el gobernador correntino Ricardo C...</td>\n",
       "      <td>\"buen día drogadictos\" esta mañana el gobern...</td>\n",
       "    </tr>\n",
       "    <tr>\n",
       "      <th>9</th>\n",
       "      <td>\"La historia los va a condenar”</td>\n",
       "      <td>El viernes por la noche Milagro Sala fue notif...</td>\n",
       "      <td>\"la historia los va a condenar” el viernes por...</td>\n",
       "    </tr>\n",
       "  </tbody>\n",
       "</table>\n",
       "</div>"
      ],
      "text/plain": [
       "                                              titulo  \\\n",
       "1      Ventaja para Cambiemos en un lento escrutinio   \n",
       "5  “Están a un pasito de volver a hablar de campa...   \n",
       "6                                 \"Síganlo buscando\"   \n",
       "7                             \"Buen día drogadictos\"   \n",
       "9                    \"La historia los va a condenar”   \n",
       "\n",
       "                                              cuerpo  \\\n",
       "1  Los comicios para elegir gobernador en Corrien...   \n",
       "5   En un nuevo acto de campaña, esta vez en Malv...   \n",
       "6  “Síganlo buscando” fue la cínica respuesta de ...   \n",
       "7  Esta mañana el gobernador correntino Ricardo C...   \n",
       "9  El viernes por la noche Milagro Sala fue notif...   \n",
       "\n",
       "                                             noticia  \n",
       "1  ventaja para cambiemos en un lento escrutinio ...  \n",
       "5  “están a un pasito de volver a hablar de camp...  \n",
       "6  \"síganlo buscando\" “síganlo buscando” fue la...  \n",
       "7  \"buen día drogadictos\" esta mañana el gobern...  \n",
       "9  \"la historia los va a condenar” el viernes por...  "
      ]
     },
     "execution_count": 73,
     "metadata": {},
     "output_type": "execute_result"
    }
   ],
   "source": [
    "# Nos concentramos en la sección 'El país', conservando titulo y cuerpo de la noticia\n",
    "pais = p12.loc[p12['suplemento'] == 'El país', ['titulo', 'cuerpo']]\n",
    "\n",
    "# Concatenamos y volcamos el resulado en la columna 'noticia'\n",
    "pais['noticia'] = (pais['titulo'] + ' ' + pais['cuerpo'])\n",
    "\n",
    "# Normalizamos el texto\n",
    "pais['noticia'] = pais['noticia'].apply(lambda x: unicodedata.normalize(\"NFKD\", x.lower()))\n",
    "pais.head()"
   ]
  },
  {
   "cell_type": "code",
   "execution_count": 74,
   "metadata": {},
   "outputs": [
    {
     "data": {
      "text/html": [
       "<div>\n",
       "<style scoped>\n",
       "    .dataframe tbody tr th:only-of-type {\n",
       "        vertical-align: middle;\n",
       "    }\n",
       "\n",
       "    .dataframe tbody tr th {\n",
       "        vertical-align: top;\n",
       "    }\n",
       "\n",
       "    .dataframe thead th {\n",
       "        text-align: right;\n",
       "    }\n",
       "</style>\n",
       "<table border=\"1\" class=\"dataframe\">\n",
       "  <thead>\n",
       "    <tr style=\"text-align: right;\">\n",
       "      <th></th>\n",
       "      <th>titulo</th>\n",
       "      <th>cuerpo</th>\n",
       "      <th>noticia</th>\n",
       "    </tr>\n",
       "  </thead>\n",
       "  <tbody>\n",
       "    <tr>\n",
       "      <th>1</th>\n",
       "      <td>Ventaja para Cambiemos en un lento escrutinio</td>\n",
       "      <td>Los comicios para elegir gobernador en Corrien...</td>\n",
       "      <td>ventaja para cambiemos en un lento escrutinio ...</td>\n",
       "    </tr>\n",
       "    <tr>\n",
       "      <th>5</th>\n",
       "      <td>“Están a un pasito de volver a hablar de campa...</td>\n",
       "      <td>En un nuevo acto de campaña, esta vez en Malv...</td>\n",
       "      <td>“están a un pasito de volver a hablar de camp...</td>\n",
       "    </tr>\n",
       "    <tr>\n",
       "      <th>6</th>\n",
       "      <td>\"Síganlo buscando\"</td>\n",
       "      <td>“Síganlo buscando” fue la cínica respuesta de ...</td>\n",
       "      <td>\"síganlo buscando\" “síganlo buscando” fue la...</td>\n",
       "    </tr>\n",
       "    <tr>\n",
       "      <th>7</th>\n",
       "      <td>\"Buen día drogadictos\"</td>\n",
       "      <td>Esta mañana el gobernador correntino Ricardo C...</td>\n",
       "      <td>\"buen día drogadictos\" esta mañana el gobern...</td>\n",
       "    </tr>\n",
       "    <tr>\n",
       "      <th>9</th>\n",
       "      <td>\"La historia los va a condenar”</td>\n",
       "      <td>El viernes por la noche Milagro Sala fue notif...</td>\n",
       "      <td>\"la historia los va a condenar” el viernes por...</td>\n",
       "    </tr>\n",
       "    <tr>\n",
       "      <th>...</th>\n",
       "      <td>...</td>\n",
       "      <td>...</td>\n",
       "      <td>...</td>\n",
       "    </tr>\n",
       "    <tr>\n",
       "      <th>215</th>\n",
       "      <td>Dirigente mapuche denuncia amenazas</td>\n",
       "      <td>Moira Millan, dirigente mapuche de la comunida...</td>\n",
       "      <td>dirigente mapuche denuncia amenazas moira mill...</td>\n",
       "    </tr>\n",
       "    <tr>\n",
       "      <th>216</th>\n",
       "      <td>\"Tengo diferencias de fondo con este Gobierno\"</td>\n",
       "      <td>El ex ministro de Transporte y candidato a sen...</td>\n",
       "      <td>\"tengo diferencias de fondo con este gobierno\"...</td>\n",
       "    </tr>\n",
       "    <tr>\n",
       "      <th>217</th>\n",
       "      <td>\"España está ante una encrucijada\"</td>\n",
       "      <td>En la conferencia de prensa brindada hoy por l...</td>\n",
       "      <td>\"españa está ante una encrucijada\" en la con...</td>\n",
       "    </tr>\n",
       "    <tr>\n",
       "      <th>218</th>\n",
       "      <td>AMIA: el informe que mostró CFK</td>\n",
       "      <td>En la conferencia de prensa que Cristina Ferná...</td>\n",
       "      <td>amia: el informe que mostró cfk en la confere...</td>\n",
       "    </tr>\n",
       "    <tr>\n",
       "      <th>220</th>\n",
       "      <td>Dietrich esquivó al Congreso</td>\n",
       "      <td>Dietrich esquivó su visita al Congreso aducien...</td>\n",
       "      <td>dietrich esquivó al congreso dietrich esquivo...</td>\n",
       "    </tr>\n",
       "  </tbody>\n",
       "</table>\n",
       "<p>65 rows × 3 columns</p>\n",
       "</div>"
      ],
      "text/plain": [
       "                                                titulo  \\\n",
       "1        Ventaja para Cambiemos en un lento escrutinio   \n",
       "5    “Están a un pasito de volver a hablar de campa...   \n",
       "6                                   \"Síganlo buscando\"   \n",
       "7                               \"Buen día drogadictos\"   \n",
       "9                      \"La historia los va a condenar”   \n",
       "..                                                 ...   \n",
       "215                Dirigente mapuche denuncia amenazas   \n",
       "216     \"Tengo diferencias de fondo con este Gobierno\"   \n",
       "217                 \"España está ante una encrucijada\"   \n",
       "218                    AMIA: el informe que mostró CFK   \n",
       "220                       Dietrich esquivó al Congreso   \n",
       "\n",
       "                                                cuerpo  \\\n",
       "1    Los comicios para elegir gobernador en Corrien...   \n",
       "5     En un nuevo acto de campaña, esta vez en Malv...   \n",
       "6    “Síganlo buscando” fue la cínica respuesta de ...   \n",
       "7    Esta mañana el gobernador correntino Ricardo C...   \n",
       "9    El viernes por la noche Milagro Sala fue notif...   \n",
       "..                                                 ...   \n",
       "215  Moira Millan, dirigente mapuche de la comunida...   \n",
       "216  El ex ministro de Transporte y candidato a sen...   \n",
       "217  En la conferencia de prensa brindada hoy por l...   \n",
       "218  En la conferencia de prensa que Cristina Ferná...   \n",
       "220  Dietrich esquivó su visita al Congreso aducien...   \n",
       "\n",
       "                                               noticia  \n",
       "1    ventaja para cambiemos en un lento escrutinio ...  \n",
       "5    “están a un pasito de volver a hablar de camp...  \n",
       "6    \"síganlo buscando\" “síganlo buscando” fue la...  \n",
       "7    \"buen día drogadictos\" esta mañana el gobern...  \n",
       "9    \"la historia los va a condenar” el viernes por...  \n",
       "..                                                 ...  \n",
       "215  dirigente mapuche denuncia amenazas moira mill...  \n",
       "216  \"tengo diferencias de fondo con este gobierno\"...  \n",
       "217  \"españa está ante una encrucijada\" en la con...  \n",
       "218  amia: el informe que mostró cfk en la confere...  \n",
       "220  dietrich esquivó al congreso dietrich esquivo...  \n",
       "\n",
       "[65 rows x 3 columns]"
      ]
     },
     "execution_count": 74,
     "metadata": {},
     "output_type": "execute_result"
    }
   ],
   "source": [
    "pais"
   ]
  },
  {
   "cell_type": "markdown",
   "metadata": {
    "colab_type": "text",
    "id": "_AumKFDISBtA"
   },
   "source": [
    "# Primera corrida - unigramas"
   ]
  },
  {
   "cell_type": "code",
   "execution_count": 80,
   "metadata": {
    "colab": {},
    "colab_type": "code",
    "id": "u9wRGwWOSBtB"
   },
   "outputs": [],
   "source": [
    "# Definimos una función para limpiar los textos de stopwords y signos de puntuación\n",
    "import spacy \n",
    "\n",
    "sp = spacy.load('es_core_news_md')\n",
    "\n",
    "def clean(doc):\n",
    "    stop_free = \" \".join([i for i in doc.lower().split() if i not in stop])\n",
    "    punc_free = ''.join(ch for ch in stop_free if ch not in exclude)\n",
    "    return punc_free"
   ]
  },
  {
   "cell_type": "code",
   "execution_count": 81,
   "metadata": {},
   "outputs": [],
   "source": [
    "doc=sp(pais.noticia[1])"
   ]
  },
  {
   "cell_type": "code",
   "execution_count": 82,
   "metadata": {
    "colab": {},
    "colab_type": "code",
    "id": "o71W__Lhf3UW"
   },
   "outputs": [
    {
     "data": {
      "text/plain": [
       "'ventaja para cambiemos en un lento escrutinio los comicios para elegir gobernador en corrientes cerraron pasadas las 18, con algunos inconvenientes para la apertura de mesas y demoras por el mal clima en la provincia, pero sin denuncias de irregularidades. a partir de las 21 comenzaron a conocerse los primeros resultados de un escrutinio provisorio que promete ser bastante lento.\\ncon 283 mesas contabilizadas de las 2407 que se abrieron, el candidato de eco + cambiemos, gustavo valdés, obtiene el 52,72 por ciento de los votos. en segundo lugar aparece el postulante del frente corrientes podemos más, carlos \"camau\" espínola, que se queda con el 46,15 por ciento.\\nen la alianza oficialista se adelantaron a celebrar el resultado desde su cuenta de twitter. \\n\\nloading tweet ... \\n\\n\\nel gran respaldo del gobierno nacional a canteros se volvió a hacer visible hoy: se encuentran en la capital correntina el ministro de agroindustria, ricardo buryaile, y el gobernador de jujuy, gerardo morales, y se espera la llegada del jefe de gabinete marcos peña y el ministro del interior, rogelio frigerio.\\n \\n'"
      ]
     },
     "execution_count": 82,
     "metadata": {},
     "output_type": "execute_result"
    }
   ],
   "source": [
    "# Chequeamos un resultado a modo de ejemplo\n",
    "pais.noticia[1]"
   ]
  },
  {
   "cell_type": "code",
   "execution_count": 99,
   "metadata": {},
   "outputs": [],
   "source": [
    "cld=list()\n",
    "for x in doc:\n",
    "    if x.is_stop:\n",
    "        pass\n",
    "    else:\n",
    "        cld.append(x)"
   ]
  },
  {
   "cell_type": "code",
   "execution_count": 90,
   "metadata": {
    "colab": {},
    "colab_type": "code",
    "id": "AF7LlWLBSBtF"
   },
   "outputs": [
    {
     "data": {
      "text/plain": [
       "'ventaja cambiemos lento escrutinio comicios elegir gobernador corrientes cerraron pasadas 18 inconvenientes apertura mesas demoras mal clima provincia denuncias irregularidades partir 21 comenzaron conocerse primeros resultados escrutinio provisorio promete ser bastante lento 283 mesas contabilizadas 2407 abrieron candidato eco  cambiemos gustavo valdés obtiene 5272 ciento votos segundo lugar aparece postulante frente corrientes podemos más carlos camau espínola queda 4615 ciento alianza oficialista adelantaron celebrar resultado cuenta twitter loading tweet  gran respaldo gobierno nacional canteros volvió hacer visible hoy encuentran capital correntina ministro agroindustria ricardo buryaile gobernador jujuy gerardo morales espera llegada jefe gabinete marcos peña ministro interior rogelio frigerio'"
      ]
     },
     "execution_count": 90,
     "metadata": {},
     "output_type": "execute_result"
    }
   ],
   "source": [
    "clean(pais.noticia[1])"
   ]
  },
  {
   "cell_type": "code",
   "execution_count": 98,
   "metadata": {},
   "outputs": [
    {
     "data": {
      "text/plain": [
       "'ventaja cambiemos lento escrutinio comicios elegir gobernador corrientes cerraron pasadas 18 , inconvenientes apertura mesas y demoras clima provincia , denuncias irregularidades . a 21 comenzaron a conocerse resultados escrutinio provisorio promete lento . \\n 283 mesas contabilizadas 2407 abrieron , candidato eco + cambiemos , gustavo valdés , obtiene 52,72 ciento votos . aparece postulante frente corrientes más , carlos \" camau \" espínola , queda 46,15 ciento . \\n alianza oficialista adelantaron a celebrar resultado twitter . \\n\\n loading tweet ... \\n\\n\\n respaldo gobierno nacional a canteros volvió a visible : encuentran capital correntina ministro agroindustria , ricardo buryaile , y gobernador jujuy , gerardo morales , y espera llegada jefe gabinete marcos peña y ministro interior , rogelio frigerio . \\n \\n'"
      ]
     },
     "execution_count": 98,
     "metadata": {},
     "output_type": "execute_result"
    }
   ],
   "source": [
    "' '.join([x.text for x in cld])"
   ]
  },
  {
   "cell_type": "code",
   "execution_count": 101,
   "metadata": {
    "colab": {},
    "colab_type": "code",
    "id": "A4AXJatUSBtM"
   },
   "outputs": [],
   "source": [
    "# Aplicamos la función a cada documento del corpus\n",
    "nota_clean = [clean(nota).split() for nota in pais['noticia']]\n"
   ]
  },
  {
   "cell_type": "code",
   "execution_count": 102,
   "metadata": {
    "colab": {},
    "colab_type": "code",
    "id": "69i2_LYkSBuB"
   },
   "outputs": [],
   "source": [
    "import gensim\n",
    "from gensim import corpora, models\n",
    "from gensim.utils import simple_preprocess"
   ]
  },
  {
   "cell_type": "code",
   "execution_count": 103,
   "metadata": {
    "colab": {},
    "colab_type": "code",
    "id": "D9SK4dqLSBuI"
   },
   "outputs": [],
   "source": [
    "# Construimos nuestro diccionario\n",
    "dictionary = corpora.Dictionary(nota_clean) "
   ]
  },
  {
   "cell_type": "code",
   "execution_count": 104,
   "metadata": {
    "colab": {},
    "colab_type": "code",
    "id": "cZMYhmUKSBuN"
   },
   "outputs": [
    {
     "name": "stdout",
     "output_type": "stream",
     "text": [
      "Dictionary(6981 unique tokens: ['18', '21', '2407', '283', '4615']...)\n"
     ]
    }
   ],
   "source": [
    "print(dictionary)"
   ]
  },
  {
   "cell_type": "code",
   "execution_count": 105,
   "metadata": {
    "colab": {},
    "colab_type": "code",
    "id": "LpSY-WGySBuY"
   },
   "outputs": [],
   "source": [
    "corpus = [dictionary.doc2bow(nota) for nota in nota_clean]"
   ]
  },
  {
   "cell_type": "code",
   "execution_count": 1,
   "metadata": {
    "colab": {},
    "colab_type": "code",
    "id": "nOekYLxBSBuh",
    "jupyter": {
     "outputs_hidden": true,
     "source_hidden": true
    }
   },
   "outputs": [],
   "source": [
    "#[[(dictionary[id], freq) for id, freq in cp] for cp in corpus[:1]]"
   ]
  },
  {
   "cell_type": "code",
   "execution_count": 110,
   "metadata": {
    "colab": {},
    "colab_type": "code",
    "id": "DoLrAqaRSBuo"
   },
   "outputs": [],
   "source": [
    "lda_model = gensim.models.ldamodel.LdaModel(corpus=corpus,\n",
    "                                            id2word=dictionary,\n",
    "                                            num_topics=5, \n",
    "                                            random_state=100,\n",
    "                                            update_every=1,\n",
    "                                            chunksize=100,\n",
    "                                            passes=10,\n",
    "                                            alpha='auto',\n",
    "                                            per_word_topics=True)"
   ]
  },
  {
   "cell_type": "code",
   "execution_count": 111,
   "metadata": {
    "colab": {},
    "colab_type": "code",
    "id": "oLj684UOSBut"
   },
   "outputs": [
    {
     "data": {
      "text/html": [
       "\n",
       "<link rel=\"stylesheet\" type=\"text/css\" href=\"https://cdn.rawgit.com/bmabey/pyLDAvis/files/ldavis.v1.0.0.css\">\n",
       "\n",
       "\n",
       "<div id=\"ldavis_el1159215807893287125045672467\"></div>\n",
       "<script type=\"text/javascript\">\n",
       "\n",
       "var ldavis_el1159215807893287125045672467_data = {\"mdsDat\": {\"x\": [0.07263578082381163, -0.1356043494650346, -0.01681587406675872, 0.03223840775102599, 0.04754603495695566], \"y\": [0.02868245045719885, 0.04860147418528419, -0.1286413879573474, 0.006393023515546173, 0.04496443979931819], \"topics\": [1, 2, 3, 4, 5], \"cluster\": [1, 1, 1, 1, 1], \"Freq\": [38.18319320678711, 20.944133758544922, 15.222865104675293, 13.198648452758789, 12.451150894165039]}, \"tinfo\": {\"Term\": [\"ex\", \"salud\", \"che\", \"memora\\u0301ndum\", \"bonadio\", \"corrientes\", \"hospitales\", \"juez\", \"sergio\", \"sala\", \"ira\\u0301n\", \"trabajo\", \"peronismo\", \"reforma\", \"gobernador\", \"colombi\", \"gobierno\", \"amia\", \"santiago\", \"indagatoria\", \"cidh\", \"hospital\", \"prisio\\u0301n\", \"causa\", \"ley\", \"atentado\", \"derechos\", \"laboral\", \"familia\", \"nisman\", \"madres\", \"pena\", \"radical\", \"gendarmes\", \"basi\\u0301lica\", \"plaza\", \"agentes\", \"bono\", \"educacio\\u0301n\", \"sabemos\", \"luja\\u0301n\", \"latinoamericana\", \"experiencia\", \"funes\", \"militantes\", \"fidel\", \"software\", \"cuba\", \"blanco\", \"queremos\", \"peregrinacio\\u0301n\", \"dietrich\", \"eco\", \"vialidad\", \"fpv\", \"transparencia\", \"4\", \"vivio\\u0301\", \"do\\u0301lares\", \"cubana\", \"listas\", \"escrutinio\", \"casi\", \"revolucio\\u0301n\", \"guevara\", \"clara\", \"ronda\", \"provisorio\", \"lista\", \"provincial\", \"respuesta\", \"pai\\u0301ses\", \"presidente\", \"che\", \"candidato\", \"que\\u0301\", \"fuerza\", \"ma\\u0301s\", \"gobernador\", \"habi\\u0301a\", \"ciento\", \"gendarmeri\\u0301a\", \"macri\", \"mundo\", \"an\\u0303os\", \"gobierno\", \"muerte\", \"frente\", \"maldonado\", \"esta\\u0301\", \"santiago\", \"parte\", \"dos\", \"unidad\", \"nacional\", \"tambie\\u0301n\", \"ayer\", \"despue\\u0301s\", \"ex\", \"si\", \"corrientes\", \"prisio\\u0301n\", \"mochila\", \"sala\", \"recurso\", \"domiciliaria\", \"bicentenario\", \"camaristas\", \"apelaciones\", \"cautelar\", \"eguiguren\", \"echeverri\\u0301a\", \"celular\", \"lleral\", \"personales\", \"objetos\", \"pertenencias\", \"a\\u0301vila\", \"sergio\", \"llermanos\", \"homicidio\", \"parlasur\", \"ituzaingo\\u0301\", \"argumentos\", \"portaba\", \"aclarar\", \"investigacio\\u0301n\\u201d\", \"pullen\", \"magistrados\", \"resoluciones\", \"rafael\", \"milagro\", \"cidh\", \"recursos\", \"\\u201cse\", \"hermano\", \"familia\", \"hospitales\", \"testigos\", \"defensa\", \"hospital\", \"santiago\", \"resolucio\\u0301n\", \"pesos\", \"juez\", \"ca\\u0301mara\", \"desaparicio\\u0301n\", \"abogados\", \"maldonado\", \"caso\", \"humanos\", \"tambie\\u0301n\", \"di\\u0301as\", \"corte\", \"dos\", \"derechos\", \"ma\\u0301s\", \"gobierno\", \"parte\", \"macri\", \"que\", \"nacional\", \"amia\", \"indagatoria\", \"atentado\", \"cito\\u0301\", \"memora\\u0301ndum\", \"bonadio\", \"irani\\u0301es\", \"timerman\", \"interpol\", \"milla\\u0301n\", \"amenazas\", \"alertas\", \"tratado\", \"cronograma\", \"cancilleri\\u0301a\", \"fallecido\", \"d\\u2019eli\\u0301a\", \"rojas\", \"esteche\", \"entendimiento\", \"traicio\\u0301n\", \"ira\\u0301n\", \"economi\\u0301a\", \"fit\", \"convocatoria\", \"\\u201cdeterioro\", \"ru\\u0301a\", \"\\u201cvidal\", \"daia\", \"incidencia\", \"cavallo\", \"menem\", \"escrito\", \"mandataria\", \"magistrado\", \"ex\", \"supuesto\", \"juez\", \"secretario\", \"argentina\", \"fiscal\", \"cristina\", \"denuncia\", \"causa\", \"gobierno\", \"nisman\", \"federal\", \"tambie\\u0301n\", \"canciller\", \"referente\", \"cfk\", \"octubre\", \"afirmo\\u0301\", \"macri\", \"adema\\u0301s\", \"kirchner\", \"despue\\u0301s\", \"hacer\", \"dos\", \"poli\\u0301tica\", \"si\", \"ma\\u0301s\", \"poder\", \"pai\\u0301s\", \"campan\\u0303a\", \"higuera\", \"convenio\", \"catalun\\u0303a\", \"laboral\", \"trabajador\", \"reinhart\", \"laborales\", \"de\\u0301ficits\", \"rostro\", \"prestigio\", \"desalojos\", \"recuperar\", \"tierras\", \"evo\", \"vallegrande\", \"reforma\", \"empresarios\", \"espan\\u0303a\", \"\\u2013el\", \"listado\", \"huelga\", \"laboralistas\", \"aplicacio\\u0301n\", \"trabajo\\u201d\", \"externa\", \"distintos\", \"norma\", \"antiargentina\\u201d\", \"\\u00bfcua\\u0301nto\", \"pasito\", \"nuclear\", \"trabajo\", \"ley\", \"bolivia\", \"morales\", \"50\", \"accidentes\", \"trabajadores\", \"medicina\", \"volver\", \"derechos\", \"che\", \"organismos\", \"deuda\", \"esta\\u0301\", \"an\\u0303os\", \"ma\\u0301s\", \"dijo\", \"gobierno\", \"si\", \"pai\\u0301s\", \"tambie\\u0301n\", \"posibilidad\", \"humanos\", \"dos\", \"hoy\", \"mundo\", \"derecho\", \"nacional\", \"unidad\", \"ex\", \"presidente\", \"justicia\", \"\\u201cel\", \"especialista\", \"tealdi\", \"cus\", \"lo\\u0301gica\", \"bioe\\u0301tica\", \"diferencia\\u201d\", \"lemus\", \"prevencio\\u0301n\", \"provinciales\", \"ilusionan\", \"oligarqui\\u0301a\", \"garrahan\", \"medicamentos\", \"lamentos\", \"torturas\", \"puga\", \"haro\", \"930\", \"cornejo\", \"alegatos\", \"activo\", \"primaria\", \"meta\", \"pmo\", \"achicado\", \"agnet\", \"remediar\", \"achicar\", \"2\", \"desfile\", \"boca\", \"kreplak\", \"salud\", \"cobertura\", \"peronismo\", \"radicalismo\", \"puntos\", \"van\", \"agencia\", \"cruce\", \"presupuesto\", \"programa\", \"corrientes\", \"escenario\", \"colombi\", \"oficialista\", \"pelea\", \"bien\", \"va\", \"gobernador\", \"ser\", \"nacional\", \"valde\\u0301s\", \"hospitales\", \"nacio\\u0301n\", \"poli\\u0301tica\", \"hoy\", \"ma\\u0301s\", \"provincias\", \"gobierno\", \"cambiemos\", \"ministro\", \"prensa\", \"tener\", \"siempre\", \"ciento\", \"puede\", \"mientras\", \"si\", \"esta\\u0301\", \"\\u201cel\", \"macri\"], \"Freq\": [57.0, 31.0, 30.0, 14.0, 14.0, 23.0, 30.0, 29.0, 20.0, 17.0, 15.0, 20.0, 19.0, 11.0, 26.0, 15.0, 91.0, 8.0, 50.0, 8.0, 15.0, 18.0, 10.0, 21.0, 14.0, 8.0, 26.0, 8.0, 15.0, 13.0, 14.435615539550781, 11.91069507598877, 11.035202026367188, 10.238226890563965, 9.40706729888916, 9.404964447021484, 8.558659553527832, 17.803693771362305, 7.725295066833496, 7.712747097015381, 6.041175842285156, 6.036751747131348, 6.03444242477417, 5.204599380493164, 5.201047897338867, 5.196441173553467, 5.193734645843506, 5.180800437927246, 4.364395618438721, 4.3639326095581055, 4.361591339111328, 4.3596415519714355, 4.357488632202148, 4.356988906860352, 4.354404449462891, 4.353445529937744, 4.351987361907959, 4.346590518951416, 4.3435540199279785, 4.343424320220947, 7.719532012939453, 12.73486614227295, 12.722167015075684, 7.670325756072998, 17.715042114257812, 6.885597229003906, 6.885247230529785, 6.873469829559326, 13.61117935180664, 11.091350555419922, 13.13199234008789, 11.90562629699707, 29.32305145263672, 20.256284713745117, 16.118440628051758, 14.713351249694824, 15.222804069519043, 44.69343948364258, 16.983980178833008, 20.83627700805664, 18.64724349975586, 12.9251070022583, 27.087013244628906, 15.244192123413086, 23.354005813598633, 35.78200912475586, 13.60929012298584, 13.588152885437012, 18.359413146972656, 20.643152236938477, 21.084484100341797, 16.27022361755371, 19.279359817504883, 14.445526123046875, 17.797563552856445, 20.36372184753418, 14.138976097106934, 14.941733360290527, 16.51986312866211, 13.968469619750977, 13.614981651306152, 9.896283149719238, 9.055413246154785, 16.631378173828125, 7.640415191650391, 7.638749122619629, 6.891127586364746, 6.141923427581787, 6.140516757965088, 5.39451789855957, 5.385776519775391, 4.643731594085693, 4.623557090759277, 4.617571830749512, 4.607752323150635, 4.58854341506958, 4.58523416519165, 3.903587818145752, 17.738901138305664, 3.900420904159546, 3.898153781890869, 3.8952674865722656, 3.8945772647857666, 3.8921873569488525, 3.8861851692199707, 3.8780226707458496, 3.8663015365600586, 3.1532857418060303, 3.147998332977295, 3.14717173576355, 3.1463634967803955, 10.648107528686523, 12.143619537353516, 6.139804840087891, 7.626678466796875, 9.352897644042969, 10.829876899719238, 18.900371551513672, 8.525931358337402, 12.14209270477295, 11.381514549255371, 23.428394317626953, 4.86638879776001, 7.643354415893555, 14.248455047607422, 9.159714698791504, 12.33458137512207, 8.402511596679688, 13.901607513427734, 10.565917015075684, 9.094090461730957, 16.03824806213379, 10.28821086883545, 7.647769451141357, 10.848012924194336, 9.066317558288574, 12.220951080322266, 11.568225860595703, 8.236934661865234, 7.952327728271484, 7.707242012023926, 7.6987504959106445, 8.258130073547363, 8.248719215393066, 7.548051357269287, 5.5677337646484375, 13.05263900756836, 13.006609916687012, 4.889013767242432, 4.211215496063232, 3.530839204788208, 2.857140064239502, 2.856952428817749, 2.8543035984039307, 2.854844331741333, 2.854837417602539, 2.8531646728515625, 2.851731777191162, 2.851386785507202, 2.8508126735687256, 2.850040912628174, 2.8493168354034424, 2.8374435901641846, 12.371520042419434, 5.581236839294434, 2.185042142868042, 2.178328275680542, 2.1768672466278076, 2.176370620727539, 2.1767046451568604, 2.1758105754852295, 2.175166606903076, 4.219814777374268, 5.548977851867676, 3.5389773845672607, 4.895938873291016, 4.878770351409912, 29.08744239807129, 3.5310821533203125, 12.237525939941406, 4.887119293212891, 11.01951789855957, 8.284591674804688, 11.61851692199707, 5.57075834274292, 8.978063583374023, 20.29831886291504, 6.259746551513672, 5.566465854644775, 13.798810005187988, 3.4835357666015625, 4.219799995422363, 6.189094066619873, 6.939415454864502, 6.277103424072266, 9.463720321655273, 6.260638236999512, 6.12490701675415, 6.764035224914551, 6.281998157501221, 6.999619483947754, 5.99949836730957, 6.307324409484863, 6.327533721923828, 5.6163740158081055, 5.600930690765381, 5.596408367156982, 4.646583080291748, 2.7211508750915527, 2.7200543880462646, 6.61012077331543, 2.717987298965454, 2.716888666152954, 2.7167084217071533, 2.7158663272857666, 2.715553045272827, 2.712812900543213, 2.712676525115967, 2.712238311767578, 2.711827516555786, 2.71132755279541, 2.7091691493988037, 9.196563720703125, 2.0735185146331787, 2.072937488555908, 2.0718014240264893, 2.0711381435394287, 2.0706381797790527, 2.070565938949585, 2.0703396797180176, 2.069394826889038, 2.0693140029907227, 2.0684168338775635, 2.0685038566589355, 2.0683276653289795, 2.067413568496704, 2.066817045211792, 4.021896839141846, 12.464863777160645, 8.554673194885254, 4.64535665512085, 5.939970016479492, 6.585439682006836, 2.724580764770508, 7.261341094970703, 4.6808319091796875, 5.305420398712158, 9.202019691467285, 9.832320213317871, 4.659451484680176, 4.6737284660339355, 11.816072463989258, 10.5001859664917, 13.796481132507324, 8.461138725280762, 13.854033470153809, 8.560466766357422, 7.271787166595459, 9.158745765686035, 4.020944595336914, 5.322176456451416, 7.273667812347412, 5.959672451019287, 5.329907417297363, 4.678534507751465, 5.337166786193848, 4.6807780265808105, 4.8168253898620605, 4.708441257476807, 4.678464412689209, 4.6759467124938965, 3.9290201663970947, 3.9266586303710938, 2.66223406791687, 2.6542091369628906, 2.0270774364471436, 2.025343656539917, 2.0239787101745605, 2.0234005451202393, 2.0236189365386963, 2.0225088596343994, 2.0205886363983154, 4.546339988708496, 4.559980869293213, 1.3964080810546875, 1.396418809890747, 1.395979881286621, 1.3954555988311768, 1.3948769569396973, 1.3949095010757446, 1.394869089126587, 1.394236445426941, 1.3938230276107788, 1.3936842679977417, 1.3937060832977295, 1.3936556577682495, 1.3935492038726807, 1.3933836221694946, 1.3932996988296509, 1.3932712078094482, 1.3929790258407593, 2.660163164138794, 2.649401903152466, 17.215103149414062, 3.924638271331787, 10.874340057373047, 2.659684896469116, 2.6591718196868896, 4.568476676940918, 3.2953407764434814, 3.2799432277679443, 5.172086715698242, 2.6643993854522705, 9.004712104797363, 3.294814109802246, 6.470941543579102, 3.2939136028289795, 2.0301589965820312, 5.204545021057129, 5.819605350494385, 7.109895706176758, 7.116135597229004, 8.424237251281738, 5.203563690185547, 7.07999849319458, 3.92093563079834, 5.825708389282227, 6.475749492645264, 9.740869522094727, 3.9348111152648926, 9.693586349487305, 5.208344459533691, 5.210064888000488, 4.571056842803955, 4.551952838897705, 4.5902419090271, 5.2214274406433105, 4.5659003257751465, 4.590504169464111, 5.246565341949463, 5.245513916015625, 4.609007358551025, 4.5973029136657715], \"Total\": [57.0, 31.0, 30.0, 14.0, 14.0, 23.0, 30.0, 29.0, 20.0, 17.0, 15.0, 20.0, 19.0, 11.0, 26.0, 15.0, 91.0, 8.0, 50.0, 8.0, 15.0, 18.0, 10.0, 21.0, 14.0, 8.0, 26.0, 8.0, 15.0, 13.0, 15.03112506866455, 12.503173828125, 11.656932830810547, 10.820064544677734, 9.979147911071777, 9.978670120239258, 9.134695053100586, 19.041412353515625, 8.294422149658203, 8.292383193969727, 6.608208656311035, 6.607877731323242, 6.607089996337891, 5.7663140296936035, 5.765955448150635, 5.765356540679932, 5.764826774597168, 5.763247966766357, 4.924028396606445, 4.924045562744141, 4.923232078552246, 4.924057483673096, 4.92283821105957, 4.92329216003418, 4.92221212387085, 4.922845840454102, 4.922051906585693, 4.920907974243164, 4.9200029373168945, 4.921329975128174, 8.929946899414062, 15.302631378173828, 15.346207618713379, 8.9711275100708, 22.292234420776367, 8.088316917419434, 8.101439476013184, 8.08655834197998, 17.531959533691406, 14.328313827514648, 17.685047149658203, 15.789278030395508, 48.19432830810547, 30.67591094970703, 23.370441436767578, 21.05202293395996, 21.976543426513672, 86.7792739868164, 26.078330993652344, 34.44698715209961, 30.091341018676758, 18.40127944946289, 51.219879150390625, 23.714752197265625, 44.35860061645508, 91.19617462158203, 20.948793411254883, 20.991823196411133, 37.40489959716797, 47.966773986816406, 50.38920211791992, 30.159866333007812, 45.23588943481445, 24.327295303344727, 41.46776580810547, 62.73337173461914, 24.94450569152832, 33.538028717041016, 57.82218933105469, 36.949005126953125, 23.112913131713867, 10.501474380493164, 9.759885787963867, 17.926307678222656, 8.242005348205566, 8.241392135620117, 7.489457607269287, 6.736097812652588, 6.735601425170898, 5.983904838562012, 5.982692241668701, 5.230901718139648, 5.234503269195557, 5.2347731590271, 5.235947132110596, 5.238694190979004, 5.23903226852417, 4.477950572967529, 20.350568771362305, 4.477572441101074, 4.477738380432129, 4.477267742156982, 4.477864742279053, 4.478686809539795, 4.480181694030762, 4.480460166931152, 4.48160982131958, 3.72501277923584, 3.724717855453491, 3.72467041015625, 3.724818468093872, 13.430206298828125, 15.5535306930542, 7.577856063842773, 9.546496391296387, 12.054161071777344, 15.440733909606934, 30.602214813232422, 12.025984764099121, 19.830760955810547, 18.35735511779785, 50.38920211791992, 6.040690898895264, 11.225791931152344, 29.71626091003418, 15.59264850616455, 26.002731323242188, 13.99661922454834, 37.40489959716797, 23.03912925720215, 18.80476951599121, 62.73337173461914, 25.210865020751953, 14.229836463928223, 45.23588943481445, 26.244178771972656, 86.7792739868164, 91.19617462158203, 30.159866333007812, 51.219879150390625, 26.46854019165039, 41.46776580810547, 8.93334674835205, 8.92719841003418, 8.254679679870605, 6.187488555908203, 14.557343482971191, 14.567377090454102, 5.503627777099609, 4.818782806396484, 4.135307312011719, 3.4499852657318115, 3.4500110149383545, 3.450221300125122, 3.4510538578033447, 3.451150417327881, 3.4511890411376953, 3.450267791748047, 3.4509525299072266, 3.4502971172332764, 3.4504833221435547, 3.450007677078247, 3.454385757446289, 15.558126449584961, 7.027514934539795, 2.765655040740967, 2.7661118507385254, 2.7664811611175537, 2.766265869140625, 2.7670810222625732, 2.7661187648773193, 2.766188383102417, 5.468562126159668, 7.469699859619141, 4.771782875061035, 6.996181011199951, 7.019824981689453, 57.82218933105469, 4.886831283569336, 29.71626091003418, 7.849844455718994, 27.6441593170166, 17.827255249023438, 30.76715850830078, 9.848076820373535, 21.517303466796875, 91.19617462158203, 13.647736549377441, 11.17503547668457, 62.73337173461914, 4.987040042877197, 7.165663719177246, 15.757481575012207, 22.890060424804688, 18.429668426513672, 51.219879150390625, 18.86090087890625, 19.341793060302734, 33.538028717041016, 24.697912216186523, 45.23588943481445, 22.232879638671875, 36.949005126953125, 86.7792739868164, 16.75499725341797, 26.992923736572266, 15.486522674560547, 5.268199920654297, 3.3149914741516113, 3.3151395320892334, 8.056689262390137, 3.315096616744995, 3.315366744995117, 3.3153533935546875, 3.3156967163085938, 3.315629720687866, 3.315768241882324, 3.316317081451416, 3.3159337043762207, 3.316505193710327, 3.316406726837158, 3.316389322280884, 11.297723770141602, 2.6646056175231934, 2.664583444595337, 2.66467547416687, 2.664607524871826, 2.664787530899048, 2.6649057865142822, 2.6649489402770996, 2.6646511554718018, 2.6649906635284424, 2.6650965213775635, 2.6653130054473877, 2.6653244495391846, 2.664921760559082, 2.66498064994812, 5.300323009490967, 20.194067001342773, 14.157523155212402, 7.793486595153809, 10.916935920715332, 13.572257041931152, 3.9520301818847656, 16.404993057250977, 8.684097290039062, 10.771157264709473, 26.244178771972656, 30.67591094970703, 9.824942588806152, 9.950333595275879, 47.966773986816406, 44.35860061645508, 86.7792739868164, 32.57352828979492, 91.19617462158203, 36.949005126953125, 26.992923736572266, 62.73337173461914, 8.46264934539795, 18.80476951599121, 45.23588943481445, 29.65557098388672, 23.714752197265625, 16.56814956665039, 41.46776580810547, 24.327295303344727, 57.82218933105469, 48.19432830810547, 25.400266647338867, 24.695560455322266, 4.536791801452637, 4.537007808685303, 3.2623515129089355, 3.2627506256103516, 2.6249942779541016, 2.6253275871276855, 2.625117540359497, 2.624990224838257, 2.6254374980926514, 2.625511884689331, 2.625884771347046, 5.926791191101074, 6.014720439910889, 1.987375020980835, 1.9879615306854248, 1.988116979598999, 1.9882752895355225, 1.9879233837127686, 1.9884361028671265, 1.9884374141693115, 1.988088846206665, 1.9876995086669922, 1.9876878261566162, 1.9877761602401733, 1.987760305404663, 1.9876773357391357, 1.9877381324768066, 1.9877959489822388, 1.9881032705307007, 1.988034725189209, 3.913142681121826, 4.015153884887695, 31.992511749267578, 6.221039295196533, 19.532337188720703, 4.104203701019287, 4.104526042938232, 7.69793176651001, 5.42429256439209, 5.405737400054932, 10.10886001586914, 4.603461742401123, 23.112913131713867, 6.246586799621582, 15.509612083435059, 6.382620811462402, 3.3088269233703613, 13.034363746643066, 18.063833236694336, 26.078330993652344, 27.630050659179688, 41.46776580810547, 16.56784439086914, 30.602214813232422, 9.812661170959473, 22.232879638671875, 29.65557098388672, 86.7792739868164, 10.236095428466797, 91.19617462158203, 22.530452728271484, 23.321937561035156, 16.031307220458984, 16.484628677368164, 17.43045425415039, 30.091341018676758, 18.179262161254883, 19.272838592529297, 36.949005126953125, 47.966773986816406, 24.695560455322266, 51.219879150390625], \"Category\": [\"Default\", \"Default\", \"Default\", \"Default\", \"Default\", \"Default\", \"Default\", \"Default\", \"Default\", \"Default\", \"Default\", \"Default\", \"Default\", \"Default\", \"Default\", \"Default\", \"Default\", \"Default\", \"Default\", \"Default\", \"Default\", \"Default\", \"Default\", \"Default\", \"Default\", \"Default\", \"Default\", \"Default\", \"Default\", \"Default\", \"Topic1\", \"Topic1\", \"Topic1\", \"Topic1\", \"Topic1\", \"Topic1\", \"Topic1\", \"Topic1\", \"Topic1\", \"Topic1\", \"Topic1\", \"Topic1\", \"Topic1\", \"Topic1\", \"Topic1\", \"Topic1\", \"Topic1\", \"Topic1\", \"Topic1\", \"Topic1\", \"Topic1\", \"Topic1\", \"Topic1\", \"Topic1\", \"Topic1\", \"Topic1\", \"Topic1\", \"Topic1\", \"Topic1\", \"Topic1\", \"Topic1\", \"Topic1\", \"Topic1\", \"Topic1\", \"Topic1\", \"Topic1\", \"Topic1\", \"Topic1\", \"Topic1\", \"Topic1\", \"Topic1\", \"Topic1\", \"Topic1\", \"Topic1\", \"Topic1\", \"Topic1\", \"Topic1\", \"Topic1\", \"Topic1\", \"Topic1\", \"Topic1\", \"Topic1\", \"Topic1\", \"Topic1\", \"Topic1\", \"Topic1\", \"Topic1\", \"Topic1\", \"Topic1\", \"Topic1\", \"Topic1\", \"Topic1\", \"Topic1\", \"Topic1\", \"Topic1\", \"Topic1\", \"Topic1\", \"Topic1\", \"Topic1\", \"Topic1\", \"Topic1\", \"Topic2\", \"Topic2\", \"Topic2\", \"Topic2\", \"Topic2\", \"Topic2\", \"Topic2\", \"Topic2\", \"Topic2\", \"Topic2\", \"Topic2\", \"Topic2\", \"Topic2\", \"Topic2\", \"Topic2\", \"Topic2\", \"Topic2\", \"Topic2\", \"Topic2\", \"Topic2\", \"Topic2\", \"Topic2\", \"Topic2\", \"Topic2\", \"Topic2\", \"Topic2\", \"Topic2\", \"Topic2\", \"Topic2\", \"Topic2\", \"Topic2\", \"Topic2\", \"Topic2\", \"Topic2\", \"Topic2\", \"Topic2\", \"Topic2\", \"Topic2\", \"Topic2\", \"Topic2\", \"Topic2\", \"Topic2\", \"Topic2\", \"Topic2\", \"Topic2\", \"Topic2\", \"Topic2\", \"Topic2\", \"Topic2\", \"Topic2\", \"Topic2\", \"Topic2\", \"Topic2\", \"Topic2\", \"Topic2\", \"Topic2\", \"Topic2\", \"Topic2\", \"Topic2\", \"Topic2\", \"Topic2\", \"Topic3\", \"Topic3\", \"Topic3\", \"Topic3\", \"Topic3\", \"Topic3\", \"Topic3\", \"Topic3\", \"Topic3\", \"Topic3\", \"Topic3\", \"Topic3\", \"Topic3\", \"Topic3\", \"Topic3\", \"Topic3\", \"Topic3\", \"Topic3\", \"Topic3\", \"Topic3\", \"Topic3\", \"Topic3\", \"Topic3\", \"Topic3\", \"Topic3\", \"Topic3\", \"Topic3\", \"Topic3\", \"Topic3\", \"Topic3\", \"Topic3\", \"Topic3\", \"Topic3\", \"Topic3\", \"Topic3\", \"Topic3\", \"Topic3\", \"Topic3\", \"Topic3\", \"Topic3\", \"Topic3\", \"Topic3\", \"Topic3\", \"Topic3\", \"Topic3\", \"Topic3\", \"Topic3\", \"Topic3\", \"Topic3\", \"Topic3\", \"Topic3\", \"Topic3\", \"Topic3\", \"Topic3\", \"Topic3\", \"Topic3\", \"Topic3\", \"Topic3\", \"Topic3\", \"Topic3\", \"Topic3\", \"Topic3\", \"Topic3\", \"Topic3\", \"Topic3\", \"Topic4\", \"Topic4\", \"Topic4\", \"Topic4\", \"Topic4\", \"Topic4\", \"Topic4\", \"Topic4\", \"Topic4\", \"Topic4\", \"Topic4\", \"Topic4\", \"Topic4\", \"Topic4\", \"Topic4\", \"Topic4\", \"Topic4\", \"Topic4\", \"Topic4\", \"Topic4\", \"Topic4\", \"Topic4\", \"Topic4\", \"Topic4\", \"Topic4\", \"Topic4\", \"Topic4\", \"Topic4\", \"Topic4\", \"Topic4\", \"Topic4\", \"Topic4\", \"Topic4\", \"Topic4\", \"Topic4\", \"Topic4\", \"Topic4\", \"Topic4\", \"Topic4\", \"Topic4\", \"Topic4\", \"Topic4\", \"Topic4\", \"Topic4\", \"Topic4\", \"Topic4\", \"Topic4\", \"Topic4\", \"Topic4\", \"Topic4\", \"Topic4\", \"Topic4\", \"Topic4\", \"Topic4\", \"Topic4\", \"Topic4\", \"Topic4\", \"Topic4\", \"Topic4\", \"Topic4\", \"Topic4\", \"Topic4\", \"Topic4\", \"Topic4\", \"Topic5\", \"Topic5\", \"Topic5\", \"Topic5\", \"Topic5\", \"Topic5\", \"Topic5\", \"Topic5\", \"Topic5\", \"Topic5\", \"Topic5\", \"Topic5\", \"Topic5\", \"Topic5\", \"Topic5\", \"Topic5\", \"Topic5\", \"Topic5\", \"Topic5\", \"Topic5\", \"Topic5\", \"Topic5\", \"Topic5\", \"Topic5\", \"Topic5\", \"Topic5\", \"Topic5\", \"Topic5\", \"Topic5\", \"Topic5\", \"Topic5\", \"Topic5\", \"Topic5\", \"Topic5\", \"Topic5\", \"Topic5\", \"Topic5\", \"Topic5\", \"Topic5\", \"Topic5\", \"Topic5\", \"Topic5\", \"Topic5\", \"Topic5\", \"Topic5\", \"Topic5\", \"Topic5\", \"Topic5\", \"Topic5\", \"Topic5\", \"Topic5\", \"Topic5\", \"Topic5\", \"Topic5\", \"Topic5\", \"Topic5\", \"Topic5\", \"Topic5\", \"Topic5\", \"Topic5\", \"Topic5\", \"Topic5\", \"Topic5\", \"Topic5\", \"Topic5\", \"Topic5\", \"Topic5\", \"Topic5\", \"Topic5\", \"Topic5\", \"Topic5\", \"Topic5\"], \"logprob\": [30.0, 29.0, 28.0, 27.0, 26.0, 25.0, 24.0, 23.0, 22.0, 21.0, 20.0, 19.0, 18.0, 17.0, 16.0, 15.0, 14.0, 13.0, 12.0, 11.0, 10.0, 9.0, 8.0, 7.0, 6.0, 5.0, 4.0, 3.0, 2.0, 1.0, -6.261300086975098, -6.45359992980957, -6.529900074005127, -6.604899883270264, -6.689599990844727, -6.689799785614014, -6.78410005569458, -6.051599979400635, -6.886499881744385, -6.8881001472473145, -7.132400035858154, -7.133200168609619, -7.133500099182129, -7.281499862670898, -7.282199859619141, -7.2829999923706055, -7.283599853515625, -7.286099910736084, -7.457499980926514, -7.457600116729736, -7.458199977874756, -7.458600044250488, -7.459099769592285, -7.459199905395508, -7.459799766540527, -7.460000038146973, -7.460400104522705, -7.461599826812744, -7.462299823760986, -7.462399959564209, -6.88730001449585, -6.38670015335083, -6.387700080871582, -6.893700122833252, -6.056600093841553, -7.0015997886657715, -7.0015997886657715, -7.003300189971924, -6.320099830627441, -6.524899959564209, -6.355999946594238, -6.453999996185303, -5.552599906921387, -5.922599792480469, -6.151100158691406, -6.242300033569336, -6.208199977874756, -5.131199836730957, -6.098700046539307, -5.8942999839782715, -6.005300045013428, -6.371799945831299, -5.631999969482422, -6.2067999839782715, -5.780200004577637, -5.353600025177002, -6.320300102233887, -6.321800231933594, -6.020899772644043, -5.903600215911865, -5.882500171661377, -6.14169979095459, -5.9720001220703125, -6.2606000900268555, -6.052000045776367, -5.917300224304199, -6.282100200653076, -6.226900100708008, -6.126500129699707, -6.2941999435424805, -6.319799900054932, -6.038300037384033, -6.127099990844727, -5.519199848175049, -6.296999931335449, -6.2972002029418945, -6.400199890136719, -6.5152997970581055, -6.515600204467773, -6.645100116729736, -6.646699905395508, -6.795000076293945, -6.799300193786621, -6.800600051879883, -6.802700042724609, -6.8069000244140625, -6.807600021362305, -6.968599796295166, -5.454699993133545, -6.969399929046631, -6.96999979019165, -6.970699787139893, -6.970900058746338, -6.971499919891357, -6.973100185394287, -6.975200176239014, -6.9781999588012695, -7.182000160217285, -7.183700084686279, -7.184000015258789, -7.184199810028076, -5.965099811553955, -5.833700180053711, -6.515699863433838, -6.298799991607666, -6.094799995422363, -5.948200225830078, -5.391300201416016, -6.187399864196777, -5.833799839019775, -5.898499965667725, -5.176499843597412, -6.7480998039245605, -6.296599864959717, -5.673799991607666, -6.115699768066406, -5.8180999755859375, -6.201900005340576, -5.698500156402588, -5.972799777984619, -6.122900009155273, -5.555500030517578, -5.999499797821045, -6.29610013961792, -5.946499824523926, -6.125899791717529, -5.827300071716309, -5.882199764251709, -6.22189998626709, -6.256999969482422, -6.288300037384033, -6.289400100708008, -5.900199890136719, -5.901400089263916, -5.990099906921387, -6.294400215148926, -5.442399978637695, -5.446000099182129, -6.4243998527526855, -6.573699951171875, -6.749899864196777, -6.961599826812744, -6.961699962615967, -6.962600231170654, -6.962399959564209, -6.962399959564209, -6.9629998207092285, -6.963500022888184, -6.963600158691406, -6.963799953460693, -6.964099884033203, -6.964300155639648, -6.968500137329102, -5.495999813079834, -6.291999816894531, -7.229800224304199, -7.232900142669678, -7.233500003814697, -7.233799934387207, -7.23360013961792, -7.234000205993652, -7.234300136566162, -6.571599960327148, -6.297800064086914, -6.747600078582764, -6.422999858856201, -6.426499843597412, -4.64109992980957, -6.749800205230713, -5.506899833679199, -6.424799919128418, -5.611800193786621, -5.896999835968018, -5.558800220489502, -6.293900012969971, -5.8165998458862305, -5.000899791717529, -6.177299976348877, -6.2947001457214355, -5.3867998123168945, -6.763400077819824, -6.571599960327148, -6.188600063323975, -6.07420015335083, -6.174499988555908, -5.763999938964844, -6.17710018157959, -6.199100017547607, -6.099800109863281, -6.173699855804443, -6.0655999183654785, -6.219699859619141, -6.1697001457214355, -6.166500091552734, -6.285699844360352, -6.28849983215332, -6.289299964904785, -6.332600116729736, -6.867700099945068, -6.868100166320801, -5.980100154876709, -6.868800163269043, -6.869200229644775, -6.86929988861084, -6.86959981918335, -6.869699954986572, -6.870699882507324, -6.870800018310547, -6.870999813079834, -6.871099948883057, -6.871300220489502, -6.872099876403809, -5.649899959564209, -7.139500141143799, -7.139800071716309, -7.1402997970581055, -7.140600204467773, -7.140900135040283, -7.140900135040283, -7.140999794006348, -7.141499996185303, -7.141499996185303, -7.142000198364258, -7.141900062561035, -7.142000198364258, -7.142399787902832, -7.1427001953125, -6.4770002365112305, -5.345799922943115, -5.722300052642822, -6.332900047302246, -6.086999893188477, -5.98390007019043, -6.866399765014648, -5.886199951171875, -6.325300216674805, -6.199999809265137, -5.6493000984191895, -5.583099842071533, -6.329800128936768, -6.3267998695373535, -5.3993000984191895, -5.517300128936768, -5.24429988861084, -5.73330020904541, -5.240200042724609, -5.72160005569458, -5.884699821472168, -5.6539998054504395, -6.477200031280518, -6.196899890899658, -5.884500026702881, -6.083700180053711, -6.195400238037109, -6.325799942016602, -6.193999767303467, -6.325300216674805, -6.296599864959717, -6.319399833679199, -6.325799942016602, -6.326300144195557, -6.441999912261963, -6.442599773406982, -6.831299781799316, -6.8343000411987305, -7.103799819946289, -7.104700088500977, -7.105400085449219, -7.1057000160217285, -7.105500221252441, -7.106100082397461, -7.10699987411499, -6.29610013961792, -6.293099880218506, -7.476500034332275, -7.476500034332275, -7.476799964904785, -7.477200031280518, -7.47760009765625, -7.47760009765625, -7.47760009765625, -7.478099822998047, -7.478400230407715, -7.478499889373779, -7.478499889373779, -7.478499889373779, -7.478600025177002, -7.478700160980225, -7.478799819946289, -7.478799819946289, -7.479000091552734, -6.831999778747559, -6.836100101470947, -4.964600086212158, -6.44320011138916, -5.423999786376953, -6.832200050354004, -6.832399845123291, -6.291299819946289, -6.6178998947143555, -6.622600078582764, -6.167200088500977, -6.83050012588501, -5.61269998550415, -6.618100166320801, -5.9430999755859375, -6.6184000968933105, -7.10230016708374, -6.160900115966797, -6.049200057983398, -5.848899841308594, -5.848100185394287, -5.679299831390381, -6.161099910736084, -5.8531999588012695, -6.4440999031066895, -6.0482001304626465, -5.942399978637695, -5.53410005569458, -6.4405999183654785, -5.539000034332275, -6.160200119018555, -6.159800052642822, -6.2906999588012695, -6.294899940490723, -6.286499977111816, -6.157700061798096, -6.291800022125244, -6.286399841308594, -6.152900218963623, -6.15310001373291, -6.282400131225586, -6.284999847412109], \"loglift\": [30.0, 29.0, 28.0, 27.0, 26.0, 25.0, 24.0, 23.0, 22.0, 21.0, 20.0, 19.0, 18.0, 17.0, 16.0, 15.0, 14.0, 13.0, 12.0, 11.0, 10.0, 9.0, 8.0, 7.0, 6.0, 5.0, 4.0, 3.0, 2.0, 1.0, 0.9223999977111816, 0.9142000079154968, 0.9079999923706055, 0.9075000286102295, 0.9036999940872192, 0.9035999774932861, 0.897599995136261, 0.8956000208854675, 0.891700029373169, 0.8902999758720398, 0.8730999827384949, 0.8723999857902527, 0.8720999956130981, 0.8603000044822693, 0.8597000241279602, 0.8589000105857849, 0.8585000038146973, 0.8561999797821045, 0.8421000242233276, 0.8420000076293945, 0.8416000008583069, 0.8410000205039978, 0.8407999873161316, 0.8406000137329102, 0.8402000069618225, 0.839900016784668, 0.8396999835968018, 0.838699996471405, 0.8381999731063843, 0.8378999829292297, 0.8170999884605408, 0.7791000008583069, 0.7753000259399414, 0.8061000108718872, 0.7329999804496765, 0.801800012588501, 0.8001000285148621, 0.8001999855041504, 0.7095999717712402, 0.7067000269889832, 0.6650999784469604, 0.6804999709129333, 0.4659000039100647, 0.5478000044822693, 0.5913000106811523, 0.6044999957084656, 0.5956000089645386, 0.29919999837875366, 0.5339000225067139, 0.46000000834465027, 0.48420000076293945, 0.609499990940094, 0.3257000148296356, 0.5209000110626221, 0.32120001316070557, 0.0272000003606081, 0.5314000248908997, 0.5278000235557556, 0.25110000371932983, 0.11959999799728394, 0.09149999916553497, 0.3456000089645386, 0.10989999771118164, 0.4415999948978424, 0.1168999969959259, -0.1624000072479248, 0.3950999975204468, 0.1543000042438507, -0.28999999165534973, -0.009999999776482582, 0.4336000084877014, 1.503999948501587, 1.4883999824523926, 1.4882999658584595, 1.4874999523162842, 1.4874000549316406, 1.4800000190734863, 1.4709999561309814, 1.4708000421524048, 1.4595999717712402, 1.4581999778747559, 1.444200038909912, 1.4392000436782837, 1.4378999471664429, 1.4355000257492065, 1.430799961090088, 1.4299999475479126, 1.4259999990463257, 1.4259999990463257, 1.4253000020980835, 1.4247000217437744, 1.4241000413894653, 1.423799991607666, 1.4229999780654907, 1.4211000204086304, 1.4189000129699707, 1.4155999422073364, 1.3967000246047974, 1.3950999975204468, 1.3947999477386475, 1.3945000171661377, 1.3312000036239624, 1.3157999515533447, 1.3529000282287598, 1.3387999534606934, 1.3095999956130981, 1.2086000442504883, 1.0814000368118286, 1.2194000482559204, 1.0728000402450562, 1.0852999687194824, 0.7975000143051147, 1.347100019454956, 1.1789000034332275, 0.8282999992370605, 1.0312999486923218, 0.8174999952316284, 1.0529999732971191, 0.5734999775886536, 0.7838000059127808, 0.8367999792098999, 0.19939999282360077, 0.6669999957084656, 0.9423999786376953, 0.13539999723434448, 0.5004000067710876, -0.3968999981880188, -0.5013999938964844, 0.2653999924659729, -0.2994000017642975, 0.3294999897480011, -0.12049999833106995, 1.8037999868392944, 1.8033000230789185, 1.7928999662399292, 1.7768000364303589, 1.773300051689148, 1.7690000534057617, 1.7640000581741333, 1.7475999593734741, 1.7243000268936157, 1.6937999725341797, 1.6936999559402466, 1.6928000450134277, 1.6927000284194946, 1.6927000284194946, 1.6921000480651855, 1.6917999982833862, 1.691499948501587, 1.691499948501587, 1.6912000179290771, 1.691100001335144, 1.6856000423431396, 1.6532000303268433, 1.651900053024292, 1.6467000246047974, 1.6434999704360962, 1.642699956893921, 1.6425000429153442, 1.6424000263214111, 1.642300009727478, 1.6419999599456787, 1.6231000423431396, 1.5851000547409058, 1.5835000276565552, 1.5254000425338745, 1.5184999704360962, 1.1952999830245972, 1.5573999881744385, 0.995199978351593, 1.4084999561309814, 0.9625999927520752, 1.1160000562667847, 0.9085000157356262, 1.312600016593933, 1.0082999467849731, 0.3799000084400177, 1.1029000282287598, 1.1854000091552734, 0.36809998750686646, 1.5235999822616577, 1.3529000282287598, 0.9477999806404114, 0.6888999938964844, 0.8052999973297119, 0.19370000064373016, 0.7796000242233276, 0.7325000166893005, 0.28130000829696655, 0.5133000016212463, 0.016300000250339508, 0.5724999904632568, 0.1145000010728836, -0.7361000180244446, 0.7893999814987183, 0.30970001220703125, 0.8644999861717224, 1.8995000123977661, 1.8277000188827515, 1.8272000551223755, 1.8272000551223755, 1.8265000581741333, 1.8259999752044678, 1.8258999586105347, 1.8255000114440918, 1.8253999948501587, 1.8243999481201172, 1.8241000175476074, 1.8241000175476074, 1.823799967765808, 1.8236000537872314, 1.8228000402450562, 1.8193000555038452, 1.7741999626159668, 1.7740000486373901, 1.7733999490737915, 1.7731000185012817, 1.7727999687194824, 1.7726999521255493, 1.7726000547409058, 1.7721999883651733, 1.7720999717712402, 1.7716000080108643, 1.7716000080108643, 1.7714999914169312, 1.7711999416351318, 1.770900011062622, 1.7489999532699585, 1.5426000356674194, 1.521299958229065, 1.507599949836731, 1.4163999557495117, 1.301900029182434, 1.6531000137329102, 1.2100000381469727, 1.406999945640564, 1.3169000148773193, 0.9769999980926514, 0.8873000144958496, 1.2790000438690186, 1.2694000005722046, 0.6240000128746033, 0.5841000080108643, 0.18610000610351562, 0.6769999861717224, 0.14059999585151672, 0.5626999735832214, 0.7135000228881836, 0.10090000182390213, 1.280900001525879, 0.7627999782562256, 0.19740000367164612, 0.4203999936580658, 0.5322999954223633, 0.7605999708175659, -0.025200000032782555, 0.37689998745918274, -0.4602000117301941, -0.30079999566078186, 0.33329999446868896, 0.36090001463890076, 1.9394999742507935, 1.9388999938964844, 1.8801000118255615, 1.8768999576568604, 1.8249000310897827, 1.8238999843597412, 1.8233000040054321, 1.823099970817566, 1.8229999542236328, 1.8223999738693237, 1.8213000297546387, 1.8181999921798706, 1.80649995803833, 1.7303999662399292, 1.7302000522613525, 1.7297999858856201, 1.7293000221252441, 1.729099988937378, 1.7288000583648682, 1.7288000583648682, 1.7285000085830688, 1.7283999919891357, 1.7282999753952026, 1.7282999753952026, 1.7282999753952026, 1.7281999588012695, 1.7280999422073364, 1.7280000448226929, 1.7278000116348267, 1.7276999950408936, 1.6973999738693237, 1.6676000356674194, 1.4636000394821167, 1.6226999759674072, 1.4976999759674072, 1.6496000289916992, 1.6492999792099, 1.5615999698638916, 1.5850000381469727, 1.5836999416351318, 1.4132000207901, 1.5364999771118164, 1.1406999826431274, 1.4436999559402466, 1.2092000246047974, 1.4219000339508057, 1.5949000120162964, 1.1653000116348267, 0.9506999850273132, 0.7836999893188477, 0.7268000245094299, 0.4896000027656555, 0.9251999855041504, 0.6195999979972839, 1.1660000085830688, 0.7440999746322632, 0.5618000030517578, -0.10369999706745148, 1.1273000240325928, -0.1581999957561493, 0.6187999844551086, 0.5845999717712402, 0.8285999894142151, 0.796500027179718, 0.7491000294685364, 0.3319000005722046, 0.70169997215271, 0.6486999988555908, 0.131400004029274, -0.1298000067472458, 0.40470001101493835, -0.3273000121116638]}, \"token.table\": {\"Topic\": [5, 1, 1, 2, 4, 5, 5, 1, 2, 3, 4, 4, 5, 5, 5, 2, 5, 1, 2, 3, 4, 5, 1, 2, 3, 4, 5, 1, 3, 5, 1, 5, 5, 3, 3, 3, 4, 1, 2, 3, 4, 5, 2, 4, 1, 2, 3, 4, 5, 2, 3, 1, 2, 3, 4, 5, 2, 1, 2, 1, 3, 4, 5, 5, 1, 4, 5, 1, 4, 1, 3, 1, 5, 2, 1, 2, 3, 4, 5, 1, 2, 3, 4, 5, 1, 3, 3, 1, 3, 5, 1, 3, 5, 1, 2, 3, 4, 4, 1, 2, 3, 2, 3, 4, 1, 2, 3, 4, 2, 1, 2, 3, 4, 5, 1, 4, 1, 2, 4, 1, 2, 3, 4, 5, 3, 1, 5, 1, 5, 1, 5, 4, 3, 5, 1, 5, 2, 3, 4, 1, 2, 3, 4, 5, 3, 2, 5, 1, 1, 5, 3, 1, 2, 3, 4, 2, 3, 4, 1, 2, 4, 5, 1, 2, 3, 4, 5, 4, 1, 2, 3, 4, 5, 1, 2, 3, 4, 5, 1, 3, 4, 5, 4, 1, 5, 1, 2, 3, 4, 5, 4, 1, 2, 3, 4, 2, 1, 2, 3, 4, 5, 1, 3, 2, 1, 1, 3, 1, 2, 4, 3, 1, 2, 5, 3, 5, 1, 3, 5, 4, 5, 1, 2, 3, 4, 5, 3, 4, 1, 2, 3, 4, 5, 1, 4, 3, 1, 2, 1, 2, 3, 5, 1, 1, 2, 3, 4, 5, 3, 1, 1, 2, 3, 4, 5, 1, 2, 3, 4, 5, 1, 2, 5, 1, 2, 5, 1, 1, 2, 5, 1, 2, 3, 4, 5, 1, 4, 1, 2, 3, 4, 5, 1, 3, 4, 5, 5, 1, 2, 4, 4, 2, 1, 2, 5, 1, 2, 3, 5, 1, 2, 3, 4, 5, 4, 1, 2, 3, 4, 5, 5, 3, 3, 3, 2, 3, 1, 3, 2, 1, 2, 3, 5, 1, 2, 3, 4, 5, 1, 2, 3, 4, 5, 2, 5, 1, 4, 4, 4, 5, 1, 5, 1, 2, 3, 4, 5, 1, 3, 4, 5, 4, 1, 5, 2, 2, 5, 1, 1, 2, 3, 4, 5, 1, 2, 3, 2, 1, 2, 3, 4, 5, 1, 3, 4, 1, 2, 3, 4, 5, 1, 5, 2, 4, 5, 1, 3, 3, 5, 5, 1, 2, 4, 5, 1, 2, 3, 4, 1, 3, 1, 2, 3, 4, 5, 2, 1, 2, 4, 5, 1, 2, 4, 5, 1, 3, 4, 5, 1, 2, 3, 4, 5, 1, 2, 3, 4, 5, 2, 3, 4, 3, 4, 2, 1, 2, 3, 4, 5, 1, 5, 5, 1, 2, 3, 4, 1, 2, 3, 4, 5, 1, 3, 4, 2, 1, 2, 4, 5, 4, 3, 5, 1, 1, 1, 2, 3, 4, 5, 2, 2, 1, 2, 4, 1, 5, 1, 2, 3, 4, 5, 1, 2, 3, 4, 5, 2, 1, 3, 4, 5, 1, 3, 4, 5, 1, 2, 3, 4, 5, 4, 1, 2, 4, 5, 5, 5, 2, 3, 4, 5, 1, 2, 5, 5, 1, 2, 4, 5, 1, 5, 1, 2, 3, 4, 5, 5, 2, 1, 5, 1, 2, 3, 4, 5, 1, 1, 2, 4, 5, 1, 1, 5, 2, 4, 2, 1, 2, 1, 2, 3, 1, 4, 5, 4, 5, 2, 1, 2, 1, 2, 4, 5, 1, 3, 3, 1, 4, 4, 3, 1, 2, 4, 1, 2, 4, 5, 1, 2, 3, 4, 5, 1, 2, 3, 1, 2, 3, 4, 5, 1, 2, 3, 1, 2, 3, 4, 5, 1, 2, 3, 4, 5, 1, 2, 3, 1, 2, 3, 4, 5, 5, 1, 2, 3, 4, 5, 1, 2, 3, 4, 3, 5, 4, 1, 3, 4, 5, 1, 2, 3, 4, 5, 4, 3, 1, 3, 1, 3, 4, 5, 1, 2, 3, 4, 5, 1, 4, 5, 4, 1, 5, 1, 1, 2, 3, 4, 5, 4, 4, 3, 1, 2, 3, 4, 5, 2, 4, 3], \"Freq\": [0.5029919743537903, 0.8126692175865173, 0.294718861579895, 0.1473594307899475, 0.5157579779624939, 0.07367971539497375, 0.5030375123023987, 0.14289164543151855, 0.5715665817260742, 0.14289164543151855, 0.14289164543151855, 0.759103536605835, 0.2530345022678375, 0.5030787587165833, 0.5030697584152222, 0.892765462398529, 0.5029956102371216, 0.21207894384860992, 0.3181184232234955, 0.3181184232234955, 0.05301973596215248, 0.05301973596215248, 0.37982234358787537, 0.1627810150384903, 0.3255620300769806, 0.10852067172527313, 0.054260335862636566, 0.18435584008693695, 0.18435584008693695, 0.5530675053596497, 0.9852545857429504, 0.5030997395515442, 0.5029074549674988, 0.8695094585418701, 0.8695624470710754, 0.8955210447311401, 0.7503777146339417, 0.5185014605522156, 0.11271771043539047, 0.04508708417415619, 0.24797897040843964, 0.09017416834831238, 0.8907890319824219, 0.7504833936691284, 0.3617400527000427, 0.07234801352024078, 0.3979140818119049, 0.10852202028036118, 0.10852202028036118, 0.8931189179420471, 0.969147264957428, 0.561245858669281, 0.24053393304347992, 0.12026696652173996, 0.04008898884057999, 0.04008898884057999, 0.8932657837867737, 0.9018806219100952, 0.9346471428871155, 0.46032166481018066, 0.07672027498483658, 0.07672027498483658, 0.3836013972759247, 0.7619064450263977, 0.8123430013656616, 0.2555490732192993, 0.766647219657898, 0.3849368393421173, 0.6415613889694214, 0.06864653527736664, 0.8924049735069275, 0.9453080296516418, 0.0525171123445034, 0.8907234072685242, 0.3550749719142914, 0.1775374859571457, 0.1775374859571457, 0.08876874297857285, 0.2219218611717224, 0.258289098739624, 0.064572274684906, 0.38743364810943604, 0.258289098739624, 0.064572274684906, 0.20051974058151245, 0.6015592217445374, 0.869265615940094, 0.684625506401062, 0.1711563766002655, 0.12836727499961853, 0.8471148014068604, 0.13032536208629608, 0.06516268104314804, 0.3906397521495819, 0.47744861245155334, 0.08680883795022964, 0.04340441897511482, 0.9049392938613892, 0.27884534001350403, 0.27884534001350403, 0.41826802492141724, 0.8355748057365417, 0.7314537167549133, 0.18286342918872833, 0.19239835441112518, 0.5771951079368591, 0.12826557457447052, 0.12826557457447052, 0.9552004933357239, 0.2538476586341858, 0.1269238293170929, 0.3807715177536011, 0.19038575887680054, 0.06346191465854645, 0.6519773602485657, 0.32598868012428284, 0.06429408490657806, 0.7715290188789368, 0.12858816981315613, 0.6314108967781067, 0.13292860984802246, 0.033232152462005615, 0.033232152462005615, 0.16616076231002808, 0.9696987867355347, 0.8654457926750183, 0.12363511323928833, 0.32148969173431396, 0.6429793834686279, 0.5802853107452393, 0.38685688376426697, 0.9049797058105469, 0.7230365872383118, 0.5029078125953674, 0.6057220101356506, 0.3893927037715912, 0.5621989965438843, 0.2108246237039566, 0.2108246237039566, 0.325021892786026, 0.162510946393013, 0.3900262713432312, 0.0650043785572052, 0.0650043785572052, 0.8692753314971924, 0.36997726559638977, 0.5549659132957458, 0.8675663471221924, 0.8127884268760681, 0.9195820689201355, 0.7230347394943237, 0.2521335482597351, 0.6051204800605774, 0.10085341334342957, 0.05042670667171478, 0.30462801456451416, 0.6092560291290283, 0.10154266655445099, 0.24142707884311676, 0.36214062571525574, 0.30178385972976685, 0.12071353942155838, 0.15241475403308868, 0.34293317794799805, 0.11431106179952621, 0.34293317794799805, 0.03810368850827217, 0.904617965221405, 0.3461174964904785, 0.4614899754524231, 0.07691499590873718, 0.07691499590873718, 0.5030093193054199, 0.4472534656524658, 0.11926759779453278, 0.20871828496456146, 0.08945069462060928, 0.11926759779453278, 0.40199658274650574, 0.10049914568662643, 0.5024957060813904, 0.10049914568662643, 0.9047872424125671, 0.8123381733894348, 0.7618097066879272, 0.3376975357532501, 0.15349887311458588, 0.15349887311458588, 0.2455981969833374, 0.09209932386875153, 0.75044184923172, 0.3966543674468994, 0.3966543674468994, 0.07933087646961212, 0.11899631470441818, 0.9707098007202148, 0.4200204908847809, 0.24316975474357605, 0.15474438667297363, 0.15474438667297363, 0.022106340155005455, 0.813007652759552, 0.8693252205848694, 0.9558581709861755, 0.8125393986701965, 0.14229781925678253, 0.8537868857383728, 0.9645035862922668, 0.8357441425323486, 0.7505801320075989, 0.8695632815361023, 0.16008742153644562, 0.32017484307289124, 0.48026227951049805, 0.8382611274719238, 0.20956528186798096, 0.84952712059021, 0.06534823775291443, 0.06534823775291443, 0.7505863904953003, 0.8816803097724915, 0.4378030598163605, 0.1459343433380127, 0.08339105546474457, 0.2501731812953949, 0.10423882305622101, 0.869443416595459, 0.9045935273170471, 0.29400476813316345, 0.08647199720144272, 0.501537561416626, 0.08647199720144272, 0.05188319459557533, 0.9081153869628906, 0.7504716515541077, 0.8694977164268494, 0.2590550482273102, 0.7124013900756836, 0.1789703518152237, 0.08948517590761185, 0.5369110703468323, 0.26845553517341614, 0.867249071598053, 0.056093886494636536, 0.39265719056129456, 0.4487510919570923, 0.056093886494636536, 0.056093886494636536, 0.7231559753417969, 0.8126427531242371, 0.6669263243675232, 0.09527519345283508, 0.04763759672641754, 0.09527519345283508, 0.09527519345283508, 0.6825459003448486, 0.04550306126475334, 0.18201224505901337, 0.04550306126475334, 0.04550306126475334, 0.8671050667762756, 0.16872535645961761, 0.8436267971992493, 0.706472635269165, 0.21737618744373322, 0.054344046860933304, 0.9242088794708252, 0.6518822312355042, 0.07669202238321304, 0.26842209696769714, 0.3947533965110779, 0.13158446550369263, 0.21930743753910065, 0.15351520478725433, 0.10965371876955032, 0.8074560761451721, 0.17943468689918518, 0.6096324324607849, 0.20321080088615417, 0.08709034323692322, 0.02903011441230774, 0.08709034323692322, 0.40489253401756287, 0.24293550848960876, 0.1619570106267929, 0.1619570106267929, 0.5029484629631042, 0.16591781377792358, 0.7466301321983337, 0.08295890688896179, 0.9490907788276672, 0.8933081030845642, 0.16342224180698395, 0.5992148518562317, 0.21789631247520447, 0.13070949912071228, 0.6208701133728027, 0.03267737478017807, 0.2287416160106659, 0.404645711183548, 0.0674409568309784, 0.1348819136619568, 0.202322855591774, 0.202322855591774, 0.750528872013092, 0.15953399240970612, 0.47860199213027954, 0.05317799746990204, 0.2658900022506714, 0.05317799746990204, 0.7617562413215637, 0.7230165600776672, 0.8961378335952759, 0.9672799706459045, 0.8925364017486572, 0.9084916710853577, 0.19282527267932892, 0.7713010907173157, 0.8932828903198242, 0.06730321794748306, 0.47112253308296204, 0.40381932258605957, 0.03365160897374153, 0.47243598103523254, 0.11810899525880814, 0.15747866034507751, 0.1968483328819275, 0.07873933017253876, 0.3619106113910675, 0.20680606365203857, 0.31020909547805786, 0.051701515913009644, 0.051701515913009644, 0.24905645847320557, 0.7471693754196167, 0.12412046641111374, 0.8688432574272156, 0.904880940914154, 0.7504955530166626, 0.5031762719154358, 0.9080071449279785, 0.7618706226348877, 0.07063382118940353, 0.14126764237880707, 0.14126764237880707, 0.6357043981552124, 0.07063382118940353, 0.7985416650772095, 0.1140773817896843, 0.05703869089484215, 0.05703869089484215, 0.7505795955657959, 0.8958619832992554, 0.11198274791240692, 0.9551512002944946, 0.8933412432670593, 0.9194695949554443, 0.9079616665840149, 0.5271390676498413, 0.15618935227394104, 0.17571303248405457, 0.03904733806848526, 0.09761834889650345, 0.9314006567001343, 0.28490740060806274, 0.7122684717178345, 0.8054301142692566, 0.48122039437294006, 0.37428250908851624, 0.05346893146634102, 0.05346893146634102, 0.02673446573317051, 0.1429351270198822, 0.7146756052970886, 0.1429351270198822, 0.5185570120811462, 0.13828186690807343, 0.06914093345403671, 0.16132883727550507, 0.11523488909006119, 0.1662587672472, 0.8312938213348389, 0.23030602931976318, 0.575765073299408, 0.23030602931976318, 0.0686938539147377, 0.8930200934410095, 0.8032451272010803, 0.13387419283390045, 0.5030971169471741, 0.46697843074798584, 0.155659481883049, 0.155659481883049, 0.25943246483802795, 0.0744590163230896, 0.8190492391586304, 0.0744590163230896, 0.0744590163230896, 0.8671589493751526, 0.869568943977356, 0.3859027624130249, 0.08575616776943207, 0.21439042687416077, 0.08575616776943207, 0.21439042687416077, 0.9221419095993042, 0.18320158123970032, 0.09160079061985016, 0.5496047735214233, 0.18320158123970032, 0.668296217918396, 0.09547089040279388, 0.09547089040279388, 0.14320634305477142, 0.6325176954269409, 0.08433569222688675, 0.21083922684192657, 0.042167846113443375, 0.4340721070766449, 0.19292093813419342, 0.048230234533548355, 0.12057558447122574, 0.19292093813419342, 0.20381830632686615, 0.20381830632686615, 0.10190915316343307, 0.10190915316343307, 0.4076366126537323, 0.5129055380821228, 0.4396333396434784, 0.7503809332847595, 0.18866774439811707, 0.7546709775924683, 0.9544363021850586, 0.34949666261672974, 0.21843542158603668, 0.3058095872402191, 0.13106125593185425, 0.04368708282709122, 0.4700263440608978, 0.4700263440608978, 0.7616480588912964, 0.20356352627277374, 0.20356352627277374, 0.20356352627277374, 0.5089088082313538, 0.29637396335601807, 0.11114023625850677, 0.22228047251701355, 0.259327232837677, 0.14818698167800903, 0.7600094079971313, 0.06333411484956741, 0.19000235199928284, 0.8934019804000854, 0.5305063128471375, 0.2652531564235687, 0.09946993738412857, 0.09946993738412857, 0.7504745125770569, 0.3022219240665436, 0.6044438481330872, 0.9597563147544861, 0.8124743700027466, 0.10239429771900177, 0.10239429771900177, 0.15359145402908325, 0.051197148859500885, 0.5631686449050903, 0.9549370408058167, 0.9543747305870056, 0.1781611442565918, 0.7126445770263672, 0.0890805721282959, 0.9019237756729126, 0.5030747652053833, 0.35810211300849915, 0.11936737596988678, 0.35810211300849915, 0.05968368798494339, 0.17905105650424957, 0.2698705792427063, 0.13493528962135315, 0.2698705792427063, 0.04497842863202095, 0.2698705792427063, 0.8928209543228149, 0.3544989228248596, 0.11816630512475967, 0.4726652204990387, 0.11816630512475967, 0.43664562702178955, 0.18713383376598358, 0.062377944588661194, 0.31188973784446716, 0.6017305850982666, 0.16599462926387787, 0.08299731463193893, 0.10374664515256882, 0.06224798783659935, 0.9047676920890808, 0.09892312437295914, 0.19784624874591827, 0.19784624874591827, 0.4946156144142151, 0.7619075775146484, 0.5030941367149353, 0.9522472620010376, 0.21722783148288727, 0.21722783148288727, 0.651683509349823, 0.7677106857299805, 0.06979188323020935, 0.1395837664604187, 0.7617778182029724, 0.09769350290298462, 0.19538700580596924, 0.29308050870895386, 0.3907740116119385, 0.865634024143219, 0.12366200238466263, 0.22003093361854553, 0.05500773340463638, 0.2750386595726013, 0.16502319276332855, 0.2750386595726013, 0.5029885172843933, 0.8053663372993469, 0.24363349378108978, 0.7309004664421082, 0.41558772325515747, 0.3022456169128418, 0.1511228084564209, 0.07556140422821045, 0.07556140422821045, 0.8123401403427124, 0.7125205993652344, 0.047501374036073685, 0.047501374036073685, 0.14250412583351135, 0.9436444640159607, 0.24365262687206268, 0.7309578657150269, 0.8054083585739136, 0.9047225713729858, 0.9706375598907471, 0.13196344673633575, 0.7917806506156921, 0.13955441117286682, 0.27910882234573364, 0.5582176446914673, 0.08851340413093567, 0.7966206669807434, 0.08851340413093567, 0.904877245426178, 0.5030843615531921, 0.805440366268158, 0.16554397344589233, 0.8277198672294617, 0.7350842952728271, 0.1696348339319229, 0.056544944643974304, 0.056544944643974304, 0.8917496800422668, 0.11146871000528336, 0.8694903254508972, 0.8640439510345459, 0.12343485653400421, 0.9048054814338684, 0.7229962944984436, 0.9647407531738281, 0.9483268857002258, 0.05578393489122391, 0.18754388391971588, 0.25005850195884705, 0.03125731274485588, 0.5313743352890015, 0.41675594449043274, 0.4564470052719116, 0.03969104215502739, 0.059536565095186234, 0.019845521077513695, 0.127391055226326, 0.254782110452652, 0.6369553208351135, 0.3981172442436218, 0.07238495349884033, 0.14476990699768066, 0.1085774302482605, 0.25334733724594116, 0.04913867637515068, 0.8844961524009705, 0.04913867637515068, 0.37890058755874634, 0.0811929851770401, 0.1623859703540802, 0.2435789555311203, 0.13532164692878723, 0.40159595012664795, 0.057370852679014206, 0.11474170535802841, 0.17211255431175232, 0.28685426712036133, 0.8673287630081177, 0.20463158190250397, 0.8185263276100159, 0.3188095688819885, 0.25504767894744873, 0.22316670417785645, 0.14346431195735931, 0.04782143607735634, 0.8816383481025696, 0.30331286787986755, 0.12132515013217926, 0.12132515013217926, 0.1819877177476883, 0.30331286787986755, 0.1663065403699875, 0.7483794689178467, 0.1663065403699875, 0.9045666456222534, 0.8300851583480835, 0.5030278563499451, 0.9049509763717651, 0.3657422959804535, 0.1219141036272049, 0.42669937014579773, 0.06095705181360245, 0.24759747087955475, 0.04951949417591095, 0.04951949417591095, 0.5942339301109314, 0.04951949417591095, 0.7505673170089722, 0.8684611916542053, 0.8125381469726562, 0.8692996501922607, 0.5754852890968323, 0.1644243597984314, 0.20553044974803925, 0.04110608994960785, 0.33215540647506714, 0.22143694758415222, 0.055359236896038055, 0.055359236896038055, 0.33215540647506714, 0.6035788059234619, 0.06035788357257843, 0.30178940296173096, 0.9045982360839844, 0.3897150754928589, 0.6495251059532166, 0.8124644756317139, 0.8128581047058105, 0.1856810748577118, 0.0928405374288559, 0.4642026722431183, 0.1856810748577118, 0.7504910826683044, 0.750560462474823, 0.7229400277137756, 0.3239448666572571, 0.2429586499929428, 0.08098621666431427, 0.20246553421020508, 0.20246553421020508, 0.8380037546157837, 0.10475046932697296, 0.7227833271026611], \"Term\": [\"2\", \"4\", \"50\", \"50\", \"50\", \"50\", \"930\", \"abogados\", \"abogados\", \"abogados\", \"abogados\", \"accidentes\", \"accidentes\", \"achicado\", \"achicar\", \"aclarar\", \"activo\", \"adema\\u0301s\", \"adema\\u0301s\", \"adema\\u0301s\", \"adema\\u0301s\", \"adema\\u0301s\", \"afirmo\\u0301\", \"afirmo\\u0301\", \"afirmo\\u0301\", \"afirmo\\u0301\", \"afirmo\\u0301\", \"agencia\", \"agencia\", \"agencia\", \"agentes\", \"agnet\", \"alegatos\", \"alertas\", \"amenazas\", \"amia\", \"antiargentina\\u201d\", \"an\\u0303os\", \"an\\u0303os\", \"an\\u0303os\", \"an\\u0303os\", \"an\\u0303os\", \"apelaciones\", \"aplicacio\\u0301n\", \"argentina\", \"argentina\", \"argentina\", \"argentina\", \"argentina\", \"argumentos\", \"atentado\", \"ayer\", \"ayer\", \"ayer\", \"ayer\", \"ayer\", \"a\\u0301vila\", \"basi\\u0301lica\", \"bicentenario\", \"bien\", \"bien\", \"bien\", \"bien\", \"bioe\\u0301tica\", \"blanco\", \"boca\", \"boca\", \"bolivia\", \"bolivia\", \"bonadio\", \"bonadio\", \"bono\", \"bono\", \"camaristas\", \"cambiemos\", \"cambiemos\", \"cambiemos\", \"cambiemos\", \"cambiemos\", \"campan\\u0303a\", \"campan\\u0303a\", \"campan\\u0303a\", \"campan\\u0303a\", \"campan\\u0303a\", \"canciller\", \"canciller\", \"cancilleri\\u0301a\", \"candidato\", \"candidato\", \"candidato\", \"casi\", \"casi\", \"casi\", \"caso\", \"caso\", \"caso\", \"caso\", \"catalun\\u0303a\", \"causa\", \"causa\", \"causa\", \"cautelar\", \"cavallo\", \"cavallo\", \"ca\\u0301mara\", \"ca\\u0301mara\", \"ca\\u0301mara\", \"ca\\u0301mara\", \"celular\", \"cfk\", \"cfk\", \"cfk\", \"cfk\", \"cfk\", \"che\", \"che\", \"cidh\", \"cidh\", \"cidh\", \"ciento\", \"ciento\", \"ciento\", \"ciento\", \"ciento\", \"cito\\u0301\", \"clara\", \"clara\", \"cobertura\", \"cobertura\", \"colombi\", \"colombi\", \"convenio\", \"convocatoria\", \"cornejo\", \"corrientes\", \"corrientes\", \"corte\", \"corte\", \"corte\", \"cristina\", \"cristina\", \"cristina\", \"cristina\", \"cristina\", \"cronograma\", \"cruce\", \"cruce\", \"cuba\", \"cubana\", \"cus\", \"daia\", \"defensa\", \"defensa\", \"defensa\", \"defensa\", \"denuncia\", \"denuncia\", \"denuncia\", \"derecho\", \"derecho\", \"derecho\", \"derecho\", \"derechos\", \"derechos\", \"derechos\", \"derechos\", \"derechos\", \"desalojos\", \"desaparicio\\u0301n\", \"desaparicio\\u0301n\", \"desaparicio\\u0301n\", \"desaparicio\\u0301n\", \"desfile\", \"despue\\u0301s\", \"despue\\u0301s\", \"despue\\u0301s\", \"despue\\u0301s\", \"despue\\u0301s\", \"deuda\", \"deuda\", \"deuda\", \"deuda\", \"de\\u0301ficits\", \"dietrich\", \"diferencia\\u201d\", \"dijo\", \"dijo\", \"dijo\", \"dijo\", \"dijo\", \"distintos\", \"di\\u0301as\", \"di\\u0301as\", \"di\\u0301as\", \"di\\u0301as\", \"domiciliaria\", \"dos\", \"dos\", \"dos\", \"dos\", \"dos\", \"do\\u0301lares\", \"d\\u2019eli\\u0301a\", \"echeverri\\u0301a\", \"eco\", \"economi\\u0301a\", \"economi\\u0301a\", \"educacio\\u0301n\", \"eguiguren\", \"empresarios\", \"entendimiento\", \"escenario\", \"escenario\", \"escenario\", \"escrito\", \"escrito\", \"escrutinio\", \"escrutinio\", \"escrutinio\", \"espan\\u0303a\", \"especialista\", \"esta\\u0301\", \"esta\\u0301\", \"esta\\u0301\", \"esta\\u0301\", \"esta\\u0301\", \"esteche\", \"evo\", \"ex\", \"ex\", \"ex\", \"ex\", \"ex\", \"experiencia\", \"externa\", \"fallecido\", \"familia\", \"familia\", \"federal\", \"federal\", \"federal\", \"federal\", \"fidel\", \"fiscal\", \"fiscal\", \"fiscal\", \"fiscal\", \"fiscal\", \"fit\", \"fpv\", \"frente\", \"frente\", \"frente\", \"frente\", \"frente\", \"fuerza\", \"fuerza\", \"fuerza\", \"fuerza\", \"fuerza\", \"funes\", \"garrahan\", \"garrahan\", \"gendarmeri\\u0301a\", \"gendarmeri\\u0301a\", \"gendarmeri\\u0301a\", \"gendarmes\", \"gobernador\", \"gobernador\", \"gobernador\", \"gobierno\", \"gobierno\", \"gobierno\", \"gobierno\", \"gobierno\", \"guevara\", \"guevara\", \"habi\\u0301a\", \"habi\\u0301a\", \"habi\\u0301a\", \"habi\\u0301a\", \"habi\\u0301a\", \"hacer\", \"hacer\", \"hacer\", \"hacer\", \"haro\", \"hermano\", \"hermano\", \"hermano\", \"higuera\", \"homicidio\", \"hospital\", \"hospital\", \"hospital\", \"hospitales\", \"hospitales\", \"hospitales\", \"hospitales\", \"hoy\", \"hoy\", \"hoy\", \"hoy\", \"hoy\", \"huelga\", \"humanos\", \"humanos\", \"humanos\", \"humanos\", \"humanos\", \"ilusionan\", \"incidencia\", \"indagatoria\", \"interpol\", \"investigacio\\u0301n\\u201d\", \"irani\\u0301es\", \"ira\\u0301n\", \"ira\\u0301n\", \"ituzaingo\\u0301\", \"juez\", \"juez\", \"juez\", \"juez\", \"justicia\", \"justicia\", \"justicia\", \"justicia\", \"justicia\", \"kirchner\", \"kirchner\", \"kirchner\", \"kirchner\", \"kirchner\", \"kreplak\", \"kreplak\", \"laboral\", \"laboral\", \"laborales\", \"laboralistas\", \"lamentos\", \"latinoamericana\", \"lemus\", \"ley\", \"ley\", \"ley\", \"ley\", \"ley\", \"lista\", \"lista\", \"lista\", \"lista\", \"listado\", \"listas\", \"listas\", \"lleral\", \"llermanos\", \"lo\\u0301gica\", \"luja\\u0301n\", \"macri\", \"macri\", \"macri\", \"macri\", \"macri\", \"madres\", \"magistrado\", \"magistrado\", \"magistrados\", \"maldonado\", \"maldonado\", \"maldonado\", \"maldonado\", \"maldonado\", \"mandataria\", \"mandataria\", \"mandataria\", \"ma\\u0301s\", \"ma\\u0301s\", \"ma\\u0301s\", \"ma\\u0301s\", \"ma\\u0301s\", \"medicamentos\", \"medicamentos\", \"medicina\", \"medicina\", \"medicina\", \"memora\\u0301ndum\", \"memora\\u0301ndum\", \"menem\", \"menem\", \"meta\", \"mientras\", \"mientras\", \"mientras\", \"mientras\", \"milagro\", \"milagro\", \"milagro\", \"milagro\", \"militantes\", \"milla\\u0301n\", \"ministro\", \"ministro\", \"ministro\", \"ministro\", \"ministro\", \"mochila\", \"morales\", \"morales\", \"morales\", \"morales\", \"muerte\", \"muerte\", \"muerte\", \"muerte\", \"mundo\", \"mundo\", \"mundo\", \"mundo\", \"nacional\", \"nacional\", \"nacional\", \"nacional\", \"nacional\", \"nacio\\u0301n\", \"nacio\\u0301n\", \"nacio\\u0301n\", \"nacio\\u0301n\", \"nacio\\u0301n\", \"nisman\", \"nisman\", \"norma\", \"nuclear\", \"nuclear\", \"objetos\", \"octubre\", \"octubre\", \"octubre\", \"octubre\", \"octubre\", \"oficialista\", \"oficialista\", \"oligarqui\\u0301a\", \"organismos\", \"organismos\", \"organismos\", \"organismos\", \"pai\\u0301s\", \"pai\\u0301s\", \"pai\\u0301s\", \"pai\\u0301s\", \"pai\\u0301s\", \"pai\\u0301ses\", \"pai\\u0301ses\", \"pai\\u0301ses\", \"parlasur\", \"parte\", \"parte\", \"parte\", \"parte\", \"pasito\", \"pelea\", \"pelea\", \"pena\", \"peregrinacio\\u0301n\", \"peronismo\", \"peronismo\", \"peronismo\", \"peronismo\", \"peronismo\", \"personales\", \"pertenencias\", \"pesos\", \"pesos\", \"pesos\", \"plaza\", \"pmo\", \"poder\", \"poder\", \"poder\", \"poder\", \"poder\", \"poli\\u0301tica\", \"poli\\u0301tica\", \"poli\\u0301tica\", \"poli\\u0301tica\", \"poli\\u0301tica\", \"portaba\", \"posibilidad\", \"posibilidad\", \"posibilidad\", \"posibilidad\", \"prensa\", \"prensa\", \"prensa\", \"prensa\", \"presidente\", \"presidente\", \"presidente\", \"presidente\", \"presidente\", \"prestigio\", \"presupuesto\", \"presupuesto\", \"presupuesto\", \"presupuesto\", \"prevencio\\u0301n\", \"primaria\", \"prisio\\u0301n\", \"programa\", \"programa\", \"programa\", \"provincial\", \"provincial\", \"provincial\", \"provinciales\", \"provincias\", \"provincias\", \"provincias\", \"provincias\", \"provisorio\", \"provisorio\", \"puede\", \"puede\", \"puede\", \"puede\", \"puede\", \"puga\", \"pullen\", \"puntos\", \"puntos\", \"que\", \"que\", \"que\", \"que\", \"que\", \"queremos\", \"que\\u0301\", \"que\\u0301\", \"que\\u0301\", \"que\\u0301\", \"radical\", \"radicalismo\", \"radicalismo\", \"rafael\", \"recuperar\", \"recurso\", \"recursos\", \"recursos\", \"referente\", \"referente\", \"referente\", \"reforma\", \"reforma\", \"reforma\", \"reinhart\", \"remediar\", \"resoluciones\", \"resolucio\\u0301n\", \"resolucio\\u0301n\", \"respuesta\", \"respuesta\", \"respuesta\", \"respuesta\", \"revolucio\\u0301n\", \"revolucio\\u0301n\", \"rojas\", \"ronda\", \"ronda\", \"rostro\", \"ru\\u0301a\", \"sabemos\", \"sala\", \"sala\", \"salud\", \"salud\", \"salud\", \"salud\", \"santiago\", \"santiago\", \"santiago\", \"santiago\", \"santiago\", \"secretario\", \"secretario\", \"secretario\", \"ser\", \"ser\", \"ser\", \"ser\", \"ser\", \"sergio\", \"sergio\", \"sergio\", \"si\", \"si\", \"si\", \"si\", \"si\", \"siempre\", \"siempre\", \"siempre\", \"siempre\", \"siempre\", \"software\", \"supuesto\", \"supuesto\", \"tambie\\u0301n\", \"tambie\\u0301n\", \"tambie\\u0301n\", \"tambie\\u0301n\", \"tambie\\u0301n\", \"tealdi\", \"tener\", \"tener\", \"tener\", \"tener\", \"tener\", \"testigos\", \"testigos\", \"testigos\", \"tierras\", \"timerman\", \"torturas\", \"trabajador\", \"trabajadores\", \"trabajadores\", \"trabajadores\", \"trabajadores\", \"trabajo\", \"trabajo\", \"trabajo\", \"trabajo\", \"trabajo\", \"trabajo\\u201d\", \"traicio\\u0301n\", \"transparencia\", \"tratado\", \"unidad\", \"unidad\", \"unidad\", \"unidad\", \"va\", \"va\", \"va\", \"va\", \"va\", \"valde\\u0301s\", \"valde\\u0301s\", \"valde\\u0301s\", \"vallegrande\", \"van\", \"van\", \"vialidad\", \"vivio\\u0301\", \"volver\", \"volver\", \"volver\", \"volver\", \"\\u00bfcua\\u0301nto\", \"\\u2013el\", \"\\u201cdeterioro\", \"\\u201cel\", \"\\u201cel\", \"\\u201cel\", \"\\u201cel\", \"\\u201cel\", \"\\u201cse\", \"\\u201cse\", \"\\u201cvidal\"]}, \"R\": 30, \"lambda.step\": 0.01, \"plot.opts\": {\"xlab\": \"PC1\", \"ylab\": \"PC2\"}, \"topic.order\": [5, 1, 3, 4, 2]};\n",
       "\n",
       "function LDAvis_load_lib(url, callback){\n",
       "  var s = document.createElement('script');\n",
       "  s.src = url;\n",
       "  s.async = true;\n",
       "  s.onreadystatechange = s.onload = callback;\n",
       "  s.onerror = function(){console.warn(\"failed to load library \" + url);};\n",
       "  document.getElementsByTagName(\"head\")[0].appendChild(s);\n",
       "}\n",
       "\n",
       "if(typeof(LDAvis) !== \"undefined\"){\n",
       "   // already loaded: just create the visualization\n",
       "   !function(LDAvis){\n",
       "       new LDAvis(\"#\" + \"ldavis_el1159215807893287125045672467\", ldavis_el1159215807893287125045672467_data);\n",
       "   }(LDAvis);\n",
       "}else if(typeof define === \"function\" && define.amd){\n",
       "   // require.js is available: use it to load d3/LDAvis\n",
       "   require.config({paths: {d3: \"https://cdnjs.cloudflare.com/ajax/libs/d3/3.5.5/d3.min\"}});\n",
       "   require([\"d3\"], function(d3){\n",
       "      window.d3 = d3;\n",
       "      LDAvis_load_lib(\"https://cdn.rawgit.com/bmabey/pyLDAvis/files/ldavis.v1.0.0.js\", function(){\n",
       "        new LDAvis(\"#\" + \"ldavis_el1159215807893287125045672467\", ldavis_el1159215807893287125045672467_data);\n",
       "      });\n",
       "    });\n",
       "}else{\n",
       "    // require.js not available: dynamically load d3 & LDAvis\n",
       "    LDAvis_load_lib(\"https://cdnjs.cloudflare.com/ajax/libs/d3/3.5.5/d3.min.js\", function(){\n",
       "         LDAvis_load_lib(\"https://cdn.rawgit.com/bmabey/pyLDAvis/files/ldavis.v1.0.0.js\", function(){\n",
       "                 new LDAvis(\"#\" + \"ldavis_el1159215807893287125045672467\", ldavis_el1159215807893287125045672467_data);\n",
       "            })\n",
       "         });\n",
       "}\n",
       "</script>"
      ],
      "text/plain": [
       "PreparedData(topic_coordinates=              x         y  topics  cluster       Freq\n",
       "topic                                                \n",
       "4      0.072636  0.028682       1        1  38.183193\n",
       "0     -0.135604  0.048601       2        1  20.944134\n",
       "2     -0.016816 -0.128641       3        1  15.222865\n",
       "3      0.032238  0.006393       4        1  13.198648\n",
       "1      0.047546  0.044964       5        1  12.451151, topic_info=             Term       Freq      Total Category  logprob  loglift\n",
       "152            ex  57.000000  57.000000  Default  30.0000  30.0000\n",
       "1219        salud  31.000000  31.000000  Default  29.0000  29.0000\n",
       "115           che  30.000000  30.000000  Default  28.0000  28.0000\n",
       "4846  memorándum  14.000000  14.000000  Default  27.0000  27.0000\n",
       "4791      bonadio  14.000000  14.000000  Default  26.0000  26.0000\n",
       "...           ...        ...        ...      ...      ...      ...\n",
       "186      mientras   4.590504  19.272839   Topic5  -6.2864   0.6487\n",
       "222            si   5.246565  36.949005   Topic5  -6.1529   0.1314\n",
       "150         está   5.245514  47.966774   Topic5  -6.1531  -0.1298\n",
       "249           “el   4.609007  24.695560   Topic5  -6.2824   0.4047\n",
       "178         macri   4.597303  51.219879   Topic5  -6.2850  -0.3273\n",
       "\n",
       "[363 rows x 6 columns], token_table=      Topic      Freq    Term\n",
       "term                         \n",
       "1305      5  0.502992       2\n",
       "3479      1  0.812669       4\n",
       "94        1  0.294719      50\n",
       "94        2  0.147359      50\n",
       "94        4  0.515758      50\n",
       "...     ...       ...     ...\n",
       "249       4  0.202466     “el\n",
       "249       5  0.202466     “el\n",
       "254       2  0.838004     “se\n",
       "254       4  0.104750     “se\n",
       "6031      3  0.722783  “vidal\n",
       "\n",
       "[669 rows x 3 columns], R=30, lambda_step=0.01, plot_opts={'xlab': 'PC1', 'ylab': 'PC2'}, topic_order=[5, 1, 3, 4, 2])"
      ]
     },
     "execution_count": 111,
     "metadata": {},
     "output_type": "execute_result"
    }
   ],
   "source": [
    "# Visualizamos los tópicos\n",
    "\n",
    "pyLDAvis.enable_notebook()\n",
    "vis = pyLDAvis.gensim.prepare(lda_model, corpus, dictionary)\n",
    "vis"
   ]
  },
  {
   "cell_type": "code",
   "execution_count": 112,
   "metadata": {
    "colab": {},
    "colab_type": "code",
    "id": "ClTNSZgSf3VX"
   },
   "outputs": [
    {
     "data": {
      "text/plain": [
       "[(0,\n",
       "  '0.006*\"santiago\" + 0.005*\"hospitales\" + 0.004*\"sergio\" + 0.004*\"sala\" + 0.004*\"también\" + 0.003*\"juez\" + 0.003*\"maldonado\" + 0.003*\"desaparición\" + 0.003*\"más\" + 0.003*\"cidh\"'),\n",
       " (1,\n",
       "  '0.007*\"salud\" + 0.004*\"peronismo\" + 0.004*\"más\" + 0.004*\"gobierno\" + 0.004*\"corrientes\" + 0.003*\"nacional\" + 0.003*\"ser\" + 0.003*\"gobernador\" + 0.003*\"hospitales\" + 0.003*\"hoy\"'),\n",
       " (2,\n",
       "  '0.010*\"ex\" + 0.007*\"gobierno\" + 0.005*\"también\" + 0.004*\"memorándum\" + 0.004*\"bonadio\" + 0.004*\"irán\" + 0.004*\"juez\" + 0.004*\"cristina\" + 0.004*\"argentina\" + 0.003*\"macri\"'),\n",
       " (3,\n",
       "  '0.005*\"gobierno\" + 0.005*\"más\" + 0.005*\"trabajo\" + 0.005*\"está\" + 0.004*\"años\" + 0.004*\"che\" + 0.004*\"derechos\" + 0.004*\"reforma\" + 0.004*\"también\" + 0.003*\"si\"'),\n",
       " (4,\n",
       "  '0.006*\"más\" + 0.005*\"gobierno\" + 0.004*\"presidente\" + 0.004*\"macri\" + 0.003*\"años\" + 0.003*\"santiago\" + 0.003*\"había\" + 0.003*\"está\" + 0.003*\"también\" + 0.003*\"che\"')]"
      ]
     },
     "execution_count": 112,
     "metadata": {},
     "output_type": "execute_result"
    }
   ],
   "source": [
    "lda_model.print_topics(-1)"
   ]
  },
  {
   "cell_type": "code",
   "execution_count": 113,
   "metadata": {
    "colab": {},
    "colab_type": "code",
    "id": "hGmlJ3zpf3Vd"
   },
   "outputs": [],
   "source": [
    "stop.append('che')\n",
    "stop.append('más')\n",
    "stop.append('ex')\n",
    "stop.append('tambien')\n",
    "stop.append('mas')"
   ]
  },
  {
   "cell_type": "markdown",
   "metadata": {
    "colab_type": "text",
    "id": "vFpIkLY2SBv0"
   },
   "source": [
    "# Segunda corrida - trigramas con min_count = 5 y threshold = 100"
   ]
  },
  {
   "cell_type": "code",
   "execution_count": 114,
   "metadata": {
    "colab": {},
    "colab_type": "code",
    "id": "GkNQXz6MSBv1"
   },
   "outputs": [
    {
     "name": "stdout",
     "output_type": "stream",
     "text": [
      "[['ventaja', 'cambiemos', 'lento', 'escrutinio', 'comicios', 'elegir', 'gobernador', 'corrientes', 'cerraron', 'pasadas', 'inconvenientes', 'apertura', 'mesas', 'demoras', 'mal', 'clima', 'provincia', 'denuncias', 'irregularidades', 'partir', 'comenzaron', 'conocerse', 'primeros', 'resultados', 'escrutinio', 'provisorio', 'promete', 'ser', 'bastante', 'lento', 'mesas', 'contabilizadas', 'abrieron', 'candidato', 'eco', 'cambiemos', 'gustavo', 'valdes', 'obtiene', 'ciento', 'votos', 'segundo', 'lugar', 'aparece', 'postulante', 'frente', 'corrientes', 'podemos', 'mas', 'carlos', 'camau', 'espinola', 'queda', 'ciento', 'alianza', 'oficialista', 'adelantaron', 'celebrar', 'resultado', 'cuenta', 'twitter', 'loading', 'tweet', 'gran', 'respaldo', 'gobierno', 'nacional', 'canteros', 'volvio', 'hacer', 'visible', 'hoy', 'encuentran', 'capital', 'correntina', 'ministro', 'agroindustria', 'ricardo', 'buryaile', 'gobernador', 'jujuy', 'gerardo', 'morales', 'espera', 'llegada', 'jefe', 'gabinete', 'marcos', 'pena', 'ministro', 'interior', 'rogelio', 'frigerio']]\n"
     ]
    }
   ],
   "source": [
    "def sent_to_words(sentences):\n",
    "    for sentence in sentences:\n",
    "        yield(gensim.utils.simple_preprocess(str(sentence), deacc=True))  # deacc=True removes punctuations\n",
    "\n",
    "data_words = list(sent_to_words(nota_clean))\n",
    "\n",
    "print(data_words[:1])"
   ]
  },
  {
   "cell_type": "code",
   "execution_count": 115,
   "metadata": {
    "colab": {},
    "colab_type": "code",
    "id": "6WBMBd58SBv4"
   },
   "outputs": [
    {
     "name": "stdout",
     "output_type": "stream",
     "text": [
      "['ventaja', 'cambiemos', 'lento', 'escrutinio', 'comicios', 'elegir', 'gobernador', 'corrientes', 'cerraron', 'pasadas', 'inconvenientes', 'apertura', 'mesas', 'demoras', 'mal', 'clima', 'provincia', 'denuncias', 'irregularidades', 'partir', 'comenzaron', 'conocerse', 'primeros', 'resultados', 'escrutinio_provisorio', 'promete', 'ser', 'bastante', 'lento', 'mesas', 'contabilizadas', 'abrieron', 'candidato', 'eco', 'cambiemos', 'gustavo', 'valdes', 'obtiene', 'ciento', 'votos', 'segundo', 'lugar', 'aparece', 'postulante', 'frente', 'corrientes_podemos', 'mas', 'carlos', 'camau_espinola', 'queda', 'ciento', 'alianza', 'oficialista', 'adelantaron', 'celebrar', 'resultado', 'cuenta', 'twitter', 'loading', 'tweet', 'gran', 'respaldo', 'gobierno', 'nacional', 'canteros', 'volvio', 'hacer', 'visible', 'hoy', 'encuentran', 'capital', 'correntina', 'ministro', 'agroindustria', 'ricardo', 'buryaile', 'gobernador', 'jujuy', 'gerardo', 'morales', 'espera', 'llegada', 'jefe_gabinete', 'marcos_pena', 'ministro_interior_rogelio_frigerio']\n"
     ]
    }
   ],
   "source": [
    "# Construimos los modelos de bigramas y trigramas\n",
    "bigram = gensim.models.Phrases(data_words, min_count=5, threshold=100) # A mayor umbral, menor cantidad de frases formadas\n",
    "trigram = gensim.models.Phrases(bigram[data_words], threshold=100)  \n",
    "\n",
    "bigram_mod = gensim.models.phrases.Phraser(bigram)\n",
    "trigram_mod = gensim.models.phrases.Phraser(trigram)\n",
    "\n",
    "# Vemos un ejemplo\n",
    "print(trigram_mod[bigram_mod[data_words[0]]])"
   ]
  },
  {
   "cell_type": "code",
   "execution_count": 116,
   "metadata": {
    "colab": {},
    "colab_type": "code",
    "id": "5B9TqwR3SBv7"
   },
   "outputs": [],
   "source": [
    "# Definimos funciones para stop words, bigramas y trigramas\n",
    "\n",
    "def remove_stopwords(texts):\n",
    "    return [[word for word in simple_preprocess(str(doc), deacc=True) if word not in stop] for doc in texts]\n",
    "\n",
    "def make_bigrams(texts):\n",
    "    return [bigram_mod[doc] for doc in texts]\n",
    "\n",
    "def make_trigrams(texts):\n",
    "    return [trigram_mod[bigram_mod[doc]] for doc in texts]"
   ]
  },
  {
   "cell_type": "code",
   "execution_count": 117,
   "metadata": {
    "colab": {},
    "colab_type": "code",
    "id": "w_IVnT_uSBv_"
   },
   "outputs": [],
   "source": [
    "# Removemos Stop Words\n",
    "data_words_nostops = remove_stopwords(data_words)\n",
    "\n",
    "# Formamos los trigramas\n",
    "data_words_trigrams = make_trigrams(data_words_nostops)"
   ]
  },
  {
   "cell_type": "code",
   "execution_count": 118,
   "metadata": {
    "colab": {},
    "colab_type": "code",
    "id": "-cbe7318SBwF"
   },
   "outputs": [
    {
     "name": "stdout",
     "output_type": "stream",
     "text": [
      "['ventaja', 'cambiemos', 'lento', 'escrutinio', 'comicios', 'elegir', 'gobernador', 'corrientes', 'cerraron', 'pasadas', 'inconvenientes', 'apertura', 'mesas', 'demoras', 'mal', 'clima', 'provincia', 'denuncias', 'irregularidades', 'partir', 'comenzaron', 'conocerse', 'primeros', 'resultados', 'escrutinio_provisorio', 'promete', 'ser', 'bastante', 'lento', 'mesas', 'contabilizadas', 'abrieron', 'candidato', 'eco', 'cambiemos', 'gustavo', 'valdes', 'obtiene', 'ciento', 'votos', 'segundo', 'lugar', 'aparece', 'postulante', 'frente', 'corrientes_podemos', 'carlos', 'camau_espinola', 'queda', 'ciento', 'alianza', 'oficialista', 'adelantaron', 'celebrar', 'resultado', 'cuenta', 'twitter', 'loading', 'tweet', 'gran', 'respaldo', 'gobierno', 'nacional', 'canteros', 'volvio', 'hacer', 'visible', 'hoy', 'encuentran', 'capital', 'correntina', 'ministro', 'agroindustria', 'ricardo', 'buryaile', 'gobernador', 'jujuy', 'gerardo', 'morales', 'espera', 'llegada', 'jefe_gabinete', 'marcos_pena', 'ministro_interior_rogelio_frigerio']\n"
     ]
    }
   ],
   "source": [
    "print(data_words_trigrams[0])"
   ]
  },
  {
   "cell_type": "code",
   "execution_count": 2,
   "metadata": {
    "colab": {},
    "colab_type": "code",
    "id": "fOtJLNC_SBwI",
    "jupyter": {
     "outputs_hidden": true
    }
   },
   "outputs": [],
   "source": [
    "#data_words_trigrams"
   ]
  },
  {
   "cell_type": "code",
   "execution_count": 120,
   "metadata": {
    "colab": {},
    "colab_type": "code",
    "id": "z0vdOGO_SBw_"
   },
   "outputs": [],
   "source": [
    "dictionary_1 = corpora.Dictionary(data_words_trigrams)"
   ]
  },
  {
   "cell_type": "code",
   "execution_count": 121,
   "metadata": {
    "colab": {},
    "colab_type": "code",
    "id": "xv8svLCoSBxD"
   },
   "outputs": [
    {
     "name": "stdout",
     "output_type": "stream",
     "text": [
      "Dictionary(6160 unique tokens: ['abrieron', 'adelantaron', 'agroindustria', 'alianza', 'aparece']...)\n"
     ]
    }
   ],
   "source": [
    "print(dictionary_1)"
   ]
  },
  {
   "cell_type": "code",
   "execution_count": 122,
   "metadata": {
    "colab": {},
    "colab_type": "code",
    "id": "4Um-pgETSBxI"
   },
   "outputs": [],
   "source": [
    "corpus_1 = [dictionary_1.doc2bow(nota) for nota in data_words_trigrams]"
   ]
  },
  {
   "cell_type": "code",
   "execution_count": 3,
   "metadata": {
    "colab": {},
    "colab_type": "code",
    "id": "oukYm_BRSBxP"
   },
   "outputs": [],
   "source": [
    "#[[(dictionary_1[id], freq) for id, freq in cp] for cp in corpus_1[:1]]"
   ]
  },
  {
   "cell_type": "code",
   "execution_count": 124,
   "metadata": {
    "colab": {},
    "colab_type": "code",
    "id": "YyMJv98iSBxV"
   },
   "outputs": [],
   "source": [
    "ldamodel_1 = gensim.models.ldamodel.LdaModel(corpus=corpus_1,\n",
    "                                             id2word=dictionary_1,\n",
    "                                             num_topics=5, \n",
    "                                             random_state=100,\n",
    "                                             update_every=1,\n",
    "                                             chunksize=100,\n",
    "                                             passes=10,\n",
    "                                             alpha='auto',\n",
    "                                             per_word_topics=True)"
   ]
  },
  {
   "cell_type": "code",
   "execution_count": 125,
   "metadata": {
    "colab": {},
    "colab_type": "code",
    "id": "trDNUnkbSBxa"
   },
   "outputs": [
    {
     "data": {
      "text/html": [
       "\n",
       "<link rel=\"stylesheet\" type=\"text/css\" href=\"https://cdn.rawgit.com/bmabey/pyLDAvis/files/ldavis.v1.0.0.css\">\n",
       "\n",
       "\n",
       "<div id=\"ldavis_el1159215807893294807069263137\"></div>\n",
       "<script type=\"text/javascript\">\n",
       "\n",
       "var ldavis_el1159215807893294807069263137_data = {\"mdsDat\": {\"x\": [-0.048388403012086904, 0.06278162034632313, -0.10578243313944784, 0.09071476998783692, 0.0006744458173747055], \"y\": [0.11958570456058784, 0.026063551035439305, -0.08163294139385227, -0.049332411558480053, -0.014683902643694834], \"topics\": [1, 2, 3, 4, 5], \"cluster\": [1, 1, 1, 1, 1], \"Freq\": [26.765167236328125, 23.315282821655273, 21.25764274597168, 21.02107048034668, 7.640838623046875]}, \"tinfo\": {\"Term\": [\"salud\", \"nacional\", \"hospitales\", \"santiago\", \"pedido\", \"respuesta\", \"hospital\", \"peronismo\", \"carga\", \"vidal\", \"unidad_ciudadana\", \"gobierno\", \"fallo\", \"trabajo\", \"pena_muerte\", \"memorandum\", \"candidato\", \"obras\", \"sergio\", \"fuerzas\", \"iran\", \"corrientes\", \"electoral\", \"derecho\", \"juez\", \"reforma\", \"politicas\", \"indico\", \"defensa\", \"garantizar\", \"mafias\", \"espinoza\", \"educacion\", \"vidal\", \"formula\", \"latinoamericana\", \"millones\", \"puntos\", \"fidel\", \"radicalismo\", \"dolares\", \"actriz\", \"us\", \"deficit\", \"correntinos\", \"discutir\", \"alineamiento\", \"ministros\", \"amigos\", \"complice\", \"brisco\", \"lideres\", \"campo\", \"finanzas\", \"distinto\", \"emisiones\", \"endeudamiento\", \"seguramente\", \"reinhart\", \"deficits\", \"deuda\", \"peronismo\", \"valdes\", \"cristina\", \"eguiguren\", \"financiera\", \"cuanto\", \"candidatos\", \"lucha\", \"corrientes\", \"bono\", \"derrota\", \"siempre\", \"encuentro\", \"nacional\", \"ciento\", \"gobierno\", \"mundo\", \"habia\", \"argentina\", \"ciudad\", \"diferencia\", \"mientras\", \"anos\", \"macri\", \"despues\", \"si\", \"presidente\", \"aunque\", \"cambiemos\", \"solo\", \"hoy\", \"politica\", \"parte\", \"gobernador\", \"madres\", \"agentes_gendarmeria\", \"atentado\", \"amia\", \"funes\", \"veo\", \"basilica\", \"criminal\", \"siganlo\", \"buscando\", \"buen\", \"hacerse\", \"tierras\", \"cronograma\", \"panuelo\", \"intimidacion\", \"tratado\", \"cinica\", \"desalojos\", \"cuarenta\", \"cancilleria\", \"silenciosa\", \"pasaba\", \"civil\", \"iglesia\", \"garrahan\", \"economia\", \"mostro\", \"empezaron\", \"electo\", \"memorandum\", \"iran\", \"madres_plaza_mayo\", \"judicial\", \"gendarmes\", \"cavallo\", \"bonadio\", \"patria\", \"ronda\", \"ser\", \"radical\", \"si\", \"gobernador\", \"juez\", \"escrito\", \"gobierno\", \"pais\", \"colombi\", \"respuesta\", \"fuerza\", \"causa\", \"politica\", \"argentina\", \"anos\", \"hacer\", \"dos\", \"santiago\", \"macri\", \"cargo\", \"ciento\", \"despues\", \"hoy\", \"habia\", \"ley\", \"salud\", \"corrientes\", \"hospitales\", \"candidato\", \"guevara\", \"puede\", \"prision_domiciliaria\", \"camara_apelaciones\", \"camaristas\", \"higuera\", \"apelacion\", \"avila\", \"paes\", \"parlasur\", \"pullen\", \"llermanos\", \"homicidio\", \"monzo\", \"corte\", \"habilito\", \"vallegrande\", \"prision\", \"magistrados\", \"evo\", \"pasos\", \"fernandez\", \"pablo\", \"resoluciones\", \"procedimiento\", \"trabajador\", \"placa\", \"convenio\", \"corte_suprema\", \"recurso\", \"fallo\", \"sala\", \"reforma\", \"abogados\", \"laboral\", \"jueces\", \"trabajo\", \"defensa\", \"milagro_sala\", \"bolivia\", \"bloque\", \"diputada\", \"derecho\", \"ano\", \"sentencia\", \"morales\", \"trabajadores\", \"justicia\", \"cidh\", \"dos\", \"hecho\", \"nisman\", \"lugar\", \"presidente\", \"dijo\", \"ley\", \"si\", \"gobierno\", \"anos\", \"parte\", \"fiscal\", \"guevara\", \"pena_muerte\", \"bicentenario\", \"esteban_echeverria\", \"dietrich\", \"ituzaingo\", \"alta\", \"cataluna\", \"consultorios\", \"cuenca\", \"terapia\", \"miembros\", \"prestigio\", \"recuperar\", \"cometidos\", \"fit\", \"construir\", \"preocupa\", \"espana\", \"sa\", \"secuestros\", \"viales\", \"comun\", \"comienzo\", \"corredores\", \"sistemas\", \"entregado\", \"pobres\", \"telefono\", \"canuelas\", \"tn\", \"violencia\", \"momento_desaparicion\", \"sergio_maldonado\", \"portaba\", \"aclarar\", \"casos\", \"poblacion\", \"pesos\", \"sergio\", \"vialidad\", \"sanitaria\", \"hospitales\", \"hospital\", \"hermano\", \"santiago\", \"capacidad\", \"parana\", \"centros\", \"atencion\", \"mochila\", \"desaparicion\", \"dias\", \"familia\", \"fundacion\", \"segun\", \"derechos_humanos\", \"denuncia\", \"seguridad\", \"unidad_ciudadana\", \"salud\", \"octubre\", \"dos\", \"joven\", \"luego\", \"santiago_maldonado\", \"gobierno\", \"estan\", \"dijo\", \"afirmo\", \"juez\", \"causa\", \"anos\", \"mundo\", \"vez\", \"hoy\", \"presidente\", \"garantizar\", \"tealdi\", \"millan\", \"especialista\", \"software\", \"moreau\", \"amenazas\", \"mapuche\", \"cus\", \"apartamiento\", \"presentaciones\", \"graciana\", \"tailhade\", \"correo\", \"bioetica\", \"auditoria\", \"medicina_nuclear\", \"manipulacion\", \"transparencia\", \"programa\", \"problema\", \"guardaparque\", \"nulidad\", \"agnet\", \"faltan\", \"transparentes\", \"activo\", \"zorra\", \"frenada\", \"primaria\", \"carga\", \"pedido\", \"agencia\", \"cobertura\", \"escrutinio_provisorio\", \"penafort\", \"comicios\", \"salud\", \"centro\", \"fuerzas\", \"nacional\", \"politicas\", \"indico\", \"candidato\", \"medicamentos\", \"gobierno\", \"respuesta\", \"agosto\", \"unidad_ciudadana\", \"obras\", \"electoral\", \"justicia\", \"hacer\", \"parte\", \"tener\", \"falta\", \"mismo\", \"provincia_buenos_aires\", \"plan\"], \"Freq\": [34.0, 41.0, 32.0, 30.0, 9.0, 17.0, 18.0, 23.0, 8.0, 15.0, 18.0, 93.0, 12.0, 23.0, 9.0, 16.0, 21.0, 12.0, 15.0, 9.0, 16.0, 19.0, 13.0, 17.0, 31.0, 12.0, 9.0, 7.0, 20.0, 4.0, 8.078117370605469, 8.076947212219238, 7.274467945098877, 13.6174955368042, 5.702615261077881, 5.692823886871338, 5.695102214813232, 4.912862777709961, 4.8996148109436035, 4.117018222808838, 4.11424446105957, 4.113137722015381, 4.106137752532959, 4.105648994445801, 8.076737403869629, 3.330883026123047, 3.3288161754608154, 3.3277413845062256, 3.327204704284668, 3.3261003494262695, 3.3255844116210938, 3.3227286338806152, 3.3226852416992188, 3.321645736694336, 3.3186631202697754, 3.320474863052368, 3.31988525390625, 3.317831516265869, 3.3178539276123047, 3.3177874088287354, 8.861742973327637, 18.348434448242188, 12.838781356811523, 9.680582046508789, 4.918293476104736, 4.907532691955566, 4.889893531799316, 5.7023162841796875, 8.0827054977417, 12.046666145324707, 11.238570213317871, 5.701718807220459, 12.0482177734375, 7.291325092315674, 20.019657135009766, 15.219816207885742, 30.444435119628906, 11.26646900177002, 13.64997673034668, 12.89229965209961, 8.889164924621582, 6.496822834014893, 9.668113708496094, 15.275713920593262, 12.066115379333496, 12.074017524719238, 13.688166618347168, 11.286943435668945, 8.101497650146484, 8.886773109436035, 8.105762481689453, 9.654088020324707, 8.892949104309082, 8.1087007522583, 8.106247901916504, 7.773669719696045, 5.488560199737549, 4.733785629272461, 4.7282633781433105, 4.72695255279541, 3.9648196697235107, 3.964555263519287, 3.9641664028167725, 3.964473009109497, 3.9631149768829346, 3.2050728797912598, 3.2031326293945312, 3.2035770416259766, 3.202214002609253, 3.202753782272339, 3.2025794982910156, 3.202125072479248, 3.20249080657959, 3.201432466506958, 3.2020444869995117, 3.201693296432495, 3.200723171234131, 3.2008156776428223, 3.1996004581451416, 3.1982901096343994, 6.261531829833984, 6.2547526359558105, 2.4465270042419434, 2.443753480911255, 2.4438602924346924, 13.106008529663086, 12.351945877075195, 4.726618766784668, 7.021998405456543, 7.0143351554870605, 4.728518009185791, 7.788586139678955, 6.260610103607178, 5.495846271514893, 14.66787338256836, 7.031501770019531, 22.259166717529297, 13.164505958557129, 15.005071640014648, 3.966470956802368, 26.97104835510254, 12.369829177856445, 6.272093772888184, 8.486959457397461, 9.314957618713379, 9.868108749389648, 10.090851783752441, 10.884971618652344, 13.174460411071777, 9.280511856079102, 12.276139259338379, 10.107065200805664, 10.067666053771973, 6.973541259765625, 9.376901626586914, 9.274544715881348, 8.580863952636719, 8.387211799621582, 7.0341410636901855, 7.843935489654541, 7.0599446296691895, 7.0664496421813965, 7.046014785766602, 7.045471668243408, 7.04084587097168, 6.917026042938232, 6.1674981117248535, 6.167852401733398, 5.419310569763184, 4.66611385345459, 4.663906574249268, 3.914560079574585, 3.9128637313842773, 3.9120376110076904, 3.911618232727051, 3.911221742630005, 3.905642509460449, 6.169163703918457, 3.1628353595733643, 3.1615171432495117, 3.161025047302246, 3.160911798477173, 3.1608476638793945, 3.1604225635528564, 3.158634901046753, 3.15897274017334, 3.1590802669525146, 3.158020257949829, 3.1538753509521484, 3.1496472358703613, 3.1494436264038086, 6.925052642822266, 6.911866664886475, 10.68009090423584, 6.168508529663086, 9.90489673614502, 10.339130401611328, 6.920401573181152, 7.673906326293945, 15.172870635986328, 12.951889991760254, 8.434818267822266, 6.170915603637695, 4.664370536804199, 4.666311740875244, 10.683441162109375, 9.932821273803711, 5.414857387542725, 6.9366455078125, 8.60458755493164, 9.945596694946289, 7.80925989151001, 12.351838111877441, 6.928101062774658, 6.931199550628662, 8.453192710876465, 9.960287094116211, 9.207769393920898, 6.900588512420654, 9.234570503234863, 10.021743774414062, 8.479472160339355, 7.7092976570129395, 6.9411845207214355, 6.934973239898682, 9.208138465881348, 6.947702407836914, 4.68023157119751, 3.927748203277588, 3.9266180992126465, 3.9242947101593018, 3.1734774112701416, 3.1714651584625244, 3.1699941158294678, 3.167752265930176, 3.1672489643096924, 3.1620845794677734, 3.1602835655212402, 2.421520233154297, 2.420037031173706, 2.4204728603363037, 2.419884204864502, 2.4190592765808105, 2.419265031814575, 2.4190661907196045, 2.4180314540863037, 2.4171578884124756, 2.416168689727783, 2.416505813598633, 2.4156875610351562, 2.4160664081573486, 2.415928363800049, 2.4162039756774902, 2.415316581726074, 2.4154796600341797, 5.435552597045898, 5.433600902557373, 5.4151434898376465, 3.62398624420166, 3.6182756423950195, 5.968298435211182, 6.953531265258789, 7.700350284576416, 11.466900825500488, 4.682401180267334, 3.9273252487182617, 21.31151008605957, 12.99083423614502, 8.21876335144043, 18.26529884338379, 3.9277377128601074, 3.9263501167297363, 4.6801676750183105, 6.948581218719482, 6.507594108581543, 11.814918518066406, 12.961453437805176, 8.604304313659668, 5.440218448638916, 9.990930557250977, 8.48932933807373, 6.156280040740967, 6.938014507293701, 8.48282527923584, 12.256047248840332, 10.002184867858887, 13.766061782836914, 7.549468994140625, 9.334879875183105, 8.620484352111816, 18.311420440673828, 9.979842185974121, 10.163703918457031, 7.695761203765869, 8.907912254333496, 7.948235511779785, 9.228303909301758, 7.701413154602051, 7.448720455169678, 7.769590377807617, 7.287497043609619, 3.7451164722442627, 3.2246880531311035, 3.223377227783203, 3.2228169441223145, 3.222352981567383, 2.1848032474517822, 2.1846258640289307, 2.184229612350464, 2.1829423904418945, 2.18251633644104, 1.6644871234893799, 1.6644580364227295, 1.664171576499939, 1.6638412475585938, 1.6625672578811646, 1.6623876094818115, 3.2273428440093994, 3.2251532077789307, 3.225205659866333, 2.7032339572906494, 2.7044289112091064, 1.1452534198760986, 1.1451464891433716, 1.144966721534729, 1.144682765007019, 1.1445096731185913, 1.1444579362869263, 1.1443898677825928, 1.1443753242492676, 1.1443606615066528, 4.2646660804748535, 4.788451194763184, 2.7069430351257324, 2.7063674926757812, 2.704069137573242, 2.184299945831299, 3.2270805835723877, 8.450725555419922, 2.7069642543792725, 3.2306864261627197, 6.889863967895508, 3.231921911239624, 2.7086827754974365, 4.275898456573486, 2.707622766494751, 7.974634170532227, 3.756065607070923, 3.2322773933410645, 3.7458183765411377, 3.2363803386688232, 3.22802734375, 3.233464479446411, 2.741184711456299, 2.7330174446105957, 2.7166855335235596, 2.714550256729126, 2.7122108936309814, 2.709319829940796, 2.7091925144195557], \"Total\": [34.0, 41.0, 32.0, 30.0, 9.0, 17.0, 18.0, 23.0, 8.0, 15.0, 18.0, 93.0, 12.0, 23.0, 9.0, 16.0, 21.0, 12.0, 15.0, 9.0, 16.0, 19.0, 13.0, 17.0, 31.0, 12.0, 9.0, 7.0, 20.0, 4.0, 8.678312301635742, 8.677449226379395, 7.881831169128418, 15.003852844238281, 6.2903828620910645, 6.286964416503906, 6.289606094360352, 5.494345664978027, 5.490805149078369, 4.698464393615723, 4.69837760925293, 4.698122978210449, 4.697413444519043, 4.697543144226074, 9.443316459655762, 3.9015562534332275, 3.9031982421875, 3.9029648303985596, 3.90285587310791, 3.902839183807373, 3.903095006942749, 3.9022395610809326, 3.902503490447998, 3.90263295173645, 3.8997933864593506, 3.902292490005493, 3.9018490314483643, 3.9019322395324707, 3.90205454826355, 3.9021267890930176, 10.761893272399902, 23.56573486328125, 17.27587890625, 14.080961227416992, 6.251816272735596, 6.252902507781982, 6.245495796203613, 7.572296619415283, 11.701857566833496, 19.55927848815918, 18.224430084228516, 7.803011894226074, 21.058122634887695, 10.918868064880371, 41.89739990234375, 31.397472381591797, 93.72327423095703, 24.78792381286621, 34.571311950683594, 31.5347957611084, 17.067598342895508, 10.125974655151367, 20.163692474365234, 46.306758880615234, 33.28888702392578, 34.03358459472656, 51.171077728271484, 35.18634796142578, 16.598966598510742, 23.74360466003418, 18.089866638183594, 32.63883590698242, 26.835771560668945, 29.53443145751953, 26.25892448425293, 8.39111042022705, 6.089484214782715, 5.322047233581543, 5.32193660736084, 5.322333335876465, 4.555051326751709, 4.555286407470703, 4.5549397468566895, 4.555444240570068, 4.555347442626953, 3.786975622177124, 3.7870728969573975, 3.7878682613372803, 3.7874345779418945, 3.7882254123687744, 3.78822922706604, 3.7877562046051025, 3.788268804550171, 3.7873575687408447, 3.7881648540496826, 3.787768840789795, 3.788100242614746, 3.788276195526123, 3.788159132003784, 3.788125514984131, 7.612951278686523, 7.647233009338379, 3.020789384841919, 3.0200674533843994, 3.0208258628845215, 16.79145622253418, 16.7850399017334, 6.081207275390625, 9.431196212768555, 9.900720596313477, 6.113763809204102, 11.427275657653809, 8.933594703674316, 7.642322540283203, 28.462427139282227, 10.805779457092285, 51.171077728271484, 26.25892448425293, 31.509140014648438, 5.078679084777832, 93.72327423095703, 30.814889907836914, 10.754703521728516, 17.376663208007812, 21.0592041015625, 24.17782974243164, 26.835771560668945, 31.5347957611084, 46.306758880615234, 24.999454498291016, 46.17744064331055, 30.985387802124023, 33.28888702392578, 14.322320938110352, 31.397472381591797, 34.03358459472656, 32.63883590698242, 34.571311950683594, 16.276151657104492, 34.29586410522461, 19.55927848815918, 32.27336883544922, 21.17401123046875, 21.51677894592285, 20.33796501159668, 7.528008460998535, 6.7719926834106445, 6.773284435272217, 6.017069339752197, 5.260480880737305, 5.260505676269531, 4.503320217132568, 4.503602504730225, 4.5029096603393555, 4.502857685089111, 4.503009796142578, 4.504275798797607, 7.297056198120117, 3.746824264526367, 3.7468953132629395, 3.746624231338501, 3.7471463680267334, 3.7470929622650146, 3.7474517822265625, 3.7459280490875244, 3.7466955184936523, 3.7469372749328613, 3.7460458278656006, 3.746947765350342, 3.7466821670532227, 3.7471461296081543, 8.287425994873047, 8.28564739227295, 12.832136154174805, 7.567093372344971, 12.915114402770996, 14.12283706665039, 9.084043502807617, 10.579763412475586, 23.81635093688965, 20.229631423950195, 12.159635543823242, 8.362380981445312, 6.026971817016602, 6.054775238037109, 17.70919418334961, 19.308053970336914, 8.36268424987793, 12.24689769744873, 18.234542846679688, 24.52096176147461, 16.974267959594727, 46.17744064331055, 14.301907539367676, 14.401185989379883, 22.519535064697266, 35.18634796142578, 33.97834396362305, 16.276151657104492, 51.171077728271484, 93.72327423095703, 46.306758880615234, 29.53443145751953, 18.792728424072266, 21.51677894592285, 9.829371452331543, 7.552011013031006, 5.274438381195068, 4.516971588134766, 4.515809535980225, 4.515940189361572, 3.756655693054199, 3.756531000137329, 3.756633758544922, 3.7570011615753174, 3.7571871280670166, 3.756223678588867, 3.756915807723999, 2.998300313949585, 2.9967362880706787, 2.9981234073638916, 2.9979183673858643, 2.9976563453674316, 2.9980969429016113, 2.998516082763672, 2.9981319904327393, 2.997701406478882, 2.997375011444092, 2.997968912124634, 2.997249126434326, 2.997828483581543, 2.9976608753204346, 2.9982593059539795, 2.9972875118255615, 2.997804880142212, 6.800619125366211, 6.801316261291504, 6.802946090698242, 4.5192341804504395, 4.51879358291626, 7.551431179046631, 8.842794418334961, 9.903426170349121, 15.154924392700195, 6.071139335632324, 5.03899621963501, 32.27336883544922, 18.982755661010742, 12.13124942779541, 30.985387802124023, 5.28118896484375, 5.311337471008301, 6.555213928222656, 10.684981346130371, 9.857843399047852, 20.99431037902832, 25.205215454101562, 15.210383415222168, 8.149406433105469, 21.213062286376953, 16.97590446472168, 10.364558219909668, 12.96900749206543, 18.20838737487793, 34.29586410522461, 24.71953582763672, 46.17744064331055, 15.292908668518066, 22.938674926757812, 20.22072410583496, 93.72327423095703, 27.40583610534668, 33.97834396362305, 19.061954498291016, 31.509140014648438, 24.17782974243164, 46.306758880615234, 24.78792381286621, 20.68789291381836, 32.63883590698242, 35.18634796142578, 4.389892578125, 3.8658759593963623, 3.866406202316284, 3.8666744232177734, 3.8671603202819824, 2.8173489570617676, 2.8173115253448486, 2.817437171936035, 2.818129777908325, 2.8184783458709717, 2.2931923866271973, 2.2932040691375732, 2.293318271636963, 2.2934987545013428, 2.2940001487731934, 2.294312000274658, 4.623752593994141, 4.632266998291016, 4.6610107421875, 4.108773708343506, 4.136933326721191, 1.768418312072754, 1.7686362266540527, 1.7685966491699219, 1.7687480449676514, 1.7688854932785034, 1.7688100337982178, 1.768836498260498, 1.7688767910003662, 1.7688840627670288, 8.068737983703613, 9.233540534973145, 4.89462423324585, 5.622697830200195, 5.699888229370117, 4.351485252380371, 7.701592445373535, 34.29586410522461, 6.4571990966796875, 9.252049446105957, 41.89739990234375, 9.33069133758545, 7.137067794799805, 21.17401123046875, 7.149042129516602, 93.72327423095703, 17.376663208007812, 11.55378532409668, 18.20838737487793, 12.216683387756348, 13.075907707214355, 24.52096176147461, 24.999454498291016, 29.53443145751953, 17.153343200683594, 11.086847305297852, 17.279083251953125, 9.445566177368164, 8.692980766296387], \"Category\": [\"Default\", \"Default\", \"Default\", \"Default\", \"Default\", \"Default\", \"Default\", \"Default\", \"Default\", \"Default\", \"Default\", \"Default\", \"Default\", \"Default\", \"Default\", \"Default\", \"Default\", \"Default\", \"Default\", \"Default\", \"Default\", \"Default\", \"Default\", \"Default\", \"Default\", \"Default\", \"Default\", \"Default\", \"Default\", \"Default\", \"Topic1\", \"Topic1\", \"Topic1\", \"Topic1\", \"Topic1\", \"Topic1\", \"Topic1\", \"Topic1\", \"Topic1\", \"Topic1\", \"Topic1\", \"Topic1\", \"Topic1\", \"Topic1\", \"Topic1\", \"Topic1\", \"Topic1\", \"Topic1\", \"Topic1\", \"Topic1\", \"Topic1\", \"Topic1\", \"Topic1\", \"Topic1\", \"Topic1\", \"Topic1\", \"Topic1\", \"Topic1\", \"Topic1\", \"Topic1\", \"Topic1\", \"Topic1\", \"Topic1\", \"Topic1\", \"Topic1\", \"Topic1\", \"Topic1\", \"Topic1\", \"Topic1\", \"Topic1\", \"Topic1\", \"Topic1\", \"Topic1\", \"Topic1\", \"Topic1\", \"Topic1\", \"Topic1\", \"Topic1\", \"Topic1\", \"Topic1\", \"Topic1\", \"Topic1\", \"Topic1\", \"Topic1\", \"Topic1\", \"Topic1\", \"Topic1\", \"Topic1\", \"Topic1\", \"Topic1\", \"Topic1\", \"Topic1\", \"Topic1\", \"Topic1\", \"Topic1\", \"Topic2\", \"Topic2\", \"Topic2\", \"Topic2\", \"Topic2\", \"Topic2\", \"Topic2\", \"Topic2\", \"Topic2\", \"Topic2\", \"Topic2\", \"Topic2\", \"Topic2\", \"Topic2\", \"Topic2\", \"Topic2\", \"Topic2\", \"Topic2\", \"Topic2\", \"Topic2\", \"Topic2\", \"Topic2\", \"Topic2\", \"Topic2\", \"Topic2\", \"Topic2\", \"Topic2\", \"Topic2\", \"Topic2\", \"Topic2\", \"Topic2\", \"Topic2\", \"Topic2\", \"Topic2\", \"Topic2\", \"Topic2\", \"Topic2\", \"Topic2\", \"Topic2\", \"Topic2\", \"Topic2\", \"Topic2\", \"Topic2\", \"Topic2\", \"Topic2\", \"Topic2\", \"Topic2\", \"Topic2\", \"Topic2\", \"Topic2\", \"Topic2\", \"Topic2\", \"Topic2\", \"Topic2\", \"Topic2\", \"Topic2\", \"Topic2\", \"Topic2\", \"Topic2\", \"Topic2\", \"Topic2\", \"Topic2\", \"Topic2\", \"Topic2\", \"Topic2\", \"Topic2\", \"Topic2\", \"Topic2\", \"Topic2\", \"Topic2\", \"Topic3\", \"Topic3\", \"Topic3\", \"Topic3\", \"Topic3\", \"Topic3\", \"Topic3\", \"Topic3\", \"Topic3\", \"Topic3\", \"Topic3\", \"Topic3\", \"Topic3\", \"Topic3\", \"Topic3\", \"Topic3\", \"Topic3\", \"Topic3\", \"Topic3\", \"Topic3\", \"Topic3\", \"Topic3\", \"Topic3\", \"Topic3\", \"Topic3\", \"Topic3\", \"Topic3\", \"Topic3\", \"Topic3\", \"Topic3\", \"Topic3\", \"Topic3\", \"Topic3\", \"Topic3\", \"Topic3\", \"Topic3\", \"Topic3\", \"Topic3\", \"Topic3\", \"Topic3\", \"Topic3\", \"Topic3\", \"Topic3\", \"Topic3\", \"Topic3\", \"Topic3\", \"Topic3\", \"Topic3\", \"Topic3\", \"Topic3\", \"Topic3\", \"Topic3\", \"Topic3\", \"Topic3\", \"Topic3\", \"Topic3\", \"Topic3\", \"Topic3\", \"Topic3\", \"Topic3\", \"Topic4\", \"Topic4\", \"Topic4\", \"Topic4\", \"Topic4\", \"Topic4\", \"Topic4\", \"Topic4\", \"Topic4\", \"Topic4\", \"Topic4\", \"Topic4\", \"Topic4\", \"Topic4\", \"Topic4\", \"Topic4\", \"Topic4\", \"Topic4\", \"Topic4\", \"Topic4\", \"Topic4\", \"Topic4\", \"Topic4\", \"Topic4\", \"Topic4\", \"Topic4\", \"Topic4\", \"Topic4\", \"Topic4\", \"Topic4\", \"Topic4\", \"Topic4\", \"Topic4\", \"Topic4\", \"Topic4\", \"Topic4\", \"Topic4\", \"Topic4\", \"Topic4\", \"Topic4\", \"Topic4\", \"Topic4\", \"Topic4\", \"Topic4\", \"Topic4\", \"Topic4\", \"Topic4\", \"Topic4\", \"Topic4\", \"Topic4\", \"Topic4\", \"Topic4\", \"Topic4\", \"Topic4\", \"Topic4\", \"Topic4\", \"Topic4\", \"Topic4\", \"Topic4\", \"Topic4\", \"Topic4\", \"Topic4\", \"Topic4\", \"Topic4\", \"Topic4\", \"Topic4\", \"Topic4\", \"Topic4\", \"Topic4\", \"Topic4\", \"Topic4\", \"Topic4\", \"Topic4\", \"Topic4\", \"Topic4\", \"Topic4\", \"Topic5\", \"Topic5\", \"Topic5\", \"Topic5\", \"Topic5\", \"Topic5\", \"Topic5\", \"Topic5\", \"Topic5\", \"Topic5\", \"Topic5\", \"Topic5\", \"Topic5\", \"Topic5\", \"Topic5\", \"Topic5\", \"Topic5\", \"Topic5\", \"Topic5\", \"Topic5\", \"Topic5\", \"Topic5\", \"Topic5\", \"Topic5\", \"Topic5\", \"Topic5\", \"Topic5\", \"Topic5\", \"Topic5\", \"Topic5\", \"Topic5\", \"Topic5\", \"Topic5\", \"Topic5\", \"Topic5\", \"Topic5\", \"Topic5\", \"Topic5\", \"Topic5\", \"Topic5\", \"Topic5\", \"Topic5\", \"Topic5\", \"Topic5\", \"Topic5\", \"Topic5\", \"Topic5\", \"Topic5\", \"Topic5\", \"Topic5\", \"Topic5\", \"Topic5\", \"Topic5\", \"Topic5\", \"Topic5\", \"Topic5\", \"Topic5\", \"Topic5\", \"Topic5\"], \"logprob\": [30.0, 29.0, 28.0, 27.0, 26.0, 25.0, 24.0, 23.0, 22.0, 21.0, 20.0, 19.0, 18.0, 17.0, 16.0, 15.0, 14.0, 13.0, 12.0, 11.0, 10.0, 9.0, 8.0, 7.0, 6.0, 5.0, 4.0, 3.0, 2.0, 1.0, -6.384900093078613, -6.3850998878479, -6.489699840545654, -5.86269998550415, -6.7332000732421875, -6.734899997711182, -6.734499931335449, -6.882199764251709, -6.884900093078613, -7.059000015258789, -7.059599876403809, -7.059899806976318, -7.061600208282471, -7.061699867248535, -6.3850998878479, -7.270899772644043, -7.271500110626221, -7.2718000411987305, -7.271999835968018, -7.272299766540527, -7.272500038146973, -7.2733001708984375, -7.2733001708984375, -7.273600101470947, -7.274499893188477, -7.27400016784668, -7.274199962615967, -7.274799823760986, -7.274799823760986, -7.274799823760986, -6.292399883270264, -5.564599990844727, -5.921599864959717, -6.203999996185303, -6.881100177764893, -6.883299827575684, -6.886899948120117, -6.7332000732421875, -6.384399890899658, -5.985300064086914, -6.054699897766113, -6.73330020904541, -5.985199928283691, -6.487400054931641, -5.477399826049805, -5.751500129699707, -5.058199882507324, -6.052299976348877, -5.860400199890137, -5.917500019073486, -6.289299964904785, -6.602799892425537, -6.2052998542785645, -5.747799873352051, -5.983699798583984, -5.982999801635742, -5.857600212097168, -6.0503997802734375, -6.381999969482422, -6.2895002365112305, -6.381499767303467, -6.206699848175049, -6.28879976272583, -6.381199836730957, -6.381499767303467, -6.285399913787842, -6.633399963378906, -6.781400203704834, -6.78249979019165, -6.782800197601318, -6.958600044250488, -6.958700180053711, -6.958799839019775, -6.958700180053711, -6.959099769592285, -7.17140007019043, -7.171999931335449, -7.171800136566162, -7.172299861907959, -7.172100067138672, -7.172100067138672, -7.172299861907959, -7.1722002029418945, -7.172500133514404, -7.172299861907959, -7.172399997711182, -7.172699928283691, -7.172699928283691, -7.173099994659424, -7.173500061035156, -6.501699924468994, -6.502799987792969, -7.441400051116943, -7.442599773406982, -7.442500114440918, -5.763000011444092, -5.822299957275391, -6.782899856567383, -6.3871002197265625, -6.3881001472473145, -6.78249979019165, -6.283400058746338, -6.501800060272217, -6.6321001052856445, -5.650400161743164, -6.385700225830078, -5.23330020904541, -5.758600234985352, -5.627699851989746, -6.958199977874756, -5.041299819946289, -5.820799827575684, -6.5, -6.1975998878479, -6.104499816894531, -6.046800136566162, -6.024499893188477, -5.948699951171875, -5.757800102233887, -6.1082000732421875, -5.828400135040283, -6.022900104522705, -6.026800155639648, -6.394000053405762, -6.097899913787842, -6.108799934387207, -6.186600208282471, -6.209400177001953, -6.385300159454346, -6.276400089263916, -6.381700038909912, -6.38070011138916, -6.383600234985352, -6.383699893951416, -6.384399890899658, -6.309700012207031, -6.4243998527526855, -6.4243998527526855, -6.553699970245361, -6.703400135040283, -6.70389986038208, -6.879000186920166, -6.87939977645874, -6.879700183868408, -6.879799842834473, -6.879899978637695, -6.88129997253418, -6.424099922180176, -7.092199802398682, -7.092700004577637, -7.092800140380859, -7.092899799346924, -7.092899799346924, -7.0929999351501465, -7.093599796295166, -7.093500137329102, -7.093400001525879, -7.093800067901611, -7.095099925994873, -7.096399784088135, -7.096499919891357, -6.308599948883057, -6.310500144958496, -5.87529993057251, -6.424300193786621, -5.950699806213379, -5.907800197601318, -6.309199810028076, -6.205900192260742, -5.524199962615967, -5.682499885559082, -6.111299991607666, -6.423900127410889, -6.703800201416016, -6.7032999992370605, -5.875, -5.94789981842041, -6.554599761962891, -6.3069000244140625, -6.091400146484375, -5.946599960327148, -6.188399791717529, -5.729899883270264, -6.30810022354126, -6.307700157165527, -6.1092000007629395, -5.945099830627441, -6.02370023727417, -6.312099933624268, -6.0208001136779785, -5.939000129699707, -6.106100082397461, -6.201300144195557, -6.30620002746582, -6.30709981918335, -6.012400150299072, -6.294099807739258, -6.689199924468994, -6.864500045776367, -6.864699840545654, -6.865300178527832, -7.077700138092041, -7.0782999992370605, -7.078800201416016, -7.079500198364258, -7.079699993133545, -7.081299781799316, -7.081900119781494, -7.348100185394287, -7.348700046539307, -7.348599910736084, -7.348800182342529, -7.349100112915039, -7.349100112915039, -7.349100112915039, -7.349599838256836, -7.349899768829346, -7.350299835205078, -7.350200176239014, -7.350500106811523, -7.350399971008301, -7.350399971008301, -7.350299835205078, -7.3506999015808105, -7.350599765777588, -6.539599895477295, -6.539899826049805, -6.543300151824951, -6.944900035858154, -6.946499824523926, -6.446100234985352, -6.293300151824951, -6.191299915313721, -5.793099880218506, -6.688700199127197, -6.86460018157959, -5.173299789428711, -5.668300151824951, -6.126100063323975, -5.327499866485596, -6.864500045776367, -6.864799976348877, -6.689199924468994, -6.294000148773193, -6.359600067138672, -5.763199806213379, -5.670499801635742, -6.0802998542785645, -6.538700103759766, -5.930799961090088, -6.093699932098389, -6.414999961853027, -6.295499801635742, -6.0945000648498535, -5.726500034332275, -5.929699897766113, -5.610300064086914, -6.210999965667725, -5.998799800872803, -6.078400135040283, -5.324999809265137, -5.932000160217285, -5.913700103759766, -6.191800117492676, -6.045599937438965, -6.159599781036377, -6.010200023651123, -6.191100120544434, -6.2245001792907715, -6.182300090789795, -6.246399879455566, -5.900000095367432, -6.049699783325195, -6.050099849700928, -6.05019998550415, -6.0503997802734375, -6.439000129699707, -6.4390997886657715, -6.439199924468994, -6.439799785614014, -6.440000057220459, -6.710999965667725, -6.710999965667725, -6.71120023727417, -6.711400032043457, -6.712100028991699, -6.712200164794922, -6.048799991607666, -6.049499988555908, -6.049499988555908, -6.226099967956543, -6.225599765777588, -7.08489990234375, -7.085000038146973, -7.085100173950195, -7.085400104522705, -7.0854997634887695, -7.085599899291992, -7.085599899291992, -7.085599899291992, -7.085700035095215, -5.770100116729736, -5.654300212860107, -6.224699974060059, -6.224899768829346, -6.2256999015808105, -6.439199924468994, -6.048900127410889, -5.08620023727417, -6.224699974060059, -6.047800064086914, -5.290500164031982, -6.047399997711182, -6.223999977111816, -5.767499923706055, -6.224400043487549, -5.144199848175049, -5.89709997177124, -6.047299861907959, -5.899899959564209, -6.046000003814697, -6.048600196838379, -6.046899795532227, -6.212100028991699, -6.215099811553955, -6.221099853515625, -6.22189998626709, -6.222700119018555, -6.223800182342529, -6.223899841308594], \"loglift\": [30.0, 29.0, 28.0, 27.0, 26.0, 25.0, 24.0, 23.0, 22.0, 21.0, 20.0, 19.0, 18.0, 17.0, 16.0, 15.0, 14.0, 13.0, 12.0, 11.0, 10.0, 9.0, 8.0, 7.0, 6.0, 5.0, 4.0, 3.0, 2.0, 1.0, 1.246399998664856, 1.246399998664856, 1.2379000186920166, 1.2210999727249146, 1.2200000286102295, 1.2187999486923218, 1.2187999486923218, 1.2062000036239624, 1.204200029373169, 1.1859999895095825, 1.1852999925613403, 1.1850999593734741, 1.183500051498413, 1.18340003490448, 1.1617000102996826, 1.1598999500274658, 1.1589000225067139, 1.1585999727249146, 1.1584999561309814, 1.1582000255584717, 1.1578999757766724, 1.1572999954223633, 1.1571999788284302, 1.1569000482559204, 1.1567000150680542, 1.156599998474121, 1.156499981880188, 1.155900001525879, 1.155900001525879, 1.1557999849319458, 1.1238000392913818, 1.0678000450134277, 1.0211999416351318, 0.9434000253677368, 1.0781999826431274, 1.0757999420166016, 1.0734000205993652, 1.0343999862670898, 0.9480000138282776, 0.8334000110626221, 0.8346999883651733, 1.0042999982833862, 0.7597000002861023, 0.9143000245094299, 0.5795999765396118, 0.5939000248908997, 0.19359999895095825, 0.5295000076293945, 0.3887999951839447, 0.4235999882221222, 0.6657000184059143, 0.8743000030517578, 0.5830000042915344, 0.20900000631809235, 0.30320000648498535, 0.2818000018596649, -0.0006000000284984708, 0.181099995970726, 0.6007999777793884, 0.3352999985218048, 0.5152999758720398, 0.09989999979734421, 0.21359999477863312, 0.02539999969303608, 0.14270000159740448, 1.3796000480651855, 1.3522000312805176, 1.3388999700546265, 1.3378000259399414, 1.337399959564209, 1.3172999620437622, 1.317199945449829, 1.3171000480651855, 1.3171000480651855, 1.3167999982833862, 1.289199948310852, 1.288599967956543, 1.2884999513626099, 1.2882000207901, 1.2882000207901, 1.288100004196167, 1.288100004196167, 1.288100004196167, 1.2879999876022339, 1.2879999876022339, 1.2879999876022339, 1.287600040435791, 1.287600040435791, 1.2871999740600586, 1.2868000268936157, 1.260599970817566, 1.2551000118255615, 1.2452000379562378, 1.2443000078201294, 1.2440999746322632, 1.208299994468689, 1.149399995803833, 1.2041000127792358, 1.1611000299453735, 1.1114000082015991, 1.1991000175476074, 1.072700023651123, 1.1004999876022339, 1.1263999938964844, 0.7930999994277954, 1.0263999700546265, 0.6236000061035156, 0.7656000256538391, 0.7142000198364258, 1.208899974822998, 0.21050000190734863, 0.5432999730110168, 0.9168000221252441, 0.7394999861717224, 0.6402999758720398, 0.5598999857902527, 0.4779999852180481, 0.39239999651908875, 0.19910000264644623, 0.4650999903678894, 0.13120000064373016, 0.3357999920845032, 0.26019999384880066, 0.7364000082015991, 0.2476000040769577, 0.15600000321865082, 0.1200999990105629, 0.03970000147819519, 0.6171000003814697, -0.019200000911951065, 0.43700000643730164, -0.06279999762773514, 0.35569998621940613, 0.33959999680519104, 0.3953000009059906, 1.4637999534606934, 1.4550000429153442, 1.454800009727478, 1.4437999725341797, 1.4285999536514282, 1.4280999898910522, 1.4083000421524048, 1.4077999591827393, 1.4077999591827393, 1.4076999425888062, 1.4076000452041626, 1.4057999849319458, 1.3804999589920044, 1.378999948501587, 1.378600001335144, 1.378499984741211, 1.3782999515533447, 1.3782999515533447, 1.378100037574768, 1.3779000043869019, 1.3777999877929688, 1.3777999877929688, 1.3776999711990356, 1.376099944114685, 1.374899983406067, 1.3746999502182007, 1.368899941444397, 1.3672000169754028, 1.36489999294281, 1.344099998474121, 1.2831000089645386, 1.2366000413894653, 1.2763999700546265, 1.2273000478744507, 1.097599983215332, 1.1024999618530273, 1.1827000379562378, 1.2446000576019287, 1.292199969291687, 1.2879999876022339, 1.0430999994277954, 0.8838000297546387, 1.113800048828125, 0.9800000190734863, 0.7973999977111816, 0.6460999846458435, 0.7720999717712402, 0.2298000007867813, 0.8235999941825867, 0.8172000050544739, 0.5685999989509583, 0.2863999903202057, 0.24279999732971191, 0.6904000043869019, -0.16380000114440918, -0.6870999932289124, -0.14920000731945038, 0.2053000032901764, 0.5525000095367432, 0.41620001196861267, 1.4944000244140625, 1.476199984550476, 1.4400999546051025, 1.4198999404907227, 1.419800043106079, 1.4191999435424805, 1.3909000158309937, 1.3903000354766846, 1.3898999691009521, 1.3890000581741333, 1.388800024986267, 1.3875000476837158, 1.3867000341415405, 1.3459999561309814, 1.345900058746338, 1.3456000089645386, 1.3453999757766724, 1.3451999425888062, 1.3451000452041626, 1.3449000120162964, 1.344599962234497, 1.3444000482559204, 1.344099998474121, 1.343999981880188, 1.3438999652862549, 1.3438999652862549, 1.3438999652862549, 1.3437999486923218, 1.3437999486923218, 1.3437000513076782, 1.3356000185012817, 1.3351000547409058, 1.3315000534057617, 1.3388999700546265, 1.337399959564209, 1.3243999481201172, 1.3193000555038452, 1.3079999685287476, 1.2807999849319458, 1.2999000549316406, 1.3104000091552734, 1.1446000337600708, 1.180400013923645, 1.170300006866455, 1.0311000347137451, 1.2635999917984009, 1.2575000524520874, 1.2226999998092651, 1.1292999982833862, 1.1442999839782715, 0.9847999811172485, 0.894599974155426, 0.9898999929428101, 1.155500054359436, 0.8066999912261963, 0.8666999936103821, 1.038699984550476, 0.9340999722480774, 0.795799970626831, 0.5306000113487244, 0.6549000144004822, 0.34940001368522644, 0.8536999821662903, 0.6606000065803528, 0.707099974155426, -0.07320000231266022, 0.5494999885559082, 0.35269999504089355, 0.6525999903678894, 0.2962999939918518, 0.4472000002861023, -0.05339999869465828, 0.39070001244544983, 0.538100004196167, 0.12439999729394913, -0.01489999983459711, 2.4128000736236572, 2.3903000354766846, 2.3898000717163086, 2.3894999027252197, 2.3893001079559326, 2.3173999786376953, 2.3173000812530518, 2.3171000480651855, 2.3162999153137207, 2.3159000873565674, 2.251199960708618, 2.251199960708618, 2.250999927520752, 2.250699996948242, 2.2497000694274902, 2.249500036239624, 2.212100028991699, 2.2095999717712402, 2.203399896621704, 2.1530001163482666, 2.1466000080108643, 2.137200117111206, 2.13700008392334, 2.136899948120117, 2.1364998817443848, 2.1363000869750977, 2.1363000869750977, 2.136199951171875, 2.136199951171875, 2.136199951171875, 1.934000015258789, 1.9149999618530273, 1.9793000221252441, 1.840499997138977, 1.8259999752044678, 1.8824000358581543, 1.701799988746643, 1.1708999872207642, 1.702299952507019, 1.5195000171661377, 0.7664999961853027, 1.5113999843597412, 1.6028000116348267, 0.9718999862670898, 1.6008000373840332, 0.10760000348091125, 1.0398999452590942, 1.2977999448776245, 0.9904000163078308, 1.243299961090088, 1.1727999448776245, 0.5457000136375427, 0.3612000048160553, 0.1914999932050705, 0.7289000153541565, 1.1644999980926514, 0.7199000120162964, 1.3228000402450562, 1.4057999849319458]}, \"token.table\": {\"Topic\": [2, 3, 4, 5, 4, 5, 1, 1, 2, 4, 5, 1, 4, 5, 2, 5, 1, 2, 3, 4, 5, 1, 4, 5, 2, 1, 1, 2, 3, 4, 5, 1, 2, 3, 4, 5, 3, 1, 2, 3, 4, 5, 1, 2, 4, 5, 2, 5, 1, 2, 3, 4, 5, 3, 2, 4, 5, 2, 3, 1, 3, 2, 4, 1, 4, 5, 1, 2, 2, 3, 3, 1, 2, 3, 4, 5, 1, 2, 1, 2, 3, 4, 5, 1, 4, 5, 4, 2, 4, 1, 2, 5, 1, 2, 3, 4, 5, 3, 4, 4, 1, 2, 3, 4, 5, 1, 2, 1, 2, 4, 5, 3, 4, 5, 1, 3, 4, 1, 2, 3, 4, 5, 2, 1, 2, 3, 4, 2, 2, 3, 4, 5, 1, 2, 3, 4, 1, 2, 3, 4, 5, 4, 1, 4, 4, 4, 3, 4, 1, 2, 5, 1, 2, 3, 5, 3, 4, 2, 1, 2, 3, 4, 2, 1, 3, 2, 4, 5, 1, 2, 3, 4, 5, 1, 1, 2, 3, 4, 5, 1, 3, 4, 5, 1, 2, 3, 4, 5, 1, 3, 2, 1, 2, 4, 5, 1, 2, 3, 4, 5, 1, 2, 5, 1, 2, 3, 4, 4, 1, 2, 3, 4, 1, 2, 3, 4, 5, 1, 3, 1, 1, 1, 1, 2, 3, 4, 5, 1, 2, 1, 1, 3, 2, 1, 2, 3, 5, 1, 2, 1, 2, 3, 1, 4, 2, 5, 1, 2, 5, 4, 5, 1, 1, 2, 3, 4, 5, 4, 3, 3, 4, 1, 2, 3, 4, 5, 5, 1, 2, 3, 4, 3, 1, 1, 4, 1, 1, 2, 3, 4, 5, 4, 1, 5, 1, 2, 3, 4, 5, 1, 4, 5, 1, 4, 5, 2, 5, 2, 4, 2, 4, 1, 2, 3, 4, 1, 2, 3, 4, 5, 5, 5, 1, 2, 3, 4, 1, 2, 3, 4, 5, 3, 1, 2, 3, 4, 5, 2, 1, 2, 3, 5, 2, 3, 4, 3, 3, 2, 3, 4, 1, 2, 3, 4, 5, 1, 2, 3, 4, 5, 2, 4, 5, 2, 2, 3, 4, 4, 1, 2, 3, 4, 2, 4, 5, 2, 3, 4, 2, 3, 4, 5, 1, 2, 3, 4, 5, 1, 3, 4, 1, 1, 2, 3, 5, 1, 3, 1, 3, 1, 2, 3, 4, 5, 1, 2, 3, 4, 5, 1, 2, 3, 4, 5, 2, 2, 4, 1, 3, 2, 5, 5, 2, 3, 4, 5, 4, 5, 2, 3, 4, 4, 1, 2, 3, 4, 1, 2, 3, 4, 5, 1, 1, 1, 2, 3, 4, 5, 2, 4, 2, 4, 3, 1, 2, 3, 5, 2, 1, 2, 3, 4, 1, 2, 3, 4, 5, 2, 3, 4, 5, 2, 3, 4, 5, 1, 2, 3, 4, 5, 3, 3, 1, 2, 3, 4, 5, 2, 1, 4, 3, 1, 2, 3, 4, 5, 2, 3, 1, 2, 4, 5, 2, 3, 4, 5, 4, 2, 5, 1, 3, 4, 1, 4, 3, 1, 2, 3, 4, 5, 2, 4, 5, 4, 1, 2, 3, 4, 5, 1, 2, 4, 5, 4, 4, 5, 1, 2, 3, 4, 5, 4, 5, 3, 3, 1, 5, 3, 2, 5, 1, 3, 4, 5, 1, 2, 3, 4, 5, 3, 1, 1, 2, 1, 4, 3, 4, 1, 2, 3, 1, 3, 2, 3, 4, 5, 1, 2, 4, 4, 1, 3, 1, 2, 3, 4, 5, 4, 5, 1, 2, 3, 4, 5, 1, 2, 3, 4, 5, 4, 1, 2, 3, 4, 5, 1, 1, 2, 3, 4, 5, 1, 3, 4, 1, 2, 3, 4, 5, 2, 3, 4, 2, 4, 1, 2, 3, 4, 5, 1, 2, 3, 4, 2, 2, 4, 5, 1, 2, 3, 4, 5, 5, 5, 4, 1, 2, 3, 4, 5, 4, 2, 4, 3, 1, 2, 3, 4, 1, 2, 3, 4, 5, 1, 5, 5, 2, 1, 2, 3, 4, 5, 1, 1, 2, 3, 3, 2, 1, 2, 3, 4, 4, 1, 4, 1, 4, 2, 4, 5], \"Freq\": [0.07080730050802231, 0.7080730199813843, 0.14161460101604462, 0.07080730050802231, 0.8851920366287231, 0.5653518438339233, 0.8514038324356079, 0.3672236204147339, 0.1573815494775772, 0.41968414187431335, 0.05246051773428917, 0.20430578291416168, 0.20430578291416168, 0.6129173040390015, 0.8210875988006592, 0.5654200315475464, 0.1731034368276596, 0.2596551477909088, 0.1731034368276596, 0.1731034368276596, 0.2596551477909088, 0.7686004638671875, 0.8857513070106506, 0.7098966240882874, 0.9395076036453247, 0.7686678767204285, 0.10358371585607529, 0.20716743171215057, 0.517918586730957, 0.10358371585607529, 0.05179185792803764, 0.32392680644989014, 0.2807365655899048, 0.1727609634399414, 0.19435608386993408, 0.7096027731895447, 0.9504834413528442, 0.4122430384159088, 0.3488210439682007, 0.12684401869773865, 0.09513300657272339, 0.03171100467443466, 0.09358930587768555, 0.09358930587768555, 0.6551251411437988, 0.1871786117553711, 0.9394881129264832, 0.8717210292816162, 0.48195770382881165, 0.3012235760688782, 0.12048942595720291, 0.060244712978601456, 0.060244712978601456, 0.9504789710044861, 0.8781006336212158, 0.9269054532051086, 0.8718395233154297, 0.16592080891132355, 0.8296040296554565, 0.23916633427143097, 0.7174990177154541, 0.7000793814659119, 0.26252976059913635, 0.603585422039032, 0.27435699105262756, 0.05487139895558357, 0.7686207890510559, 0.7921888828277588, 0.8780888915061951, 0.8860021233558655, 0.8858331441879272, 0.3790494501590729, 0.21058301627635956, 0.21058301627635956, 0.08423320949077606, 0.08423320949077606, 0.7687373161315918, 0.7920230031013489, 0.28336623311042786, 0.33059394359588623, 0.09445541352033615, 0.09445541352033615, 0.1889108270406723, 0.7923619747161865, 0.13206033408641815, 0.13206033408641815, 0.6672700047492981, 0.18935130536556244, 0.7574052214622498, 0.3718053698539734, 0.12393511831760406, 0.49574047327041626, 0.20946325361728668, 0.48874759674072266, 0.13964217901229858, 0.13964217901229858, 0.06982108950614929, 0.1324252337217331, 0.7945513725280762, 0.7985826134681702, 0.08272041380405426, 0.4136020541191101, 0.16544082760810852, 0.33088165521621704, 0.04136020690202713, 0.16356536746025085, 0.8178268074989319, 0.3097318112850189, 0.15486590564250946, 0.15486590564250946, 0.4645977318286896, 0.1525503247976303, 0.7627516388893127, 0.1525503247976303, 0.4123889207839966, 0.4713016152381897, 0.05891270190477371, 0.4777454733848572, 0.2866472899913788, 0.0636993944644928, 0.1273987889289856, 0.0318496972322464, 0.7919184565544128, 0.5273149609565735, 0.11718109995126724, 0.23436219990253448, 0.11718109995126724, 0.7919414043426514, 0.17785057425498962, 0.17785057425498962, 0.17785057425498962, 0.5335516929626465, 0.27894771099090576, 0.5578954219818115, 0.1859651505947113, 0.6670445799827576, 0.12984327971935272, 0.12984327971935272, 0.12984327971935272, 0.25968655943870544, 0.389529824256897, 0.6672505140304565, 0.7686711549758911, 0.6671778559684753, 0.6670839190483093, 0.7986091375350952, 0.800609290599823, 0.6671183109283447, 0.8471599817276001, 0.10589499771595001, 0.8720301389694214, 0.613519549369812, 0.357886403799057, 0.8222494125366211, 0.13704156875610352, 0.8446530699729919, 0.12066473066806793, 0.8781675100326538, 0.710178792476654, 0.14203575253486633, 0.07101787626743317, 0.07101787626743317, 0.7920929193496704, 0.80057692527771, 0.16011539101600647, 0.7919402122497559, 0.7985873222351074, 0.709690511226654, 0.04943243786692619, 0.09886487573385239, 0.6426216959953308, 0.19772975146770477, 0.04943243786692619, 0.8515089154243469, 0.7688115239143372, 0.1929652988910675, 0.1929652988910675, 0.5788958668708801, 0.09648264944553375, 0.05646784231066704, 0.6211462616920471, 0.2823392152786255, 0.05646784231066704, 0.058907024562358856, 0.058907024562358856, 0.35344213247299194, 0.47125619649887085, 0.058907024562358856, 0.7689338326454163, 0.256311297416687, 0.7921090126037598, 0.23815976083278656, 0.1428958624601364, 0.5715834498405457, 0.04763195291161537, 0.3525928854942322, 0.2644446790218353, 0.14691370725631714, 0.1762964427471161, 0.058765482157468796, 0.8362841010093689, 0.0929204523563385, 0.0929204523563385, 0.15869730710983276, 0.11902298778295517, 0.19837164878845215, 0.5157662630081177, 0.8855490684509277, 0.5925355553627014, 0.09875592589378357, 0.09875592589378357, 0.19751185178756714, 0.20601357519626617, 0.20601357519626617, 0.26487457752227783, 0.29430511593818665, 0.029430510476231575, 0.16515889763832092, 0.8257944583892822, 0.7689239382743835, 0.7692715525627136, 0.8513576984405518, 0.15158917009830475, 0.2598671615123749, 0.2598671615123749, 0.3031783401966095, 0.021655596792697906, 0.13076625764369965, 0.7845975160598755, 0.8881185054779053, 0.7997676134109497, 0.1599535197019577, 0.662070631980896, 0.15295305848121643, 0.30590611696243286, 0.30590611696243286, 0.22942957282066345, 0.7687788605690002, 0.6622368693351746, 0.6410921216011047, 0.09158458560705185, 0.1831691712141037, 0.768866240978241, 0.6671496033668518, 0.7876063585281372, 0.1969015896320343, 0.3508840799331665, 0.17544203996658325, 0.5263261198997498, 0.6671878695487976, 0.7758604884147644, 0.9219298958778381, 0.255420058965683, 0.07297715544700623, 0.21893146634101868, 0.36488577723503113, 0.07297715544700623, 0.9479682445526123, 0.8006206750869751, 0.8572227954864502, 0.15585869550704956, 0.2705909013748169, 0.18039393424987793, 0.18039393424987793, 0.18039393424987793, 0.2705909013748169, 0.5653716325759888, 0.0657445639371872, 0.2629782557487488, 0.1314891278743744, 0.591701090335846, 0.8008696436882019, 0.9106132388114929, 0.7996286749839783, 0.15992572903633118, 0.7687118053436279, 0.10642414540052414, 0.21284829080104828, 0.3724845051765442, 0.26606035232543945, 0.05321207270026207, 0.6673927307128906, 0.9538370370864868, 0.5653305053710938, 0.23742587864398956, 0.42736658453941345, 0.04748517647385597, 0.23742587864398956, 0.04748517647385597, 0.21616831421852112, 0.43233662843704224, 0.32425248622894287, 0.24541664123535156, 0.6135416030883789, 0.12270832061767578, 0.9394375681877136, 0.9111840128898621, 0.7881306409835815, 0.13135510683059692, 0.7070192694664001, 0.2020055055618286, 0.30465832352638245, 0.4950697720050812, 0.11424687504768372, 0.07616458088159561, 0.32009124755859375, 0.2880821228027344, 0.10669708251953125, 0.19205474853515625, 0.085357666015625, 0.8721421957015991, 0.5654770731925964, 0.2788521349430084, 0.3253275156021118, 0.3253275156021118, 0.0929507166147232, 0.404960036277771, 0.23140573501586914, 0.17355430126190186, 0.17355430126190186, 0.028925716876983643, 0.8006780743598938, 0.2800061106681824, 0.3600078523159027, 0.1200026199221611, 0.08000174909830093, 0.1200026199221611, 0.7921685576438904, 0.20976223051548004, 0.20976223051548004, 0.48944520950317383, 0.06992074102163315, 0.24729521572589874, 0.08243174105882645, 0.6594539284706116, 0.8309693336486816, 0.8882947564125061, 0.2633969485759735, 0.0526793897151947, 0.6848320960998535, 0.06197059899568558, 0.21689710021018982, 0.03098529949784279, 0.6506912708282471, 0.03098529949784279, 0.30638349056243896, 0.27574512362480164, 0.15319174528121948, 0.2451067864894867, 0.030638348311185837, 0.7919484376907349, 0.560454249382019, 0.4203406870365143, 0.7919267416000366, 0.7149223685264587, 0.059576861560344696, 0.17873059213161469, 0.885776937007904, 0.19616934657096863, 0.2615591287612915, 0.06538978219032288, 0.523118257522583, 0.7422176003456116, 0.10603109002113342, 0.10603109002113342, 0.1890401393175125, 0.75616055727005, 0.09452006965875626, 0.47605234384536743, 0.1904209405183792, 0.2856314182281494, 0.0317368246614933, 0.12234430760145187, 0.16312573850154877, 0.4078143537044525, 0.16312573850154877, 0.12234430760145187, 0.11008313298225403, 0.7705819606781006, 0.11008313298225403, 0.9543556571006775, 0.06143958494067192, 0.43007710576057434, 0.43007710576057434, 0.06143958494067192, 0.7687892913818359, 0.8883247375488281, 0.6836521625518799, 0.25636956095695496, 0.13078349828720093, 0.21797248721122742, 0.17437799274921417, 0.3923504650592804, 0.08718899637460709, 0.222029447555542, 0.2664353549480438, 0.3552471101284027, 0.08881177753210068, 0.04440588876605034, 0.3604806661605835, 0.3004005551338196, 0.1502002775669098, 0.12016022205352783, 0.060080111026763916, 0.9533898830413818, 0.8222051858901978, 0.1644410341978073, 0.9218382239341736, 0.8006092309951782, 0.21587702631950378, 0.647631049156189, 0.7098649740219116, 0.2797577679157257, 0.13987888395786285, 0.2797577679157257, 0.41963663697242737, 0.21627454459667206, 0.648823618888855, 0.7742032408714294, 0.059554096311330795, 0.11910819262266159, 0.7984696626663208, 0.4959409236907959, 0.1983763575553894, 0.0991881787776947, 0.1983763575553894, 0.1644786149263382, 0.0822393074631691, 0.6579144597053528, 0.0822393074631691, 0.7759143114089966, 0.953954815864563, 0.7686464190483093, 0.3472406566143036, 0.1736203283071518, 0.2893671989440918, 0.0578734390437603, 0.1736203283071518, 0.30432620644569397, 0.7100944519042969, 0.14703036844730377, 0.7351518273353577, 0.888045072555542, 0.2449599951505661, 0.16330666840076447, 0.5715733170509338, 0.7098872065544128, 0.6620786190032959, 0.44376447796821594, 0.16136890649795532, 0.08068445324897766, 0.32273781299591064, 0.47735658288002014, 0.14320698380470276, 0.07160349190235138, 0.14320698380470276, 0.1670747995376587, 0.27775490283966064, 0.48607107996940613, 0.20831617712974548, 0.565407395362854, 0.08185527473688126, 0.1637105494737625, 0.49113166332244873, 0.24556583166122437, 0.12136150151491165, 0.20226916670799255, 0.20226916670799255, 0.4045383334159851, 0.04045383259654045, 0.8007055521011353, 0.8882335424423218, 0.2271629124879837, 0.38942211866378784, 0.09735552966594696, 0.19471105933189392, 0.06490369141101837, 0.7919275164604187, 0.1882764995098114, 0.7531059980392456, 0.8881778717041016, 0.27087029814720154, 0.16929392516613007, 0.27087029814720154, 0.20315271615982056, 0.10157635807991028, 0.7919169068336487, 0.8005439639091492, 0.1119370236992836, 0.6716221570968628, 0.1119370236992836, 0.1119370236992836, 0.1083008199930191, 0.2166016399860382, 0.1083008199930191, 0.5415040850639343, 0.915623128414154, 0.459613174200058, 0.459613174200058, 0.7638208866119385, 0.08486898243427277, 0.12730348110198975, 0.2019503116607666, 0.8078012466430664, 0.8007084131240845, 0.11503534018993378, 0.11503534018993378, 0.23007068037986755, 0.23007068037986755, 0.3451060354709625, 0.11308642476797104, 0.7916049957275391, 0.11308642476797104, 0.6671868562698364, 0.33537325263023376, 0.37263694405555725, 0.18631847202777863, 0.037263695150613785, 0.07452739030122757, 0.3215195834636688, 0.10717319697141647, 0.21434639394283295, 0.3215195834636688, 0.8851057291030884, 0.6671295762062073, 0.8721466064453125, 0.31262123584747314, 0.17052067816257477, 0.28420114517211914, 0.19894079864025116, 0.028420113027095795, 0.798674464225769, 0.5653281807899475, 0.8007208108901978, 0.9298608303070068, 0.24172495305538177, 0.7251748442649841, 0.8008444309234619, 0.24338161945343018, 0.7301448583602905, 0.10586977750062943, 0.21173955500125885, 0.4234791100025177, 0.31760933995246887, 0.34418389201164246, 0.34418389201164246, 0.14750738441944122, 0.09833825379610062, 0.04916912689805031, 0.8883144855499268, 0.910026490688324, 0.27762919664382935, 0.6478014588356018, 0.851341962814331, 0.7985273599624634, 0.8448343873023987, 0.12069062888622284, 0.1548573225736618, 0.0774286612868309, 0.7742866277694702, 0.7688257694244385, 0.8006539344787598, 0.46038758754730225, 0.05754844844341278, 0.23019379377365112, 0.23019379377365112, 0.13085027039051056, 0.6542513966560364, 0.13085027039051056, 0.6670898199081421, 0.13215114176273346, 0.7929068207740784, 0.05831607058644295, 0.2332642823457718, 0.1166321411728859, 0.3498964309692383, 0.2332642823457718, 0.7938088774681091, 0.19845221936702728, 0.03227327764034271, 0.3227327764034271, 0.03227327764034271, 0.5809189677238464, 0.03227327764034271, 0.1978168487548828, 0.24727106094360352, 0.0494542121887207, 0.44508790969848633, 0.0494542121887207, 0.6669965982437134, 0.23570382595062256, 0.09428153187036514, 0.141422301530838, 0.4714076519012451, 0.04714076593518257, 0.7688498497009277, 0.07710690051317215, 0.1542138010263443, 0.1542138010263443, 0.5397483110427856, 0.1542138010263443, 0.23915766179561615, 0.5978941321372986, 0.11957883089780807, 0.17567019164562225, 0.5270105600357056, 0.07026807963848114, 0.17567019164562225, 0.07026807963848114, 0.13197030127048492, 0.13197030127048492, 0.7258366942405701, 0.14699514210224152, 0.7349756956100464, 0.2735920548439026, 0.42993035912513733, 0.17588059604167938, 0.09771144390106201, 0.019542289897799492, 0.5698513388633728, 0.2849256694316864, 0.09497522562742233, 0.047487612813711166, 0.8780702352523804, 0.7919536828994751, 0.667278528213501, 0.7757630348205566, 0.4422365427017212, 0.1105591356754303, 0.16583870351314545, 0.16583870351314545, 0.05527956783771515, 0.8720987439155579, 0.7760207653045654, 0.6670536994934082, 0.17489302158355713, 0.291488379240036, 0.291488379240036, 0.11659535020589828, 0.17489302158355713, 0.7985091805458069, 0.7920022010803223, 0.667154848575592, 0.8006516695022583, 0.10968194156885147, 0.054840970784425735, 0.4935687184333801, 0.38388678431510925, 0.08397591859102249, 0.041987959295511246, 0.629819393157959, 0.20993980765342712, 0.041987959295511246, 0.21454574167728424, 0.6436372399330139, 0.5653277039527893, 0.792025625705719, 0.16475923359394073, 0.05491974577307701, 0.10983949154615402, 0.4393579661846161, 0.21967898309230804, 0.8515324592590332, 0.7524942755699158, 0.1736525297164917, 0.05788417533040047, 0.8006628751754761, 0.8781459927558899, 0.19334980845451355, 0.29002469778060913, 0.14501234889030457, 0.3383621573448181, 0.6670820116996765, 0.16471372544765472, 0.8235686421394348, 0.9330936670303345, 0.06664954870939255, 0.14704543352127075, 0.7352271676063538, 0.5653433799743652], \"Term\": [\"abogados\", \"abogados\", \"abogados\", \"abogados\", \"aclarar\", \"activo\", \"actriz\", \"afirmo\", \"afirmo\", \"afirmo\", \"afirmo\", \"agencia\", \"agencia\", \"agencia\", \"agentes_gendarmeria\", \"agnet\", \"agosto\", \"agosto\", \"agosto\", \"agosto\", \"agosto\", \"alineamiento\", \"alta\", \"amenazas\", \"amia\", \"amigos\", \"ano\", \"ano\", \"ano\", \"ano\", \"ano\", \"anos\", \"anos\", \"anos\", \"anos\", \"apartamiento\", \"apelacion\", \"argentina\", \"argentina\", \"argentina\", \"argentina\", \"argentina\", \"atencion\", \"atencion\", \"atencion\", \"atencion\", \"atentado\", \"auditoria\", \"aunque\", \"aunque\", \"aunque\", \"aunque\", \"aunque\", \"avila\", \"basilica\", \"bicentenario\", \"bioetica\", \"bloque\", \"bloque\", \"bolivia\", \"bolivia\", \"bonadio\", \"bonadio\", \"bono\", \"bono\", \"bono\", \"brisco\", \"buen\", \"buscando\", \"camara_apelaciones\", \"camaristas\", \"cambiemos\", \"cambiemos\", \"cambiemos\", \"cambiemos\", \"cambiemos\", \"campo\", \"cancilleria\", \"candidato\", \"candidato\", \"candidato\", \"candidato\", \"candidato\", \"candidatos\", \"candidatos\", \"candidatos\", \"canuelas\", \"capacidad\", \"capacidad\", \"carga\", \"carga\", \"carga\", \"cargo\", \"cargo\", \"cargo\", \"cargo\", \"cargo\", \"casos\", \"casos\", \"cataluna\", \"causa\", \"causa\", \"causa\", \"causa\", \"causa\", \"cavallo\", \"cavallo\", \"centro\", \"centro\", \"centro\", \"centro\", \"centros\", \"centros\", \"centros\", \"cidh\", \"cidh\", \"cidh\", \"ciento\", \"ciento\", \"ciento\", \"ciento\", \"ciento\", \"cinica\", \"ciudad\", \"ciudad\", \"ciudad\", \"ciudad\", \"civil\", \"cobertura\", \"cobertura\", \"cobertura\", \"cobertura\", \"colombi\", \"colombi\", \"colombi\", \"cometidos\", \"comicios\", \"comicios\", \"comicios\", \"comicios\", \"comicios\", \"comienzo\", \"complice\", \"comun\", \"construir\", \"consultorios\", \"convenio\", \"corredores\", \"correntinos\", \"correntinos\", \"correo\", \"corrientes\", \"corrientes\", \"corte\", \"corte\", \"corte_suprema\", \"corte_suprema\", \"criminal\", \"cristina\", \"cristina\", \"cristina\", \"cristina\", \"cronograma\", \"cuanto\", \"cuanto\", \"cuarenta\", \"cuenca\", \"cus\", \"defensa\", \"defensa\", \"defensa\", \"defensa\", \"defensa\", \"deficit\", \"deficits\", \"denuncia\", \"denuncia\", \"denuncia\", \"denuncia\", \"derecho\", \"derecho\", \"derecho\", \"derecho\", \"derechos_humanos\", \"derechos_humanos\", \"derechos_humanos\", \"derechos_humanos\", \"derechos_humanos\", \"derrota\", \"derrota\", \"desalojos\", \"desaparicion\", \"desaparicion\", \"desaparicion\", \"desaparicion\", \"despues\", \"despues\", \"despues\", \"despues\", \"despues\", \"deuda\", \"deuda\", \"deuda\", \"dias\", \"dias\", \"dias\", \"dias\", \"dietrich\", \"diferencia\", \"diferencia\", \"diferencia\", \"diferencia\", \"dijo\", \"dijo\", \"dijo\", \"dijo\", \"dijo\", \"diputada\", \"diputada\", \"discutir\", \"distinto\", \"dolares\", \"dos\", \"dos\", \"dos\", \"dos\", \"dos\", \"economia\", \"economia\", \"educacion\", \"eguiguren\", \"eguiguren\", \"electo\", \"electoral\", \"electoral\", \"electoral\", \"electoral\", \"emisiones\", \"empezaron\", \"encuentro\", \"encuentro\", \"encuentro\", \"endeudamiento\", \"entregado\", \"escrito\", \"escrito\", \"escrutinio_provisorio\", \"escrutinio_provisorio\", \"escrutinio_provisorio\", \"espana\", \"especialista\", \"espinoza\", \"estan\", \"estan\", \"estan\", \"estan\", \"estan\", \"esteban_echeverria\", \"evo\", \"fallo\", \"fallo\", \"falta\", \"falta\", \"falta\", \"falta\", \"falta\", \"faltan\", \"familia\", \"familia\", \"familia\", \"familia\", \"fernandez\", \"fidel\", \"financiera\", \"financiera\", \"finanzas\", \"fiscal\", \"fiscal\", \"fiscal\", \"fiscal\", \"fiscal\", \"fit\", \"formula\", \"frenada\", \"fuerza\", \"fuerza\", \"fuerza\", \"fuerza\", \"fuerza\", \"fuerzas\", \"fuerzas\", \"fuerzas\", \"fundacion\", \"fundacion\", \"fundacion\", \"funes\", \"garantizar\", \"garrahan\", \"garrahan\", \"gendarmes\", \"gendarmes\", \"gobernador\", \"gobernador\", \"gobernador\", \"gobernador\", \"gobierno\", \"gobierno\", \"gobierno\", \"gobierno\", \"gobierno\", \"graciana\", \"guardaparque\", \"guevara\", \"guevara\", \"guevara\", \"guevara\", \"habia\", \"habia\", \"habia\", \"habia\", \"habia\", \"habilito\", \"hacer\", \"hacer\", \"hacer\", \"hacer\", \"hacer\", \"hacerse\", \"hecho\", \"hecho\", \"hecho\", \"hecho\", \"hermano\", \"hermano\", \"hermano\", \"higuera\", \"homicidio\", \"hospital\", \"hospital\", \"hospital\", \"hospitales\", \"hospitales\", \"hospitales\", \"hospitales\", \"hospitales\", \"hoy\", \"hoy\", \"hoy\", \"hoy\", \"hoy\", \"iglesia\", \"indico\", \"indico\", \"intimidacion\", \"iran\", \"iran\", \"iran\", \"ituzaingo\", \"joven\", \"joven\", \"joven\", \"joven\", \"judicial\", \"judicial\", \"judicial\", \"jueces\", \"jueces\", \"jueces\", \"juez\", \"juez\", \"juez\", \"juez\", \"justicia\", \"justicia\", \"justicia\", \"justicia\", \"justicia\", \"laboral\", \"laboral\", \"laboral\", \"latinoamericana\", \"ley\", \"ley\", \"ley\", \"ley\", \"lideres\", \"llermanos\", \"lucha\", \"lucha\", \"luego\", \"luego\", \"luego\", \"luego\", \"luego\", \"lugar\", \"lugar\", \"lugar\", \"lugar\", \"lugar\", \"macri\", \"macri\", \"macri\", \"macri\", \"macri\", \"madres\", \"madres_plaza_mayo\", \"madres_plaza_mayo\", \"mafias\", \"magistrados\", \"manipulacion\", \"manipulacion\", \"mapuche\", \"medicamentos\", \"medicamentos\", \"medicamentos\", \"medicamentos\", \"medicina_nuclear\", \"medicina_nuclear\", \"memorandum\", \"memorandum\", \"memorandum\", \"miembros\", \"mientras\", \"mientras\", \"mientras\", \"mientras\", \"milagro_sala\", \"milagro_sala\", \"milagro_sala\", \"milagro_sala\", \"millan\", \"millones\", \"ministros\", \"mismo\", \"mismo\", \"mismo\", \"mismo\", \"mismo\", \"mochila\", \"mochila\", \"momento_desaparicion\", \"momento_desaparicion\", \"monzo\", \"morales\", \"morales\", \"morales\", \"moreau\", \"mostro\", \"mundo\", \"mundo\", \"mundo\", \"mundo\", \"nacional\", \"nacional\", \"nacional\", \"nacional\", \"nacional\", \"nisman\", \"nisman\", \"nisman\", \"nulidad\", \"obras\", \"obras\", \"obras\", \"obras\", \"octubre\", \"octubre\", \"octubre\", \"octubre\", \"octubre\", \"pablo\", \"paes\", \"pais\", \"pais\", \"pais\", \"pais\", \"pais\", \"panuelo\", \"parana\", \"parana\", \"parlasur\", \"parte\", \"parte\", \"parte\", \"parte\", \"parte\", \"pasaba\", \"pasos\", \"patria\", \"patria\", \"patria\", \"patria\", \"pedido\", \"pedido\", \"pedido\", \"pedido\", \"pena_muerte\", \"penafort\", \"penafort\", \"peronismo\", \"peronismo\", \"peronismo\", \"pesos\", \"pesos\", \"placa\", \"plan\", \"plan\", \"plan\", \"plan\", \"plan\", \"poblacion\", \"poblacion\", \"poblacion\", \"pobres\", \"politica\", \"politica\", \"politica\", \"politica\", \"politica\", \"politicas\", \"politicas\", \"politicas\", \"politicas\", \"portaba\", \"preocupa\", \"presentaciones\", \"presidente\", \"presidente\", \"presidente\", \"presidente\", \"presidente\", \"prestigio\", \"primaria\", \"prision\", \"prision_domiciliaria\", \"problema\", \"problema\", \"procedimiento\", \"programa\", \"programa\", \"provincia_buenos_aires\", \"provincia_buenos_aires\", \"provincia_buenos_aires\", \"provincia_buenos_aires\", \"puede\", \"puede\", \"puede\", \"puede\", \"puede\", \"pullen\", \"puntos\", \"radical\", \"radical\", \"radicalismo\", \"recuperar\", \"recurso\", \"recurso\", \"reforma\", \"reforma\", \"reforma\", \"reinhart\", \"resoluciones\", \"respuesta\", \"respuesta\", \"respuesta\", \"respuesta\", \"ronda\", \"ronda\", \"ronda\", \"sa\", \"sala\", \"sala\", \"salud\", \"salud\", \"salud\", \"salud\", \"salud\", \"sanitaria\", \"sanitaria\", \"santiago\", \"santiago\", \"santiago\", \"santiago\", \"santiago\", \"santiago_maldonado\", \"santiago_maldonado\", \"santiago_maldonado\", \"santiago_maldonado\", \"santiago_maldonado\", \"secuestros\", \"segun\", \"segun\", \"segun\", \"segun\", \"segun\", \"seguramente\", \"seguridad\", \"seguridad\", \"seguridad\", \"seguridad\", \"seguridad\", \"sentencia\", \"sentencia\", \"sentencia\", \"ser\", \"ser\", \"ser\", \"ser\", \"ser\", \"sergio\", \"sergio\", \"sergio\", \"sergio_maldonado\", \"sergio_maldonado\", \"si\", \"si\", \"si\", \"si\", \"si\", \"siempre\", \"siempre\", \"siempre\", \"siempre\", \"siganlo\", \"silenciosa\", \"sistemas\", \"software\", \"solo\", \"solo\", \"solo\", \"solo\", \"solo\", \"tailhade\", \"tealdi\", \"telefono\", \"tener\", \"tener\", \"tener\", \"tener\", \"tener\", \"terapia\", \"tierras\", \"tn\", \"trabajador\", \"trabajadores\", \"trabajadores\", \"trabajadores\", \"trabajadores\", \"trabajo\", \"trabajo\", \"trabajo\", \"trabajo\", \"trabajo\", \"transparencia\", \"transparencia\", \"transparentes\", \"tratado\", \"unidad_ciudadana\", \"unidad_ciudadana\", \"unidad_ciudadana\", \"unidad_ciudadana\", \"unidad_ciudadana\", \"us\", \"valdes\", \"valdes\", \"valdes\", \"vallegrande\", \"veo\", \"vez\", \"vez\", \"vez\", \"vez\", \"viales\", \"vialidad\", \"vialidad\", \"vidal\", \"vidal\", \"violencia\", \"violencia\", \"zorra\"]}, \"R\": 30, \"lambda.step\": 0.01, \"plot.opts\": {\"xlab\": \"PC1\", \"ylab\": \"PC2\"}, \"topic.order\": [5, 4, 2, 3, 1]};\n",
       "\n",
       "function LDAvis_load_lib(url, callback){\n",
       "  var s = document.createElement('script');\n",
       "  s.src = url;\n",
       "  s.async = true;\n",
       "  s.onreadystatechange = s.onload = callback;\n",
       "  s.onerror = function(){console.warn(\"failed to load library \" + url);};\n",
       "  document.getElementsByTagName(\"head\")[0].appendChild(s);\n",
       "}\n",
       "\n",
       "if(typeof(LDAvis) !== \"undefined\"){\n",
       "   // already loaded: just create the visualization\n",
       "   !function(LDAvis){\n",
       "       new LDAvis(\"#\" + \"ldavis_el1159215807893294807069263137\", ldavis_el1159215807893294807069263137_data);\n",
       "   }(LDAvis);\n",
       "}else if(typeof define === \"function\" && define.amd){\n",
       "   // require.js is available: use it to load d3/LDAvis\n",
       "   require.config({paths: {d3: \"https://cdnjs.cloudflare.com/ajax/libs/d3/3.5.5/d3.min\"}});\n",
       "   require([\"d3\"], function(d3){\n",
       "      window.d3 = d3;\n",
       "      LDAvis_load_lib(\"https://cdn.rawgit.com/bmabey/pyLDAvis/files/ldavis.v1.0.0.js\", function(){\n",
       "        new LDAvis(\"#\" + \"ldavis_el1159215807893294807069263137\", ldavis_el1159215807893294807069263137_data);\n",
       "      });\n",
       "    });\n",
       "}else{\n",
       "    // require.js not available: dynamically load d3 & LDAvis\n",
       "    LDAvis_load_lib(\"https://cdnjs.cloudflare.com/ajax/libs/d3/3.5.5/d3.min.js\", function(){\n",
       "         LDAvis_load_lib(\"https://cdn.rawgit.com/bmabey/pyLDAvis/files/ldavis.v1.0.0.js\", function(){\n",
       "                 new LDAvis(\"#\" + \"ldavis_el1159215807893294807069263137\", ldavis_el1159215807893294807069263137_data);\n",
       "            })\n",
       "         });\n",
       "}\n",
       "</script>"
      ],
      "text/plain": [
       "PreparedData(topic_coordinates=              x         y  topics  cluster       Freq\n",
       "topic                                                \n",
       "4     -0.048388  0.119586       1        1  26.765167\n",
       "3      0.062782  0.026064       2        1  23.315283\n",
       "1     -0.105782 -0.081633       3        1  21.257643\n",
       "2      0.090715 -0.049332       4        1  21.021070\n",
       "0      0.000674 -0.014684       5        1   7.640839, topic_info=                        Term       Freq      Total Category  logprob  loglift\n",
       "1082                   salud  34.000000  34.000000  Default  30.0000  30.0000\n",
       "56                  nacional  41.000000  41.000000  Default  29.0000  29.0000\n",
       "926               hospitales  32.000000  32.000000  Default  28.0000  28.0000\n",
       "404                 santiago  30.000000  30.000000  Default  27.0000  27.0000\n",
       "3037                  pedido   9.000000   9.000000  Default  26.0000  26.0000\n",
       "...                      ...        ...        ...      ...      ...      ...\n",
       "200                    tener   2.716686  17.153343   Topic5  -6.2211   0.7289\n",
       "679                    falta   2.714550  11.086847   Topic5  -6.2219   1.1645\n",
       "356                    mismo   2.712211  17.279083   Topic5  -6.2227   0.7199\n",
       "1047  provincia_buenos_aires   2.709320   9.445566   Topic5  -6.2238   1.3228\n",
       "715                     plan   2.709193   8.692981   Topic5  -6.2239   1.4058\n",
       "\n",
       "[360 rows x 6 columns], token_table=      Topic      Freq       Term\n",
       "term                            \n",
       "2865      2  0.070807   abogados\n",
       "2865      3  0.708073   abogados\n",
       "2865      4  0.141615   abogados\n",
       "2865      5  0.070807   abogados\n",
       "4736      4  0.885192    aclarar\n",
       "...     ...       ...        ...\n",
       "1137      1  0.933094      vidal\n",
       "1137      4  0.066650      vidal\n",
       "3916      2  0.147045  violencia\n",
       "3916      4  0.735227  violencia\n",
       "6034      5  0.565343      zorra\n",
       "\n",
       "[680 rows x 3 columns], R=30, lambda_step=0.01, plot_opts={'xlab': 'PC1', 'ylab': 'PC2'}, topic_order=[5, 4, 2, 3, 1])"
      ]
     },
     "execution_count": 125,
     "metadata": {},
     "output_type": "execute_result"
    }
   ],
   "source": [
    "# Visualizamos los tópicos\n",
    "\n",
    "pyLDAvis.enable_notebook()\n",
    "vis = pyLDAvis.gensim.prepare(ldamodel_1, corpus_1, dictionary_1)\n",
    "vis"
   ]
  },
  {
   "cell_type": "code",
   "execution_count": 126,
   "metadata": {
    "colab": {},
    "colab_type": "code",
    "id": "gcA_XKDjSBzc"
   },
   "outputs": [
    {
     "data": {
      "text/plain": [
       "[(0,\n",
       "  '0.006*\"salud\" + 0.006*\"gobierno\" + 0.005*\"nacional\" + 0.004*\"pedido\" + 0.003*\"candidato\" + 0.003*\"carga\" + 0.003*\"respuesta\" + 0.003*\"unidad_ciudadana\" + 0.003*\"garantizar\" + 0.002*\"obras\"'),\n",
       " (1,\n",
       "  '0.004*\"trabajo\" + 0.003*\"defensa\" + 0.003*\"dos\" + 0.003*\"derecho\" + 0.003*\"fallo\" + 0.003*\"abogados\" + 0.003*\"gobierno\" + 0.003*\"presidente\" + 0.003*\"justicia\" + 0.003*\"ano\"'),\n",
       " (2,\n",
       "  '0.006*\"hospitales\" + 0.005*\"gobierno\" + 0.005*\"santiago\" + 0.004*\"dos\" + 0.003*\"hospital\" + 0.003*\"dias\" + 0.003*\"salud\" + 0.003*\"desaparicion\" + 0.003*\"sergio\" + 0.003*\"dijo\"'),\n",
       " (3,\n",
       "  '0.006*\"gobierno\" + 0.005*\"si\" + 0.004*\"juez\" + 0.004*\"ser\" + 0.003*\"anos\" + 0.003*\"gobernador\" + 0.003*\"memorandum\" + 0.003*\"pais\" + 0.003*\"iran\" + 0.003*\"dos\"'),\n",
       " (4,\n",
       "  '0.006*\"gobierno\" + 0.004*\"nacional\" + 0.004*\"peronismo\" + 0.003*\"anos\" + 0.003*\"ciento\" + 0.003*\"si\" + 0.003*\"habia\" + 0.003*\"vidal\" + 0.003*\"argentina\" + 0.003*\"valdes\"')]"
      ]
     },
     "execution_count": 126,
     "metadata": {},
     "output_type": "execute_result"
    }
   ],
   "source": [
    "ldamodel_1.print_topics(-1)"
   ]
  }
 ],
 "metadata": {
  "kernelspec": {
   "display_name": "Python 3",
   "language": "python",
   "name": "python3"
  },
  "language_info": {
   "codemirror_mode": {
    "name": "ipython",
    "version": 3
   },
   "file_extension": ".py",
   "mimetype": "text/x-python",
   "name": "python",
   "nbconvert_exporter": "python",
   "pygments_lexer": "ipython3",
   "version": "3.7.4"
  }
 },
 "nbformat": 4,
 "nbformat_minor": 4
}
