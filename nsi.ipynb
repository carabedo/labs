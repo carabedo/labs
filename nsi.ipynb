{
 "cells": [
  {
   "cell_type": "code",
   "execution_count": 1,
   "metadata": {},
   "outputs": [],
   "source": [
    "import pandas as pd\n",
    "import plotly.express as px\n",
    "\n",
    "\n",
    "df=pd.read_csv('nsi.csv')"
   ]
  },
  {
   "cell_type": "code",
   "execution_count": 5,
   "metadata": {},
   "outputs": [
    {
     "data": {
      "text/html": [
       "<div>\n",
       "<style scoped>\n",
       "    .dataframe tbody tr th:only-of-type {\n",
       "        vertical-align: middle;\n",
       "    }\n",
       "\n",
       "    .dataframe tbody tr th {\n",
       "        vertical-align: top;\n",
       "    }\n",
       "\n",
       "    .dataframe thead th {\n",
       "        text-align: right;\n",
       "    }\n",
       "</style>\n",
       "<table border=\"1\" class=\"dataframe\">\n",
       "  <thead>\n",
       "    <tr style=\"text-align: right;\">\n",
       "      <th></th>\n",
       "      <th>Unnamed: 0</th>\n",
       "      <th>comision</th>\n",
       "      <th>date</th>\n",
       "      <th>tipo</th>\n",
       "      <th>N</th>\n",
       "      <th>p</th>\n",
       "      <th>n</th>\n",
       "      <th>d</th>\n",
       "      <th>staff</th>\n",
       "    </tr>\n",
       "  </thead>\n",
       "  <tbody>\n",
       "    <tr>\n",
       "      <th>61</th>\n",
       "      <td>61</td>\n",
       "      <td>0219CPDSDCN01ARMO</td>\n",
       "      <td>2019-07-22</td>\n",
       "      <td>NPS</td>\n",
       "      <td>62.50</td>\n",
       "      <td>6.0</td>\n",
       "      <td>1.0</td>\n",
       "      <td>1.0</td>\n",
       "      <td>Julián Ansaldo - Julian Peller</td>\n",
       "    </tr>\n",
       "    <tr>\n",
       "      <th>20</th>\n",
       "      <td>20</td>\n",
       "      <td>0818DSDCN02M</td>\n",
       "      <td>2018-11-12</td>\n",
       "      <td>NSI</td>\n",
       "      <td>30.77</td>\n",
       "      <td>5.0</td>\n",
       "      <td>7.0</td>\n",
       "      <td>1.0</td>\n",
       "      <td>Pablo Roccatagliata -  Demian Avendano</td>\n",
       "    </tr>\n",
       "    <tr>\n",
       "      <th>5</th>\n",
       "      <td>5</td>\n",
       "      <td>0818DSDCN02C</td>\n",
       "      <td>2018-08-27</td>\n",
       "      <td>NSI</td>\n",
       "      <td>11.43</td>\n",
       "      <td>14.0</td>\n",
       "      <td>11.0</td>\n",
       "      <td>10.0</td>\n",
       "      <td>Lionel Chamorro -  Marianela Sarabia -  Juliá...</td>\n",
       "    </tr>\n",
       "    <tr>\n",
       "      <th>29</th>\n",
       "      <td>29</td>\n",
       "      <td>0219CPDSDCN01ARCE</td>\n",
       "      <td>2019-03-12</td>\n",
       "      <td>NSI</td>\n",
       "      <td>-26.92</td>\n",
       "      <td>4.0</td>\n",
       "      <td>11.0</td>\n",
       "      <td>11.0</td>\n",
       "      <td>Demian Avendano - Carlos Pablo Modenutti</td>\n",
       "    </tr>\n",
       "    <tr>\n",
       "      <th>99</th>\n",
       "      <td>104</td>\n",
       "      <td>0420CBDSDCN04ARCE</td>\n",
       "      <td>2020-05-11</td>\n",
       "      <td>NSI</td>\n",
       "      <td>13.33</td>\n",
       "      <td>4.0</td>\n",
       "      <td>9.0</td>\n",
       "      <td>2.0</td>\n",
       "      <td>Franco De Giovannini - Ariel Haimovici</td>\n",
       "    </tr>\n",
       "    <tr>\n",
       "      <th>129</th>\n",
       "      <td>138</td>\n",
       "      <td>0420CBDSDCN03ARMO</td>\n",
       "      <td>2020-09-01</td>\n",
       "      <td>NPS</td>\n",
       "      <td>28.57</td>\n",
       "      <td>6.0</td>\n",
       "      <td>6.0</td>\n",
       "      <td>2.0</td>\n",
       "      <td>Carlos Pita - Nicolás Monner Sans</td>\n",
       "    </tr>\n",
       "    <tr>\n",
       "      <th>127</th>\n",
       "      <td>135</td>\n",
       "      <td>0720CBDSDCN09ARED</td>\n",
       "      <td>2020-08-31</td>\n",
       "      <td>NSI</td>\n",
       "      <td>13.79</td>\n",
       "      <td>11.0</td>\n",
       "      <td>11.0</td>\n",
       "      <td>7.0</td>\n",
       "      <td>Mariela Bisso - Fernando Carabedo</td>\n",
       "    </tr>\n",
       "    <tr>\n",
       "      <th>85</th>\n",
       "      <td>87</td>\n",
       "      <td>0719CPDSDCN01ARCE</td>\n",
       "      <td>2019-11-05</td>\n",
       "      <td>NSI</td>\n",
       "      <td>-20.00</td>\n",
       "      <td>2.0</td>\n",
       "      <td>4.0</td>\n",
       "      <td>4.0</td>\n",
       "      <td>Martin Sokolowicz - Ariel Haimovici</td>\n",
       "    </tr>\n",
       "    <tr>\n",
       "      <th>40</th>\n",
       "      <td>40</td>\n",
       "      <td>0219CPDSDCN01ARMO</td>\n",
       "      <td>2019-05-20</td>\n",
       "      <td>NSI</td>\n",
       "      <td>18.18</td>\n",
       "      <td>8.0</td>\n",
       "      <td>10.0</td>\n",
       "      <td>4.0</td>\n",
       "      <td>Julián Ansaldo - Julian Peller</td>\n",
       "    </tr>\n",
       "    <tr>\n",
       "      <th>126</th>\n",
       "      <td>134</td>\n",
       "      <td>0620CBDSDCN05ARMO</td>\n",
       "      <td>2020-08-24</td>\n",
       "      <td>NSI</td>\n",
       "      <td>50.00</td>\n",
       "      <td>5.0</td>\n",
       "      <td>2.0</td>\n",
       "      <td>1.0</td>\n",
       "      <td>Guillermo Fairhurst - Elias Lopez</td>\n",
       "    </tr>\n",
       "    <tr>\n",
       "      <th>34</th>\n",
       "      <td>34</td>\n",
       "      <td>0319CPDSDCN02ARMO</td>\n",
       "      <td>2019-04-16</td>\n",
       "      <td>NSI</td>\n",
       "      <td>25.81</td>\n",
       "      <td>10.0</td>\n",
       "      <td>19.0</td>\n",
       "      <td>2.0</td>\n",
       "      <td>Paolo Donizetti - Martin Sokolowicz</td>\n",
       "    </tr>\n",
       "    <tr>\n",
       "      <th>55</th>\n",
       "      <td>55</td>\n",
       "      <td>0519CPDSDCN03ARMO</td>\n",
       "      <td>2019-07-10</td>\n",
       "      <td>NSI</td>\n",
       "      <td>0.00</td>\n",
       "      <td>3.0</td>\n",
       "      <td>8.0</td>\n",
       "      <td>3.0</td>\n",
       "      <td>Juan Manuel Alvarez - Paula Beati</td>\n",
       "    </tr>\n",
       "    <tr>\n",
       "      <th>97</th>\n",
       "      <td>99</td>\n",
       "      <td>0220CPDSDCN02ARCE</td>\n",
       "      <td>2020-04-02</td>\n",
       "      <td>NSI</td>\n",
       "      <td>-33.33</td>\n",
       "      <td>1.0</td>\n",
       "      <td>4.0</td>\n",
       "      <td>4.0</td>\n",
       "      <td>Fernando Carabedo - Elias Lopez</td>\n",
       "    </tr>\n",
       "    <tr>\n",
       "      <th>17</th>\n",
       "      <td>17</td>\n",
       "      <td>0818DSDCN02M</td>\n",
       "      <td>2018-10-26</td>\n",
       "      <td>NSI</td>\n",
       "      <td>7.14</td>\n",
       "      <td>3.0</td>\n",
       "      <td>9.0</td>\n",
       "      <td>2.0</td>\n",
       "      <td>Pablo Roccatagliata -  Demian Avendano</td>\n",
       "    </tr>\n",
       "    <tr>\n",
       "      <th>131</th>\n",
       "      <td>140</td>\n",
       "      <td>0820CBDSDCN08ARED</td>\n",
       "      <td>2020-09-15</td>\n",
       "      <td>NSI</td>\n",
       "      <td>18.52</td>\n",
       "      <td>8.0</td>\n",
       "      <td>16.0</td>\n",
       "      <td>3.0</td>\n",
       "      <td>Diego Battocchio - Carlos Pita</td>\n",
       "    </tr>\n",
       "    <tr>\n",
       "      <th>60</th>\n",
       "      <td>60</td>\n",
       "      <td>0219CPDSDCN01ARCE</td>\n",
       "      <td>2019-07-22</td>\n",
       "      <td>NPS</td>\n",
       "      <td>-42.86</td>\n",
       "      <td>1.0</td>\n",
       "      <td>2.0</td>\n",
       "      <td>4.0</td>\n",
       "      <td>Demian Avendano - Carlos Pablo Modenutti</td>\n",
       "    </tr>\n",
       "    <tr>\n",
       "      <th>70</th>\n",
       "      <td>70</td>\n",
       "      <td>0719CPDSDCN02ARMO</td>\n",
       "      <td>2019-08-21</td>\n",
       "      <td>NSI</td>\n",
       "      <td>70.00</td>\n",
       "      <td>16.0</td>\n",
       "      <td>2.0</td>\n",
       "      <td>2.0</td>\n",
       "      <td>Julian Peller - Lucas Sedeño</td>\n",
       "    </tr>\n",
       "    <tr>\n",
       "      <th>134</th>\n",
       "      <td>143</td>\n",
       "      <td>0720CBDSDCN04ARMO</td>\n",
       "      <td>2020-09-28</td>\n",
       "      <td>NPS</td>\n",
       "      <td>40.00</td>\n",
       "      <td>7.0</td>\n",
       "      <td>7.0</td>\n",
       "      <td>1.0</td>\n",
       "      <td>Gaston Bujia - Lucas Sedeño</td>\n",
       "    </tr>\n",
       "    <tr>\n",
       "      <th>91</th>\n",
       "      <td>93</td>\n",
       "      <td>0719CPDSDCN02ARMO</td>\n",
       "      <td>2019-12-04</td>\n",
       "      <td>NSI</td>\n",
       "      <td>25.00</td>\n",
       "      <td>3.0</td>\n",
       "      <td>4.0</td>\n",
       "      <td>1.0</td>\n",
       "      <td>Julian Peller - Lucas Sedeño</td>\n",
       "    </tr>\n",
       "    <tr>\n",
       "      <th>109</th>\n",
       "      <td>115</td>\n",
       "      <td>0620CBDSDCN05ARMO</td>\n",
       "      <td>2020-06-22</td>\n",
       "      <td>NSI</td>\n",
       "      <td>0.00</td>\n",
       "      <td>2.0</td>\n",
       "      <td>13.0</td>\n",
       "      <td>2.0</td>\n",
       "      <td>Guillermo Fairhurst - Elias Lopez</td>\n",
       "    </tr>\n",
       "  </tbody>\n",
       "</table>\n",
       "</div>"
      ],
      "text/plain": [
       "     Unnamed: 0           comision        date tipo      N     p     n     d  \\\n",
       "61           61  0219CPDSDCN01ARMO  2019-07-22  NPS  62.50   6.0   1.0   1.0   \n",
       "20           20       0818DSDCN02M  2018-11-12  NSI  30.77   5.0   7.0   1.0   \n",
       "5             5       0818DSDCN02C  2018-08-27  NSI  11.43  14.0  11.0  10.0   \n",
       "29           29  0219CPDSDCN01ARCE  2019-03-12  NSI -26.92   4.0  11.0  11.0   \n",
       "99          104  0420CBDSDCN04ARCE  2020-05-11  NSI  13.33   4.0   9.0   2.0   \n",
       "129         138  0420CBDSDCN03ARMO  2020-09-01  NPS  28.57   6.0   6.0   2.0   \n",
       "127         135  0720CBDSDCN09ARED  2020-08-31  NSI  13.79  11.0  11.0   7.0   \n",
       "85           87  0719CPDSDCN01ARCE  2019-11-05  NSI -20.00   2.0   4.0   4.0   \n",
       "40           40  0219CPDSDCN01ARMO  2019-05-20  NSI  18.18   8.0  10.0   4.0   \n",
       "126         134  0620CBDSDCN05ARMO  2020-08-24  NSI  50.00   5.0   2.0   1.0   \n",
       "34           34  0319CPDSDCN02ARMO  2019-04-16  NSI  25.81  10.0  19.0   2.0   \n",
       "55           55  0519CPDSDCN03ARMO  2019-07-10  NSI   0.00   3.0   8.0   3.0   \n",
       "97           99  0220CPDSDCN02ARCE  2020-04-02  NSI -33.33   1.0   4.0   4.0   \n",
       "17           17       0818DSDCN02M  2018-10-26  NSI   7.14   3.0   9.0   2.0   \n",
       "131         140  0820CBDSDCN08ARED  2020-09-15  NSI  18.52   8.0  16.0   3.0   \n",
       "60           60  0219CPDSDCN01ARCE  2019-07-22  NPS -42.86   1.0   2.0   4.0   \n",
       "70           70  0719CPDSDCN02ARMO  2019-08-21  NSI  70.00  16.0   2.0   2.0   \n",
       "134         143  0720CBDSDCN04ARMO  2020-09-28  NPS  40.00   7.0   7.0   1.0   \n",
       "91           93  0719CPDSDCN02ARMO  2019-12-04  NSI  25.00   3.0   4.0   1.0   \n",
       "109         115  0620CBDSDCN05ARMO  2020-06-22  NSI   0.00   2.0  13.0   2.0   \n",
       "\n",
       "                                                 staff  \n",
       "61                      Julián Ansaldo - Julian Peller  \n",
       "20              Pablo Roccatagliata -  Demian Avendano  \n",
       "5     Lionel Chamorro -  Marianela Sarabia -  Juliá...  \n",
       "29            Demian Avendano - Carlos Pablo Modenutti  \n",
       "99              Franco De Giovannini - Ariel Haimovici  \n",
       "129                  Carlos Pita - Nicolás Monner Sans  \n",
       "127                  Mariela Bisso - Fernando Carabedo  \n",
       "85                 Martin Sokolowicz - Ariel Haimovici  \n",
       "40                      Julián Ansaldo - Julian Peller  \n",
       "126                  Guillermo Fairhurst - Elias Lopez  \n",
       "34                 Paolo Donizetti - Martin Sokolowicz  \n",
       "55                   Juan Manuel Alvarez - Paula Beati  \n",
       "97                     Fernando Carabedo - Elias Lopez  \n",
       "17              Pablo Roccatagliata -  Demian Avendano  \n",
       "131                     Diego Battocchio - Carlos Pita  \n",
       "60            Demian Avendano - Carlos Pablo Modenutti  \n",
       "70                        Julian Peller - Lucas Sedeño  \n",
       "134                        Gaston Bujia - Lucas Sedeño  \n",
       "91                        Julian Peller - Lucas Sedeño  \n",
       "109                  Guillermo Fairhurst - Elias Lopez  "
      ]
     },
     "execution_count": 5,
     "metadata": {},
     "output_type": "execute_result"
    }
   ],
   "source": [
    "df.sample(20)"
   ]
  },
  {
   "cell_type": "code",
   "execution_count": 6,
   "metadata": {},
   "outputs": [
    {
     "data": {
      "application/vnd.plotly.v1+json": {
       "config": {
        "plotlyServerURL": "https://plot.ly"
       },
       "data": [
        {
         "hoverlabel": {
          "namelength": 0
         },
         "hovertemplate": "staff= Leonardo Ignacio Córdoba -  María Frances Gaska<br>date=%{x}<br>N=%{y}",
         "legendgroup": " Leonardo Ignacio Córdoba -  María Frances Gaska",
         "line": {
          "color": "#636efa",
          "dash": "solid"
         },
         "mode": "lines",
         "name": " Leonardo Ignacio Córdoba -  María Frances Gaska",
         "showlegend": true,
         "type": "scatter",
         "x": [
          "2018-07-19"
         ],
         "xaxis": "x",
         "y": [
          61.9
         ],
         "yaxis": "y"
        },
        {
         "hoverlabel": {
          "namelength": 0
         },
         "hovertemplate": "staff= Pablo Roccatagliata -  Demian Avendano<br>date=%{x}<br>N=%{y}",
         "legendgroup": " Pablo Roccatagliata -  Demian Avendano",
         "line": {
          "color": "#EF553B",
          "dash": "solid"
         },
         "mode": "lines",
         "name": " Pablo Roccatagliata -  Demian Avendano",
         "showlegend": true,
         "type": "scatter",
         "x": [
          "2018-07-30",
          "2018-08-22",
          "2018-09-12",
          "2018-10-05",
          "2018-10-26",
          "2018-11-12",
          "2018-11-26"
         ],
         "xaxis": "x",
         "y": [
          10,
          35,
          22.22,
          35.71,
          7.14,
          30.77,
          36.36
         ],
         "yaxis": "y"
        },
        {
         "hoverlabel": {
          "namelength": 0
         },
         "hovertemplate": "staff= Marianela Sarabia -  German Rosati -  Paolo Donizetti<br>date=%{x}<br>N=%{y}",
         "legendgroup": " Marianela Sarabia -  German Rosati -  Paolo Donizetti",
         "line": {
          "color": "#00cc96",
          "dash": "solid"
         },
         "mode": "lines",
         "name": " Marianela Sarabia -  German Rosati -  Paolo Donizetti",
         "showlegend": true,
         "type": "scatter",
         "x": [
          "2018-07-31"
         ],
         "xaxis": "x",
         "y": [
          26.32
         ],
         "yaxis": "y"
        },
        {
         "hoverlabel": {
          "namelength": 0
         },
         "hovertemplate": "staff= Leonardo Ignacio Córdoba -  Nicolás Monner Sans -  María Frances Gaska<br>date=%{x}<br>N=%{y}",
         "legendgroup": " Leonardo Ignacio Córdoba -  Nicolás Monner Sans -  María Frances Gaska",
         "line": {
          "color": "#ab63fa",
          "dash": "solid"
         },
         "mode": "lines",
         "name": " Leonardo Ignacio Córdoba -  Nicolás Monner Sans -  María Frances Gaska",
         "showlegend": true,
         "type": "scatter",
         "x": [
          "2018-08-16",
          "2018-09-06",
          "2018-09-27",
          "2018-10-18",
          "2018-10-24",
          "2018-11-14",
          "2018-12-05",
          "2018-12-16"
         ],
         "xaxis": "x",
         "y": [
          8,
          28,
          17.39,
          17.39,
          31.82,
          36.36,
          27.27,
          41.18
         ],
         "yaxis": "y"
        },
        {
         "hoverlabel": {
          "namelength": 0
         },
         "hovertemplate": "staff= Lionel Chamorro -  Marianela Sarabia -  Julián Ansaldo<br>date=%{x}<br>N=%{y}",
         "legendgroup": " Lionel Chamorro -  Marianela Sarabia -  Julián Ansaldo",
         "line": {
          "color": "#FFA15A",
          "dash": "solid"
         },
         "mode": "lines",
         "name": " Lionel Chamorro -  Marianela Sarabia -  Julián Ansaldo",
         "showlegend": true,
         "type": "scatter",
         "x": [
          "2018-08-27",
          "2018-09-17",
          "2018-10-08",
          "2018-10-29",
          "2018-11-21",
          "2018-12-12"
         ],
         "xaxis": "x",
         "y": [
          11.43,
          36.67,
          0,
          13.04,
          25,
          40.91
         ],
         "yaxis": "y"
        },
        {
         "hoverlabel": {
          "namelength": 0
         },
         "hovertemplate": "staff= Julián Ansaldo -  Paolo Donizetti<br>date=%{x}<br>N=%{y}",
         "legendgroup": " Julián Ansaldo -  Paolo Donizetti",
         "line": {
          "color": "#19d3f3",
          "dash": "solid"
         },
         "mode": "lines",
         "name": " Julián Ansaldo -  Paolo Donizetti",
         "showlegend": true,
         "type": "scatter",
         "x": [
          "2018-08-28",
          "2018-09-18",
          "2018-10-09",
          "2018-10-30",
          "2018-11-20",
          "2018-12-11"
         ],
         "xaxis": "x",
         "y": [
          44.83,
          46.43,
          25.93,
          37.5,
          16.67,
          27.27
         ],
         "yaxis": "y"
        },
        {
         "hoverlabel": {
          "namelength": 0
         },
         "hovertemplate": "staff=Demian Avendano - Carlos Pablo Modenutti<br>date=%{x}<br>N=%{y}",
         "legendgroup": "Demian Avendano - Carlos Pablo Modenutti",
         "line": {
          "color": "#FF6692",
          "dash": "solid"
         },
         "mode": "lines",
         "name": "Demian Avendano - Carlos Pablo Modenutti",
         "showlegend": true,
         "type": "scatter",
         "x": [
          "2019-03-12",
          "2019-04-04",
          "2019-04-25",
          "2019-05-16",
          "2019-06-06",
          "2019-06-27",
          "2019-07-05",
          "2019-07-22",
          "2019-07-22"
         ],
         "xaxis": "x",
         "y": [
          -26.92,
          -13.64,
          -33.33,
          -21.05,
          -55.56,
          -62.5,
          -50,
          -38.46,
          -42.86
         ],
         "yaxis": "y"
        },
        {
         "hoverlabel": {
          "namelength": 0
         },
         "hovertemplate": "staff=Julián Ansaldo - Julian Peller<br>date=%{x}<br>N=%{y}",
         "legendgroup": "Julián Ansaldo - Julian Peller",
         "line": {
          "color": "#B6E880",
          "dash": "solid"
         },
         "mode": "lines",
         "name": "Julián Ansaldo - Julian Peller",
         "showlegend": true,
         "type": "scatter",
         "x": [
          "2019-03-18",
          "2019-04-08",
          "2019-04-29",
          "2019-05-20",
          "2019-06-10",
          "2019-07-01",
          "2019-07-05",
          "2019-07-22",
          "2019-07-22",
          "2019-07-22"
         ],
         "xaxis": "x",
         "y": [
          18.52,
          16,
          27.27,
          18.18,
          6.25,
          12.5,
          -8.33,
          62.5,
          28.57,
          27.27
         ],
         "yaxis": "y"
        },
        {
         "hoverlabel": {
          "namelength": 0
         },
         "hovertemplate": "staff=Carlos Pita - Nicolás Monner Sans<br>date=%{x}<br>N=%{y}",
         "legendgroup": "Carlos Pita - Nicolás Monner Sans",
         "line": {
          "color": "#FF97FF",
          "dash": "solid"
         },
         "mode": "lines",
         "name": "Carlos Pita - Nicolás Monner Sans",
         "showlegend": true,
         "type": "scatter",
         "x": [
          "2019-04-08",
          "2019-04-29",
          "2019-05-20",
          "2019-06-10",
          "2019-07-01",
          "2019-07-05",
          "2019-07-24",
          "2019-08-07",
          "2019-08-07",
          "2019-09-26",
          "2019-10-19",
          "2019-11-07",
          "2019-11-28",
          "2019-12-19",
          "2020-05-11",
          "2020-05-28",
          "2020-06-16",
          "2020-06-18",
          "2020-07-07",
          "2020-07-28",
          "2020-08-19",
          "2020-09-01"
         ],
         "xaxis": "x",
         "y": [
          20,
          16.13,
          13.33,
          17.24,
          32,
          0,
          16.67,
          87.5,
          21.05,
          -9.09,
          -4.35,
          0,
          -4.35,
          -6.25,
          12.5,
          9.52,
          37.5,
          25,
          31.25,
          0,
          23.08,
          28.57
         ],
         "yaxis": "y"
        },
        {
         "hoverlabel": {
          "namelength": 0
         },
         "hovertemplate": "staff=Paolo Donizetti - Martin Sokolowicz<br>date=%{x}<br>N=%{y}",
         "legendgroup": "Paolo Donizetti - Martin Sokolowicz",
         "line": {
          "color": "#FECB52",
          "dash": "solid"
         },
         "mode": "lines",
         "name": "Paolo Donizetti - Martin Sokolowicz",
         "showlegend": true,
         "type": "scatter",
         "x": [
          "2019-04-16",
          "2019-05-07",
          "2019-06-01",
          "2019-06-18",
          "2019-07-11",
          "2019-07-11"
         ],
         "xaxis": "x",
         "y": [
          25.81,
          3.33,
          3.45,
          0,
          0,
          -15.38
         ],
         "yaxis": "y"
        },
        {
         "hoverlabel": {
          "namelength": 0
         },
         "hovertemplate": "staff=Juan Manuel Alvarez - Paula Beati<br>date=%{x}<br>N=%{y}",
         "legendgroup": "Juan Manuel Alvarez - Paula Beati",
         "line": {
          "color": "#636efa",
          "dash": "solid"
         },
         "mode": "lines",
         "name": "Juan Manuel Alvarez - Paula Beati",
         "showlegend": true,
         "type": "scatter",
         "x": [
          "2019-05-28",
          "2019-06-18",
          "2019-07-10",
          "2019-07-12",
          "2019-07-31",
          "2019-08-21",
          "2019-09-23",
          "2019-09-23"
         ],
         "xaxis": "x",
         "y": [
          4.55,
          11.76,
          0,
          9.09,
          -16.67,
          -27.27,
          0,
          -11.11
         ],
         "yaxis": "y"
        },
        {
         "hoverlabel": {
          "namelength": 0
         },
         "hovertemplate": "staff=Martin Sokolowicz - Ariel Haimovici<br>date=%{x}<br>N=%{y}",
         "legendgroup": "Martin Sokolowicz - Ariel Haimovici",
         "line": {
          "color": "#EF553B",
          "dash": "solid"
         },
         "mode": "lines",
         "name": "Martin Sokolowicz - Ariel Haimovici",
         "showlegend": true,
         "type": "scatter",
         "x": [
          "2019-08-13",
          "2019-09-03",
          "2019-09-24",
          "2019-10-15",
          "2019-11-05",
          "2019-11-29"
         ],
         "xaxis": "x",
         "y": [
          21.05,
          31.25,
          -15.38,
          -7.69,
          -20,
          33.33
         ],
         "yaxis": "y"
        },
        {
         "hoverlabel": {
          "namelength": 0
         },
         "hovertemplate": "staff=Julian Peller - Lucas Sedeño<br>date=%{x}<br>N=%{y}",
         "legendgroup": "Julian Peller - Lucas Sedeño",
         "line": {
          "color": "#00cc96",
          "dash": "solid"
         },
         "mode": "lines",
         "name": "Julian Peller - Lucas Sedeño",
         "showlegend": true,
         "type": "scatter",
         "x": [
          "2019-08-21",
          "2019-09-11",
          "2019-10-02",
          "2019-10-23",
          "2019-11-13",
          "2019-12-04"
         ],
         "xaxis": "x",
         "y": [
          70,
          71.43,
          62.5,
          69.23,
          35.71,
          25
         ],
         "yaxis": "y"
        },
        {
         "hoverlabel": {
          "namelength": 0
         },
         "hovertemplate": "staff=Julián Ansaldo - Elias Lopez<br>date=%{x}<br>N=%{y}",
         "legendgroup": "Julián Ansaldo - Elias Lopez",
         "line": {
          "color": "#ab63fa",
          "dash": "solid"
         },
         "mode": "lines",
         "name": "Julián Ansaldo - Elias Lopez",
         "showlegend": true,
         "type": "scatter",
         "x": [
          "2019-08-26",
          "2019-09-16",
          "2019-10-07",
          "2019-10-28",
          "2019-11-20",
          "2019-12-11"
         ],
         "xaxis": "x",
         "y": [
          50,
          60,
          57.14,
          64.29,
          78.57,
          91.67
         ],
         "yaxis": "y"
        },
        {
         "hoverlabel": {
          "namelength": 0
         },
         "hovertemplate": "staff=Gaston Bujia - Lucas Sedeño<br>date=%{x}<br>N=%{y}",
         "legendgroup": "Gaston Bujia - Lucas Sedeño",
         "line": {
          "color": "#FFA15A",
          "dash": "solid"
         },
         "mode": "lines",
         "name": "Gaston Bujia - Lucas Sedeño",
         "showlegend": true,
         "type": "scatter",
         "x": [
          "2020-03-09",
          "2020-03-30",
          "2020-05-11",
          "2020-06-01",
          "2020-06-22",
          "2020-07-08",
          "2020-08-10",
          "2020-08-31",
          "2020-09-21",
          "2020-09-28"
         ],
         "xaxis": "x",
         "y": [
          52.38,
          56.25,
          25,
          28.57,
          18.75,
          50,
          7.41,
          9.52,
          -13.33,
          40
         ],
         "yaxis": "y"
        },
        {
         "hoverlabel": {
          "namelength": 0
         },
         "hovertemplate": "staff=Fernando Carabedo - Elias Lopez<br>date=%{x}<br>N=%{y}",
         "legendgroup": "Fernando Carabedo - Elias Lopez",
         "line": {
          "color": "#19d3f3",
          "dash": "solid"
         },
         "mode": "lines",
         "name": "Fernando Carabedo - Elias Lopez",
         "showlegend": true,
         "type": "scatter",
         "x": [
          "2020-03-10",
          "2020-04-02",
          "2020-05-05",
          "2020-06-10",
          "2020-07-02",
          "2020-07-14"
         ],
         "xaxis": "x",
         "y": [
          6.67,
          -33.33,
          7.69,
          5.88,
          0,
          43.75
         ],
         "yaxis": "y"
        },
        {
         "hoverlabel": {
          "namelength": 0
         },
         "hovertemplate": "staff=Franco De Giovannini - Ariel Haimovici<br>date=%{x}<br>N=%{y}",
         "legendgroup": "Franco De Giovannini - Ariel Haimovici",
         "line": {
          "color": "#FF6692",
          "dash": "solid"
         },
         "mode": "lines",
         "name": "Franco De Giovannini - Ariel Haimovici",
         "showlegend": true,
         "type": "scatter",
         "x": [
          "2020-05-11",
          "2020-05-27",
          "2020-06-17",
          "2020-06-24",
          "2020-07-14",
          "2020-07-29",
          "2020-08-19"
         ],
         "xaxis": "x",
         "y": [
          13.33,
          13.33,
          0,
          21.43,
          0,
          16.67,
          27.27
         ],
         "yaxis": "y"
        },
        {
         "hoverlabel": {
          "namelength": 0
         },
         "hovertemplate": "staff=Guillermo Fairhurst - Elias Lopez<br>date=%{x}<br>N=%{y}",
         "legendgroup": "Guillermo Fairhurst - Elias Lopez",
         "line": {
          "color": "#B6E880",
          "dash": "solid"
         },
         "mode": "lines",
         "name": "Guillermo Fairhurst - Elias Lopez",
         "showlegend": true,
         "type": "scatter",
         "x": [
          "2020-06-22",
          "2020-07-14",
          "2020-08-03",
          "2020-08-15",
          "2020-08-24",
          "2020-09-14"
         ],
         "xaxis": "x",
         "y": [
          0,
          15.38,
          28.57,
          31.25,
          50,
          50
         ],
         "yaxis": "y"
        },
        {
         "hoverlabel": {
          "namelength": 0
         },
         "hovertemplate": "staff=Mariela Bisso - Fernando Carabedo<br>date=%{x}<br>N=%{y}",
         "legendgroup": "Mariela Bisso - Fernando Carabedo",
         "line": {
          "color": "#FF97FF",
          "dash": "solid"
         },
         "mode": "lines",
         "name": "Mariela Bisso - Fernando Carabedo",
         "showlegend": true,
         "type": "scatter",
         "x": [
          "2020-08-11",
          "2020-08-31",
          "2020-09-22",
          "2020-09-28"
         ],
         "xaxis": "x",
         "y": [
          -18.42,
          13.79,
          0,
          18.18
         ],
         "yaxis": "y"
        },
        {
         "hoverlabel": {
          "namelength": 0
         },
         "hovertemplate": "staff=Diego Battocchio - Carlos Pita<br>date=%{x}<br>N=%{y}",
         "legendgroup": "Diego Battocchio - Carlos Pita",
         "line": {
          "color": "#FECB52",
          "dash": "solid"
         },
         "mode": "lines",
         "name": "Diego Battocchio - Carlos Pita",
         "showlegend": true,
         "type": "scatter",
         "x": [
          "2020-09-15"
         ],
         "xaxis": "x",
         "y": [
          18.52
         ],
         "yaxis": "y"
        }
       ],
       "layout": {
        "autosize": true,
        "legend": {
         "title": {
          "text": "staff"
         },
         "tracegroupgap": 0
        },
        "template": {
         "data": {
          "bar": [
           {
            "error_x": {
             "color": "#2a3f5f"
            },
            "error_y": {
             "color": "#2a3f5f"
            },
            "marker": {
             "line": {
              "color": "#E5ECF6",
              "width": 0.5
             }
            },
            "type": "bar"
           }
          ],
          "barpolar": [
           {
            "marker": {
             "line": {
              "color": "#E5ECF6",
              "width": 0.5
             }
            },
            "type": "barpolar"
           }
          ],
          "carpet": [
           {
            "aaxis": {
             "endlinecolor": "#2a3f5f",
             "gridcolor": "white",
             "linecolor": "white",
             "minorgridcolor": "white",
             "startlinecolor": "#2a3f5f"
            },
            "baxis": {
             "endlinecolor": "#2a3f5f",
             "gridcolor": "white",
             "linecolor": "white",
             "minorgridcolor": "white",
             "startlinecolor": "#2a3f5f"
            },
            "type": "carpet"
           }
          ],
          "choropleth": [
           {
            "colorbar": {
             "outlinewidth": 0,
             "ticks": ""
            },
            "type": "choropleth"
           }
          ],
          "contour": [
           {
            "colorbar": {
             "outlinewidth": 0,
             "ticks": ""
            },
            "colorscale": [
             [
              0,
              "#0d0887"
             ],
             [
              0.1111111111111111,
              "#46039f"
             ],
             [
              0.2222222222222222,
              "#7201a8"
             ],
             [
              0.3333333333333333,
              "#9c179e"
             ],
             [
              0.4444444444444444,
              "#bd3786"
             ],
             [
              0.5555555555555556,
              "#d8576b"
             ],
             [
              0.6666666666666666,
              "#ed7953"
             ],
             [
              0.7777777777777778,
              "#fb9f3a"
             ],
             [
              0.8888888888888888,
              "#fdca26"
             ],
             [
              1,
              "#f0f921"
             ]
            ],
            "type": "contour"
           }
          ],
          "contourcarpet": [
           {
            "colorbar": {
             "outlinewidth": 0,
             "ticks": ""
            },
            "type": "contourcarpet"
           }
          ],
          "heatmap": [
           {
            "colorbar": {
             "outlinewidth": 0,
             "ticks": ""
            },
            "colorscale": [
             [
              0,
              "#0d0887"
             ],
             [
              0.1111111111111111,
              "#46039f"
             ],
             [
              0.2222222222222222,
              "#7201a8"
             ],
             [
              0.3333333333333333,
              "#9c179e"
             ],
             [
              0.4444444444444444,
              "#bd3786"
             ],
             [
              0.5555555555555556,
              "#d8576b"
             ],
             [
              0.6666666666666666,
              "#ed7953"
             ],
             [
              0.7777777777777778,
              "#fb9f3a"
             ],
             [
              0.8888888888888888,
              "#fdca26"
             ],
             [
              1,
              "#f0f921"
             ]
            ],
            "type": "heatmap"
           }
          ],
          "heatmapgl": [
           {
            "colorbar": {
             "outlinewidth": 0,
             "ticks": ""
            },
            "colorscale": [
             [
              0,
              "#0d0887"
             ],
             [
              0.1111111111111111,
              "#46039f"
             ],
             [
              0.2222222222222222,
              "#7201a8"
             ],
             [
              0.3333333333333333,
              "#9c179e"
             ],
             [
              0.4444444444444444,
              "#bd3786"
             ],
             [
              0.5555555555555556,
              "#d8576b"
             ],
             [
              0.6666666666666666,
              "#ed7953"
             ],
             [
              0.7777777777777778,
              "#fb9f3a"
             ],
             [
              0.8888888888888888,
              "#fdca26"
             ],
             [
              1,
              "#f0f921"
             ]
            ],
            "type": "heatmapgl"
           }
          ],
          "histogram": [
           {
            "marker": {
             "colorbar": {
              "outlinewidth": 0,
              "ticks": ""
             }
            },
            "type": "histogram"
           }
          ],
          "histogram2d": [
           {
            "colorbar": {
             "outlinewidth": 0,
             "ticks": ""
            },
            "colorscale": [
             [
              0,
              "#0d0887"
             ],
             [
              0.1111111111111111,
              "#46039f"
             ],
             [
              0.2222222222222222,
              "#7201a8"
             ],
             [
              0.3333333333333333,
              "#9c179e"
             ],
             [
              0.4444444444444444,
              "#bd3786"
             ],
             [
              0.5555555555555556,
              "#d8576b"
             ],
             [
              0.6666666666666666,
              "#ed7953"
             ],
             [
              0.7777777777777778,
              "#fb9f3a"
             ],
             [
              0.8888888888888888,
              "#fdca26"
             ],
             [
              1,
              "#f0f921"
             ]
            ],
            "type": "histogram2d"
           }
          ],
          "histogram2dcontour": [
           {
            "colorbar": {
             "outlinewidth": 0,
             "ticks": ""
            },
            "colorscale": [
             [
              0,
              "#0d0887"
             ],
             [
              0.1111111111111111,
              "#46039f"
             ],
             [
              0.2222222222222222,
              "#7201a8"
             ],
             [
              0.3333333333333333,
              "#9c179e"
             ],
             [
              0.4444444444444444,
              "#bd3786"
             ],
             [
              0.5555555555555556,
              "#d8576b"
             ],
             [
              0.6666666666666666,
              "#ed7953"
             ],
             [
              0.7777777777777778,
              "#fb9f3a"
             ],
             [
              0.8888888888888888,
              "#fdca26"
             ],
             [
              1,
              "#f0f921"
             ]
            ],
            "type": "histogram2dcontour"
           }
          ],
          "mesh3d": [
           {
            "colorbar": {
             "outlinewidth": 0,
             "ticks": ""
            },
            "type": "mesh3d"
           }
          ],
          "parcoords": [
           {
            "line": {
             "colorbar": {
              "outlinewidth": 0,
              "ticks": ""
             }
            },
            "type": "parcoords"
           }
          ],
          "pie": [
           {
            "automargin": true,
            "type": "pie"
           }
          ],
          "scatter": [
           {
            "marker": {
             "colorbar": {
              "outlinewidth": 0,
              "ticks": ""
             }
            },
            "type": "scatter"
           }
          ],
          "scatter3d": [
           {
            "line": {
             "colorbar": {
              "outlinewidth": 0,
              "ticks": ""
             }
            },
            "marker": {
             "colorbar": {
              "outlinewidth": 0,
              "ticks": ""
             }
            },
            "type": "scatter3d"
           }
          ],
          "scattercarpet": [
           {
            "marker": {
             "colorbar": {
              "outlinewidth": 0,
              "ticks": ""
             }
            },
            "type": "scattercarpet"
           }
          ],
          "scattergeo": [
           {
            "marker": {
             "colorbar": {
              "outlinewidth": 0,
              "ticks": ""
             }
            },
            "type": "scattergeo"
           }
          ],
          "scattergl": [
           {
            "marker": {
             "colorbar": {
              "outlinewidth": 0,
              "ticks": ""
             }
            },
            "type": "scattergl"
           }
          ],
          "scattermapbox": [
           {
            "marker": {
             "colorbar": {
              "outlinewidth": 0,
              "ticks": ""
             }
            },
            "type": "scattermapbox"
           }
          ],
          "scatterpolar": [
           {
            "marker": {
             "colorbar": {
              "outlinewidth": 0,
              "ticks": ""
             }
            },
            "type": "scatterpolar"
           }
          ],
          "scatterpolargl": [
           {
            "marker": {
             "colorbar": {
              "outlinewidth": 0,
              "ticks": ""
             }
            },
            "type": "scatterpolargl"
           }
          ],
          "scatterternary": [
           {
            "marker": {
             "colorbar": {
              "outlinewidth": 0,
              "ticks": ""
             }
            },
            "type": "scatterternary"
           }
          ],
          "surface": [
           {
            "colorbar": {
             "outlinewidth": 0,
             "ticks": ""
            },
            "colorscale": [
             [
              0,
              "#0d0887"
             ],
             [
              0.1111111111111111,
              "#46039f"
             ],
             [
              0.2222222222222222,
              "#7201a8"
             ],
             [
              0.3333333333333333,
              "#9c179e"
             ],
             [
              0.4444444444444444,
              "#bd3786"
             ],
             [
              0.5555555555555556,
              "#d8576b"
             ],
             [
              0.6666666666666666,
              "#ed7953"
             ],
             [
              0.7777777777777778,
              "#fb9f3a"
             ],
             [
              0.8888888888888888,
              "#fdca26"
             ],
             [
              1,
              "#f0f921"
             ]
            ],
            "type": "surface"
           }
          ],
          "table": [
           {
            "cells": {
             "fill": {
              "color": "#EBF0F8"
             },
             "line": {
              "color": "white"
             }
            },
            "header": {
             "fill": {
              "color": "#C8D4E3"
             },
             "line": {
              "color": "white"
             }
            },
            "type": "table"
           }
          ]
         },
         "layout": {
          "annotationdefaults": {
           "arrowcolor": "#2a3f5f",
           "arrowhead": 0,
           "arrowwidth": 1
          },
          "coloraxis": {
           "colorbar": {
            "outlinewidth": 0,
            "ticks": ""
           }
          },
          "colorscale": {
           "diverging": [
            [
             0,
             "#8e0152"
            ],
            [
             0.1,
             "#c51b7d"
            ],
            [
             0.2,
             "#de77ae"
            ],
            [
             0.3,
             "#f1b6da"
            ],
            [
             0.4,
             "#fde0ef"
            ],
            [
             0.5,
             "#f7f7f7"
            ],
            [
             0.6,
             "#e6f5d0"
            ],
            [
             0.7,
             "#b8e186"
            ],
            [
             0.8,
             "#7fbc41"
            ],
            [
             0.9,
             "#4d9221"
            ],
            [
             1,
             "#276419"
            ]
           ],
           "sequential": [
            [
             0,
             "#0d0887"
            ],
            [
             0.1111111111111111,
             "#46039f"
            ],
            [
             0.2222222222222222,
             "#7201a8"
            ],
            [
             0.3333333333333333,
             "#9c179e"
            ],
            [
             0.4444444444444444,
             "#bd3786"
            ],
            [
             0.5555555555555556,
             "#d8576b"
            ],
            [
             0.6666666666666666,
             "#ed7953"
            ],
            [
             0.7777777777777778,
             "#fb9f3a"
            ],
            [
             0.8888888888888888,
             "#fdca26"
            ],
            [
             1,
             "#f0f921"
            ]
           ],
           "sequentialminus": [
            [
             0,
             "#0d0887"
            ],
            [
             0.1111111111111111,
             "#46039f"
            ],
            [
             0.2222222222222222,
             "#7201a8"
            ],
            [
             0.3333333333333333,
             "#9c179e"
            ],
            [
             0.4444444444444444,
             "#bd3786"
            ],
            [
             0.5555555555555556,
             "#d8576b"
            ],
            [
             0.6666666666666666,
             "#ed7953"
            ],
            [
             0.7777777777777778,
             "#fb9f3a"
            ],
            [
             0.8888888888888888,
             "#fdca26"
            ],
            [
             1,
             "#f0f921"
            ]
           ]
          },
          "colorway": [
           "#636efa",
           "#EF553B",
           "#00cc96",
           "#ab63fa",
           "#FFA15A",
           "#19d3f3",
           "#FF6692",
           "#B6E880",
           "#FF97FF",
           "#FECB52"
          ],
          "font": {
           "color": "#2a3f5f"
          },
          "geo": {
           "bgcolor": "white",
           "lakecolor": "white",
           "landcolor": "#E5ECF6",
           "showlakes": true,
           "showland": true,
           "subunitcolor": "white"
          },
          "hoverlabel": {
           "align": "left"
          },
          "hovermode": "closest",
          "mapbox": {
           "style": "light"
          },
          "paper_bgcolor": "white",
          "plot_bgcolor": "#E5ECF6",
          "polar": {
           "angularaxis": {
            "gridcolor": "white",
            "linecolor": "white",
            "ticks": ""
           },
           "bgcolor": "#E5ECF6",
           "radialaxis": {
            "gridcolor": "white",
            "linecolor": "white",
            "ticks": ""
           }
          },
          "scene": {
           "xaxis": {
            "backgroundcolor": "#E5ECF6",
            "gridcolor": "white",
            "gridwidth": 2,
            "linecolor": "white",
            "showbackground": true,
            "ticks": "",
            "zerolinecolor": "white"
           },
           "yaxis": {
            "backgroundcolor": "#E5ECF6",
            "gridcolor": "white",
            "gridwidth": 2,
            "linecolor": "white",
            "showbackground": true,
            "ticks": "",
            "zerolinecolor": "white"
           },
           "zaxis": {
            "backgroundcolor": "#E5ECF6",
            "gridcolor": "white",
            "gridwidth": 2,
            "linecolor": "white",
            "showbackground": true,
            "ticks": "",
            "zerolinecolor": "white"
           }
          },
          "shapedefaults": {
           "line": {
            "color": "#2a3f5f"
           }
          },
          "ternary": {
           "aaxis": {
            "gridcolor": "white",
            "linecolor": "white",
            "ticks": ""
           },
           "baxis": {
            "gridcolor": "white",
            "linecolor": "white",
            "ticks": ""
           },
           "bgcolor": "#E5ECF6",
           "caxis": {
            "gridcolor": "white",
            "linecolor": "white",
            "ticks": ""
           }
          },
          "title": {
           "x": 0.05
          },
          "xaxis": {
           "automargin": true,
           "gridcolor": "white",
           "linecolor": "white",
           "ticks": "",
           "title": {
            "standoff": 15
           },
           "zerolinecolor": "white",
           "zerolinewidth": 2
          },
          "yaxis": {
           "automargin": true,
           "gridcolor": "white",
           "linecolor": "white",
           "ticks": "",
           "title": {
            "standoff": 15
           },
           "zerolinecolor": "white",
           "zerolinewidth": 2
          }
         }
        },
        "title": {
         "text": "nsi+nps"
        },
        "xaxis": {
         "anchor": "y",
         "autorange": true,
         "domain": [
          0,
          1
         ],
         "range": [
          "2018-07-19",
          "2020-09-28"
         ],
         "title": {
          "text": "date"
         },
         "type": "date"
        },
        "yaxis": {
         "anchor": "x",
         "autorange": true,
         "domain": [
          0,
          1
         ],
         "range": [
          -71.065,
          100.235
         ],
         "title": {
          "text": "N"
         },
         "type": "linear"
        }
       }
      },
      "image/png": "[encoded data removed]",
      "text/html": [
       "<div>\n",
       "        \n",
       "        \n",
       "            <div id=\"998310f9-b464-472a-a0f8-24405ab2f1fc\" class=\"plotly-graph-div\" style=\"height:525px; width:100%;\"></div>\n",
       "            <script type=\"text/javascript\">\n",
       "                require([\"plotly\"], function(Plotly) {\n",
       "                    window.PLOTLYENV=window.PLOTLYENV || {};\n",
       "                    \n",
       "                if (document.getElementById(\"998310f9-b464-472a-a0f8-24405ab2f1fc\")) {\n",
       "                    Plotly.newPlot(\n",
       "                        '998310f9-b464-472a-a0f8-24405ab2f1fc',\n",
       "                        [{\"hoverlabel\": {\"namelength\": 0}, \"hovertemplate\": \"staff= Leonardo Ignacio C\\u00f3rdoba -  Mar\\u00eda Frances Gaska<br>date=%{x}<br>N=%{y}\", \"legendgroup\": \" Leonardo Ignacio C\\u00f3rdoba -  Mar\\u00eda Frances Gaska\", \"line\": {\"color\": \"#636efa\", \"dash\": \"solid\"}, \"mode\": \"lines\", \"name\": \" Leonardo Ignacio C\\u00f3rdoba -  Mar\\u00eda Frances Gaska\", \"showlegend\": true, \"type\": \"scatter\", \"x\": [\"2018-07-19\"], \"xaxis\": \"x\", \"y\": [61.9], \"yaxis\": \"y\"}, {\"hoverlabel\": {\"namelength\": 0}, \"hovertemplate\": \"staff= Pablo Roccatagliata -  Demian Avendano<br>date=%{x}<br>N=%{y}\", \"legendgroup\": \" Pablo Roccatagliata -  Demian Avendano\", \"line\": {\"color\": \"#EF553B\", \"dash\": \"solid\"}, \"mode\": \"lines\", \"name\": \" Pablo Roccatagliata -  Demian Avendano\", \"showlegend\": true, \"type\": \"scatter\", \"x\": [\"2018-07-30\", \"2018-08-22\", \"2018-09-12\", \"2018-10-05\", \"2018-10-26\", \"2018-11-12\", \"2018-11-26\"], \"xaxis\": \"x\", \"y\": [10.0, 35.0, 22.22, 35.71, 7.14, 30.77, 36.36], \"yaxis\": \"y\"}, {\"hoverlabel\": {\"namelength\": 0}, \"hovertemplate\": \"staff= Marianela Sarabia -  German Rosati -  Paolo Donizetti<br>date=%{x}<br>N=%{y}\", \"legendgroup\": \" Marianela Sarabia -  German Rosati -  Paolo Donizetti\", \"line\": {\"color\": \"#00cc96\", \"dash\": \"solid\"}, \"mode\": \"lines\", \"name\": \" Marianela Sarabia -  German Rosati -  Paolo Donizetti\", \"showlegend\": true, \"type\": \"scatter\", \"x\": [\"2018-07-31\"], \"xaxis\": \"x\", \"y\": [26.32], \"yaxis\": \"y\"}, {\"hoverlabel\": {\"namelength\": 0}, \"hovertemplate\": \"staff= Leonardo Ignacio C\\u00f3rdoba -  Nicol\\u00e1s Monner Sans -  Mar\\u00eda Frances Gaska<br>date=%{x}<br>N=%{y}\", \"legendgroup\": \" Leonardo Ignacio C\\u00f3rdoba -  Nicol\\u00e1s Monner Sans -  Mar\\u00eda Frances Gaska\", \"line\": {\"color\": \"#ab63fa\", \"dash\": \"solid\"}, \"mode\": \"lines\", \"name\": \" Leonardo Ignacio C\\u00f3rdoba -  Nicol\\u00e1s Monner Sans -  Mar\\u00eda Frances Gaska\", \"showlegend\": true, \"type\": \"scatter\", \"x\": [\"2018-08-16\", \"2018-09-06\", \"2018-09-27\", \"2018-10-18\", \"2018-10-24\", \"2018-11-14\", \"2018-12-05\", \"2018-12-16\"], \"xaxis\": \"x\", \"y\": [8.0, 28.0, 17.39, 17.39, 31.82, 36.36, 27.27, 41.18], \"yaxis\": \"y\"}, {\"hoverlabel\": {\"namelength\": 0}, \"hovertemplate\": \"staff= Lionel Chamorro -  Marianela Sarabia -  Juli\\u00e1n Ansaldo<br>date=%{x}<br>N=%{y}\", \"legendgroup\": \" Lionel Chamorro -  Marianela Sarabia -  Juli\\u00e1n Ansaldo\", \"line\": {\"color\": \"#FFA15A\", \"dash\": \"solid\"}, \"mode\": \"lines\", \"name\": \" Lionel Chamorro -  Marianela Sarabia -  Juli\\u00e1n Ansaldo\", \"showlegend\": true, \"type\": \"scatter\", \"x\": [\"2018-08-27\", \"2018-09-17\", \"2018-10-08\", \"2018-10-29\", \"2018-11-21\", \"2018-12-12\"], \"xaxis\": \"x\", \"y\": [11.43, 36.67, 0.0, 13.04, 25.0, 40.91], \"yaxis\": \"y\"}, {\"hoverlabel\": {\"namelength\": 0}, \"hovertemplate\": \"staff= Juli\\u00e1n Ansaldo -  Paolo Donizetti<br>date=%{x}<br>N=%{y}\", \"legendgroup\": \" Juli\\u00e1n Ansaldo -  Paolo Donizetti\", \"line\": {\"color\": \"#19d3f3\", \"dash\": \"solid\"}, \"mode\": \"lines\", \"name\": \" Juli\\u00e1n Ansaldo -  Paolo Donizetti\", \"showlegend\": true, \"type\": \"scatter\", \"x\": [\"2018-08-28\", \"2018-09-18\", \"2018-10-09\", \"2018-10-30\", \"2018-11-20\", \"2018-12-11\"], \"xaxis\": \"x\", \"y\": [44.83, 46.43, 25.93, 37.5, 16.67, 27.27], \"yaxis\": \"y\"}, {\"hoverlabel\": {\"namelength\": 0}, \"hovertemplate\": \"staff=Demian Avendano - Carlos Pablo Modenutti<br>date=%{x}<br>N=%{y}\", \"legendgroup\": \"Demian Avendano - Carlos Pablo Modenutti\", \"line\": {\"color\": \"#FF6692\", \"dash\": \"solid\"}, \"mode\": \"lines\", \"name\": \"Demian Avendano - Carlos Pablo Modenutti\", \"showlegend\": true, \"type\": \"scatter\", \"x\": [\"2019-03-12\", \"2019-04-04\", \"2019-04-25\", \"2019-05-16\", \"2019-06-06\", \"2019-06-27\", \"2019-07-05\", \"2019-07-22\", \"2019-07-22\"], \"xaxis\": \"x\", \"y\": [-26.92, -13.64, -33.33, -21.05, -55.56, -62.5, -50.0, -38.46, -42.86], \"yaxis\": \"y\"}, {\"hoverlabel\": {\"namelength\": 0}, \"hovertemplate\": \"staff=Juli\\u00e1n Ansaldo - Julian Peller<br>date=%{x}<br>N=%{y}\", \"legendgroup\": \"Juli\\u00e1n Ansaldo - Julian Peller\", \"line\": {\"color\": \"#B6E880\", \"dash\": \"solid\"}, \"mode\": \"lines\", \"name\": \"Juli\\u00e1n Ansaldo - Julian Peller\", \"showlegend\": true, \"type\": \"scatter\", \"x\": [\"2019-03-18\", \"2019-04-08\", \"2019-04-29\", \"2019-05-20\", \"2019-06-10\", \"2019-07-01\", \"2019-07-05\", \"2019-07-22\", \"2019-07-22\", \"2019-07-22\"], \"xaxis\": \"x\", \"y\": [18.52, 16.0, 27.27, 18.18, 6.25, 12.5, -8.33, 62.5, 28.57, 27.27], \"yaxis\": \"y\"}, {\"hoverlabel\": {\"namelength\": 0}, \"hovertemplate\": \"staff=Carlos Pita - Nicol\\u00e1s Monner Sans<br>date=%{x}<br>N=%{y}\", \"legendgroup\": \"Carlos Pita - Nicol\\u00e1s Monner Sans\", \"line\": {\"color\": \"#FF97FF\", \"dash\": \"solid\"}, \"mode\": \"lines\", \"name\": \"Carlos Pita - Nicol\\u00e1s Monner Sans\", \"showlegend\": true, \"type\": \"scatter\", \"x\": [\"2019-04-08\", \"2019-04-29\", \"2019-05-20\", \"2019-06-10\", \"2019-07-01\", \"2019-07-05\", \"2019-07-24\", \"2019-08-07\", \"2019-08-07\", \"2019-09-26\", \"2019-10-19\", \"2019-11-07\", \"2019-11-28\", \"2019-12-19\", \"2020-05-11\", \"2020-05-28\", \"2020-06-16\", \"2020-06-18\", \"2020-07-07\", \"2020-07-28\", \"2020-08-19\", \"2020-09-01\"], \"xaxis\": \"x\", \"y\": [20.0, 16.13, 13.33, 17.24, 32.0, 0.0, 16.67, 87.5, 21.05, -9.09, -4.35, 0.0, -4.35, -6.25, 12.5, 9.52, 37.5, 25.0, 31.25, 0.0, 23.08, 28.57], \"yaxis\": \"y\"}, {\"hoverlabel\": {\"namelength\": 0}, \"hovertemplate\": \"staff=Paolo Donizetti - Martin Sokolowicz<br>date=%{x}<br>N=%{y}\", \"legendgroup\": \"Paolo Donizetti - Martin Sokolowicz\", \"line\": {\"color\": \"#FECB52\", \"dash\": \"solid\"}, \"mode\": \"lines\", \"name\": \"Paolo Donizetti - Martin Sokolowicz\", \"showlegend\": true, \"type\": \"scatter\", \"x\": [\"2019-04-16\", \"2019-05-07\", \"2019-06-01\", \"2019-06-18\", \"2019-07-11\", \"2019-07-11\"], \"xaxis\": \"x\", \"y\": [25.81, 3.33, 3.45, 0.0, 0.0, -15.38], \"yaxis\": \"y\"}, {\"hoverlabel\": {\"namelength\": 0}, \"hovertemplate\": \"staff=Juan Manuel Alvarez - Paula Beati<br>date=%{x}<br>N=%{y}\", \"legendgroup\": \"Juan Manuel Alvarez - Paula Beati\", \"line\": {\"color\": \"#636efa\", \"dash\": \"solid\"}, \"mode\": \"lines\", \"name\": \"Juan Manuel Alvarez - Paula Beati\", \"showlegend\": true, \"type\": \"scatter\", \"x\": [\"2019-05-28\", \"2019-06-18\", \"2019-07-10\", \"2019-07-12\", \"2019-07-31\", \"2019-08-21\", \"2019-09-23\", \"2019-09-23\"], \"xaxis\": \"x\", \"y\": [4.55, 11.76, 0.0, 9.09, -16.67, -27.27, 0.0, -11.11], \"yaxis\": \"y\"}, {\"hoverlabel\": {\"namelength\": 0}, \"hovertemplate\": \"staff=Martin Sokolowicz - Ariel Haimovici<br>date=%{x}<br>N=%{y}\", \"legendgroup\": \"Martin Sokolowicz - Ariel Haimovici\", \"line\": {\"color\": \"#EF553B\", \"dash\": \"solid\"}, \"mode\": \"lines\", \"name\": \"Martin Sokolowicz - Ariel Haimovici\", \"showlegend\": true, \"type\": \"scatter\", \"x\": [\"2019-08-13\", \"2019-09-03\", \"2019-09-24\", \"2019-10-15\", \"2019-11-05\", \"2019-11-29\"], \"xaxis\": \"x\", \"y\": [21.05, 31.25, -15.38, -7.69, -20.0, 33.33], \"yaxis\": \"y\"}, {\"hoverlabel\": {\"namelength\": 0}, \"hovertemplate\": \"staff=Julian Peller - Lucas Sede\\u00f1o<br>date=%{x}<br>N=%{y}\", \"legendgroup\": \"Julian Peller - Lucas Sede\\u00f1o\", \"line\": {\"color\": \"#00cc96\", \"dash\": \"solid\"}, \"mode\": \"lines\", \"name\": \"Julian Peller - Lucas Sede\\u00f1o\", \"showlegend\": true, \"type\": \"scatter\", \"x\": [\"2019-08-21\", \"2019-09-11\", \"2019-10-02\", \"2019-10-23\", \"2019-11-13\", \"2019-12-04\"], \"xaxis\": \"x\", \"y\": [70.0, 71.43, 62.5, 69.23, 35.71, 25.0], \"yaxis\": \"y\"}, {\"hoverlabel\": {\"namelength\": 0}, \"hovertemplate\": \"staff=Juli\\u00e1n Ansaldo - Elias Lopez<br>date=%{x}<br>N=%{y}\", \"legendgroup\": \"Juli\\u00e1n Ansaldo - Elias Lopez\", \"line\": {\"color\": \"#ab63fa\", \"dash\": \"solid\"}, \"mode\": \"lines\", \"name\": \"Juli\\u00e1n Ansaldo - Elias Lopez\", \"showlegend\": true, \"type\": \"scatter\", \"x\": [\"2019-08-26\", \"2019-09-16\", \"2019-10-07\", \"2019-10-28\", \"2019-11-20\", \"2019-12-11\"], \"xaxis\": \"x\", \"y\": [50.0, 60.0, 57.14, 64.29, 78.57, 91.67], \"yaxis\": \"y\"}, {\"hoverlabel\": {\"namelength\": 0}, \"hovertemplate\": \"staff=Gaston Bujia - Lucas Sede\\u00f1o<br>date=%{x}<br>N=%{y}\", \"legendgroup\": \"Gaston Bujia - Lucas Sede\\u00f1o\", \"line\": {\"color\": \"#FFA15A\", \"dash\": \"solid\"}, \"mode\": \"lines\", \"name\": \"Gaston Bujia - Lucas Sede\\u00f1o\", \"showlegend\": true, \"type\": \"scatter\", \"x\": [\"2020-03-09\", \"2020-03-30\", \"2020-05-11\", \"2020-06-01\", \"2020-06-22\", \"2020-07-08\", \"2020-08-10\", \"2020-08-31\", \"2020-09-21\", \"2020-09-28\"], \"xaxis\": \"x\", \"y\": [52.38, 56.25, 25.0, 28.57, 18.75, 50.0, 7.41, 9.52, -13.33, 40.0], \"yaxis\": \"y\"}, {\"hoverlabel\": {\"namelength\": 0}, \"hovertemplate\": \"staff=Fernando Carabedo - Elias Lopez<br>date=%{x}<br>N=%{y}\", \"legendgroup\": \"Fernando Carabedo - Elias Lopez\", \"line\": {\"color\": \"#19d3f3\", \"dash\": \"solid\"}, \"mode\": \"lines\", \"name\": \"Fernando Carabedo - Elias Lopez\", \"showlegend\": true, \"type\": \"scatter\", \"x\": [\"2020-03-10\", \"2020-04-02\", \"2020-05-05\", \"2020-06-10\", \"2020-07-02\", \"2020-07-14\"], \"xaxis\": \"x\", \"y\": [6.67, -33.33, 7.69, 5.88, 0.0, 43.75], \"yaxis\": \"y\"}, {\"hoverlabel\": {\"namelength\": 0}, \"hovertemplate\": \"staff=Franco De Giovannini - Ariel Haimovici<br>date=%{x}<br>N=%{y}\", \"legendgroup\": \"Franco De Giovannini - Ariel Haimovici\", \"line\": {\"color\": \"#FF6692\", \"dash\": \"solid\"}, \"mode\": \"lines\", \"name\": \"Franco De Giovannini - Ariel Haimovici\", \"showlegend\": true, \"type\": \"scatter\", \"x\": [\"2020-05-11\", \"2020-05-27\", \"2020-06-17\", \"2020-06-24\", \"2020-07-14\", \"2020-07-29\", \"2020-08-19\"], \"xaxis\": \"x\", \"y\": [13.33, 13.33, 0.0, 21.43, 0.0, 16.67, 27.27], \"yaxis\": \"y\"}, {\"hoverlabel\": {\"namelength\": 0}, \"hovertemplate\": \"staff=Guillermo Fairhurst - Elias Lopez<br>date=%{x}<br>N=%{y}\", \"legendgroup\": \"Guillermo Fairhurst - Elias Lopez\", \"line\": {\"color\": \"#B6E880\", \"dash\": \"solid\"}, \"mode\": \"lines\", \"name\": \"Guillermo Fairhurst - Elias Lopez\", \"showlegend\": true, \"type\": \"scatter\", \"x\": [\"2020-06-22\", \"2020-07-14\", \"2020-08-03\", \"2020-08-15\", \"2020-08-24\", \"2020-09-14\"], \"xaxis\": \"x\", \"y\": [0.0, 15.38, 28.57, 31.25, 50.0, 50.0], \"yaxis\": \"y\"}, {\"hoverlabel\": {\"namelength\": 0}, \"hovertemplate\": \"staff=Mariela Bisso - Fernando Carabedo<br>date=%{x}<br>N=%{y}\", \"legendgroup\": \"Mariela Bisso - Fernando Carabedo\", \"line\": {\"color\": \"#FF97FF\", \"dash\": \"solid\"}, \"mode\": \"lines\", \"name\": \"Mariela Bisso - Fernando Carabedo\", \"showlegend\": true, \"type\": \"scatter\", \"x\": [\"2020-08-11\", \"2020-08-31\", \"2020-09-22\", \"2020-09-28\"], \"xaxis\": \"x\", \"y\": [-18.42, 13.79, 0.0, 18.18], \"yaxis\": \"y\"}, {\"hoverlabel\": {\"namelength\": 0}, \"hovertemplate\": \"staff=Diego Battocchio - Carlos Pita<br>date=%{x}<br>N=%{y}\", \"legendgroup\": \"Diego Battocchio - Carlos Pita\", \"line\": {\"color\": \"#FECB52\", \"dash\": \"solid\"}, \"mode\": \"lines\", \"name\": \"Diego Battocchio - Carlos Pita\", \"showlegend\": true, \"type\": \"scatter\", \"x\": [\"2020-09-15\"], \"xaxis\": \"x\", \"y\": [18.52], \"yaxis\": \"y\"}],\n",
       "                        {\"legend\": {\"title\": {\"text\": \"staff\"}, \"tracegroupgap\": 0}, \"template\": {\"data\": {\"bar\": [{\"error_x\": {\"color\": \"#2a3f5f\"}, \"error_y\": {\"color\": \"#2a3f5f\"}, \"marker\": {\"line\": {\"color\": \"#E5ECF6\", \"width\": 0.5}}, \"type\": \"bar\"}], \"barpolar\": [{\"marker\": {\"line\": {\"color\": \"#E5ECF6\", \"width\": 0.5}}, \"type\": \"barpolar\"}], \"carpet\": [{\"aaxis\": {\"endlinecolor\": \"#2a3f5f\", \"gridcolor\": \"white\", \"linecolor\": \"white\", \"minorgridcolor\": \"white\", \"startlinecolor\": \"#2a3f5f\"}, \"baxis\": {\"endlinecolor\": \"#2a3f5f\", \"gridcolor\": \"white\", \"linecolor\": \"white\", \"minorgridcolor\": \"white\", \"startlinecolor\": \"#2a3f5f\"}, \"type\": \"carpet\"}], \"choropleth\": [{\"colorbar\": {\"outlinewidth\": 0, \"ticks\": \"\"}, \"type\": \"choropleth\"}], \"contour\": [{\"colorbar\": {\"outlinewidth\": 0, \"ticks\": \"\"}, \"colorscale\": [[0.0, \"#0d0887\"], [0.1111111111111111, \"#46039f\"], [0.2222222222222222, \"#7201a8\"], [0.3333333333333333, \"#9c179e\"], [0.4444444444444444, \"#bd3786\"], [0.5555555555555556, \"#d8576b\"], [0.6666666666666666, \"#ed7953\"], [0.7777777777777778, \"#fb9f3a\"], [0.8888888888888888, \"#fdca26\"], [1.0, \"#f0f921\"]], \"type\": \"contour\"}], \"contourcarpet\": [{\"colorbar\": {\"outlinewidth\": 0, \"ticks\": \"\"}, \"type\": \"contourcarpet\"}], \"heatmap\": [{\"colorbar\": {\"outlinewidth\": 0, \"ticks\": \"\"}, \"colorscale\": [[0.0, \"#0d0887\"], [0.1111111111111111, \"#46039f\"], [0.2222222222222222, \"#7201a8\"], [0.3333333333333333, \"#9c179e\"], [0.4444444444444444, \"#bd3786\"], [0.5555555555555556, \"#d8576b\"], [0.6666666666666666, \"#ed7953\"], [0.7777777777777778, \"#fb9f3a\"], [0.8888888888888888, \"#fdca26\"], [1.0, \"#f0f921\"]], \"type\": \"heatmap\"}], \"heatmapgl\": [{\"colorbar\": {\"outlinewidth\": 0, \"ticks\": \"\"}, \"colorscale\": [[0.0, \"#0d0887\"], [0.1111111111111111, \"#46039f\"], [0.2222222222222222, \"#7201a8\"], [0.3333333333333333, \"#9c179e\"], [0.4444444444444444, \"#bd3786\"], [0.5555555555555556, \"#d8576b\"], [0.6666666666666666, \"#ed7953\"], [0.7777777777777778, \"#fb9f3a\"], [0.8888888888888888, \"#fdca26\"], [1.0, \"#f0f921\"]], \"type\": \"heatmapgl\"}], \"histogram\": [{\"marker\": {\"colorbar\": {\"outlinewidth\": 0, \"ticks\": \"\"}}, \"type\": \"histogram\"}], \"histogram2d\": [{\"colorbar\": {\"outlinewidth\": 0, \"ticks\": \"\"}, \"colorscale\": [[0.0, \"#0d0887\"], [0.1111111111111111, \"#46039f\"], [0.2222222222222222, \"#7201a8\"], [0.3333333333333333, \"#9c179e\"], [0.4444444444444444, \"#bd3786\"], [0.5555555555555556, \"#d8576b\"], [0.6666666666666666, \"#ed7953\"], [0.7777777777777778, \"#fb9f3a\"], [0.8888888888888888, \"#fdca26\"], [1.0, \"#f0f921\"]], \"type\": \"histogram2d\"}], \"histogram2dcontour\": [{\"colorbar\": {\"outlinewidth\": 0, \"ticks\": \"\"}, \"colorscale\": [[0.0, \"#0d0887\"], [0.1111111111111111, \"#46039f\"], [0.2222222222222222, \"#7201a8\"], [0.3333333333333333, \"#9c179e\"], [0.4444444444444444, \"#bd3786\"], [0.5555555555555556, \"#d8576b\"], [0.6666666666666666, \"#ed7953\"], [0.7777777777777778, \"#fb9f3a\"], [0.8888888888888888, \"#fdca26\"], [1.0, \"#f0f921\"]], \"type\": \"histogram2dcontour\"}], \"mesh3d\": [{\"colorbar\": {\"outlinewidth\": 0, \"ticks\": \"\"}, \"type\": \"mesh3d\"}], \"parcoords\": [{\"line\": {\"colorbar\": {\"outlinewidth\": 0, \"ticks\": \"\"}}, \"type\": \"parcoords\"}], \"pie\": [{\"automargin\": true, \"type\": \"pie\"}], \"scatter\": [{\"marker\": {\"colorbar\": {\"outlinewidth\": 0, \"ticks\": \"\"}}, \"type\": \"scatter\"}], \"scatter3d\": [{\"line\": {\"colorbar\": {\"outlinewidth\": 0, \"ticks\": \"\"}}, \"marker\": {\"colorbar\": {\"outlinewidth\": 0, \"ticks\": \"\"}}, \"type\": \"scatter3d\"}], \"scattercarpet\": [{\"marker\": {\"colorbar\": {\"outlinewidth\": 0, \"ticks\": \"\"}}, \"type\": \"scattercarpet\"}], \"scattergeo\": [{\"marker\": {\"colorbar\": {\"outlinewidth\": 0, \"ticks\": \"\"}}, \"type\": \"scattergeo\"}], \"scattergl\": [{\"marker\": {\"colorbar\": {\"outlinewidth\": 0, \"ticks\": \"\"}}, \"type\": \"scattergl\"}], \"scattermapbox\": [{\"marker\": {\"colorbar\": {\"outlinewidth\": 0, \"ticks\": \"\"}}, \"type\": \"scattermapbox\"}], \"scatterpolar\": [{\"marker\": {\"colorbar\": {\"outlinewidth\": 0, \"ticks\": \"\"}}, \"type\": \"scatterpolar\"}], \"scatterpolargl\": [{\"marker\": {\"colorbar\": {\"outlinewidth\": 0, \"ticks\": \"\"}}, \"type\": \"scatterpolargl\"}], \"scatterternary\": [{\"marker\": {\"colorbar\": {\"outlinewidth\": 0, \"ticks\": \"\"}}, \"type\": \"scatterternary\"}], \"surface\": [{\"colorbar\": {\"outlinewidth\": 0, \"ticks\": \"\"}, \"colorscale\": [[0.0, \"#0d0887\"], [0.1111111111111111, \"#46039f\"], [0.2222222222222222, \"#7201a8\"], [0.3333333333333333, \"#9c179e\"], [0.4444444444444444, \"#bd3786\"], [0.5555555555555556, \"#d8576b\"], [0.6666666666666666, \"#ed7953\"], [0.7777777777777778, \"#fb9f3a\"], [0.8888888888888888, \"#fdca26\"], [1.0, \"#f0f921\"]], \"type\": \"surface\"}], \"table\": [{\"cells\": {\"fill\": {\"color\": \"#EBF0F8\"}, \"line\": {\"color\": \"white\"}}, \"header\": {\"fill\": {\"color\": \"#C8D4E3\"}, \"line\": {\"color\": \"white\"}}, \"type\": \"table\"}]}, \"layout\": {\"annotationdefaults\": {\"arrowcolor\": \"#2a3f5f\", \"arrowhead\": 0, \"arrowwidth\": 1}, \"coloraxis\": {\"colorbar\": {\"outlinewidth\": 0, \"ticks\": \"\"}}, \"colorscale\": {\"diverging\": [[0, \"#8e0152\"], [0.1, \"#c51b7d\"], [0.2, \"#de77ae\"], [0.3, \"#f1b6da\"], [0.4, \"#fde0ef\"], [0.5, \"#f7f7f7\"], [0.6, \"#e6f5d0\"], [0.7, \"#b8e186\"], [0.8, \"#7fbc41\"], [0.9, \"#4d9221\"], [1, \"#276419\"]], \"sequential\": [[0.0, \"#0d0887\"], [0.1111111111111111, \"#46039f\"], [0.2222222222222222, \"#7201a8\"], [0.3333333333333333, \"#9c179e\"], [0.4444444444444444, \"#bd3786\"], [0.5555555555555556, \"#d8576b\"], [0.6666666666666666, \"#ed7953\"], [0.7777777777777778, \"#fb9f3a\"], [0.8888888888888888, \"#fdca26\"], [1.0, \"#f0f921\"]], \"sequentialminus\": [[0.0, \"#0d0887\"], [0.1111111111111111, \"#46039f\"], [0.2222222222222222, \"#7201a8\"], [0.3333333333333333, \"#9c179e\"], [0.4444444444444444, \"#bd3786\"], [0.5555555555555556, \"#d8576b\"], [0.6666666666666666, \"#ed7953\"], [0.7777777777777778, \"#fb9f3a\"], [0.8888888888888888, \"#fdca26\"], [1.0, \"#f0f921\"]]}, \"colorway\": [\"#636efa\", \"#EF553B\", \"#00cc96\", \"#ab63fa\", \"#FFA15A\", \"#19d3f3\", \"#FF6692\", \"#B6E880\", \"#FF97FF\", \"#FECB52\"], \"font\": {\"color\": \"#2a3f5f\"}, \"geo\": {\"bgcolor\": \"white\", \"lakecolor\": \"white\", \"landcolor\": \"#E5ECF6\", \"showlakes\": true, \"showland\": true, \"subunitcolor\": \"white\"}, \"hoverlabel\": {\"align\": \"left\"}, \"hovermode\": \"closest\", \"mapbox\": {\"style\": \"light\"}, \"paper_bgcolor\": \"white\", \"plot_bgcolor\": \"#E5ECF6\", \"polar\": {\"angularaxis\": {\"gridcolor\": \"white\", \"linecolor\": \"white\", \"ticks\": \"\"}, \"bgcolor\": \"#E5ECF6\", \"radialaxis\": {\"gridcolor\": \"white\", \"linecolor\": \"white\", \"ticks\": \"\"}}, \"scene\": {\"xaxis\": {\"backgroundcolor\": \"#E5ECF6\", \"gridcolor\": \"white\", \"gridwidth\": 2, \"linecolor\": \"white\", \"showbackground\": true, \"ticks\": \"\", \"zerolinecolor\": \"white\"}, \"yaxis\": {\"backgroundcolor\": \"#E5ECF6\", \"gridcolor\": \"white\", \"gridwidth\": 2, \"linecolor\": \"white\", \"showbackground\": true, \"ticks\": \"\", \"zerolinecolor\": \"white\"}, \"zaxis\": {\"backgroundcolor\": \"#E5ECF6\", \"gridcolor\": \"white\", \"gridwidth\": 2, \"linecolor\": \"white\", \"showbackground\": true, \"ticks\": \"\", \"zerolinecolor\": \"white\"}}, \"shapedefaults\": {\"line\": {\"color\": \"#2a3f5f\"}}, \"ternary\": {\"aaxis\": {\"gridcolor\": \"white\", \"linecolor\": \"white\", \"ticks\": \"\"}, \"baxis\": {\"gridcolor\": \"white\", \"linecolor\": \"white\", \"ticks\": \"\"}, \"bgcolor\": \"#E5ECF6\", \"caxis\": {\"gridcolor\": \"white\", \"linecolor\": \"white\", \"ticks\": \"\"}}, \"title\": {\"x\": 0.05}, \"xaxis\": {\"automargin\": true, \"gridcolor\": \"white\", \"linecolor\": \"white\", \"ticks\": \"\", \"title\": {\"standoff\": 15}, \"zerolinecolor\": \"white\", \"zerolinewidth\": 2}, \"yaxis\": {\"automargin\": true, \"gridcolor\": \"white\", \"linecolor\": \"white\", \"ticks\": \"\", \"title\": {\"standoff\": 15}, \"zerolinecolor\": \"white\", \"zerolinewidth\": 2}}}, \"title\": {\"text\": \"nsi+nps\"}, \"xaxis\": {\"anchor\": \"y\", \"domain\": [0.0, 1.0], \"title\": {\"text\": \"date\"}}, \"yaxis\": {\"anchor\": \"x\", \"domain\": [0.0, 1.0], \"title\": {\"text\": \"N\"}}},\n",
       "                        {\"responsive\": true}\n",
       "                    ).then(function(){\n",
       "                            \n",
       "var gd = document.getElementById('998310f9-b464-472a-a0f8-24405ab2f1fc');\n",
       "var x = new MutationObserver(function (mutations, observer) {{\n",
       "        var display = window.getComputedStyle(gd).display;\n",
       "        if (!display || display === 'none') {{\n",
       "            console.log([gd, 'removed!']);\n",
       "            Plotly.purge(gd);\n",
       "            observer.disconnect();\n",
       "        }}\n",
       "}});\n",
       "\n",
       "// Listen for the removal of the full notebook cells\n",
       "var notebookContainer = gd.closest('#notebook-container');\n",
       "if (notebookContainer) {{\n",
       "    x.observe(notebookContainer, {childList: true});\n",
       "}}\n",
       "\n",
       "// Listen for the clearing of the current output cell\n",
       "var outputEl = gd.closest('.output');\n",
       "if (outputEl) {{\n",
       "    x.observe(outputEl, {childList: true});\n",
       "}}\n",
       "\n",
       "                        })\n",
       "                };\n",
       "                });\n",
       "            </script>\n",
       "        </div>"
      ]
     },
     "metadata": {},
     "output_type": "display_data"
    }
   ],
   "source": [
    "fig = px.line(df, x='date', y=\"N\",color='staff',title='nsi+nps')\n",
    "\n",
    "\n",
    "\n",
    "fig.show()"
   ]
  },
  {
   "cell_type": "code",
   "execution_count": 7,
   "metadata": {},
   "outputs": [
    {
     "data": {
      "application/vnd.plotly.v1+json": {
       "config": {
        "plotlyServerURL": "https://plot.ly"
       },
       "data": [
        {
         "hoverlabel": {
          "namelength": 0
         },
         "hovertemplate": "staff= Leonardo Ignacio Córdoba -  María Frances Gaska<br>date=%{x}<br>d=%{y}",
         "legendgroup": " Leonardo Ignacio Córdoba -  María Frances Gaska",
         "line": {
          "color": "#636efa",
          "dash": "solid"
         },
         "mode": "lines",
         "name": " Leonardo Ignacio Córdoba -  María Frances Gaska",
         "showlegend": true,
         "type": "scatter",
         "x": [
          "2018-07-19"
         ],
         "xaxis": "x",
         "y": [
          0
         ],
         "yaxis": "y"
        },
        {
         "hoverlabel": {
          "namelength": 0
         },
         "hovertemplate": "staff= Pablo Roccatagliata -  Demian Avendano<br>date=%{x}<br>d=%{y}",
         "legendgroup": " Pablo Roccatagliata -  Demian Avendano",
         "line": {
          "color": "#EF553B",
          "dash": "solid"
         },
         "mode": "lines",
         "name": " Pablo Roccatagliata -  Demian Avendano",
         "showlegend": true,
         "type": "scatter",
         "x": [
          "2018-07-30",
          "2018-08-22",
          "2018-09-12",
          "2018-10-05",
          "2018-10-26",
          "2018-11-12",
          "2018-11-26"
         ],
         "xaxis": "x",
         "y": [
          4,
          2,
          3,
          2,
          2,
          1,
          1
         ],
         "yaxis": "y"
        },
        {
         "hoverlabel": {
          "namelength": 0
         },
         "hovertemplate": "staff= Marianela Sarabia -  German Rosati -  Paolo Donizetti<br>date=%{x}<br>d=%{y}",
         "legendgroup": " Marianela Sarabia -  German Rosati -  Paolo Donizetti",
         "line": {
          "color": "#00cc96",
          "dash": "solid"
         },
         "mode": "lines",
         "name": " Marianela Sarabia -  German Rosati -  Paolo Donizetti",
         "showlegend": true,
         "type": "scatter",
         "x": [
          "2018-07-31"
         ],
         "xaxis": "x",
         "y": [
          3
         ],
         "yaxis": "y"
        },
        {
         "hoverlabel": {
          "namelength": 0
         },
         "hovertemplate": "staff= Leonardo Ignacio Córdoba -  Nicolás Monner Sans -  María Frances Gaska<br>date=%{x}<br>d=%{y}",
         "legendgroup": " Leonardo Ignacio Córdoba -  Nicolás Monner Sans -  María Frances Gaska",
         "line": {
          "color": "#ab63fa",
          "dash": "solid"
         },
         "mode": "lines",
         "name": " Leonardo Ignacio Córdoba -  Nicolás Monner Sans -  María Frances Gaska",
         "showlegend": true,
         "type": "scatter",
         "x": [
          "2018-08-16",
          "2018-09-06",
          "2018-09-27",
          "2018-10-18",
          "2018-10-24",
          "2018-11-14",
          "2018-12-05",
          "2018-12-16"
         ],
         "xaxis": "x",
         "y": [
          0,
          2,
          2,
          1,
          0,
          0,
          1,
          1
         ],
         "yaxis": "y"
        },
        {
         "hoverlabel": {
          "namelength": 0
         },
         "hovertemplate": "staff= Lionel Chamorro -  Marianela Sarabia -  Julián Ansaldo<br>date=%{x}<br>d=%{y}",
         "legendgroup": " Lionel Chamorro -  Marianela Sarabia -  Julián Ansaldo",
         "line": {
          "color": "#FFA15A",
          "dash": "solid"
         },
         "mode": "lines",
         "name": " Lionel Chamorro -  Marianela Sarabia -  Julián Ansaldo",
         "showlegend": true,
         "type": "scatter",
         "x": [
          "2018-08-27",
          "2018-09-17",
          "2018-10-08",
          "2018-10-29",
          "2018-11-21",
          "2018-12-12"
         ],
         "xaxis": "x",
         "y": [
          10,
          4,
          5,
          2,
          2,
          1
         ],
         "yaxis": "y"
        },
        {
         "hoverlabel": {
          "namelength": 0
         },
         "hovertemplate": "staff= Julián Ansaldo -  Paolo Donizetti<br>date=%{x}<br>d=%{y}",
         "legendgroup": " Julián Ansaldo -  Paolo Donizetti",
         "line": {
          "color": "#19d3f3",
          "dash": "solid"
         },
         "mode": "lines",
         "name": " Julián Ansaldo -  Paolo Donizetti",
         "showlegend": true,
         "type": "scatter",
         "x": [
          "2018-08-28",
          "2018-09-18",
          "2018-10-09",
          "2018-10-30",
          "2018-11-20",
          "2018-12-11"
         ],
         "xaxis": "x",
         "y": [
          1,
          2,
          5,
          3,
          5,
          3
         ],
         "yaxis": "y"
        },
        {
         "hoverlabel": {
          "namelength": 0
         },
         "hovertemplate": "staff=Demian Avendano - Carlos Pablo Modenutti<br>date=%{x}<br>d=%{y}",
         "legendgroup": "Demian Avendano - Carlos Pablo Modenutti",
         "line": {
          "color": "#FF6692",
          "dash": "solid"
         },
         "mode": "lines",
         "name": "Demian Avendano - Carlos Pablo Modenutti",
         "showlegend": true,
         "type": "scatter",
         "x": [
          "2019-03-12",
          "2019-04-04",
          "2019-04-25",
          "2019-05-16",
          "2019-06-06",
          "2019-06-27",
          "2019-07-05",
          "2019-07-22",
          "2019-07-22"
         ],
         "xaxis": "x",
         "y": [
          11,
          7,
          8,
          7,
          5,
          6,
          7,
          7,
          4
         ],
         "yaxis": "y"
        },
        {
         "hoverlabel": {
          "namelength": 0
         },
         "hovertemplate": "staff=Julián Ansaldo - Julian Peller<br>date=%{x}<br>d=%{y}",
         "legendgroup": "Julián Ansaldo - Julian Peller",
         "line": {
          "color": "#B6E880",
          "dash": "solid"
         },
         "mode": "lines",
         "name": "Julián Ansaldo - Julian Peller",
         "showlegend": true,
         "type": "scatter",
         "x": [
          "2019-03-18",
          "2019-04-08",
          "2019-04-29",
          "2019-05-20",
          "2019-06-10",
          "2019-07-01",
          "2019-07-05",
          "2019-07-22",
          "2019-07-22",
          "2019-07-22"
         ],
         "xaxis": "x",
         "y": [
          5,
          3,
          3,
          4,
          4,
          4,
          3,
          1,
          1,
          1
         ],
         "yaxis": "y"
        },
        {
         "hoverlabel": {
          "namelength": 0
         },
         "hovertemplate": "staff=Carlos Pita - Nicolás Monner Sans<br>date=%{x}<br>d=%{y}",
         "legendgroup": "Carlos Pita - Nicolás Monner Sans",
         "line": {
          "color": "#FF97FF",
          "dash": "solid"
         },
         "mode": "lines",
         "name": "Carlos Pita - Nicolás Monner Sans",
         "showlegend": true,
         "type": "scatter",
         "x": [
          "2019-04-08",
          "2019-04-29",
          "2019-05-20",
          "2019-06-10",
          "2019-07-01",
          "2019-07-05",
          "2019-07-24",
          "2019-08-07",
          "2019-08-07",
          "2019-09-26",
          "2019-10-19",
          "2019-11-07",
          "2019-11-28",
          "2019-12-19",
          "2020-05-11",
          "2020-05-28",
          "2020-06-16",
          "2020-06-18",
          "2020-07-07",
          "2020-07-28",
          "2020-08-19",
          "2020-09-01"
         ],
         "xaxis": "x",
         "y": [
          3,
          5,
          4,
          4,
          4,
          1,
          5,
          0,
          4,
          5,
          5,
          2,
          4,
          3,
          1,
          4,
          0,
          4,
          2,
          3,
          3,
          2
         ],
         "yaxis": "y"
        },
        {
         "hoverlabel": {
          "namelength": 0
         },
         "hovertemplate": "staff=Paolo Donizetti - Martin Sokolowicz<br>date=%{x}<br>d=%{y}",
         "legendgroup": "Paolo Donizetti - Martin Sokolowicz",
         "line": {
          "color": "#FECB52",
          "dash": "solid"
         },
         "mode": "lines",
         "name": "Paolo Donizetti - Martin Sokolowicz",
         "showlegend": true,
         "type": "scatter",
         "x": [
          "2019-04-16",
          "2019-05-07",
          "2019-06-01",
          "2019-06-18",
          "2019-07-11",
          "2019-07-11"
         ],
         "xaxis": "x",
         "y": [
          2,
          6,
          6,
          3,
          2,
          3
         ],
         "yaxis": "y"
        },
        {
         "hoverlabel": {
          "namelength": 0
         },
         "hovertemplate": "staff=Juan Manuel Alvarez - Paula Beati<br>date=%{x}<br>d=%{y}",
         "legendgroup": "Juan Manuel Alvarez - Paula Beati",
         "line": {
          "color": "#636efa",
          "dash": "solid"
         },
         "mode": "lines",
         "name": "Juan Manuel Alvarez - Paula Beati",
         "showlegend": true,
         "type": "scatter",
         "x": [
          "2019-05-28",
          "2019-06-18",
          "2019-07-10",
          "2019-07-12",
          "2019-07-31",
          "2019-08-21",
          "2019-09-23",
          "2019-09-23"
         ],
         "xaxis": "x",
         "y": [
          4,
          3,
          3,
          2,
          3,
          5,
          1,
          3
         ],
         "yaxis": "y"
        },
        {
         "hoverlabel": {
          "namelength": 0
         },
         "hovertemplate": "staff=Martin Sokolowicz - Ariel Haimovici<br>date=%{x}<br>d=%{y}",
         "legendgroup": "Martin Sokolowicz - Ariel Haimovici",
         "line": {
          "color": "#EF553B",
          "dash": "solid"
         },
         "mode": "lines",
         "name": "Martin Sokolowicz - Ariel Haimovici",
         "showlegend": true,
         "type": "scatter",
         "x": [
          "2019-08-13",
          "2019-09-03",
          "2019-09-24",
          "2019-10-15",
          "2019-11-05",
          "2019-11-29"
         ],
         "xaxis": "x",
         "y": [
          1,
          1,
          3,
          3,
          4,
          1
         ],
         "yaxis": "y"
        },
        {
         "hoverlabel": {
          "namelength": 0
         },
         "hovertemplate": "staff=Julian Peller - Lucas Sedeño<br>date=%{x}<br>d=%{y}",
         "legendgroup": "Julian Peller - Lucas Sedeño",
         "line": {
          "color": "#00cc96",
          "dash": "solid"
         },
         "mode": "lines",
         "name": "Julian Peller - Lucas Sedeño",
         "showlegend": true,
         "type": "scatter",
         "x": [
          "2019-08-21",
          "2019-09-11",
          "2019-10-02",
          "2019-10-23",
          "2019-11-13",
          "2019-12-04"
         ],
         "xaxis": "x",
         "y": [
          2,
          0,
          0,
          0,
          1,
          1
         ],
         "yaxis": "y"
        },
        {
         "hoverlabel": {
          "namelength": 0
         },
         "hovertemplate": "staff=Julián Ansaldo - Elias Lopez<br>date=%{x}<br>d=%{y}",
         "legendgroup": "Julián Ansaldo - Elias Lopez",
         "line": {
          "color": "#ab63fa",
          "dash": "solid"
         },
         "mode": "lines",
         "name": "Julián Ansaldo - Elias Lopez",
         "showlegend": true,
         "type": "scatter",
         "x": [
          "2019-08-26",
          "2019-09-16",
          "2019-10-07",
          "2019-10-28",
          "2019-11-20",
          "2019-12-11"
         ],
         "xaxis": "x",
         "y": [
          2,
          0,
          0,
          0,
          1,
          0
         ],
         "yaxis": "y"
        },
        {
         "hoverlabel": {
          "namelength": 0
         },
         "hovertemplate": "staff=Gaston Bujia - Lucas Sedeño<br>date=%{x}<br>d=%{y}",
         "legendgroup": "Gaston Bujia - Lucas Sedeño",
         "line": {
          "color": "#FFA15A",
          "dash": "solid"
         },
         "mode": "lines",
         "name": "Gaston Bujia - Lucas Sedeño",
         "showlegend": true,
         "type": "scatter",
         "x": [
          "2020-03-09",
          "2020-03-30",
          "2020-05-11",
          "2020-06-01",
          "2020-06-22",
          "2020-07-08",
          "2020-08-10",
          "2020-08-31",
          "2020-09-21",
          "2020-09-28"
         ],
         "xaxis": "x",
         "y": [
          1,
          0,
          0,
          1,
          1,
          1,
          5,
          5,
          6,
          1
         ],
         "yaxis": "y"
        },
        {
         "hoverlabel": {
          "namelength": 0
         },
         "hovertemplate": "staff=Fernando Carabedo - Elias Lopez<br>date=%{x}<br>d=%{y}",
         "legendgroup": "Fernando Carabedo - Elias Lopez",
         "line": {
          "color": "#19d3f3",
          "dash": "solid"
         },
         "mode": "lines",
         "name": "Fernando Carabedo - Elias Lopez",
         "showlegend": true,
         "type": "scatter",
         "x": [
          "2020-03-10",
          "2020-04-02",
          "2020-05-05",
          "2020-06-10",
          "2020-07-02",
          "2020-07-14"
         ],
         "xaxis": "x",
         "y": [
          4,
          4,
          3,
          3,
          2,
          2
         ],
         "yaxis": "y"
        },
        {
         "hoverlabel": {
          "namelength": 0
         },
         "hovertemplate": "staff=Franco De Giovannini - Ariel Haimovici<br>date=%{x}<br>d=%{y}",
         "legendgroup": "Franco De Giovannini - Ariel Haimovici",
         "line": {
          "color": "#FF6692",
          "dash": "solid"
         },
         "mode": "lines",
         "name": "Franco De Giovannini - Ariel Haimovici",
         "showlegend": true,
         "type": "scatter",
         "x": [
          "2020-05-11",
          "2020-05-27",
          "2020-06-17",
          "2020-06-24",
          "2020-07-14",
          "2020-07-29",
          "2020-08-19"
         ],
         "xaxis": "x",
         "y": [
          2,
          2,
          2,
          3,
          2,
          1,
          1
         ],
         "yaxis": "y"
        },
        {
         "hoverlabel": {
          "namelength": 0
         },
         "hovertemplate": "staff=Guillermo Fairhurst - Elias Lopez<br>date=%{x}<br>d=%{y}",
         "legendgroup": "Guillermo Fairhurst - Elias Lopez",
         "line": {
          "color": "#B6E880",
          "dash": "solid"
         },
         "mode": "lines",
         "name": "Guillermo Fairhurst - Elias Lopez",
         "showlegend": true,
         "type": "scatter",
         "x": [
          "2020-06-22",
          "2020-07-14",
          "2020-08-03",
          "2020-08-15",
          "2020-08-24",
          "2020-09-14"
         ],
         "xaxis": "x",
         "y": [
          2,
          0,
          0,
          1,
          1,
          0
         ],
         "yaxis": "y"
        },
        {
         "hoverlabel": {
          "namelength": 0
         },
         "hovertemplate": "staff=Mariela Bisso - Fernando Carabedo<br>date=%{x}<br>d=%{y}",
         "legendgroup": "Mariela Bisso - Fernando Carabedo",
         "line": {
          "color": "#FF97FF",
          "dash": "solid"
         },
         "mode": "lines",
         "name": "Mariela Bisso - Fernando Carabedo",
         "showlegend": true,
         "type": "scatter",
         "x": [
          "2020-08-11",
          "2020-08-31",
          "2020-09-22",
          "2020-09-28"
         ],
         "xaxis": "x",
         "y": [
          13,
          7,
          6,
          7
         ],
         "yaxis": "y"
        },
        {
         "hoverlabel": {
          "namelength": 0
         },
         "hovertemplate": "staff=Diego Battocchio - Carlos Pita<br>date=%{x}<br>d=%{y}",
         "legendgroup": "Diego Battocchio - Carlos Pita",
         "line": {
          "color": "#FECB52",
          "dash": "solid"
         },
         "mode": "lines",
         "name": "Diego Battocchio - Carlos Pita",
         "showlegend": true,
         "type": "scatter",
         "x": [
          "2020-09-15"
         ],
         "xaxis": "x",
         "y": [
          3
         ],
         "yaxis": "y"
        }
       ],
       "layout": {
        "autosize": true,
        "legend": {
         "title": {
          "text": "staff"
         },
         "tracegroupgap": 0
        },
        "template": {
         "data": {
          "bar": [
           {
            "error_x": {
             "color": "#2a3f5f"
            },
            "error_y": {
             "color": "#2a3f5f"
            },
            "marker": {
             "line": {
              "color": "#E5ECF6",
              "width": 0.5
             }
            },
            "type": "bar"
           }
          ],
          "barpolar": [
           {
            "marker": {
             "line": {
              "color": "#E5ECF6",
              "width": 0.5
             }
            },
            "type": "barpolar"
           }
          ],
          "carpet": [
           {
            "aaxis": {
             "endlinecolor": "#2a3f5f",
             "gridcolor": "white",
             "linecolor": "white",
             "minorgridcolor": "white",
             "startlinecolor": "#2a3f5f"
            },
            "baxis": {
             "endlinecolor": "#2a3f5f",
             "gridcolor": "white",
             "linecolor": "white",
             "minorgridcolor": "white",
             "startlinecolor": "#2a3f5f"
            },
            "type": "carpet"
           }
          ],
          "choropleth": [
           {
            "colorbar": {
             "outlinewidth": 0,
             "ticks": ""
            },
            "type": "choropleth"
           }
          ],
          "contour": [
           {
            "colorbar": {
             "outlinewidth": 0,
             "ticks": ""
            },
            "colorscale": [
             [
              0,
              "#0d0887"
             ],
             [
              0.1111111111111111,
              "#46039f"
             ],
             [
              0.2222222222222222,
              "#7201a8"
             ],
             [
              0.3333333333333333,
              "#9c179e"
             ],
             [
              0.4444444444444444,
              "#bd3786"
             ],
             [
              0.5555555555555556,
              "#d8576b"
             ],
             [
              0.6666666666666666,
              "#ed7953"
             ],
             [
              0.7777777777777778,
              "#fb9f3a"
             ],
             [
              0.8888888888888888,
              "#fdca26"
             ],
             [
              1,
              "#f0f921"
             ]
            ],
            "type": "contour"
           }
          ],
          "contourcarpet": [
           {
            "colorbar": {
             "outlinewidth": 0,
             "ticks": ""
            },
            "type": "contourcarpet"
           }
          ],
          "heatmap": [
           {
            "colorbar": {
             "outlinewidth": 0,
             "ticks": ""
            },
            "colorscale": [
             [
              0,
              "#0d0887"
             ],
             [
              0.1111111111111111,
              "#46039f"
             ],
             [
              0.2222222222222222,
              "#7201a8"
             ],
             [
              0.3333333333333333,
              "#9c179e"
             ],
             [
              0.4444444444444444,
              "#bd3786"
             ],
             [
              0.5555555555555556,
              "#d8576b"
             ],
             [
              0.6666666666666666,
              "#ed7953"
             ],
             [
              0.7777777777777778,
              "#fb9f3a"
             ],
             [
              0.8888888888888888,
              "#fdca26"
             ],
             [
              1,
              "#f0f921"
             ]
            ],
            "type": "heatmap"
           }
          ],
          "heatmapgl": [
           {
            "colorbar": {
             "outlinewidth": 0,
             "ticks": ""
            },
            "colorscale": [
             [
              0,
              "#0d0887"
             ],
             [
              0.1111111111111111,
              "#46039f"
             ],
             [
              0.2222222222222222,
              "#7201a8"
             ],
             [
              0.3333333333333333,
              "#9c179e"
             ],
             [
              0.4444444444444444,
              "#bd3786"
             ],
             [
              0.5555555555555556,
              "#d8576b"
             ],
             [
              0.6666666666666666,
              "#ed7953"
             ],
             [
              0.7777777777777778,
              "#fb9f3a"
             ],
             [
              0.8888888888888888,
              "#fdca26"
             ],
             [
              1,
              "#f0f921"
             ]
            ],
            "type": "heatmapgl"
           }
          ],
          "histogram": [
           {
            "marker": {
             "colorbar": {
              "outlinewidth": 0,
              "ticks": ""
             }
            },
            "type": "histogram"
           }
          ],
          "histogram2d": [
           {
            "colorbar": {
             "outlinewidth": 0,
             "ticks": ""
            },
            "colorscale": [
             [
              0,
              "#0d0887"
             ],
             [
              0.1111111111111111,
              "#46039f"
             ],
             [
              0.2222222222222222,
              "#7201a8"
             ],
             [
              0.3333333333333333,
              "#9c179e"
             ],
             [
              0.4444444444444444,
              "#bd3786"
             ],
             [
              0.5555555555555556,
              "#d8576b"
             ],
             [
              0.6666666666666666,
              "#ed7953"
             ],
             [
              0.7777777777777778,
              "#fb9f3a"
             ],
             [
              0.8888888888888888,
              "#fdca26"
             ],
             [
              1,
              "#f0f921"
             ]
            ],
            "type": "histogram2d"
           }
          ],
          "histogram2dcontour": [
           {
            "colorbar": {
             "outlinewidth": 0,
             "ticks": ""
            },
            "colorscale": [
             [
              0,
              "#0d0887"
             ],
             [
              0.1111111111111111,
              "#46039f"
             ],
             [
              0.2222222222222222,
              "#7201a8"
             ],
             [
              0.3333333333333333,
              "#9c179e"
             ],
             [
              0.4444444444444444,
              "#bd3786"
             ],
             [
              0.5555555555555556,
              "#d8576b"
             ],
             [
              0.6666666666666666,
              "#ed7953"
             ],
             [
              0.7777777777777778,
              "#fb9f3a"
             ],
             [
              0.8888888888888888,
              "#fdca26"
             ],
             [
              1,
              "#f0f921"
             ]
            ],
            "type": "histogram2dcontour"
           }
          ],
          "mesh3d": [
           {
            "colorbar": {
             "outlinewidth": 0,
             "ticks": ""
            },
            "type": "mesh3d"
           }
          ],
          "parcoords": [
           {
            "line": {
             "colorbar": {
              "outlinewidth": 0,
              "ticks": ""
             }
            },
            "type": "parcoords"
           }
          ],
          "pie": [
           {
            "automargin": true,
            "type": "pie"
           }
          ],
          "scatter": [
           {
            "marker": {
             "colorbar": {
              "outlinewidth": 0,
              "ticks": ""
             }
            },
            "type": "scatter"
           }
          ],
          "scatter3d": [
           {
            "line": {
             "colorbar": {
              "outlinewidth": 0,
              "ticks": ""
             }
            },
            "marker": {
             "colorbar": {
              "outlinewidth": 0,
              "ticks": ""
             }
            },
            "type": "scatter3d"
           }
          ],
          "scattercarpet": [
           {
            "marker": {
             "colorbar": {
              "outlinewidth": 0,
              "ticks": ""
             }
            },
            "type": "scattercarpet"
           }
          ],
          "scattergeo": [
           {
            "marker": {
             "colorbar": {
              "outlinewidth": 0,
              "ticks": ""
             }
            },
            "type": "scattergeo"
           }
          ],
          "scattergl": [
           {
            "marker": {
             "colorbar": {
              "outlinewidth": 0,
              "ticks": ""
             }
            },
            "type": "scattergl"
           }
          ],
          "scattermapbox": [
           {
            "marker": {
             "colorbar": {
              "outlinewidth": 0,
              "ticks": ""
             }
            },
            "type": "scattermapbox"
           }
          ],
          "scatterpolar": [
           {
            "marker": {
             "colorbar": {
              "outlinewidth": 0,
              "ticks": ""
             }
            },
            "type": "scatterpolar"
           }
          ],
          "scatterpolargl": [
           {
            "marker": {
             "colorbar": {
              "outlinewidth": 0,
              "ticks": ""
             }
            },
            "type": "scatterpolargl"
           }
          ],
          "scatterternary": [
           {
            "marker": {
             "colorbar": {
              "outlinewidth": 0,
              "ticks": ""
             }
            },
            "type": "scatterternary"
           }
          ],
          "surface": [
           {
            "colorbar": {
             "outlinewidth": 0,
             "ticks": ""
            },
            "colorscale": [
             [
              0,
              "#0d0887"
             ],
             [
              0.1111111111111111,
              "#46039f"
             ],
             [
              0.2222222222222222,
              "#7201a8"
             ],
             [
              0.3333333333333333,
              "#9c179e"
             ],
             [
              0.4444444444444444,
              "#bd3786"
             ],
             [
              0.5555555555555556,
              "#d8576b"
             ],
             [
              0.6666666666666666,
              "#ed7953"
             ],
             [
              0.7777777777777778,
              "#fb9f3a"
             ],
             [
              0.8888888888888888,
              "#fdca26"
             ],
             [
              1,
              "#f0f921"
             ]
            ],
            "type": "surface"
           }
          ],
          "table": [
           {
            "cells": {
             "fill": {
              "color": "#EBF0F8"
             },
             "line": {
              "color": "white"
             }
            },
            "header": {
             "fill": {
              "color": "#C8D4E3"
             },
             "line": {
              "color": "white"
             }
            },
            "type": "table"
           }
          ]
         },
         "layout": {
          "annotationdefaults": {
           "arrowcolor": "#2a3f5f",
           "arrowhead": 0,
           "arrowwidth": 1
          },
          "coloraxis": {
           "colorbar": {
            "outlinewidth": 0,
            "ticks": ""
           }
          },
          "colorscale": {
           "diverging": [
            [
             0,
             "#8e0152"
            ],
            [
             0.1,
             "#c51b7d"
            ],
            [
             0.2,
             "#de77ae"
            ],
            [
             0.3,
             "#f1b6da"
            ],
            [
             0.4,
             "#fde0ef"
            ],
            [
             0.5,
             "#f7f7f7"
            ],
            [
             0.6,
             "#e6f5d0"
            ],
            [
             0.7,
             "#b8e186"
            ],
            [
             0.8,
             "#7fbc41"
            ],
            [
             0.9,
             "#4d9221"
            ],
            [
             1,
             "#276419"
            ]
           ],
           "sequential": [
            [
             0,
             "#0d0887"
            ],
            [
             0.1111111111111111,
             "#46039f"
            ],
            [
             0.2222222222222222,
             "#7201a8"
            ],
            [
             0.3333333333333333,
             "#9c179e"
            ],
            [
             0.4444444444444444,
             "#bd3786"
            ],
            [
             0.5555555555555556,
             "#d8576b"
            ],
            [
             0.6666666666666666,
             "#ed7953"
            ],
            [
             0.7777777777777778,
             "#fb9f3a"
            ],
            [
             0.8888888888888888,
             "#fdca26"
            ],
            [
             1,
             "#f0f921"
            ]
           ],
           "sequentialminus": [
            [
             0,
             "#0d0887"
            ],
            [
             0.1111111111111111,
             "#46039f"
            ],
            [
             0.2222222222222222,
             "#7201a8"
            ],
            [
             0.3333333333333333,
             "#9c179e"
            ],
            [
             0.4444444444444444,
             "#bd3786"
            ],
            [
             0.5555555555555556,
             "#d8576b"
            ],
            [
             0.6666666666666666,
             "#ed7953"
            ],
            [
             0.7777777777777778,
             "#fb9f3a"
            ],
            [
             0.8888888888888888,
             "#fdca26"
            ],
            [
             1,
             "#f0f921"
            ]
           ]
          },
          "colorway": [
           "#636efa",
           "#EF553B",
           "#00cc96",
           "#ab63fa",
           "#FFA15A",
           "#19d3f3",
           "#FF6692",
           "#B6E880",
           "#FF97FF",
           "#FECB52"
          ],
          "font": {
           "color": "#2a3f5f"
          },
          "geo": {
           "bgcolor": "white",
           "lakecolor": "white",
           "landcolor": "#E5ECF6",
           "showlakes": true,
           "showland": true,
           "subunitcolor": "white"
          },
          "hoverlabel": {
           "align": "left"
          },
          "hovermode": "closest",
          "mapbox": {
           "style": "light"
          },
          "paper_bgcolor": "white",
          "plot_bgcolor": "#E5ECF6",
          "polar": {
           "angularaxis": {
            "gridcolor": "white",
            "linecolor": "white",
            "ticks": ""
           },
           "bgcolor": "#E5ECF6",
           "radialaxis": {
            "gridcolor": "white",
            "linecolor": "white",
            "ticks": ""
           }
          },
          "scene": {
           "xaxis": {
            "backgroundcolor": "#E5ECF6",
            "gridcolor": "white",
            "gridwidth": 2,
            "linecolor": "white",
            "showbackground": true,
            "ticks": "",
            "zerolinecolor": "white"
           },
           "yaxis": {
            "backgroundcolor": "#E5ECF6",
            "gridcolor": "white",
            "gridwidth": 2,
            "linecolor": "white",
            "showbackground": true,
            "ticks": "",
            "zerolinecolor": "white"
           },
           "zaxis": {
            "backgroundcolor": "#E5ECF6",
            "gridcolor": "white",
            "gridwidth": 2,
            "linecolor": "white",
            "showbackground": true,
            "ticks": "",
            "zerolinecolor": "white"
           }
          },
          "shapedefaults": {
           "line": {
            "color": "#2a3f5f"
           }
          },
          "ternary": {
           "aaxis": {
            "gridcolor": "white",
            "linecolor": "white",
            "ticks": ""
           },
           "baxis": {
            "gridcolor": "white",
            "linecolor": "white",
            "ticks": ""
           },
           "bgcolor": "#E5ECF6",
           "caxis": {
            "gridcolor": "white",
            "linecolor": "white",
            "ticks": ""
           }
          },
          "title": {
           "x": 0.05
          },
          "xaxis": {
           "automargin": true,
           "gridcolor": "white",
           "linecolor": "white",
           "ticks": "",
           "title": {
            "standoff": 15
           },
           "zerolinecolor": "white",
           "zerolinewidth": 2
          },
          "yaxis": {
           "automargin": true,
           "gridcolor": "white",
           "linecolor": "white",
           "ticks": "",
           "title": {
            "standoff": 15
           },
           "zerolinecolor": "white",
           "zerolinewidth": 2
          }
         }
        },
        "title": {
         "text": "detractores"
        },
        "xaxis": {
         "anchor": "y",
         "autorange": true,
         "domain": [
          0,
          1
         ],
         "range": [
          "2018-07-19",
          "2020-09-28"
         ],
         "title": {
          "text": "date"
         },
         "type": "date"
        },
        "yaxis": {
         "anchor": "x",
         "autorange": true,
         "domain": [
          0,
          1
         ],
         "range": [
          -0.7222222222222222,
          13.722222222222221
         ],
         "title": {
          "text": "d"
         },
         "type": "linear"
        }
       }
      },
      "image/png": "[encoded data removed]",
      "text/html": [
       "<div>\n",
       "        \n",
       "        \n",
       "            <div id=\"e725cd6f-f7d2-4721-b42a-2c724e1a1176\" class=\"plotly-graph-div\" style=\"height:525px; width:100%;\"></div>\n",
       "            <script type=\"text/javascript\">\n",
       "                require([\"plotly\"], function(Plotly) {\n",
       "                    window.PLOTLYENV=window.PLOTLYENV || {};\n",
       "                    \n",
       "                if (document.getElementById(\"e725cd6f-f7d2-4721-b42a-2c724e1a1176\")) {\n",
       "                    Plotly.newPlot(\n",
       "                        'e725cd6f-f7d2-4721-b42a-2c724e1a1176',\n",
       "                        [{\"hoverlabel\": {\"namelength\": 0}, \"hovertemplate\": \"staff= Leonardo Ignacio C\\u00f3rdoba -  Mar\\u00eda Frances Gaska<br>date=%{x}<br>d=%{y}\", \"legendgroup\": \" Leonardo Ignacio C\\u00f3rdoba -  Mar\\u00eda Frances Gaska\", \"line\": {\"color\": \"#636efa\", \"dash\": \"solid\"}, \"mode\": \"lines\", \"name\": \" Leonardo Ignacio C\\u00f3rdoba -  Mar\\u00eda Frances Gaska\", \"showlegend\": true, \"type\": \"scatter\", \"x\": [\"2018-07-19\"], \"xaxis\": \"x\", \"y\": [0.0], \"yaxis\": \"y\"}, {\"hoverlabel\": {\"namelength\": 0}, \"hovertemplate\": \"staff= Pablo Roccatagliata -  Demian Avendano<br>date=%{x}<br>d=%{y}\", \"legendgroup\": \" Pablo Roccatagliata -  Demian Avendano\", \"line\": {\"color\": \"#EF553B\", \"dash\": \"solid\"}, \"mode\": \"lines\", \"name\": \" Pablo Roccatagliata -  Demian Avendano\", \"showlegend\": true, \"type\": \"scatter\", \"x\": [\"2018-07-30\", \"2018-08-22\", \"2018-09-12\", \"2018-10-05\", \"2018-10-26\", \"2018-11-12\", \"2018-11-26\"], \"xaxis\": \"x\", \"y\": [4.0, 2.0, 3.0, 2.0, 2.0, 1.0, 1.0], \"yaxis\": \"y\"}, {\"hoverlabel\": {\"namelength\": 0}, \"hovertemplate\": \"staff= Marianela Sarabia -  German Rosati -  Paolo Donizetti<br>date=%{x}<br>d=%{y}\", \"legendgroup\": \" Marianela Sarabia -  German Rosati -  Paolo Donizetti\", \"line\": {\"color\": \"#00cc96\", \"dash\": \"solid\"}, \"mode\": \"lines\", \"name\": \" Marianela Sarabia -  German Rosati -  Paolo Donizetti\", \"showlegend\": true, \"type\": \"scatter\", \"x\": [\"2018-07-31\"], \"xaxis\": \"x\", \"y\": [3.0], \"yaxis\": \"y\"}, {\"hoverlabel\": {\"namelength\": 0}, \"hovertemplate\": \"staff= Leonardo Ignacio C\\u00f3rdoba -  Nicol\\u00e1s Monner Sans -  Mar\\u00eda Frances Gaska<br>date=%{x}<br>d=%{y}\", \"legendgroup\": \" Leonardo Ignacio C\\u00f3rdoba -  Nicol\\u00e1s Monner Sans -  Mar\\u00eda Frances Gaska\", \"line\": {\"color\": \"#ab63fa\", \"dash\": \"solid\"}, \"mode\": \"lines\", \"name\": \" Leonardo Ignacio C\\u00f3rdoba -  Nicol\\u00e1s Monner Sans -  Mar\\u00eda Frances Gaska\", \"showlegend\": true, \"type\": \"scatter\", \"x\": [\"2018-08-16\", \"2018-09-06\", \"2018-09-27\", \"2018-10-18\", \"2018-10-24\", \"2018-11-14\", \"2018-12-05\", \"2018-12-16\"], \"xaxis\": \"x\", \"y\": [0.0, 2.0, 2.0, 1.0, 0.0, 0.0, 1.0, 1.0], \"yaxis\": \"y\"}, {\"hoverlabel\": {\"namelength\": 0}, \"hovertemplate\": \"staff= Lionel Chamorro -  Marianela Sarabia -  Juli\\u00e1n Ansaldo<br>date=%{x}<br>d=%{y}\", \"legendgroup\": \" Lionel Chamorro -  Marianela Sarabia -  Juli\\u00e1n Ansaldo\", \"line\": {\"color\": \"#FFA15A\", \"dash\": \"solid\"}, \"mode\": \"lines\", \"name\": \" Lionel Chamorro -  Marianela Sarabia -  Juli\\u00e1n Ansaldo\", \"showlegend\": true, \"type\": \"scatter\", \"x\": [\"2018-08-27\", \"2018-09-17\", \"2018-10-08\", \"2018-10-29\", \"2018-11-21\", \"2018-12-12\"], \"xaxis\": \"x\", \"y\": [10.0, 4.0, 5.0, 2.0, 2.0, 1.0], \"yaxis\": \"y\"}, {\"hoverlabel\": {\"namelength\": 0}, \"hovertemplate\": \"staff= Juli\\u00e1n Ansaldo -  Paolo Donizetti<br>date=%{x}<br>d=%{y}\", \"legendgroup\": \" Juli\\u00e1n Ansaldo -  Paolo Donizetti\", \"line\": {\"color\": \"#19d3f3\", \"dash\": \"solid\"}, \"mode\": \"lines\", \"name\": \" Juli\\u00e1n Ansaldo -  Paolo Donizetti\", \"showlegend\": true, \"type\": \"scatter\", \"x\": [\"2018-08-28\", \"2018-09-18\", \"2018-10-09\", \"2018-10-30\", \"2018-11-20\", \"2018-12-11\"], \"xaxis\": \"x\", \"y\": [1.0, 2.0, 5.0, 3.0, 5.0, 3.0], \"yaxis\": \"y\"}, {\"hoverlabel\": {\"namelength\": 0}, \"hovertemplate\": \"staff=Demian Avendano - Carlos Pablo Modenutti<br>date=%{x}<br>d=%{y}\", \"legendgroup\": \"Demian Avendano - Carlos Pablo Modenutti\", \"line\": {\"color\": \"#FF6692\", \"dash\": \"solid\"}, \"mode\": \"lines\", \"name\": \"Demian Avendano - Carlos Pablo Modenutti\", \"showlegend\": true, \"type\": \"scatter\", \"x\": [\"2019-03-12\", \"2019-04-04\", \"2019-04-25\", \"2019-05-16\", \"2019-06-06\", \"2019-06-27\", \"2019-07-05\", \"2019-07-22\", \"2019-07-22\"], \"xaxis\": \"x\", \"y\": [11.0, 7.0, 8.0, 7.0, 5.0, 6.0, 7.0, 7.0, 4.0], \"yaxis\": \"y\"}, {\"hoverlabel\": {\"namelength\": 0}, \"hovertemplate\": \"staff=Juli\\u00e1n Ansaldo - Julian Peller<br>date=%{x}<br>d=%{y}\", \"legendgroup\": \"Juli\\u00e1n Ansaldo - Julian Peller\", \"line\": {\"color\": \"#B6E880\", \"dash\": \"solid\"}, \"mode\": \"lines\", \"name\": \"Juli\\u00e1n Ansaldo - Julian Peller\", \"showlegend\": true, \"type\": \"scatter\", \"x\": [\"2019-03-18\", \"2019-04-08\", \"2019-04-29\", \"2019-05-20\", \"2019-06-10\", \"2019-07-01\", \"2019-07-05\", \"2019-07-22\", \"2019-07-22\", \"2019-07-22\"], \"xaxis\": \"x\", \"y\": [5.0, 3.0, 3.0, 4.0, 4.0, 4.0, 3.0, 1.0, 1.0, 1.0], \"yaxis\": \"y\"}, {\"hoverlabel\": {\"namelength\": 0}, \"hovertemplate\": \"staff=Carlos Pita - Nicol\\u00e1s Monner Sans<br>date=%{x}<br>d=%{y}\", \"legendgroup\": \"Carlos Pita - Nicol\\u00e1s Monner Sans\", \"line\": {\"color\": \"#FF97FF\", \"dash\": \"solid\"}, \"mode\": \"lines\", \"name\": \"Carlos Pita - Nicol\\u00e1s Monner Sans\", \"showlegend\": true, \"type\": \"scatter\", \"x\": [\"2019-04-08\", \"2019-04-29\", \"2019-05-20\", \"2019-06-10\", \"2019-07-01\", \"2019-07-05\", \"2019-07-24\", \"2019-08-07\", \"2019-08-07\", \"2019-09-26\", \"2019-10-19\", \"2019-11-07\", \"2019-11-28\", \"2019-12-19\", \"2020-05-11\", \"2020-05-28\", \"2020-06-16\", \"2020-06-18\", \"2020-07-07\", \"2020-07-28\", \"2020-08-19\", \"2020-09-01\"], \"xaxis\": \"x\", \"y\": [3.0, 5.0, 4.0, 4.0, 4.0, 1.0, 5.0, 0.0, 4.0, 5.0, 5.0, 2.0, 4.0, 3.0, 1.0, 4.0, 0.0, 4.0, 2.0, 3.0, 3.0, 2.0], \"yaxis\": \"y\"}, {\"hoverlabel\": {\"namelength\": 0}, \"hovertemplate\": \"staff=Paolo Donizetti - Martin Sokolowicz<br>date=%{x}<br>d=%{y}\", \"legendgroup\": \"Paolo Donizetti - Martin Sokolowicz\", \"line\": {\"color\": \"#FECB52\", \"dash\": \"solid\"}, \"mode\": \"lines\", \"name\": \"Paolo Donizetti - Martin Sokolowicz\", \"showlegend\": true, \"type\": \"scatter\", \"x\": [\"2019-04-16\", \"2019-05-07\", \"2019-06-01\", \"2019-06-18\", \"2019-07-11\", \"2019-07-11\"], \"xaxis\": \"x\", \"y\": [2.0, 6.0, 6.0, 3.0, 2.0, 3.0], \"yaxis\": \"y\"}, {\"hoverlabel\": {\"namelength\": 0}, \"hovertemplate\": \"staff=Juan Manuel Alvarez - Paula Beati<br>date=%{x}<br>d=%{y}\", \"legendgroup\": \"Juan Manuel Alvarez - Paula Beati\", \"line\": {\"color\": \"#636efa\", \"dash\": \"solid\"}, \"mode\": \"lines\", \"name\": \"Juan Manuel Alvarez - Paula Beati\", \"showlegend\": true, \"type\": \"scatter\", \"x\": [\"2019-05-28\", \"2019-06-18\", \"2019-07-10\", \"2019-07-12\", \"2019-07-31\", \"2019-08-21\", \"2019-09-23\", \"2019-09-23\"], \"xaxis\": \"x\", \"y\": [4.0, 3.0, 3.0, 2.0, 3.0, 5.0, 1.0, 3.0], \"yaxis\": \"y\"}, {\"hoverlabel\": {\"namelength\": 0}, \"hovertemplate\": \"staff=Martin Sokolowicz - Ariel Haimovici<br>date=%{x}<br>d=%{y}\", \"legendgroup\": \"Martin Sokolowicz - Ariel Haimovici\", \"line\": {\"color\": \"#EF553B\", \"dash\": \"solid\"}, \"mode\": \"lines\", \"name\": \"Martin Sokolowicz - Ariel Haimovici\", \"showlegend\": true, \"type\": \"scatter\", \"x\": [\"2019-08-13\", \"2019-09-03\", \"2019-09-24\", \"2019-10-15\", \"2019-11-05\", \"2019-11-29\"], \"xaxis\": \"x\", \"y\": [1.0, 1.0, 3.0, 3.0, 4.0, 1.0], \"yaxis\": \"y\"}, {\"hoverlabel\": {\"namelength\": 0}, \"hovertemplate\": \"staff=Julian Peller - Lucas Sede\\u00f1o<br>date=%{x}<br>d=%{y}\", \"legendgroup\": \"Julian Peller - Lucas Sede\\u00f1o\", \"line\": {\"color\": \"#00cc96\", \"dash\": \"solid\"}, \"mode\": \"lines\", \"name\": \"Julian Peller - Lucas Sede\\u00f1o\", \"showlegend\": true, \"type\": \"scatter\", \"x\": [\"2019-08-21\", \"2019-09-11\", \"2019-10-02\", \"2019-10-23\", \"2019-11-13\", \"2019-12-04\"], \"xaxis\": \"x\", \"y\": [2.0, 0.0, 0.0, 0.0, 1.0, 1.0], \"yaxis\": \"y\"}, {\"hoverlabel\": {\"namelength\": 0}, \"hovertemplate\": \"staff=Juli\\u00e1n Ansaldo - Elias Lopez<br>date=%{x}<br>d=%{y}\", \"legendgroup\": \"Juli\\u00e1n Ansaldo - Elias Lopez\", \"line\": {\"color\": \"#ab63fa\", \"dash\": \"solid\"}, \"mode\": \"lines\", \"name\": \"Juli\\u00e1n Ansaldo - Elias Lopez\", \"showlegend\": true, \"type\": \"scatter\", \"x\": [\"2019-08-26\", \"2019-09-16\", \"2019-10-07\", \"2019-10-28\", \"2019-11-20\", \"2019-12-11\"], \"xaxis\": \"x\", \"y\": [2.0, 0.0, 0.0, 0.0, 1.0, 0.0], \"yaxis\": \"y\"}, {\"hoverlabel\": {\"namelength\": 0}, \"hovertemplate\": \"staff=Gaston Bujia - Lucas Sede\\u00f1o<br>date=%{x}<br>d=%{y}\", \"legendgroup\": \"Gaston Bujia - Lucas Sede\\u00f1o\", \"line\": {\"color\": \"#FFA15A\", \"dash\": \"solid\"}, \"mode\": \"lines\", \"name\": \"Gaston Bujia - Lucas Sede\\u00f1o\", \"showlegend\": true, \"type\": \"scatter\", \"x\": [\"2020-03-09\", \"2020-03-30\", \"2020-05-11\", \"2020-06-01\", \"2020-06-22\", \"2020-07-08\", \"2020-08-10\", \"2020-08-31\", \"2020-09-21\", \"2020-09-28\"], \"xaxis\": \"x\", \"y\": [1.0, 0.0, 0.0, 1.0, 1.0, 1.0, 5.0, 5.0, 6.0, 1.0], \"yaxis\": \"y\"}, {\"hoverlabel\": {\"namelength\": 0}, \"hovertemplate\": \"staff=Fernando Carabedo - Elias Lopez<br>date=%{x}<br>d=%{y}\", \"legendgroup\": \"Fernando Carabedo - Elias Lopez\", \"line\": {\"color\": \"#19d3f3\", \"dash\": \"solid\"}, \"mode\": \"lines\", \"name\": \"Fernando Carabedo - Elias Lopez\", \"showlegend\": true, \"type\": \"scatter\", \"x\": [\"2020-03-10\", \"2020-04-02\", \"2020-05-05\", \"2020-06-10\", \"2020-07-02\", \"2020-07-14\"], \"xaxis\": \"x\", \"y\": [4.0, 4.0, 3.0, 3.0, 2.0, 2.0], \"yaxis\": \"y\"}, {\"hoverlabel\": {\"namelength\": 0}, \"hovertemplate\": \"staff=Franco De Giovannini - Ariel Haimovici<br>date=%{x}<br>d=%{y}\", \"legendgroup\": \"Franco De Giovannini - Ariel Haimovici\", \"line\": {\"color\": \"#FF6692\", \"dash\": \"solid\"}, \"mode\": \"lines\", \"name\": \"Franco De Giovannini - Ariel Haimovici\", \"showlegend\": true, \"type\": \"scatter\", \"x\": [\"2020-05-11\", \"2020-05-27\", \"2020-06-17\", \"2020-06-24\", \"2020-07-14\", \"2020-07-29\", \"2020-08-19\"], \"xaxis\": \"x\", \"y\": [2.0, 2.0, 2.0, 3.0, 2.0, 1.0, 1.0], \"yaxis\": \"y\"}, {\"hoverlabel\": {\"namelength\": 0}, \"hovertemplate\": \"staff=Guillermo Fairhurst - Elias Lopez<br>date=%{x}<br>d=%{y}\", \"legendgroup\": \"Guillermo Fairhurst - Elias Lopez\", \"line\": {\"color\": \"#B6E880\", \"dash\": \"solid\"}, \"mode\": \"lines\", \"name\": \"Guillermo Fairhurst - Elias Lopez\", \"showlegend\": true, \"type\": \"scatter\", \"x\": [\"2020-06-22\", \"2020-07-14\", \"2020-08-03\", \"2020-08-15\", \"2020-08-24\", \"2020-09-14\"], \"xaxis\": \"x\", \"y\": [2.0, 0.0, 0.0, 1.0, 1.0, 0.0], \"yaxis\": \"y\"}, {\"hoverlabel\": {\"namelength\": 0}, \"hovertemplate\": \"staff=Mariela Bisso - Fernando Carabedo<br>date=%{x}<br>d=%{y}\", \"legendgroup\": \"Mariela Bisso - Fernando Carabedo\", \"line\": {\"color\": \"#FF97FF\", \"dash\": \"solid\"}, \"mode\": \"lines\", \"name\": \"Mariela Bisso - Fernando Carabedo\", \"showlegend\": true, \"type\": \"scatter\", \"x\": [\"2020-08-11\", \"2020-08-31\", \"2020-09-22\", \"2020-09-28\"], \"xaxis\": \"x\", \"y\": [13.0, 7.0, 6.0, 7.0], \"yaxis\": \"y\"}, {\"hoverlabel\": {\"namelength\": 0}, \"hovertemplate\": \"staff=Diego Battocchio - Carlos Pita<br>date=%{x}<br>d=%{y}\", \"legendgroup\": \"Diego Battocchio - Carlos Pita\", \"line\": {\"color\": \"#FECB52\", \"dash\": \"solid\"}, \"mode\": \"lines\", \"name\": \"Diego Battocchio - Carlos Pita\", \"showlegend\": true, \"type\": \"scatter\", \"x\": [\"2020-09-15\"], \"xaxis\": \"x\", \"y\": [3.0], \"yaxis\": \"y\"}],\n",
       "                        {\"legend\": {\"title\": {\"text\": \"staff\"}, \"tracegroupgap\": 0}, \"template\": {\"data\": {\"bar\": [{\"error_x\": {\"color\": \"#2a3f5f\"}, \"error_y\": {\"color\": \"#2a3f5f\"}, \"marker\": {\"line\": {\"color\": \"#E5ECF6\", \"width\": 0.5}}, \"type\": \"bar\"}], \"barpolar\": [{\"marker\": {\"line\": {\"color\": \"#E5ECF6\", \"width\": 0.5}}, \"type\": \"barpolar\"}], \"carpet\": [{\"aaxis\": {\"endlinecolor\": \"#2a3f5f\", \"gridcolor\": \"white\", \"linecolor\": \"white\", \"minorgridcolor\": \"white\", \"startlinecolor\": \"#2a3f5f\"}, \"baxis\": {\"endlinecolor\": \"#2a3f5f\", \"gridcolor\": \"white\", \"linecolor\": \"white\", \"minorgridcolor\": \"white\", \"startlinecolor\": \"#2a3f5f\"}, \"type\": \"carpet\"}], \"choropleth\": [{\"colorbar\": {\"outlinewidth\": 0, \"ticks\": \"\"}, \"type\": \"choropleth\"}], \"contour\": [{\"colorbar\": {\"outlinewidth\": 0, \"ticks\": \"\"}, \"colorscale\": [[0.0, \"#0d0887\"], [0.1111111111111111, \"#46039f\"], [0.2222222222222222, \"#7201a8\"], [0.3333333333333333, \"#9c179e\"], [0.4444444444444444, \"#bd3786\"], [0.5555555555555556, \"#d8576b\"], [0.6666666666666666, \"#ed7953\"], [0.7777777777777778, \"#fb9f3a\"], [0.8888888888888888, \"#fdca26\"], [1.0, \"#f0f921\"]], \"type\": \"contour\"}], \"contourcarpet\": [{\"colorbar\": {\"outlinewidth\": 0, \"ticks\": \"\"}, \"type\": \"contourcarpet\"}], \"heatmap\": [{\"colorbar\": {\"outlinewidth\": 0, \"ticks\": \"\"}, \"colorscale\": [[0.0, \"#0d0887\"], [0.1111111111111111, \"#46039f\"], [0.2222222222222222, \"#7201a8\"], [0.3333333333333333, \"#9c179e\"], [0.4444444444444444, \"#bd3786\"], [0.5555555555555556, \"#d8576b\"], [0.6666666666666666, \"#ed7953\"], [0.7777777777777778, \"#fb9f3a\"], [0.8888888888888888, \"#fdca26\"], [1.0, \"#f0f921\"]], \"type\": \"heatmap\"}], \"heatmapgl\": [{\"colorbar\": {\"outlinewidth\": 0, \"ticks\": \"\"}, \"colorscale\": [[0.0, \"#0d0887\"], [0.1111111111111111, \"#46039f\"], [0.2222222222222222, \"#7201a8\"], [0.3333333333333333, \"#9c179e\"], [0.4444444444444444, \"#bd3786\"], [0.5555555555555556, \"#d8576b\"], [0.6666666666666666, \"#ed7953\"], [0.7777777777777778, \"#fb9f3a\"], [0.8888888888888888, \"#fdca26\"], [1.0, \"#f0f921\"]], \"type\": \"heatmapgl\"}], \"histogram\": [{\"marker\": {\"colorbar\": {\"outlinewidth\": 0, \"ticks\": \"\"}}, \"type\": \"histogram\"}], \"histogram2d\": [{\"colorbar\": {\"outlinewidth\": 0, \"ticks\": \"\"}, \"colorscale\": [[0.0, \"#0d0887\"], [0.1111111111111111, \"#46039f\"], [0.2222222222222222, \"#7201a8\"], [0.3333333333333333, \"#9c179e\"], [0.4444444444444444, \"#bd3786\"], [0.5555555555555556, \"#d8576b\"], [0.6666666666666666, \"#ed7953\"], [0.7777777777777778, \"#fb9f3a\"], [0.8888888888888888, \"#fdca26\"], [1.0, \"#f0f921\"]], \"type\": \"histogram2d\"}], \"histogram2dcontour\": [{\"colorbar\": {\"outlinewidth\": 0, \"ticks\": \"\"}, \"colorscale\": [[0.0, \"#0d0887\"], [0.1111111111111111, \"#46039f\"], [0.2222222222222222, \"#7201a8\"], [0.3333333333333333, \"#9c179e\"], [0.4444444444444444, \"#bd3786\"], [0.5555555555555556, \"#d8576b\"], [0.6666666666666666, \"#ed7953\"], [0.7777777777777778, \"#fb9f3a\"], [0.8888888888888888, \"#fdca26\"], [1.0, \"#f0f921\"]], \"type\": \"histogram2dcontour\"}], \"mesh3d\": [{\"colorbar\": {\"outlinewidth\": 0, \"ticks\": \"\"}, \"type\": \"mesh3d\"}], \"parcoords\": [{\"line\": {\"colorbar\": {\"outlinewidth\": 0, \"ticks\": \"\"}}, \"type\": \"parcoords\"}], \"pie\": [{\"automargin\": true, \"type\": \"pie\"}], \"scatter\": [{\"marker\": {\"colorbar\": {\"outlinewidth\": 0, \"ticks\": \"\"}}, \"type\": \"scatter\"}], \"scatter3d\": [{\"line\": {\"colorbar\": {\"outlinewidth\": 0, \"ticks\": \"\"}}, \"marker\": {\"colorbar\": {\"outlinewidth\": 0, \"ticks\": \"\"}}, \"type\": \"scatter3d\"}], \"scattercarpet\": [{\"marker\": {\"colorbar\": {\"outlinewidth\": 0, \"ticks\": \"\"}}, \"type\": \"scattercarpet\"}], \"scattergeo\": [{\"marker\": {\"colorbar\": {\"outlinewidth\": 0, \"ticks\": \"\"}}, \"type\": \"scattergeo\"}], \"scattergl\": [{\"marker\": {\"colorbar\": {\"outlinewidth\": 0, \"ticks\": \"\"}}, \"type\": \"scattergl\"}], \"scattermapbox\": [{\"marker\": {\"colorbar\": {\"outlinewidth\": 0, \"ticks\": \"\"}}, \"type\": \"scattermapbox\"}], \"scatterpolar\": [{\"marker\": {\"colorbar\": {\"outlinewidth\": 0, \"ticks\": \"\"}}, \"type\": \"scatterpolar\"}], \"scatterpolargl\": [{\"marker\": {\"colorbar\": {\"outlinewidth\": 0, \"ticks\": \"\"}}, \"type\": \"scatterpolargl\"}], \"scatterternary\": [{\"marker\": {\"colorbar\": {\"outlinewidth\": 0, \"ticks\": \"\"}}, \"type\": \"scatterternary\"}], \"surface\": [{\"colorbar\": {\"outlinewidth\": 0, \"ticks\": \"\"}, \"colorscale\": [[0.0, \"#0d0887\"], [0.1111111111111111, \"#46039f\"], [0.2222222222222222, \"#7201a8\"], [0.3333333333333333, \"#9c179e\"], [0.4444444444444444, \"#bd3786\"], [0.5555555555555556, \"#d8576b\"], [0.6666666666666666, \"#ed7953\"], [0.7777777777777778, \"#fb9f3a\"], [0.8888888888888888, \"#fdca26\"], [1.0, \"#f0f921\"]], \"type\": \"surface\"}], \"table\": [{\"cells\": {\"fill\": {\"color\": \"#EBF0F8\"}, \"line\": {\"color\": \"white\"}}, \"header\": {\"fill\": {\"color\": \"#C8D4E3\"}, \"line\": {\"color\": \"white\"}}, \"type\": \"table\"}]}, \"layout\": {\"annotationdefaults\": {\"arrowcolor\": \"#2a3f5f\", \"arrowhead\": 0, \"arrowwidth\": 1}, \"coloraxis\": {\"colorbar\": {\"outlinewidth\": 0, \"ticks\": \"\"}}, \"colorscale\": {\"diverging\": [[0, \"#8e0152\"], [0.1, \"#c51b7d\"], [0.2, \"#de77ae\"], [0.3, \"#f1b6da\"], [0.4, \"#fde0ef\"], [0.5, \"#f7f7f7\"], [0.6, \"#e6f5d0\"], [0.7, \"#b8e186\"], [0.8, \"#7fbc41\"], [0.9, \"#4d9221\"], [1, \"#276419\"]], \"sequential\": [[0.0, \"#0d0887\"], [0.1111111111111111, \"#46039f\"], [0.2222222222222222, \"#7201a8\"], [0.3333333333333333, \"#9c179e\"], [0.4444444444444444, \"#bd3786\"], [0.5555555555555556, \"#d8576b\"], [0.6666666666666666, \"#ed7953\"], [0.7777777777777778, \"#fb9f3a\"], [0.8888888888888888, \"#fdca26\"], [1.0, \"#f0f921\"]], \"sequentialminus\": [[0.0, \"#0d0887\"], [0.1111111111111111, \"#46039f\"], [0.2222222222222222, \"#7201a8\"], [0.3333333333333333, \"#9c179e\"], [0.4444444444444444, \"#bd3786\"], [0.5555555555555556, \"#d8576b\"], [0.6666666666666666, \"#ed7953\"], [0.7777777777777778, \"#fb9f3a\"], [0.8888888888888888, \"#fdca26\"], [1.0, \"#f0f921\"]]}, \"colorway\": [\"#636efa\", \"#EF553B\", \"#00cc96\", \"#ab63fa\", \"#FFA15A\", \"#19d3f3\", \"#FF6692\", \"#B6E880\", \"#FF97FF\", \"#FECB52\"], \"font\": {\"color\": \"#2a3f5f\"}, \"geo\": {\"bgcolor\": \"white\", \"lakecolor\": \"white\", \"landcolor\": \"#E5ECF6\", \"showlakes\": true, \"showland\": true, \"subunitcolor\": \"white\"}, \"hoverlabel\": {\"align\": \"left\"}, \"hovermode\": \"closest\", \"mapbox\": {\"style\": \"light\"}, \"paper_bgcolor\": \"white\", \"plot_bgcolor\": \"#E5ECF6\", \"polar\": {\"angularaxis\": {\"gridcolor\": \"white\", \"linecolor\": \"white\", \"ticks\": \"\"}, \"bgcolor\": \"#E5ECF6\", \"radialaxis\": {\"gridcolor\": \"white\", \"linecolor\": \"white\", \"ticks\": \"\"}}, \"scene\": {\"xaxis\": {\"backgroundcolor\": \"#E5ECF6\", \"gridcolor\": \"white\", \"gridwidth\": 2, \"linecolor\": \"white\", \"showbackground\": true, \"ticks\": \"\", \"zerolinecolor\": \"white\"}, \"yaxis\": {\"backgroundcolor\": \"#E5ECF6\", \"gridcolor\": \"white\", \"gridwidth\": 2, \"linecolor\": \"white\", \"showbackground\": true, \"ticks\": \"\", \"zerolinecolor\": \"white\"}, \"zaxis\": {\"backgroundcolor\": \"#E5ECF6\", \"gridcolor\": \"white\", \"gridwidth\": 2, \"linecolor\": \"white\", \"showbackground\": true, \"ticks\": \"\", \"zerolinecolor\": \"white\"}}, \"shapedefaults\": {\"line\": {\"color\": \"#2a3f5f\"}}, \"ternary\": {\"aaxis\": {\"gridcolor\": \"white\", \"linecolor\": \"white\", \"ticks\": \"\"}, \"baxis\": {\"gridcolor\": \"white\", \"linecolor\": \"white\", \"ticks\": \"\"}, \"bgcolor\": \"#E5ECF6\", \"caxis\": {\"gridcolor\": \"white\", \"linecolor\": \"white\", \"ticks\": \"\"}}, \"title\": {\"x\": 0.05}, \"xaxis\": {\"automargin\": true, \"gridcolor\": \"white\", \"linecolor\": \"white\", \"ticks\": \"\", \"title\": {\"standoff\": 15}, \"zerolinecolor\": \"white\", \"zerolinewidth\": 2}, \"yaxis\": {\"automargin\": true, \"gridcolor\": \"white\", \"linecolor\": \"white\", \"ticks\": \"\", \"title\": {\"standoff\": 15}, \"zerolinecolor\": \"white\", \"zerolinewidth\": 2}}}, \"title\": {\"text\": \"detractores\"}, \"xaxis\": {\"anchor\": \"y\", \"domain\": [0.0, 1.0], \"title\": {\"text\": \"date\"}}, \"yaxis\": {\"anchor\": \"x\", \"domain\": [0.0, 1.0], \"title\": {\"text\": \"d\"}}},\n",
       "                        {\"responsive\": true}\n",
       "                    ).then(function(){\n",
       "                            \n",
       "var gd = document.getElementById('e725cd6f-f7d2-4721-b42a-2c724e1a1176');\n",
       "var x = new MutationObserver(function (mutations, observer) {{\n",
       "        var display = window.getComputedStyle(gd).display;\n",
       "        if (!display || display === 'none') {{\n",
       "            console.log([gd, 'removed!']);\n",
       "            Plotly.purge(gd);\n",
       "            observer.disconnect();\n",
       "        }}\n",
       "}});\n",
       "\n",
       "// Listen for the removal of the full notebook cells\n",
       "var notebookContainer = gd.closest('#notebook-container');\n",
       "if (notebookContainer) {{\n",
       "    x.observe(notebookContainer, {childList: true});\n",
       "}}\n",
       "\n",
       "// Listen for the clearing of the current output cell\n",
       "var outputEl = gd.closest('.output');\n",
       "if (outputEl) {{\n",
       "    x.observe(outputEl, {childList: true});\n",
       "}}\n",
       "\n",
       "                        })\n",
       "                };\n",
       "                });\n",
       "            </script>\n",
       "        </div>"
      ]
     },
     "metadata": {},
     "output_type": "display_data"
    }
   ],
   "source": [
    "fig = px.line(df, x='date', y=\"d\",color='staff',title='detractores')\n",
    "\n",
    "\n",
    "\n",
    "fig.show()"
   ]
  },
  {
   "cell_type": "code",
   "execution_count": 9,
   "metadata": {},
   "outputs": [
    {
     "data": {
      "application/vnd.plotly.v1+json": {
       "config": {
        "plotlyServerURL": "https://plot.ly"
       },
       "data": [
        {
         "hoverlabel": {
          "namelength": 0
         },
         "hovertemplate": "staff= Leonardo Ignacio Córdoba -  María Frances Gaska<br>date=%{x}<br>p=%{y}",
         "legendgroup": " Leonardo Ignacio Córdoba -  María Frances Gaska",
         "line": {
          "color": "#636efa",
          "dash": "solid"
         },
         "mode": "lines",
         "name": " Leonardo Ignacio Córdoba -  María Frances Gaska",
         "showlegend": true,
         "type": "scatter",
         "x": [
          "2018-07-19"
         ],
         "xaxis": "x",
         "y": [
          13
         ],
         "yaxis": "y"
        },
        {
         "hoverlabel": {
          "namelength": 0
         },
         "hovertemplate": "staff= Pablo Roccatagliata -  Demian Avendano<br>date=%{x}<br>p=%{y}",
         "legendgroup": " Pablo Roccatagliata -  Demian Avendano",
         "line": {
          "color": "#EF553B",
          "dash": "solid"
         },
         "mode": "lines",
         "name": " Pablo Roccatagliata -  Demian Avendano",
         "showlegend": true,
         "type": "scatter",
         "x": [
          "2018-07-30",
          "2018-08-22",
          "2018-09-12",
          "2018-10-05",
          "2018-10-26",
          "2018-11-12",
          "2018-11-26"
         ],
         "xaxis": "x",
         "y": [
          6,
          9,
          7,
          7,
          3,
          5,
          5
         ],
         "yaxis": "y"
        },
        {
         "hoverlabel": {
          "namelength": 0
         },
         "hovertemplate": "staff= Marianela Sarabia -  German Rosati -  Paolo Donizetti<br>date=%{x}<br>p=%{y}",
         "legendgroup": " Marianela Sarabia -  German Rosati -  Paolo Donizetti",
         "line": {
          "color": "#00cc96",
          "dash": "solid"
         },
         "mode": "lines",
         "name": " Marianela Sarabia -  German Rosati -  Paolo Donizetti",
         "showlegend": true,
         "type": "scatter",
         "x": [
          "2018-07-31"
         ],
         "xaxis": "x",
         "y": [
          8
         ],
         "yaxis": "y"
        },
        {
         "hoverlabel": {
          "namelength": 0
         },
         "hovertemplate": "staff= Leonardo Ignacio Córdoba -  Nicolás Monner Sans -  María Frances Gaska<br>date=%{x}<br>p=%{y}",
         "legendgroup": " Leonardo Ignacio Córdoba -  Nicolás Monner Sans -  María Frances Gaska",
         "line": {
          "color": "#ab63fa",
          "dash": "solid"
         },
         "mode": "lines",
         "name": " Leonardo Ignacio Córdoba -  Nicolás Monner Sans -  María Frances Gaska",
         "showlegend": true,
         "type": "scatter",
         "x": [
          "2018-08-16",
          "2018-09-06",
          "2018-09-27",
          "2018-10-18",
          "2018-10-24",
          "2018-11-14",
          "2018-12-05",
          "2018-12-16"
         ],
         "xaxis": "x",
         "y": [
          2,
          9,
          6,
          5,
          7,
          8,
          7,
          8
         ],
         "yaxis": "y"
        },
        {
         "hoverlabel": {
          "namelength": 0
         },
         "hovertemplate": "staff= Lionel Chamorro -  Marianela Sarabia -  Julián Ansaldo<br>date=%{x}<br>p=%{y}",
         "legendgroup": " Lionel Chamorro -  Marianela Sarabia -  Julián Ansaldo",
         "line": {
          "color": "#FFA15A",
          "dash": "solid"
         },
         "mode": "lines",
         "name": " Lionel Chamorro -  Marianela Sarabia -  Julián Ansaldo",
         "showlegend": true,
         "type": "scatter",
         "x": [
          "2018-08-27",
          "2018-09-17",
          "2018-10-08",
          "2018-10-29",
          "2018-11-21",
          "2018-12-12"
         ],
         "xaxis": "x",
         "y": [
          14,
          15,
          5,
          5,
          8,
          10
         ],
         "yaxis": "y"
        },
        {
         "hoverlabel": {
          "namelength": 0
         },
         "hovertemplate": "staff= Julián Ansaldo -  Paolo Donizetti<br>date=%{x}<br>p=%{y}",
         "legendgroup": " Julián Ansaldo -  Paolo Donizetti",
         "line": {
          "color": "#19d3f3",
          "dash": "solid"
         },
         "mode": "lines",
         "name": " Julián Ansaldo -  Paolo Donizetti",
         "showlegend": true,
         "type": "scatter",
         "x": [
          "2018-08-28",
          "2018-09-18",
          "2018-10-09",
          "2018-10-30",
          "2018-11-20",
          "2018-12-11"
         ],
         "xaxis": "x",
         "y": [
          14,
          15,
          12,
          12,
          9,
          9
         ],
         "yaxis": "y"
        },
        {
         "hoverlabel": {
          "namelength": 0
         },
         "hovertemplate": "staff=Demian Avendano - Carlos Pablo Modenutti<br>date=%{x}<br>p=%{y}",
         "legendgroup": "Demian Avendano - Carlos Pablo Modenutti",
         "line": {
          "color": "#FF6692",
          "dash": "solid"
         },
         "mode": "lines",
         "name": "Demian Avendano - Carlos Pablo Modenutti",
         "showlegend": true,
         "type": "scatter",
         "x": [
          "2019-03-12",
          "2019-04-04",
          "2019-04-25",
          "2019-05-16",
          "2019-06-06",
          "2019-06-27",
          "2019-07-05",
          "2019-07-22",
          "2019-07-22"
         ],
         "xaxis": "x",
         "y": [
          4,
          4,
          2,
          3,
          0,
          1,
          2,
          2,
          1
         ],
         "yaxis": "y"
        },
        {
         "hoverlabel": {
          "namelength": 0
         },
         "hovertemplate": "staff=Julián Ansaldo - Julian Peller<br>date=%{x}<br>p=%{y}",
         "legendgroup": "Julián Ansaldo - Julian Peller",
         "line": {
          "color": "#B6E880",
          "dash": "solid"
         },
         "mode": "lines",
         "name": "Julián Ansaldo - Julian Peller",
         "showlegend": true,
         "type": "scatter",
         "x": [
          "2019-03-18",
          "2019-04-08",
          "2019-04-29",
          "2019-05-20",
          "2019-06-10",
          "2019-07-01",
          "2019-07-05",
          "2019-07-22",
          "2019-07-22",
          "2019-07-22"
         ],
         "xaxis": "x",
         "y": [
          10,
          7,
          9,
          8,
          5,
          6,
          2,
          6,
          3,
          4
         ],
         "yaxis": "y"
        },
        {
         "hoverlabel": {
          "namelength": 0
         },
         "hovertemplate": "staff=Carlos Pita - Nicolás Monner Sans<br>date=%{x}<br>p=%{y}",
         "legendgroup": "Carlos Pita - Nicolás Monner Sans",
         "line": {
          "color": "#FF97FF",
          "dash": "solid"
         },
         "mode": "lines",
         "name": "Carlos Pita - Nicolás Monner Sans",
         "showlegend": true,
         "type": "scatter",
         "x": [
          "2019-04-08",
          "2019-04-29",
          "2019-05-20",
          "2019-06-10",
          "2019-07-01",
          "2019-07-05",
          "2019-07-24",
          "2019-08-07",
          "2019-08-07",
          "2019-09-26",
          "2019-10-19",
          "2019-11-07",
          "2019-11-28",
          "2019-12-19",
          "2020-05-11",
          "2020-05-28",
          "2020-06-16",
          "2020-06-18",
          "2020-07-07",
          "2020-07-28",
          "2020-08-19",
          "2020-09-01"
         ],
         "xaxis": "x",
         "y": [
          9,
          10,
          8,
          9,
          12,
          1,
          9,
          7,
          8,
          3,
          4,
          2,
          3,
          2,
          2,
          6,
          6,
          9,
          7,
          3,
          6,
          6
         ],
         "yaxis": "y"
        },
        {
         "hoverlabel": {
          "namelength": 0
         },
         "hovertemplate": "staff=Paolo Donizetti - Martin Sokolowicz<br>date=%{x}<br>p=%{y}",
         "legendgroup": "Paolo Donizetti - Martin Sokolowicz",
         "line": {
          "color": "#FECB52",
          "dash": "solid"
         },
         "mode": "lines",
         "name": "Paolo Donizetti - Martin Sokolowicz",
         "showlegend": true,
         "type": "scatter",
         "x": [
          "2019-04-16",
          "2019-05-07",
          "2019-06-01",
          "2019-06-18",
          "2019-07-11",
          "2019-07-11"
         ],
         "xaxis": "x",
         "y": [
          10,
          7,
          7,
          3,
          2,
          1
         ],
         "yaxis": "y"
        },
        {
         "hoverlabel": {
          "namelength": 0
         },
         "hovertemplate": "staff=Juan Manuel Alvarez - Paula Beati<br>date=%{x}<br>p=%{y}",
         "legendgroup": "Juan Manuel Alvarez - Paula Beati",
         "line": {
          "color": "#636efa",
          "dash": "solid"
         },
         "mode": "lines",
         "name": "Juan Manuel Alvarez - Paula Beati",
         "showlegend": true,
         "type": "scatter",
         "x": [
          "2019-05-28",
          "2019-06-18",
          "2019-07-10",
          "2019-07-12",
          "2019-07-31",
          "2019-08-21",
          "2019-09-23",
          "2019-09-23"
         ],
         "xaxis": "x",
         "y": [
          5,
          5,
          3,
          3,
          1,
          2,
          1,
          2
         ],
         "yaxis": "y"
        },
        {
         "hoverlabel": {
          "namelength": 0
         },
         "hovertemplate": "staff=Martin Sokolowicz - Ariel Haimovici<br>date=%{x}<br>p=%{y}",
         "legendgroup": "Martin Sokolowicz - Ariel Haimovici",
         "line": {
          "color": "#EF553B",
          "dash": "solid"
         },
         "mode": "lines",
         "name": "Martin Sokolowicz - Ariel Haimovici",
         "showlegend": true,
         "type": "scatter",
         "x": [
          "2019-08-13",
          "2019-09-03",
          "2019-09-24",
          "2019-10-15",
          "2019-11-05",
          "2019-11-29"
         ],
         "xaxis": "x",
         "y": [
          5,
          6,
          1,
          2,
          2,
          4
         ],
         "yaxis": "y"
        },
        {
         "hoverlabel": {
          "namelength": 0
         },
         "hovertemplate": "staff=Julian Peller - Lucas Sedeño<br>date=%{x}<br>p=%{y}",
         "legendgroup": "Julian Peller - Lucas Sedeño",
         "line": {
          "color": "#00cc96",
          "dash": "solid"
         },
         "mode": "lines",
         "name": "Julian Peller - Lucas Sedeño",
         "showlegend": true,
         "type": "scatter",
         "x": [
          "2019-08-21",
          "2019-09-11",
          "2019-10-02",
          "2019-10-23",
          "2019-11-13",
          "2019-12-04"
         ],
         "xaxis": "x",
         "y": [
          16,
          10,
          10,
          9,
          6,
          3
         ],
         "yaxis": "y"
        },
        {
         "hoverlabel": {
          "namelength": 0
         },
         "hovertemplate": "staff=Julián Ansaldo - Elias Lopez<br>date=%{x}<br>p=%{y}",
         "legendgroup": "Julián Ansaldo - Elias Lopez",
         "line": {
          "color": "#ab63fa",
          "dash": "solid"
         },
         "mode": "lines",
         "name": "Julián Ansaldo - Elias Lopez",
         "showlegend": true,
         "type": "scatter",
         "x": [
          "2019-08-26",
          "2019-09-16",
          "2019-10-07",
          "2019-10-28",
          "2019-11-20",
          "2019-12-11"
         ],
         "xaxis": "x",
         "y": [
          17,
          12,
          12,
          9,
          12,
          11
         ],
         "yaxis": "y"
        },
        {
         "hoverlabel": {
          "namelength": 0
         },
         "hovertemplate": "staff=Gaston Bujia - Lucas Sedeño<br>date=%{x}<br>p=%{y}",
         "legendgroup": "Gaston Bujia - Lucas Sedeño",
         "line": {
          "color": "#FFA15A",
          "dash": "solid"
         },
         "mode": "lines",
         "name": "Gaston Bujia - Lucas Sedeño",
         "showlegend": true,
         "type": "scatter",
         "x": [
          "2020-03-09",
          "2020-03-30",
          "2020-05-11",
          "2020-06-01",
          "2020-06-22",
          "2020-07-08",
          "2020-08-10",
          "2020-08-31",
          "2020-09-21",
          "2020-09-28"
         ],
         "xaxis": "x",
         "y": [
          12,
          9,
          2,
          5,
          4,
          8,
          7,
          7,
          4,
          7
         ],
         "yaxis": "y"
        },
        {
         "hoverlabel": {
          "namelength": 0
         },
         "hovertemplate": "staff=Fernando Carabedo - Elias Lopez<br>date=%{x}<br>p=%{y}",
         "legendgroup": "Fernando Carabedo - Elias Lopez",
         "line": {
          "color": "#19d3f3",
          "dash": "solid"
         },
         "mode": "lines",
         "name": "Fernando Carabedo - Elias Lopez",
         "showlegend": true,
         "type": "scatter",
         "x": [
          "2020-03-10",
          "2020-04-02",
          "2020-05-05",
          "2020-06-10",
          "2020-07-02",
          "2020-07-14"
         ],
         "xaxis": "x",
         "y": [
          5,
          1,
          4,
          4,
          2,
          9
         ],
         "yaxis": "y"
        },
        {
         "hoverlabel": {
          "namelength": 0
         },
         "hovertemplate": "staff=Franco De Giovannini - Ariel Haimovici<br>date=%{x}<br>p=%{y}",
         "legendgroup": "Franco De Giovannini - Ariel Haimovici",
         "line": {
          "color": "#FF6692",
          "dash": "solid"
         },
         "mode": "lines",
         "name": "Franco De Giovannini - Ariel Haimovici",
         "showlegend": true,
         "type": "scatter",
         "x": [
          "2020-05-11",
          "2020-05-27",
          "2020-06-17",
          "2020-06-24",
          "2020-07-14",
          "2020-07-29",
          "2020-08-19"
         ],
         "xaxis": "x",
         "y": [
          4,
          4,
          2,
          6,
          2,
          3,
          4
         ],
         "yaxis": "y"
        },
        {
         "hoverlabel": {
          "namelength": 0
         },
         "hovertemplate": "staff=Guillermo Fairhurst - Elias Lopez<br>date=%{x}<br>p=%{y}",
         "legendgroup": "Guillermo Fairhurst - Elias Lopez",
         "line": {
          "color": "#B6E880",
          "dash": "solid"
         },
         "mode": "lines",
         "name": "Guillermo Fairhurst - Elias Lopez",
         "showlegend": true,
         "type": "scatter",
         "x": [
          "2020-06-22",
          "2020-07-14",
          "2020-08-03",
          "2020-08-15",
          "2020-08-24",
          "2020-09-14"
         ],
         "xaxis": "x",
         "y": [
          2,
          2,
          2,
          6,
          5,
          7
         ],
         "yaxis": "y"
        },
        {
         "hoverlabel": {
          "namelength": 0
         },
         "hovertemplate": "staff=Mariela Bisso - Fernando Carabedo<br>date=%{x}<br>p=%{y}",
         "legendgroup": "Mariela Bisso - Fernando Carabedo",
         "line": {
          "color": "#FF97FF",
          "dash": "solid"
         },
         "mode": "lines",
         "name": "Mariela Bisso - Fernando Carabedo",
         "showlegend": true,
         "type": "scatter",
         "x": [
          "2020-08-11",
          "2020-08-31",
          "2020-09-22",
          "2020-09-28"
         ],
         "xaxis": "x",
         "y": [
          6,
          11,
          6,
          11
         ],
         "yaxis": "y"
        },
        {
         "hoverlabel": {
          "namelength": 0
         },
         "hovertemplate": "staff=Diego Battocchio - Carlos Pita<br>date=%{x}<br>p=%{y}",
         "legendgroup": "Diego Battocchio - Carlos Pita",
         "line": {
          "color": "#FECB52",
          "dash": "solid"
         },
         "mode": "lines",
         "name": "Diego Battocchio - Carlos Pita",
         "showlegend": true,
         "type": "scatter",
         "x": [
          "2020-09-15"
         ],
         "xaxis": "x",
         "y": [
          8
         ],
         "yaxis": "y"
        }
       ],
       "layout": {
        "autosize": true,
        "legend": {
         "title": {
          "text": "staff"
         },
         "tracegroupgap": 0
        },
        "template": {
         "data": {
          "bar": [
           {
            "error_x": {
             "color": "#2a3f5f"
            },
            "error_y": {
             "color": "#2a3f5f"
            },
            "marker": {
             "line": {
              "color": "#E5ECF6",
              "width": 0.5
             }
            },
            "type": "bar"
           }
          ],
          "barpolar": [
           {
            "marker": {
             "line": {
              "color": "#E5ECF6",
              "width": 0.5
             }
            },
            "type": "barpolar"
           }
          ],
          "carpet": [
           {
            "aaxis": {
             "endlinecolor": "#2a3f5f",
             "gridcolor": "white",
             "linecolor": "white",
             "minorgridcolor": "white",
             "startlinecolor": "#2a3f5f"
            },
            "baxis": {
             "endlinecolor": "#2a3f5f",
             "gridcolor": "white",
             "linecolor": "white",
             "minorgridcolor": "white",
             "startlinecolor": "#2a3f5f"
            },
            "type": "carpet"
           }
          ],
          "choropleth": [
           {
            "colorbar": {
             "outlinewidth": 0,
             "ticks": ""
            },
            "type": "choropleth"
           }
          ],
          "contour": [
           {
            "colorbar": {
             "outlinewidth": 0,
             "ticks": ""
            },
            "colorscale": [
             [
              0,
              "#0d0887"
             ],
             [
              0.1111111111111111,
              "#46039f"
             ],
             [
              0.2222222222222222,
              "#7201a8"
             ],
             [
              0.3333333333333333,
              "#9c179e"
             ],
             [
              0.4444444444444444,
              "#bd3786"
             ],
             [
              0.5555555555555556,
              "#d8576b"
             ],
             [
              0.6666666666666666,
              "#ed7953"
             ],
             [
              0.7777777777777778,
              "#fb9f3a"
             ],
             [
              0.8888888888888888,
              "#fdca26"
             ],
             [
              1,
              "#f0f921"
             ]
            ],
            "type": "contour"
           }
          ],
          "contourcarpet": [
           {
            "colorbar": {
             "outlinewidth": 0,
             "ticks": ""
            },
            "type": "contourcarpet"
           }
          ],
          "heatmap": [
           {
            "colorbar": {
             "outlinewidth": 0,
             "ticks": ""
            },
            "colorscale": [
             [
              0,
              "#0d0887"
             ],
             [
              0.1111111111111111,
              "#46039f"
             ],
             [
              0.2222222222222222,
              "#7201a8"
             ],
             [
              0.3333333333333333,
              "#9c179e"
             ],
             [
              0.4444444444444444,
              "#bd3786"
             ],
             [
              0.5555555555555556,
              "#d8576b"
             ],
             [
              0.6666666666666666,
              "#ed7953"
             ],
             [
              0.7777777777777778,
              "#fb9f3a"
             ],
             [
              0.8888888888888888,
              "#fdca26"
             ],
             [
              1,
              "#f0f921"
             ]
            ],
            "type": "heatmap"
           }
          ],
          "heatmapgl": [
           {
            "colorbar": {
             "outlinewidth": 0,
             "ticks": ""
            },
            "colorscale": [
             [
              0,
              "#0d0887"
             ],
             [
              0.1111111111111111,
              "#46039f"
             ],
             [
              0.2222222222222222,
              "#7201a8"
             ],
             [
              0.3333333333333333,
              "#9c179e"
             ],
             [
              0.4444444444444444,
              "#bd3786"
             ],
             [
              0.5555555555555556,
              "#d8576b"
             ],
             [
              0.6666666666666666,
              "#ed7953"
             ],
             [
              0.7777777777777778,
              "#fb9f3a"
             ],
             [
              0.8888888888888888,
              "#fdca26"
             ],
             [
              1,
              "#f0f921"
             ]
            ],
            "type": "heatmapgl"
           }
          ],
          "histogram": [
           {
            "marker": {
             "colorbar": {
              "outlinewidth": 0,
              "ticks": ""
             }
            },
            "type": "histogram"
           }
          ],
          "histogram2d": [
           {
            "colorbar": {
             "outlinewidth": 0,
             "ticks": ""
            },
            "colorscale": [
             [
              0,
              "#0d0887"
             ],
             [
              0.1111111111111111,
              "#46039f"
             ],
             [
              0.2222222222222222,
              "#7201a8"
             ],
             [
              0.3333333333333333,
              "#9c179e"
             ],
             [
              0.4444444444444444,
              "#bd3786"
             ],
             [
              0.5555555555555556,
              "#d8576b"
             ],
             [
              0.6666666666666666,
              "#ed7953"
             ],
             [
              0.7777777777777778,
              "#fb9f3a"
             ],
             [
              0.8888888888888888,
              "#fdca26"
             ],
             [
              1,
              "#f0f921"
             ]
            ],
            "type": "histogram2d"
           }
          ],
          "histogram2dcontour": [
           {
            "colorbar": {
             "outlinewidth": 0,
             "ticks": ""
            },
            "colorscale": [
             [
              0,
              "#0d0887"
             ],
             [
              0.1111111111111111,
              "#46039f"
             ],
             [
              0.2222222222222222,
              "#7201a8"
             ],
             [
              0.3333333333333333,
              "#9c179e"
             ],
             [
              0.4444444444444444,
              "#bd3786"
             ],
             [
              0.5555555555555556,
              "#d8576b"
             ],
             [
              0.6666666666666666,
              "#ed7953"
             ],
             [
              0.7777777777777778,
              "#fb9f3a"
             ],
             [
              0.8888888888888888,
              "#fdca26"
             ],
             [
              1,
              "#f0f921"
             ]
            ],
            "type": "histogram2dcontour"
           }
          ],
          "mesh3d": [
           {
            "colorbar": {
             "outlinewidth": 0,
             "ticks": ""
            },
            "type": "mesh3d"
           }
          ],
          "parcoords": [
           {
            "line": {
             "colorbar": {
              "outlinewidth": 0,
              "ticks": ""
             }
            },
            "type": "parcoords"
           }
          ],
          "pie": [
           {
            "automargin": true,
            "type": "pie"
           }
          ],
          "scatter": [
           {
            "marker": {
             "colorbar": {
              "outlinewidth": 0,
              "ticks": ""
             }
            },
            "type": "scatter"
           }
          ],
          "scatter3d": [
           {
            "line": {
             "colorbar": {
              "outlinewidth": 0,
              "ticks": ""
             }
            },
            "marker": {
             "colorbar": {
              "outlinewidth": 0,
              "ticks": ""
             }
            },
            "type": "scatter3d"
           }
          ],
          "scattercarpet": [
           {
            "marker": {
             "colorbar": {
              "outlinewidth": 0,
              "ticks": ""
             }
            },
            "type": "scattercarpet"
           }
          ],
          "scattergeo": [
           {
            "marker": {
             "colorbar": {
              "outlinewidth": 0,
              "ticks": ""
             }
            },
            "type": "scattergeo"
           }
          ],
          "scattergl": [
           {
            "marker": {
             "colorbar": {
              "outlinewidth": 0,
              "ticks": ""
             }
            },
            "type": "scattergl"
           }
          ],
          "scattermapbox": [
           {
            "marker": {
             "colorbar": {
              "outlinewidth": 0,
              "ticks": ""
             }
            },
            "type": "scattermapbox"
           }
          ],
          "scatterpolar": [
           {
            "marker": {
             "colorbar": {
              "outlinewidth": 0,
              "ticks": ""
             }
            },
            "type": "scatterpolar"
           }
          ],
          "scatterpolargl": [
           {
            "marker": {
             "colorbar": {
              "outlinewidth": 0,
              "ticks": ""
             }
            },
            "type": "scatterpolargl"
           }
          ],
          "scatterternary": [
           {
            "marker": {
             "colorbar": {
              "outlinewidth": 0,
              "ticks": ""
             }
            },
            "type": "scatterternary"
           }
          ],
          "surface": [
           {
            "colorbar": {
             "outlinewidth": 0,
             "ticks": ""
            },
            "colorscale": [
             [
              0,
              "#0d0887"
             ],
             [
              0.1111111111111111,
              "#46039f"
             ],
             [
              0.2222222222222222,
              "#7201a8"
             ],
             [
              0.3333333333333333,
              "#9c179e"
             ],
             [
              0.4444444444444444,
              "#bd3786"
             ],
             [
              0.5555555555555556,
              "#d8576b"
             ],
             [
              0.6666666666666666,
              "#ed7953"
             ],
             [
              0.7777777777777778,
              "#fb9f3a"
             ],
             [
              0.8888888888888888,
              "#fdca26"
             ],
             [
              1,
              "#f0f921"
             ]
            ],
            "type": "surface"
           }
          ],
          "table": [
           {
            "cells": {
             "fill": {
              "color": "#EBF0F8"
             },
             "line": {
              "color": "white"
             }
            },
            "header": {
             "fill": {
              "color": "#C8D4E3"
             },
             "line": {
              "color": "white"
             }
            },
            "type": "table"
           }
          ]
         },
         "layout": {
          "annotationdefaults": {
           "arrowcolor": "#2a3f5f",
           "arrowhead": 0,
           "arrowwidth": 1
          },
          "coloraxis": {
           "colorbar": {
            "outlinewidth": 0,
            "ticks": ""
           }
          },
          "colorscale": {
           "diverging": [
            [
             0,
             "#8e0152"
            ],
            [
             0.1,
             "#c51b7d"
            ],
            [
             0.2,
             "#de77ae"
            ],
            [
             0.3,
             "#f1b6da"
            ],
            [
             0.4,
             "#fde0ef"
            ],
            [
             0.5,
             "#f7f7f7"
            ],
            [
             0.6,
             "#e6f5d0"
            ],
            [
             0.7,
             "#b8e186"
            ],
            [
             0.8,
             "#7fbc41"
            ],
            [
             0.9,
             "#4d9221"
            ],
            [
             1,
             "#276419"
            ]
           ],
           "sequential": [
            [
             0,
             "#0d0887"
            ],
            [
             0.1111111111111111,
             "#46039f"
            ],
            [
             0.2222222222222222,
             "#7201a8"
            ],
            [
             0.3333333333333333,
             "#9c179e"
            ],
            [
             0.4444444444444444,
             "#bd3786"
            ],
            [
             0.5555555555555556,
             "#d8576b"
            ],
            [
             0.6666666666666666,
             "#ed7953"
            ],
            [
             0.7777777777777778,
             "#fb9f3a"
            ],
            [
             0.8888888888888888,
             "#fdca26"
            ],
            [
             1,
             "#f0f921"
            ]
           ],
           "sequentialminus": [
            [
             0,
             "#0d0887"
            ],
            [
             0.1111111111111111,
             "#46039f"
            ],
            [
             0.2222222222222222,
             "#7201a8"
            ],
            [
             0.3333333333333333,
             "#9c179e"
            ],
            [
             0.4444444444444444,
             "#bd3786"
            ],
            [
             0.5555555555555556,
             "#d8576b"
            ],
            [
             0.6666666666666666,
             "#ed7953"
            ],
            [
             0.7777777777777778,
             "#fb9f3a"
            ],
            [
             0.8888888888888888,
             "#fdca26"
            ],
            [
             1,
             "#f0f921"
            ]
           ]
          },
          "colorway": [
           "#636efa",
           "#EF553B",
           "#00cc96",
           "#ab63fa",
           "#FFA15A",
           "#19d3f3",
           "#FF6692",
           "#B6E880",
           "#FF97FF",
           "#FECB52"
          ],
          "font": {
           "color": "#2a3f5f"
          },
          "geo": {
           "bgcolor": "white",
           "lakecolor": "white",
           "landcolor": "#E5ECF6",
           "showlakes": true,
           "showland": true,
           "subunitcolor": "white"
          },
          "hoverlabel": {
           "align": "left"
          },
          "hovermode": "closest",
          "mapbox": {
           "style": "light"
          },
          "paper_bgcolor": "white",
          "plot_bgcolor": "#E5ECF6",
          "polar": {
           "angularaxis": {
            "gridcolor": "white",
            "linecolor": "white",
            "ticks": ""
           },
           "bgcolor": "#E5ECF6",
           "radialaxis": {
            "gridcolor": "white",
            "linecolor": "white",
            "ticks": ""
           }
          },
          "scene": {
           "xaxis": {
            "backgroundcolor": "#E5ECF6",
            "gridcolor": "white",
            "gridwidth": 2,
            "linecolor": "white",
            "showbackground": true,
            "ticks": "",
            "zerolinecolor": "white"
           },
           "yaxis": {
            "backgroundcolor": "#E5ECF6",
            "gridcolor": "white",
            "gridwidth": 2,
            "linecolor": "white",
            "showbackground": true,
            "ticks": "",
            "zerolinecolor": "white"
           },
           "zaxis": {
            "backgroundcolor": "#E5ECF6",
            "gridcolor": "white",
            "gridwidth": 2,
            "linecolor": "white",
            "showbackground": true,
            "ticks": "",
            "zerolinecolor": "white"
           }
          },
          "shapedefaults": {
           "line": {
            "color": "#2a3f5f"
           }
          },
          "ternary": {
           "aaxis": {
            "gridcolor": "white",
            "linecolor": "white",
            "ticks": ""
           },
           "baxis": {
            "gridcolor": "white",
            "linecolor": "white",
            "ticks": ""
           },
           "bgcolor": "#E5ECF6",
           "caxis": {
            "gridcolor": "white",
            "linecolor": "white",
            "ticks": ""
           }
          },
          "title": {
           "x": 0.05
          },
          "xaxis": {
           "automargin": true,
           "gridcolor": "white",
           "linecolor": "white",
           "ticks": "",
           "title": {
            "standoff": 15
           },
           "zerolinecolor": "white",
           "zerolinewidth": 2
          },
          "yaxis": {
           "automargin": true,
           "gridcolor": "white",
           "linecolor": "white",
           "ticks": "",
           "title": {
            "standoff": 15
           },
           "zerolinecolor": "white",
           "zerolinewidth": 2
          }
         }
        },
        "title": {
         "text": "promo"
        },
        "xaxis": {
         "anchor": "y",
         "autorange": true,
         "domain": [
          0,
          1
         ],
         "range": [
          "2018-07-19",
          "2020-09-28"
         ],
         "title": {
          "text": "date"
         },
         "type": "date"
        },
        "yaxis": {
         "anchor": "x",
         "autorange": true,
         "domain": [
          0,
          1
         ],
         "range": [
          -0.9444444444444444,
          17.944444444444443
         ],
         "title": {
          "text": "p"
         },
         "type": "linear"
        }
       }
      },
      "image/png": "[encoded data removed]",
      "text/html": [
       "<div>\n",
       "        \n",
       "        \n",
       "            <div id=\"33da5dbd-1a8b-4d73-8a82-79992d6f1b5d\" class=\"plotly-graph-div\" style=\"height:525px; width:100%;\"></div>\n",
       "            <script type=\"text/javascript\">\n",
       "                require([\"plotly\"], function(Plotly) {\n",
       "                    window.PLOTLYENV=window.PLOTLYENV || {};\n",
       "                    \n",
       "                if (document.getElementById(\"33da5dbd-1a8b-4d73-8a82-79992d6f1b5d\")) {\n",
       "                    Plotly.newPlot(\n",
       "                        '33da5dbd-1a8b-4d73-8a82-79992d6f1b5d',\n",
       "                        [{\"hoverlabel\": {\"namelength\": 0}, \"hovertemplate\": \"staff= Leonardo Ignacio C\\u00f3rdoba -  Mar\\u00eda Frances Gaska<br>date=%{x}<br>p=%{y}\", \"legendgroup\": \" Leonardo Ignacio C\\u00f3rdoba -  Mar\\u00eda Frances Gaska\", \"line\": {\"color\": \"#636efa\", \"dash\": \"solid\"}, \"mode\": \"lines\", \"name\": \" Leonardo Ignacio C\\u00f3rdoba -  Mar\\u00eda Frances Gaska\", \"showlegend\": true, \"type\": \"scatter\", \"x\": [\"2018-07-19\"], \"xaxis\": \"x\", \"y\": [13.0], \"yaxis\": \"y\"}, {\"hoverlabel\": {\"namelength\": 0}, \"hovertemplate\": \"staff= Pablo Roccatagliata -  Demian Avendano<br>date=%{x}<br>p=%{y}\", \"legendgroup\": \" Pablo Roccatagliata -  Demian Avendano\", \"line\": {\"color\": \"#EF553B\", \"dash\": \"solid\"}, \"mode\": \"lines\", \"name\": \" Pablo Roccatagliata -  Demian Avendano\", \"showlegend\": true, \"type\": \"scatter\", \"x\": [\"2018-07-30\", \"2018-08-22\", \"2018-09-12\", \"2018-10-05\", \"2018-10-26\", \"2018-11-12\", \"2018-11-26\"], \"xaxis\": \"x\", \"y\": [6.0, 9.0, 7.0, 7.0, 3.0, 5.0, 5.0], \"yaxis\": \"y\"}, {\"hoverlabel\": {\"namelength\": 0}, \"hovertemplate\": \"staff= Marianela Sarabia -  German Rosati -  Paolo Donizetti<br>date=%{x}<br>p=%{y}\", \"legendgroup\": \" Marianela Sarabia -  German Rosati -  Paolo Donizetti\", \"line\": {\"color\": \"#00cc96\", \"dash\": \"solid\"}, \"mode\": \"lines\", \"name\": \" Marianela Sarabia -  German Rosati -  Paolo Donizetti\", \"showlegend\": true, \"type\": \"scatter\", \"x\": [\"2018-07-31\"], \"xaxis\": \"x\", \"y\": [8.0], \"yaxis\": \"y\"}, {\"hoverlabel\": {\"namelength\": 0}, \"hovertemplate\": \"staff= Leonardo Ignacio C\\u00f3rdoba -  Nicol\\u00e1s Monner Sans -  Mar\\u00eda Frances Gaska<br>date=%{x}<br>p=%{y}\", \"legendgroup\": \" Leonardo Ignacio C\\u00f3rdoba -  Nicol\\u00e1s Monner Sans -  Mar\\u00eda Frances Gaska\", \"line\": {\"color\": \"#ab63fa\", \"dash\": \"solid\"}, \"mode\": \"lines\", \"name\": \" Leonardo Ignacio C\\u00f3rdoba -  Nicol\\u00e1s Monner Sans -  Mar\\u00eda Frances Gaska\", \"showlegend\": true, \"type\": \"scatter\", \"x\": [\"2018-08-16\", \"2018-09-06\", \"2018-09-27\", \"2018-10-18\", \"2018-10-24\", \"2018-11-14\", \"2018-12-05\", \"2018-12-16\"], \"xaxis\": \"x\", \"y\": [2.0, 9.0, 6.0, 5.0, 7.0, 8.0, 7.0, 8.0], \"yaxis\": \"y\"}, {\"hoverlabel\": {\"namelength\": 0}, \"hovertemplate\": \"staff= Lionel Chamorro -  Marianela Sarabia -  Juli\\u00e1n Ansaldo<br>date=%{x}<br>p=%{y}\", \"legendgroup\": \" Lionel Chamorro -  Marianela Sarabia -  Juli\\u00e1n Ansaldo\", \"line\": {\"color\": \"#FFA15A\", \"dash\": \"solid\"}, \"mode\": \"lines\", \"name\": \" Lionel Chamorro -  Marianela Sarabia -  Juli\\u00e1n Ansaldo\", \"showlegend\": true, \"type\": \"scatter\", \"x\": [\"2018-08-27\", \"2018-09-17\", \"2018-10-08\", \"2018-10-29\", \"2018-11-21\", \"2018-12-12\"], \"xaxis\": \"x\", \"y\": [14.0, 15.0, 5.0, 5.0, 8.0, 10.0], \"yaxis\": \"y\"}, {\"hoverlabel\": {\"namelength\": 0}, \"hovertemplate\": \"staff= Juli\\u00e1n Ansaldo -  Paolo Donizetti<br>date=%{x}<br>p=%{y}\", \"legendgroup\": \" Juli\\u00e1n Ansaldo -  Paolo Donizetti\", \"line\": {\"color\": \"#19d3f3\", \"dash\": \"solid\"}, \"mode\": \"lines\", \"name\": \" Juli\\u00e1n Ansaldo -  Paolo Donizetti\", \"showlegend\": true, \"type\": \"scatter\", \"x\": [\"2018-08-28\", \"2018-09-18\", \"2018-10-09\", \"2018-10-30\", \"2018-11-20\", \"2018-12-11\"], \"xaxis\": \"x\", \"y\": [14.0, 15.0, 12.0, 12.0, 9.0, 9.0], \"yaxis\": \"y\"}, {\"hoverlabel\": {\"namelength\": 0}, \"hovertemplate\": \"staff=Demian Avendano - Carlos Pablo Modenutti<br>date=%{x}<br>p=%{y}\", \"legendgroup\": \"Demian Avendano - Carlos Pablo Modenutti\", \"line\": {\"color\": \"#FF6692\", \"dash\": \"solid\"}, \"mode\": \"lines\", \"name\": \"Demian Avendano - Carlos Pablo Modenutti\", \"showlegend\": true, \"type\": \"scatter\", \"x\": [\"2019-03-12\", \"2019-04-04\", \"2019-04-25\", \"2019-05-16\", \"2019-06-06\", \"2019-06-27\", \"2019-07-05\", \"2019-07-22\", \"2019-07-22\"], \"xaxis\": \"x\", \"y\": [4.0, 4.0, 2.0, 3.0, 0.0, 1.0, 2.0, 2.0, 1.0], \"yaxis\": \"y\"}, {\"hoverlabel\": {\"namelength\": 0}, \"hovertemplate\": \"staff=Juli\\u00e1n Ansaldo - Julian Peller<br>date=%{x}<br>p=%{y}\", \"legendgroup\": \"Juli\\u00e1n Ansaldo - Julian Peller\", \"line\": {\"color\": \"#B6E880\", \"dash\": \"solid\"}, \"mode\": \"lines\", \"name\": \"Juli\\u00e1n Ansaldo - Julian Peller\", \"showlegend\": true, \"type\": \"scatter\", \"x\": [\"2019-03-18\", \"2019-04-08\", \"2019-04-29\", \"2019-05-20\", \"2019-06-10\", \"2019-07-01\", \"2019-07-05\", \"2019-07-22\", \"2019-07-22\", \"2019-07-22\"], \"xaxis\": \"x\", \"y\": [10.0, 7.0, 9.0, 8.0, 5.0, 6.0, 2.0, 6.0, 3.0, 4.0], \"yaxis\": \"y\"}, {\"hoverlabel\": {\"namelength\": 0}, \"hovertemplate\": \"staff=Carlos Pita - Nicol\\u00e1s Monner Sans<br>date=%{x}<br>p=%{y}\", \"legendgroup\": \"Carlos Pita - Nicol\\u00e1s Monner Sans\", \"line\": {\"color\": \"#FF97FF\", \"dash\": \"solid\"}, \"mode\": \"lines\", \"name\": \"Carlos Pita - Nicol\\u00e1s Monner Sans\", \"showlegend\": true, \"type\": \"scatter\", \"x\": [\"2019-04-08\", \"2019-04-29\", \"2019-05-20\", \"2019-06-10\", \"2019-07-01\", \"2019-07-05\", \"2019-07-24\", \"2019-08-07\", \"2019-08-07\", \"2019-09-26\", \"2019-10-19\", \"2019-11-07\", \"2019-11-28\", \"2019-12-19\", \"2020-05-11\", \"2020-05-28\", \"2020-06-16\", \"2020-06-18\", \"2020-07-07\", \"2020-07-28\", \"2020-08-19\", \"2020-09-01\"], \"xaxis\": \"x\", \"y\": [9.0, 10.0, 8.0, 9.0, 12.0, 1.0, 9.0, 7.0, 8.0, 3.0, 4.0, 2.0, 3.0, 2.0, 2.0, 6.0, 6.0, 9.0, 7.0, 3.0, 6.0, 6.0], \"yaxis\": \"y\"}, {\"hoverlabel\": {\"namelength\": 0}, \"hovertemplate\": \"staff=Paolo Donizetti - Martin Sokolowicz<br>date=%{x}<br>p=%{y}\", \"legendgroup\": \"Paolo Donizetti - Martin Sokolowicz\", \"line\": {\"color\": \"#FECB52\", \"dash\": \"solid\"}, \"mode\": \"lines\", \"name\": \"Paolo Donizetti - Martin Sokolowicz\", \"showlegend\": true, \"type\": \"scatter\", \"x\": [\"2019-04-16\", \"2019-05-07\", \"2019-06-01\", \"2019-06-18\", \"2019-07-11\", \"2019-07-11\"], \"xaxis\": \"x\", \"y\": [10.0, 7.0, 7.0, 3.0, 2.0, 1.0], \"yaxis\": \"y\"}, {\"hoverlabel\": {\"namelength\": 0}, \"hovertemplate\": \"staff=Juan Manuel Alvarez - Paula Beati<br>date=%{x}<br>p=%{y}\", \"legendgroup\": \"Juan Manuel Alvarez - Paula Beati\", \"line\": {\"color\": \"#636efa\", \"dash\": \"solid\"}, \"mode\": \"lines\", \"name\": \"Juan Manuel Alvarez - Paula Beati\", \"showlegend\": true, \"type\": \"scatter\", \"x\": [\"2019-05-28\", \"2019-06-18\", \"2019-07-10\", \"2019-07-12\", \"2019-07-31\", \"2019-08-21\", \"2019-09-23\", \"2019-09-23\"], \"xaxis\": \"x\", \"y\": [5.0, 5.0, 3.0, 3.0, 1.0, 2.0, 1.0, 2.0], \"yaxis\": \"y\"}, {\"hoverlabel\": {\"namelength\": 0}, \"hovertemplate\": \"staff=Martin Sokolowicz - Ariel Haimovici<br>date=%{x}<br>p=%{y}\", \"legendgroup\": \"Martin Sokolowicz - Ariel Haimovici\", \"line\": {\"color\": \"#EF553B\", \"dash\": \"solid\"}, \"mode\": \"lines\", \"name\": \"Martin Sokolowicz - Ariel Haimovici\", \"showlegend\": true, \"type\": \"scatter\", \"x\": [\"2019-08-13\", \"2019-09-03\", \"2019-09-24\", \"2019-10-15\", \"2019-11-05\", \"2019-11-29\"], \"xaxis\": \"x\", \"y\": [5.0, 6.0, 1.0, 2.0, 2.0, 4.0], \"yaxis\": \"y\"}, {\"hoverlabel\": {\"namelength\": 0}, \"hovertemplate\": \"staff=Julian Peller - Lucas Sede\\u00f1o<br>date=%{x}<br>p=%{y}\", \"legendgroup\": \"Julian Peller - Lucas Sede\\u00f1o\", \"line\": {\"color\": \"#00cc96\", \"dash\": \"solid\"}, \"mode\": \"lines\", \"name\": \"Julian Peller - Lucas Sede\\u00f1o\", \"showlegend\": true, \"type\": \"scatter\", \"x\": [\"2019-08-21\", \"2019-09-11\", \"2019-10-02\", \"2019-10-23\", \"2019-11-13\", \"2019-12-04\"], \"xaxis\": \"x\", \"y\": [16.0, 10.0, 10.0, 9.0, 6.0, 3.0], \"yaxis\": \"y\"}, {\"hoverlabel\": {\"namelength\": 0}, \"hovertemplate\": \"staff=Juli\\u00e1n Ansaldo - Elias Lopez<br>date=%{x}<br>p=%{y}\", \"legendgroup\": \"Juli\\u00e1n Ansaldo - Elias Lopez\", \"line\": {\"color\": \"#ab63fa\", \"dash\": \"solid\"}, \"mode\": \"lines\", \"name\": \"Juli\\u00e1n Ansaldo - Elias Lopez\", \"showlegend\": true, \"type\": \"scatter\", \"x\": [\"2019-08-26\", \"2019-09-16\", \"2019-10-07\", \"2019-10-28\", \"2019-11-20\", \"2019-12-11\"], \"xaxis\": \"x\", \"y\": [17.0, 12.0, 12.0, 9.0, 12.0, 11.0], \"yaxis\": \"y\"}, {\"hoverlabel\": {\"namelength\": 0}, \"hovertemplate\": \"staff=Gaston Bujia - Lucas Sede\\u00f1o<br>date=%{x}<br>p=%{y}\", \"legendgroup\": \"Gaston Bujia - Lucas Sede\\u00f1o\", \"line\": {\"color\": \"#FFA15A\", \"dash\": \"solid\"}, \"mode\": \"lines\", \"name\": \"Gaston Bujia - Lucas Sede\\u00f1o\", \"showlegend\": true, \"type\": \"scatter\", \"x\": [\"2020-03-09\", \"2020-03-30\", \"2020-05-11\", \"2020-06-01\", \"2020-06-22\", \"2020-07-08\", \"2020-08-10\", \"2020-08-31\", \"2020-09-21\", \"2020-09-28\"], \"xaxis\": \"x\", \"y\": [12.0, 9.0, 2.0, 5.0, 4.0, 8.0, 7.0, 7.0, 4.0, 7.0], \"yaxis\": \"y\"}, {\"hoverlabel\": {\"namelength\": 0}, \"hovertemplate\": \"staff=Fernando Carabedo - Elias Lopez<br>date=%{x}<br>p=%{y}\", \"legendgroup\": \"Fernando Carabedo - Elias Lopez\", \"line\": {\"color\": \"#19d3f3\", \"dash\": \"solid\"}, \"mode\": \"lines\", \"name\": \"Fernando Carabedo - Elias Lopez\", \"showlegend\": true, \"type\": \"scatter\", \"x\": [\"2020-03-10\", \"2020-04-02\", \"2020-05-05\", \"2020-06-10\", \"2020-07-02\", \"2020-07-14\"], \"xaxis\": \"x\", \"y\": [5.0, 1.0, 4.0, 4.0, 2.0, 9.0], \"yaxis\": \"y\"}, {\"hoverlabel\": {\"namelength\": 0}, \"hovertemplate\": \"staff=Franco De Giovannini - Ariel Haimovici<br>date=%{x}<br>p=%{y}\", \"legendgroup\": \"Franco De Giovannini - Ariel Haimovici\", \"line\": {\"color\": \"#FF6692\", \"dash\": \"solid\"}, \"mode\": \"lines\", \"name\": \"Franco De Giovannini - Ariel Haimovici\", \"showlegend\": true, \"type\": \"scatter\", \"x\": [\"2020-05-11\", \"2020-05-27\", \"2020-06-17\", \"2020-06-24\", \"2020-07-14\", \"2020-07-29\", \"2020-08-19\"], \"xaxis\": \"x\", \"y\": [4.0, 4.0, 2.0, 6.0, 2.0, 3.0, 4.0], \"yaxis\": \"y\"}, {\"hoverlabel\": {\"namelength\": 0}, \"hovertemplate\": \"staff=Guillermo Fairhurst - Elias Lopez<br>date=%{x}<br>p=%{y}\", \"legendgroup\": \"Guillermo Fairhurst - Elias Lopez\", \"line\": {\"color\": \"#B6E880\", \"dash\": \"solid\"}, \"mode\": \"lines\", \"name\": \"Guillermo Fairhurst - Elias Lopez\", \"showlegend\": true, \"type\": \"scatter\", \"x\": [\"2020-06-22\", \"2020-07-14\", \"2020-08-03\", \"2020-08-15\", \"2020-08-24\", \"2020-09-14\"], \"xaxis\": \"x\", \"y\": [2.0, 2.0, 2.0, 6.0, 5.0, 7.0], \"yaxis\": \"y\"}, {\"hoverlabel\": {\"namelength\": 0}, \"hovertemplate\": \"staff=Mariela Bisso - Fernando Carabedo<br>date=%{x}<br>p=%{y}\", \"legendgroup\": \"Mariela Bisso - Fernando Carabedo\", \"line\": {\"color\": \"#FF97FF\", \"dash\": \"solid\"}, \"mode\": \"lines\", \"name\": \"Mariela Bisso - Fernando Carabedo\", \"showlegend\": true, \"type\": \"scatter\", \"x\": [\"2020-08-11\", \"2020-08-31\", \"2020-09-22\", \"2020-09-28\"], \"xaxis\": \"x\", \"y\": [6.0, 11.0, 6.0, 11.0], \"yaxis\": \"y\"}, {\"hoverlabel\": {\"namelength\": 0}, \"hovertemplate\": \"staff=Diego Battocchio - Carlos Pita<br>date=%{x}<br>p=%{y}\", \"legendgroup\": \"Diego Battocchio - Carlos Pita\", \"line\": {\"color\": \"#FECB52\", \"dash\": \"solid\"}, \"mode\": \"lines\", \"name\": \"Diego Battocchio - Carlos Pita\", \"showlegend\": true, \"type\": \"scatter\", \"x\": [\"2020-09-15\"], \"xaxis\": \"x\", \"y\": [8.0], \"yaxis\": \"y\"}],\n",
       "                        {\"legend\": {\"title\": {\"text\": \"staff\"}, \"tracegroupgap\": 0}, \"template\": {\"data\": {\"bar\": [{\"error_x\": {\"color\": \"#2a3f5f\"}, \"error_y\": {\"color\": \"#2a3f5f\"}, \"marker\": {\"line\": {\"color\": \"#E5ECF6\", \"width\": 0.5}}, \"type\": \"bar\"}], \"barpolar\": [{\"marker\": {\"line\": {\"color\": \"#E5ECF6\", \"width\": 0.5}}, \"type\": \"barpolar\"}], \"carpet\": [{\"aaxis\": {\"endlinecolor\": \"#2a3f5f\", \"gridcolor\": \"white\", \"linecolor\": \"white\", \"minorgridcolor\": \"white\", \"startlinecolor\": \"#2a3f5f\"}, \"baxis\": {\"endlinecolor\": \"#2a3f5f\", \"gridcolor\": \"white\", \"linecolor\": \"white\", \"minorgridcolor\": \"white\", \"startlinecolor\": \"#2a3f5f\"}, \"type\": \"carpet\"}], \"choropleth\": [{\"colorbar\": {\"outlinewidth\": 0, \"ticks\": \"\"}, \"type\": \"choropleth\"}], \"contour\": [{\"colorbar\": {\"outlinewidth\": 0, \"ticks\": \"\"}, \"colorscale\": [[0.0, \"#0d0887\"], [0.1111111111111111, \"#46039f\"], [0.2222222222222222, \"#7201a8\"], [0.3333333333333333, \"#9c179e\"], [0.4444444444444444, \"#bd3786\"], [0.5555555555555556, \"#d8576b\"], [0.6666666666666666, \"#ed7953\"], [0.7777777777777778, \"#fb9f3a\"], [0.8888888888888888, \"#fdca26\"], [1.0, \"#f0f921\"]], \"type\": \"contour\"}], \"contourcarpet\": [{\"colorbar\": {\"outlinewidth\": 0, \"ticks\": \"\"}, \"type\": \"contourcarpet\"}], \"heatmap\": [{\"colorbar\": {\"outlinewidth\": 0, \"ticks\": \"\"}, \"colorscale\": [[0.0, \"#0d0887\"], [0.1111111111111111, \"#46039f\"], [0.2222222222222222, \"#7201a8\"], [0.3333333333333333, \"#9c179e\"], [0.4444444444444444, \"#bd3786\"], [0.5555555555555556, \"#d8576b\"], [0.6666666666666666, \"#ed7953\"], [0.7777777777777778, \"#fb9f3a\"], [0.8888888888888888, \"#fdca26\"], [1.0, \"#f0f921\"]], \"type\": \"heatmap\"}], \"heatmapgl\": [{\"colorbar\": {\"outlinewidth\": 0, \"ticks\": \"\"}, \"colorscale\": [[0.0, \"#0d0887\"], [0.1111111111111111, \"#46039f\"], [0.2222222222222222, \"#7201a8\"], [0.3333333333333333, \"#9c179e\"], [0.4444444444444444, \"#bd3786\"], [0.5555555555555556, \"#d8576b\"], [0.6666666666666666, \"#ed7953\"], [0.7777777777777778, \"#fb9f3a\"], [0.8888888888888888, \"#fdca26\"], [1.0, \"#f0f921\"]], \"type\": \"heatmapgl\"}], \"histogram\": [{\"marker\": {\"colorbar\": {\"outlinewidth\": 0, \"ticks\": \"\"}}, \"type\": \"histogram\"}], \"histogram2d\": [{\"colorbar\": {\"outlinewidth\": 0, \"ticks\": \"\"}, \"colorscale\": [[0.0, \"#0d0887\"], [0.1111111111111111, \"#46039f\"], [0.2222222222222222, \"#7201a8\"], [0.3333333333333333, \"#9c179e\"], [0.4444444444444444, \"#bd3786\"], [0.5555555555555556, \"#d8576b\"], [0.6666666666666666, \"#ed7953\"], [0.7777777777777778, \"#fb9f3a\"], [0.8888888888888888, \"#fdca26\"], [1.0, \"#f0f921\"]], \"type\": \"histogram2d\"}], \"histogram2dcontour\": [{\"colorbar\": {\"outlinewidth\": 0, \"ticks\": \"\"}, \"colorscale\": [[0.0, \"#0d0887\"], [0.1111111111111111, \"#46039f\"], [0.2222222222222222, \"#7201a8\"], [0.3333333333333333, \"#9c179e\"], [0.4444444444444444, \"#bd3786\"], [0.5555555555555556, \"#d8576b\"], [0.6666666666666666, \"#ed7953\"], [0.7777777777777778, \"#fb9f3a\"], [0.8888888888888888, \"#fdca26\"], [1.0, \"#f0f921\"]], \"type\": \"histogram2dcontour\"}], \"mesh3d\": [{\"colorbar\": {\"outlinewidth\": 0, \"ticks\": \"\"}, \"type\": \"mesh3d\"}], \"parcoords\": [{\"line\": {\"colorbar\": {\"outlinewidth\": 0, \"ticks\": \"\"}}, \"type\": \"parcoords\"}], \"pie\": [{\"automargin\": true, \"type\": \"pie\"}], \"scatter\": [{\"marker\": {\"colorbar\": {\"outlinewidth\": 0, \"ticks\": \"\"}}, \"type\": \"scatter\"}], \"scatter3d\": [{\"line\": {\"colorbar\": {\"outlinewidth\": 0, \"ticks\": \"\"}}, \"marker\": {\"colorbar\": {\"outlinewidth\": 0, \"ticks\": \"\"}}, \"type\": \"scatter3d\"}], \"scattercarpet\": [{\"marker\": {\"colorbar\": {\"outlinewidth\": 0, \"ticks\": \"\"}}, \"type\": \"scattercarpet\"}], \"scattergeo\": [{\"marker\": {\"colorbar\": {\"outlinewidth\": 0, \"ticks\": \"\"}}, \"type\": \"scattergeo\"}], \"scattergl\": [{\"marker\": {\"colorbar\": {\"outlinewidth\": 0, \"ticks\": \"\"}}, \"type\": \"scattergl\"}], \"scattermapbox\": [{\"marker\": {\"colorbar\": {\"outlinewidth\": 0, \"ticks\": \"\"}}, \"type\": \"scattermapbox\"}], \"scatterpolar\": [{\"marker\": {\"colorbar\": {\"outlinewidth\": 0, \"ticks\": \"\"}}, \"type\": \"scatterpolar\"}], \"scatterpolargl\": [{\"marker\": {\"colorbar\": {\"outlinewidth\": 0, \"ticks\": \"\"}}, \"type\": \"scatterpolargl\"}], \"scatterternary\": [{\"marker\": {\"colorbar\": {\"outlinewidth\": 0, \"ticks\": \"\"}}, \"type\": \"scatterternary\"}], \"surface\": [{\"colorbar\": {\"outlinewidth\": 0, \"ticks\": \"\"}, \"colorscale\": [[0.0, \"#0d0887\"], [0.1111111111111111, \"#46039f\"], [0.2222222222222222, \"#7201a8\"], [0.3333333333333333, \"#9c179e\"], [0.4444444444444444, \"#bd3786\"], [0.5555555555555556, \"#d8576b\"], [0.6666666666666666, \"#ed7953\"], [0.7777777777777778, \"#fb9f3a\"], [0.8888888888888888, \"#fdca26\"], [1.0, \"#f0f921\"]], \"type\": \"surface\"}], \"table\": [{\"cells\": {\"fill\": {\"color\": \"#EBF0F8\"}, \"line\": {\"color\": \"white\"}}, \"header\": {\"fill\": {\"color\": \"#C8D4E3\"}, \"line\": {\"color\": \"white\"}}, \"type\": \"table\"}]}, \"layout\": {\"annotationdefaults\": {\"arrowcolor\": \"#2a3f5f\", \"arrowhead\": 0, \"arrowwidth\": 1}, \"coloraxis\": {\"colorbar\": {\"outlinewidth\": 0, \"ticks\": \"\"}}, \"colorscale\": {\"diverging\": [[0, \"#8e0152\"], [0.1, \"#c51b7d\"], [0.2, \"#de77ae\"], [0.3, \"#f1b6da\"], [0.4, \"#fde0ef\"], [0.5, \"#f7f7f7\"], [0.6, \"#e6f5d0\"], [0.7, \"#b8e186\"], [0.8, \"#7fbc41\"], [0.9, \"#4d9221\"], [1, \"#276419\"]], \"sequential\": [[0.0, \"#0d0887\"], [0.1111111111111111, \"#46039f\"], [0.2222222222222222, \"#7201a8\"], [0.3333333333333333, \"#9c179e\"], [0.4444444444444444, \"#bd3786\"], [0.5555555555555556, \"#d8576b\"], [0.6666666666666666, \"#ed7953\"], [0.7777777777777778, \"#fb9f3a\"], [0.8888888888888888, \"#fdca26\"], [1.0, \"#f0f921\"]], \"sequentialminus\": [[0.0, \"#0d0887\"], [0.1111111111111111, \"#46039f\"], [0.2222222222222222, \"#7201a8\"], [0.3333333333333333, \"#9c179e\"], [0.4444444444444444, \"#bd3786\"], [0.5555555555555556, \"#d8576b\"], [0.6666666666666666, \"#ed7953\"], [0.7777777777777778, \"#fb9f3a\"], [0.8888888888888888, \"#fdca26\"], [1.0, \"#f0f921\"]]}, \"colorway\": [\"#636efa\", \"#EF553B\", \"#00cc96\", \"#ab63fa\", \"#FFA15A\", \"#19d3f3\", \"#FF6692\", \"#B6E880\", \"#FF97FF\", \"#FECB52\"], \"font\": {\"color\": \"#2a3f5f\"}, \"geo\": {\"bgcolor\": \"white\", \"lakecolor\": \"white\", \"landcolor\": \"#E5ECF6\", \"showlakes\": true, \"showland\": true, \"subunitcolor\": \"white\"}, \"hoverlabel\": {\"align\": \"left\"}, \"hovermode\": \"closest\", \"mapbox\": {\"style\": \"light\"}, \"paper_bgcolor\": \"white\", \"plot_bgcolor\": \"#E5ECF6\", \"polar\": {\"angularaxis\": {\"gridcolor\": \"white\", \"linecolor\": \"white\", \"ticks\": \"\"}, \"bgcolor\": \"#E5ECF6\", \"radialaxis\": {\"gridcolor\": \"white\", \"linecolor\": \"white\", \"ticks\": \"\"}}, \"scene\": {\"xaxis\": {\"backgroundcolor\": \"#E5ECF6\", \"gridcolor\": \"white\", \"gridwidth\": 2, \"linecolor\": \"white\", \"showbackground\": true, \"ticks\": \"\", \"zerolinecolor\": \"white\"}, \"yaxis\": {\"backgroundcolor\": \"#E5ECF6\", \"gridcolor\": \"white\", \"gridwidth\": 2, \"linecolor\": \"white\", \"showbackground\": true, \"ticks\": \"\", \"zerolinecolor\": \"white\"}, \"zaxis\": {\"backgroundcolor\": \"#E5ECF6\", \"gridcolor\": \"white\", \"gridwidth\": 2, \"linecolor\": \"white\", \"showbackground\": true, \"ticks\": \"\", \"zerolinecolor\": \"white\"}}, \"shapedefaults\": {\"line\": {\"color\": \"#2a3f5f\"}}, \"ternary\": {\"aaxis\": {\"gridcolor\": \"white\", \"linecolor\": \"white\", \"ticks\": \"\"}, \"baxis\": {\"gridcolor\": \"white\", \"linecolor\": \"white\", \"ticks\": \"\"}, \"bgcolor\": \"#E5ECF6\", \"caxis\": {\"gridcolor\": \"white\", \"linecolor\": \"white\", \"ticks\": \"\"}}, \"title\": {\"x\": 0.05}, \"xaxis\": {\"automargin\": true, \"gridcolor\": \"white\", \"linecolor\": \"white\", \"ticks\": \"\", \"title\": {\"standoff\": 15}, \"zerolinecolor\": \"white\", \"zerolinewidth\": 2}, \"yaxis\": {\"automargin\": true, \"gridcolor\": \"white\", \"linecolor\": \"white\", \"ticks\": \"\", \"title\": {\"standoff\": 15}, \"zerolinecolor\": \"white\", \"zerolinewidth\": 2}}}, \"title\": {\"text\": \"promo\"}, \"xaxis\": {\"anchor\": \"y\", \"domain\": [0.0, 1.0], \"title\": {\"text\": \"date\"}}, \"yaxis\": {\"anchor\": \"x\", \"domain\": [0.0, 1.0], \"title\": {\"text\": \"p\"}}},\n",
       "                        {\"responsive\": true}\n",
       "                    ).then(function(){\n",
       "                            \n",
       "var gd = document.getElementById('33da5dbd-1a8b-4d73-8a82-79992d6f1b5d');\n",
       "var x = new MutationObserver(function (mutations, observer) {{\n",
       "        var display = window.getComputedStyle(gd).display;\n",
       "        if (!display || display === 'none') {{\n",
       "            console.log([gd, 'removed!']);\n",
       "            Plotly.purge(gd);\n",
       "            observer.disconnect();\n",
       "        }}\n",
       "}});\n",
       "\n",
       "// Listen for the removal of the full notebook cells\n",
       "var notebookContainer = gd.closest('#notebook-container');\n",
       "if (notebookContainer) {{\n",
       "    x.observe(notebookContainer, {childList: true});\n",
       "}}\n",
       "\n",
       "// Listen for the clearing of the current output cell\n",
       "var outputEl = gd.closest('.output');\n",
       "if (outputEl) {{\n",
       "    x.observe(outputEl, {childList: true});\n",
       "}}\n",
       "\n",
       "                        })\n",
       "                };\n",
       "                });\n",
       "            </script>\n",
       "        </div>"
      ]
     },
     "metadata": {},
     "output_type": "display_data"
    }
   ],
   "source": [
    "fig = px.line(df, x='date', y=\"p\",color='staff',title='promo')\n",
    "\n",
    "\n",
    "\n",
    "fig.show()"
   ]
  }
 ],
 "metadata": {
  "kernelspec": {
   "display_name": "Python 3",
   "language": "python",
   "name": "python3"
  },
  "language_info": {
   "codemirror_mode": {
    "name": "ipython",
    "version": 3
   },
   "file_extension": ".py",
   "mimetype": "text/x-python",
   "name": "python",
   "nbconvert_exporter": "python",
   "pygments_lexer": "ipython3",
   "version": "3.7.4"
  }
 },
 "nbformat": 4,
 "nbformat_minor": 4
}
